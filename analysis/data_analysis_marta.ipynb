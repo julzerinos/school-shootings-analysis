{
 "cells": [
  {
   "cell_type": "code",
   "execution_count": 1,
   "metadata": {},
   "outputs": [],
   "source": [
    "import pandas as pd\n",
    "import numpy as np\n",
    "import datetime\n",
    "import math\n",
    "import calendar\n",
    "\n",
    "import folium\n",
    "\n",
    "import matplotlib.pyplot as plt\n",
    "import matplotlib as mpl\n",
    "import plotly\n",
    "import plotly.express as px\n",
    "import plotly.graph_objects as go\n",
    "from plotly.subplots import make_subplots\n",
    "\n",
    "import geojson\n",
    "%matplotlib inline"
   ]
  },
  {
   "cell_type": "code",
   "execution_count": 50,
   "metadata": {},
   "outputs": [],
   "source": [
    "html_path = '../docs/assets/htmls/'\n",
    "image_path = '../docs/assets/imgs/'"
   ]
  },
  {
   "cell_type": "code",
   "execution_count": 2,
   "metadata": {},
   "outputs": [],
   "source": [
    "def convert_timestring_to_time(date_string):\n",
    "    if date_string is np.nan:\n",
    "        return date_string\n",
    "    idx = date_string.find('M')\n",
    "    if( idx ==-1):\n",
    "        return datetime.datetime.strptime(date_string, '%H:%M')\n",
    "    idx -=2\n",
    "    if date_string[idx] == ' ':\n",
    "        return datetime.datetime.strptime(date_string, '%I:%M %p')\n",
    "    return datetime.datetime.strptime(date_string, '%I:%M%p')"
   ]
  },
  {
   "cell_type": "code",
   "execution_count": 3,
   "metadata": {},
   "outputs": [],
   "source": [
    "df = pd.read_csv(\"../../school-shootings-data.csv\")\n",
    "df['time'] = df['time'].apply(lambda x: convert_timestring_to_time(x))\n",
    "df['date'] = pd.to_datetime(df['date'], format='%m/%d/%Y')"
   ]
  },
  {
   "cell_type": "code",
   "execution_count": 4,
   "metadata": {},
   "outputs": [],
   "source": [
    "df = df[df['long'].notna()]\n",
    "df.reset_index(drop=True, inplace=True)"
   ]
  },
  {
   "cell_type": "markdown",
   "metadata": {},
   "source": [
    "# Aggregate by time"
   ]
  },
  {
   "cell_type": "code",
   "execution_count": 7,
   "metadata": {},
   "outputs": [
    {
     "data": {
      "text/plain": [
       "'../docs/assets/htmls/shootings_hour.html'"
      ]
     },
     "execution_count": 7,
     "metadata": {},
     "output_type": "execute_result"
    }
   ],
   "source": [
    "# hour\n",
    "df['hour'] = df['time'].dt.hour\n",
    "shootings_per_hour = df.loc[:, ['hour']]\n",
    "shootings_per_hour = shootings_per_hour.groupby(['hour']).aggregate(count=('hour', 'count')).reset_index()\n",
    "fig = px.bar(shootings_per_hour, x=\"hour\", y=\"count\", height=400)\n",
    "fig.update_traces(hovertemplate='Hour: %{x} <br> Incidents: %{y}')\n",
    "fig.update_layout(legend_title=\"Incidents\", \n",
    "                    xaxis_range=[0,23],\n",
    "                    xaxis = dict(\n",
    "                    tickmode = 'linear',\n",
    "                    tick0 = 0,\n",
    "                    dtick = 1\n",
    "                ),\n",
    "                    xaxis_title=\"Hour\", \n",
    "                    yaxis_title=\"Count\")\n",
    "\n",
    "plotly.offline.plot(fig, filename=html_path+\"shootings_hour.html\")"
   ]
  },
  {
   "cell_type": "code",
   "execution_count": 9,
   "metadata": {},
   "outputs": [
    {
     "data": {
      "text/plain": [
       "'../docs/assets/htmls/shootings_month.html'"
      ]
     },
     "execution_count": 9,
     "metadata": {},
     "output_type": "execute_result"
    }
   ],
   "source": [
    "# month\n",
    "df['month'] = df['date'].dt.month\n",
    "shootings_per_month = df.loc[:, ['month']]\n",
    "shootings_per_month = shootings_per_month.groupby(['month']).aggregate(count=('month', 'count')).reset_index()\n",
    "fig = px.bar(shootings_per_month, x=\"month\", y=\"count\", height=400)\n",
    "fig.update_traces(hovertemplate='Month: %{x} <br> Incidents: %{y}')\n",
    "fig.update_layout(legend_title=\"Incidents\", \n",
    "                    xaxis = dict(\n",
    "                    tickmode = 'linear',\n",
    "                    tick0 = 1,\n",
    "                    dtick = 1\n",
    "                ),\n",
    "                    xaxis_title=\"Month\", \n",
    "                    yaxis_title=\"Count\")\n",
    "\n",
    "plotly.offline.plot(fig, filename=html_path+\"shootings_month.html\")"
   ]
  },
  {
   "cell_type": "code",
   "execution_count": 11,
   "metadata": {},
   "outputs": [
    {
     "data": {
      "text/plain": [
       "'../docs/assets/htmls/shootings_weekday.html'"
      ]
     },
     "execution_count": 11,
     "metadata": {},
     "output_type": "execute_result"
    }
   ],
   "source": [
    "# weekday\n",
    "cat = ['Monday', 'Tuesday', 'Wednesday', 'Thursday', 'Friday', 'Saturday', 'Sunday']\n",
    "shootings_per_weekday = df.loc[:, ['day_of_week']]\n",
    "shootings_per_weekday = shootings_per_weekday.groupby(['day_of_week']).aggregate(count=('day_of_week', 'count')).reindex(cat)\n",
    "shootings_per_weekday['weekday'] = shootings_per_weekday.index\n",
    "\n",
    "fig = px.bar(shootings_per_weekday, x=\"weekday\", y=\"count\", height=400)\n",
    "fig.update_traces(hovertemplate='Weekday: %{x} <br> Incidents: %{y}')\n",
    "fig.update_layout(  xaxis_title=\"Weekday\", \n",
    "                    yaxis_title=\"Count\")\n",
    "plotly.offline.plot(fig, filename=html_path+\"shootings_weekday.html\")"
   ]
  },
  {
   "cell_type": "markdown",
   "metadata": {},
   "source": [
    "# Shooter characteristic"
   ]
  },
  {
   "cell_type": "code",
   "execution_count": 5,
   "metadata": {},
   "outputs": [],
   "source": [
    "races= {'a': 'Asian', 'ai':'American Indian','b':'Black','h':'Hispanic','w':'White'}\n",
    "def assign_race(race):\n",
    "    if race is np.nan:\n",
    "        return \"Not known\"\n",
    "    if race in races:\n",
    "        return races[race]\n",
    "    return \"Not known\""
   ]
  },
  {
   "cell_type": "code",
   "execution_count": 6,
   "metadata": {},
   "outputs": [
    {
     "data": {
      "text/html": [
       "<div>\n",
       "<style scoped>\n",
       "    .dataframe tbody tr th:only-of-type {\n",
       "        vertical-align: middle;\n",
       "    }\n",
       "\n",
       "    .dataframe tbody tr th {\n",
       "        vertical-align: top;\n",
       "    }\n",
       "\n",
       "    .dataframe thead th {\n",
       "        text-align: right;\n",
       "    }\n",
       "</style>\n",
       "<table border=\"1\" class=\"dataframe\">\n",
       "  <thead>\n",
       "    <tr style=\"text-align: right;\">\n",
       "      <th>race_ethnicity_shooter</th>\n",
       "      <th>age_shooter1</th>\n",
       "      <th>Black</th>\n",
       "      <th>Not known</th>\n",
       "      <th>White</th>\n",
       "    </tr>\n",
       "  </thead>\n",
       "  <tbody>\n",
       "    <tr>\n",
       "      <th>0</th>\n",
       "      <td>12</td>\n",
       "      <td>0.0</td>\n",
       "      <td>1.0</td>\n",
       "      <td>0.0</td>\n",
       "    </tr>\n",
       "    <tr>\n",
       "      <th>1</th>\n",
       "      <td>14</td>\n",
       "      <td>0.0</td>\n",
       "      <td>1.0</td>\n",
       "      <td>1.0</td>\n",
       "    </tr>\n",
       "    <tr>\n",
       "      <th>2</th>\n",
       "      <td>15</td>\n",
       "      <td>1.0</td>\n",
       "      <td>1.0</td>\n",
       "      <td>0.0</td>\n",
       "    </tr>\n",
       "    <tr>\n",
       "      <th>3</th>\n",
       "      <td>22</td>\n",
       "      <td>1.0</td>\n",
       "      <td>0.0</td>\n",
       "      <td>0.0</td>\n",
       "    </tr>\n",
       "    <tr>\n",
       "      <th>4</th>\n",
       "      <td>28</td>\n",
       "      <td>0.0</td>\n",
       "      <td>2.0</td>\n",
       "      <td>0.0</td>\n",
       "    </tr>\n",
       "    <tr>\n",
       "      <th>5</th>\n",
       "      <td>30</td>\n",
       "      <td>0.0</td>\n",
       "      <td>0.0</td>\n",
       "      <td>1.0</td>\n",
       "    </tr>\n",
       "    <tr>\n",
       "      <th>6</th>\n",
       "      <td>33</td>\n",
       "      <td>0.0</td>\n",
       "      <td>1.0</td>\n",
       "      <td>0.0</td>\n",
       "    </tr>\n",
       "  </tbody>\n",
       "</table>\n",
       "</div>"
      ],
      "text/plain": [
       "race_ethnicity_shooter  age_shooter1  Black  Not known  White\n",
       "0                                 12    0.0        1.0    0.0\n",
       "1                                 14    0.0        1.0    1.0\n",
       "2                                 15    1.0        1.0    0.0\n",
       "3                                 22    1.0        0.0    0.0\n",
       "4                                 28    0.0        2.0    0.0\n",
       "5                                 30    0.0        0.0    1.0\n",
       "6                                 33    0.0        1.0    0.0"
      ]
     },
     "execution_count": 6,
     "metadata": {},
     "output_type": "execute_result"
    }
   ],
   "source": [
    "df['gender_shooter1'].isna().sum()\n",
    "# assign race from dictionary\n",
    "df['race_ethnicity_shooter'] = df['race_ethnicity_shooter1'].apply(lambda x: assign_race(x))\n",
    "# reove cells where age of the shooter was not known\n",
    "df = df[df['age_shooter1'].notna()]\n",
    "# convert age to int\n",
    "df['age_shooter1'] = df['age_shooter1'].astype(int)\n",
    "# separate data for men and women\n",
    "women = df[df['gender_shooter1'] == 'f']\n",
    "men = df[df['gender_shooter1'] == 'm']\n",
    "# aggregate women\n",
    "women_ethnicity = women.loc[:,['age_shooter1','race_ethnicity_shooter']].value_counts(dropna=False).unstack() \n",
    "women_ethnicity = women_ethnicity.fillna(0)\n",
    "women_ethnicity = women_ethnicity.reset_index()\n",
    "#aggregate men\n",
    "men_ethnicity = men.loc[:,['age_shooter1','race_ethnicity_shooter']].value_counts(dropna=False).unstack() \n",
    "men_ethnicity = men_ethnicity.fillna(0)\n",
    "men_ethnicity = men_ethnicity.reset_index()"
   ]
  },
  {
   "cell_type": "code",
   "execution_count": 46,
   "metadata": {},
   "outputs": [],
   "source": [
    "marker_color = {\n",
    "    \"Black\":\"#fd7f6f\",\n",
    "    \"Not known\":\"#7eb0d5\",\n",
    "    \"White\": \"#b2e061\",\n",
    "    \"Hispanic\":\"#bd7ebe\",\n",
    "    \"American Indian\":\"#ffb55a\",\n",
    "    \"Asian\": \"#ffee65\",\n",
    "}"
   ]
  },
  {
   "cell_type": "code",
   "execution_count": 51,
   "metadata": {},
   "outputs": [
    {
     "data": {
      "application/vnd.plotly.v1+json": {
       "config": {
        "plotlyServerURL": "https://plot.ly"
       },
       "data": [
        {
         "base": [
          0,
          0,
          0,
          0,
          0,
          0,
          0
         ],
         "hovertemplate": [
          "Ethinicity: Black<br>Count: 0",
          "Ethinicity: Black<br>Count: 0",
          "Ethinicity: Black<br>Count: 1",
          "Ethinicity: Black<br>Count: 1",
          "Ethinicity: Black<br>Count: 0",
          "Ethinicity: Black<br>Count: 0",
          "Ethinicity: Black<br>Count: 0"
         ],
         "marker": {
          "color": "#fd7f6f"
         },
         "name": "Ethincity Black",
         "offsetgroup": "0",
         "orientation": "h",
         "showlegend": false,
         "type": "bar",
         "width": 0.7,
         "x": [
          0,
          0,
          1,
          1,
          0,
          0,
          0
         ],
         "xaxis": "x",
         "y": [
          12,
          14,
          15,
          22,
          28,
          30,
          33
         ],
         "yaxis": "y"
        },
        {
         "base": [
          0,
          0,
          1,
          1,
          0,
          0,
          0
         ],
         "hovertemplate": [
          "Ethinicity: Not known<br>Count: 1",
          "Ethinicity: Not known<br>Count: 1",
          "Ethinicity: Not known<br>Count: 1",
          "Ethinicity: Not known<br>Count: 0",
          "Ethinicity: Not known<br>Count: 2",
          "Ethinicity: Not known<br>Count: 0",
          "Ethinicity: Not known<br>Count: 1"
         ],
         "marker": {
          "color": "#7eb0d5"
         },
         "name": "Ethincity Not known",
         "offsetgroup": "0",
         "orientation": "h",
         "showlegend": false,
         "type": "bar",
         "width": 0.7,
         "x": [
          1,
          1,
          1,
          0,
          2,
          0,
          1
         ],
         "xaxis": "x",
         "y": [
          12,
          14,
          15,
          22,
          28,
          30,
          33
         ],
         "yaxis": "y"
        },
        {
         "base": [
          1,
          1,
          2,
          1,
          2,
          0,
          1
         ],
         "hovertemplate": [
          "Ethinicity: White<br>Count: 0",
          "Ethinicity: White<br>Count: 1",
          "Ethinicity: White<br>Count: 0",
          "Ethinicity: White<br>Count: 0",
          "Ethinicity: White<br>Count: 0",
          "Ethinicity: White<br>Count: 1",
          "Ethinicity: White<br>Count: 0"
         ],
         "marker": {
          "color": "#b2e061"
         },
         "name": "Ethincity White",
         "offsetgroup": "0",
         "orientation": "h",
         "showlegend": false,
         "type": "bar",
         "width": 0.7,
         "x": [
          0,
          1,
          0,
          0,
          0,
          1,
          0
         ],
         "xaxis": "x",
         "y": [
          12,
          14,
          15,
          22,
          28,
          30,
          33
         ],
         "yaxis": "y"
        },
        {
         "base": [
          0,
          0,
          0,
          0,
          0,
          0,
          0,
          0,
          0,
          0,
          0,
          0,
          0,
          0,
          0,
          0,
          0,
          0,
          0,
          0,
          0,
          0,
          0,
          0,
          0,
          0,
          0,
          0,
          0,
          0,
          0,
          0,
          0,
          0,
          0,
          0,
          0,
          0,
          0,
          0
         ],
         "hovertemplate": [
          "Ethinicity: American Indian<br>Count: 0",
          "Ethinicity: American Indian<br>Count: 0",
          "Ethinicity: American Indian<br>Count: 0",
          "Ethinicity: American Indian<br>Count: 0",
          "Ethinicity: American Indian<br>Count: 0",
          "Ethinicity: American Indian<br>Count: 0",
          "Ethinicity: American Indian<br>Count: 1",
          "Ethinicity: American Indian<br>Count: 0",
          "Ethinicity: American Indian<br>Count: 0",
          "Ethinicity: American Indian<br>Count: 1",
          "Ethinicity: American Indian<br>Count: 0",
          "Ethinicity: American Indian<br>Count: 0",
          "Ethinicity: American Indian<br>Count: 0",
          "Ethinicity: American Indian<br>Count: 0",
          "Ethinicity: American Indian<br>Count: 0",
          "Ethinicity: American Indian<br>Count: 0",
          "Ethinicity: American Indian<br>Count: 0",
          "Ethinicity: American Indian<br>Count: 0",
          "Ethinicity: American Indian<br>Count: 0",
          "Ethinicity: American Indian<br>Count: 0",
          "Ethinicity: American Indian<br>Count: 0",
          "Ethinicity: American Indian<br>Count: 0",
          "Ethinicity: American Indian<br>Count: 0",
          "Ethinicity: American Indian<br>Count: 0",
          "Ethinicity: American Indian<br>Count: 0",
          "Ethinicity: American Indian<br>Count: 0",
          "Ethinicity: American Indian<br>Count: 0",
          "Ethinicity: American Indian<br>Count: 0",
          "Ethinicity: American Indian<br>Count: 0",
          "Ethinicity: American Indian<br>Count: 0",
          "Ethinicity: American Indian<br>Count: 0",
          "Ethinicity: American Indian<br>Count: 0",
          "Ethinicity: American Indian<br>Count: 0",
          "Ethinicity: American Indian<br>Count: 0",
          "Ethinicity: American Indian<br>Count: 0",
          "Ethinicity: American Indian<br>Count: 0",
          "Ethinicity: American Indian<br>Count: 0",
          "Ethinicity: American Indian<br>Count: 0",
          "Ethinicity: American Indian<br>Count: 0",
          "Ethinicity: American Indian<br>Count: 0"
         ],
         "marker": {
          "color": "#ffb55a"
         },
         "name": "Ethincity American Indian",
         "offsetgroup": "1",
         "orientation": "h",
         "showlegend": false,
         "type": "bar",
         "width": 0.7,
         "x": [
          0,
          0,
          0,
          0,
          0,
          0,
          1,
          0,
          0,
          1,
          0,
          0,
          0,
          0,
          0,
          0,
          0,
          0,
          0,
          0,
          0,
          0,
          0,
          0,
          0,
          0,
          0,
          0,
          0,
          0,
          0,
          0,
          0,
          0,
          0,
          0,
          0,
          0,
          0,
          0
         ],
         "xaxis": "x2",
         "y": [
          6,
          7,
          8,
          9,
          11,
          12,
          13,
          14,
          15,
          16,
          17,
          18,
          19,
          20,
          21,
          22,
          23,
          24,
          25,
          26,
          27,
          28,
          29,
          30,
          32,
          34,
          38,
          39,
          41,
          42,
          44,
          45,
          47,
          48,
          49,
          50,
          53,
          55,
          56,
          72
         ],
         "yaxis": "y2"
        },
        {
         "base": [
          0,
          0,
          0,
          0,
          0,
          0,
          1,
          0,
          0,
          1,
          0,
          0,
          0,
          0,
          0,
          0,
          0,
          0,
          0,
          0,
          0,
          0,
          0,
          0,
          0,
          0,
          0,
          0,
          0,
          0,
          0,
          0,
          0,
          0,
          0,
          0,
          0,
          0,
          0,
          0
         ],
         "hovertemplate": [
          "Ethinicity: Asian<br>Count: 0",
          "Ethinicity: Asian<br>Count: 0",
          "Ethinicity: Asian<br>Count: 0",
          "Ethinicity: Asian<br>Count: 0",
          "Ethinicity: Asian<br>Count: 0",
          "Ethinicity: Asian<br>Count: 0",
          "Ethinicity: Asian<br>Count: 0",
          "Ethinicity: Asian<br>Count: 1",
          "Ethinicity: Asian<br>Count: 0",
          "Ethinicity: Asian<br>Count: 0",
          "Ethinicity: Asian<br>Count: 0",
          "Ethinicity: Asian<br>Count: 0",
          "Ethinicity: Asian<br>Count: 0",
          "Ethinicity: Asian<br>Count: 0",
          "Ethinicity: Asian<br>Count: 0",
          "Ethinicity: Asian<br>Count: 0",
          "Ethinicity: Asian<br>Count: 0",
          "Ethinicity: Asian<br>Count: 0",
          "Ethinicity: Asian<br>Count: 0",
          "Ethinicity: Asian<br>Count: 0",
          "Ethinicity: Asian<br>Count: 0",
          "Ethinicity: Asian<br>Count: 0",
          "Ethinicity: Asian<br>Count: 0",
          "Ethinicity: Asian<br>Count: 0",
          "Ethinicity: Asian<br>Count: 0",
          "Ethinicity: Asian<br>Count: 0",
          "Ethinicity: Asian<br>Count: 0",
          "Ethinicity: Asian<br>Count: 0",
          "Ethinicity: Asian<br>Count: 0",
          "Ethinicity: Asian<br>Count: 0",
          "Ethinicity: Asian<br>Count: 0",
          "Ethinicity: Asian<br>Count: 0",
          "Ethinicity: Asian<br>Count: 0",
          "Ethinicity: Asian<br>Count: 0",
          "Ethinicity: Asian<br>Count: 0",
          "Ethinicity: Asian<br>Count: 0",
          "Ethinicity: Asian<br>Count: 0",
          "Ethinicity: Asian<br>Count: 0",
          "Ethinicity: Asian<br>Count: 0",
          "Ethinicity: Asian<br>Count: 0"
         ],
         "marker": {
          "color": "#ffee65"
         },
         "name": "Ethincity Asian",
         "offsetgroup": "1",
         "orientation": "h",
         "showlegend": false,
         "type": "bar",
         "width": 0.7,
         "x": [
          0,
          0,
          0,
          0,
          0,
          0,
          0,
          1,
          0,
          0,
          0,
          0,
          0,
          0,
          0,
          0,
          0,
          0,
          0,
          0,
          0,
          0,
          0,
          0,
          0,
          0,
          0,
          0,
          0,
          0,
          0,
          0,
          0,
          0,
          0,
          0,
          0,
          0,
          0,
          0
         ],
         "xaxis": "x2",
         "y": [
          6,
          7,
          8,
          9,
          11,
          12,
          13,
          14,
          15,
          16,
          17,
          18,
          19,
          20,
          21,
          22,
          23,
          24,
          25,
          26,
          27,
          28,
          29,
          30,
          32,
          34,
          38,
          39,
          41,
          42,
          44,
          45,
          47,
          48,
          49,
          50,
          53,
          55,
          56,
          72
         ],
         "yaxis": "y2"
        },
        {
         "base": [
          0,
          0,
          0,
          0,
          0,
          0,
          1,
          1,
          0,
          1,
          0,
          0,
          0,
          0,
          0,
          0,
          0,
          0,
          0,
          0,
          0,
          0,
          0,
          0,
          0,
          0,
          0,
          0,
          0,
          0,
          0,
          0,
          0,
          0,
          0,
          0,
          0,
          0,
          0,
          0
         ],
         "hovertemplate": [
          "Ethinicity: Black<br>Count: 1",
          "Ethinicity: Black<br>Count: 0",
          "Ethinicity: Black<br>Count: 0",
          "Ethinicity: Black<br>Count: 0",
          "Ethinicity: Black<br>Count: 0",
          "Ethinicity: Black<br>Count: 0",
          "Ethinicity: Black<br>Count: 1",
          "Ethinicity: Black<br>Count: 0",
          "Ethinicity: Black<br>Count: 7",
          "Ethinicity: Black<br>Count: 11",
          "Ethinicity: Black<br>Count: 9",
          "Ethinicity: Black<br>Count: 6",
          "Ethinicity: Black<br>Count: 4",
          "Ethinicity: Black<br>Count: 1",
          "Ethinicity: Black<br>Count: 2",
          "Ethinicity: Black<br>Count: 0",
          "Ethinicity: Black<br>Count: 0",
          "Ethinicity: Black<br>Count: 1",
          "Ethinicity: Black<br>Count: 0",
          "Ethinicity: Black<br>Count: 1",
          "Ethinicity: Black<br>Count: 0",
          "Ethinicity: Black<br>Count: 1",
          "Ethinicity: Black<br>Count: 1",
          "Ethinicity: Black<br>Count: 0",
          "Ethinicity: Black<br>Count: 0",
          "Ethinicity: Black<br>Count: 1",
          "Ethinicity: Black<br>Count: 1",
          "Ethinicity: Black<br>Count: 0",
          "Ethinicity: Black<br>Count: 0",
          "Ethinicity: Black<br>Count: 1",
          "Ethinicity: Black<br>Count: 0",
          "Ethinicity: Black<br>Count: 0",
          "Ethinicity: Black<br>Count: 1",
          "Ethinicity: Black<br>Count: 0",
          "Ethinicity: Black<br>Count: 0",
          "Ethinicity: Black<br>Count: 0",
          "Ethinicity: Black<br>Count: 1",
          "Ethinicity: Black<br>Count: 1",
          "Ethinicity: Black<br>Count: 0",
          "Ethinicity: Black<br>Count: 0"
         ],
         "marker": {
          "color": "#fd7f6f"
         },
         "name": "Ethincity Black",
         "offsetgroup": "1",
         "orientation": "h",
         "showlegend": false,
         "type": "bar",
         "width": 0.7,
         "x": [
          1,
          0,
          0,
          0,
          0,
          0,
          1,
          0,
          7,
          11,
          9,
          6,
          4,
          1,
          2,
          0,
          0,
          1,
          0,
          1,
          0,
          1,
          1,
          0,
          0,
          1,
          1,
          0,
          0,
          1,
          0,
          0,
          1,
          0,
          0,
          0,
          1,
          1,
          0,
          0
         ],
         "xaxis": "x2",
         "y": [
          6,
          7,
          8,
          9,
          11,
          12,
          13,
          14,
          15,
          16,
          17,
          18,
          19,
          20,
          21,
          22,
          23,
          24,
          25,
          26,
          27,
          28,
          29,
          30,
          32,
          34,
          38,
          39,
          41,
          42,
          44,
          45,
          47,
          48,
          49,
          50,
          53,
          55,
          56,
          72
         ],
         "yaxis": "y2"
        },
        {
         "base": [
          1,
          0,
          0,
          0,
          0,
          0,
          2,
          1,
          7,
          12,
          9,
          6,
          4,
          1,
          2,
          0,
          0,
          1,
          0,
          1,
          0,
          1,
          1,
          0,
          0,
          1,
          1,
          0,
          0,
          1,
          0,
          0,
          1,
          0,
          0,
          0,
          1,
          1,
          0,
          0
         ],
         "hovertemplate": [
          "Ethinicity: Hispanic<br>Count: 0",
          "Ethinicity: Hispanic<br>Count: 0",
          "Ethinicity: Hispanic<br>Count: 0",
          "Ethinicity: Hispanic<br>Count: 0",
          "Ethinicity: Hispanic<br>Count: 0",
          "Ethinicity: Hispanic<br>Count: 2",
          "Ethinicity: Hispanic<br>Count: 0",
          "Ethinicity: Hispanic<br>Count: 0",
          "Ethinicity: Hispanic<br>Count: 0",
          "Ethinicity: Hispanic<br>Count: 1",
          "Ethinicity: Hispanic<br>Count: 1",
          "Ethinicity: Hispanic<br>Count: 1",
          "Ethinicity: Hispanic<br>Count: 2",
          "Ethinicity: Hispanic<br>Count: 0",
          "Ethinicity: Hispanic<br>Count: 0",
          "Ethinicity: Hispanic<br>Count: 0",
          "Ethinicity: Hispanic<br>Count: 0",
          "Ethinicity: Hispanic<br>Count: 0",
          "Ethinicity: Hispanic<br>Count: 0",
          "Ethinicity: Hispanic<br>Count: 0",
          "Ethinicity: Hispanic<br>Count: 1",
          "Ethinicity: Hispanic<br>Count: 0",
          "Ethinicity: Hispanic<br>Count: 0",
          "Ethinicity: Hispanic<br>Count: 0",
          "Ethinicity: Hispanic<br>Count: 0",
          "Ethinicity: Hispanic<br>Count: 0",
          "Ethinicity: Hispanic<br>Count: 0",
          "Ethinicity: Hispanic<br>Count: 0",
          "Ethinicity: Hispanic<br>Count: 0",
          "Ethinicity: Hispanic<br>Count: 0",
          "Ethinicity: Hispanic<br>Count: 0",
          "Ethinicity: Hispanic<br>Count: 0",
          "Ethinicity: Hispanic<br>Count: 0",
          "Ethinicity: Hispanic<br>Count: 0",
          "Ethinicity: Hispanic<br>Count: 0",
          "Ethinicity: Hispanic<br>Count: 0",
          "Ethinicity: Hispanic<br>Count: 0",
          "Ethinicity: Hispanic<br>Count: 0",
          "Ethinicity: Hispanic<br>Count: 0",
          "Ethinicity: Hispanic<br>Count: 0"
         ],
         "marker": {
          "color": "#bd7ebe"
         },
         "name": "Ethincity Hispanic",
         "offsetgroup": "1",
         "orientation": "h",
         "showlegend": false,
         "type": "bar",
         "width": 0.7,
         "x": [
          0,
          0,
          0,
          0,
          0,
          2,
          0,
          0,
          0,
          1,
          1,
          1,
          2,
          0,
          0,
          0,
          0,
          0,
          0,
          0,
          1,
          0,
          0,
          0,
          0,
          0,
          0,
          0,
          0,
          0,
          0,
          0,
          0,
          0,
          0,
          0,
          0,
          0,
          0,
          0
         ],
         "xaxis": "x2",
         "y": [
          6,
          7,
          8,
          9,
          11,
          12,
          13,
          14,
          15,
          16,
          17,
          18,
          19,
          20,
          21,
          22,
          23,
          24,
          25,
          26,
          27,
          28,
          29,
          30,
          32,
          34,
          38,
          39,
          41,
          42,
          44,
          45,
          47,
          48,
          49,
          50,
          53,
          55,
          56,
          72
         ],
         "yaxis": "y2"
        },
        {
         "base": [
          1,
          0,
          0,
          0,
          0,
          2,
          2,
          1,
          7,
          13,
          10,
          7,
          6,
          1,
          2,
          0,
          0,
          1,
          0,
          1,
          1,
          1,
          1,
          0,
          0,
          1,
          1,
          0,
          0,
          1,
          0,
          0,
          1,
          0,
          0,
          0,
          1,
          1,
          0,
          0
         ],
         "hovertemplate": [
          "Ethinicity: Not known<br>Count: 2",
          "Ethinicity: Not known<br>Count: 0",
          "Ethinicity: Not known<br>Count: 3",
          "Ethinicity: Not known<br>Count: 0",
          "Ethinicity: Not known<br>Count: 2",
          "Ethinicity: Not known<br>Count: 3",
          "Ethinicity: Not known<br>Count: 7",
          "Ethinicity: Not known<br>Count: 18",
          "Ethinicity: Not known<br>Count: 23",
          "Ethinicity: Not known<br>Count: 17",
          "Ethinicity: Not known<br>Count: 18",
          "Ethinicity: Not known<br>Count: 6",
          "Ethinicity: Not known<br>Count: 5",
          "Ethinicity: Not known<br>Count: 1",
          "Ethinicity: Not known<br>Count: 1",
          "Ethinicity: Not known<br>Count: 1",
          "Ethinicity: Not known<br>Count: 2",
          "Ethinicity: Not known<br>Count: 0",
          "Ethinicity: Not known<br>Count: 2",
          "Ethinicity: Not known<br>Count: 0",
          "Ethinicity: Not known<br>Count: 0",
          "Ethinicity: Not known<br>Count: 1",
          "Ethinicity: Not known<br>Count: 0",
          "Ethinicity: Not known<br>Count: 1",
          "Ethinicity: Not known<br>Count: 1",
          "Ethinicity: Not known<br>Count: 0",
          "Ethinicity: Not known<br>Count: 1",
          "Ethinicity: Not known<br>Count: 1",
          "Ethinicity: Not known<br>Count: 1",
          "Ethinicity: Not known<br>Count: 0",
          "Ethinicity: Not known<br>Count: 0",
          "Ethinicity: Not known<br>Count: 1",
          "Ethinicity: Not known<br>Count: 1",
          "Ethinicity: Not known<br>Count: 1",
          "Ethinicity: Not known<br>Count: 1",
          "Ethinicity: Not known<br>Count: 0",
          "Ethinicity: Not known<br>Count: 0",
          "Ethinicity: Not known<br>Count: 0",
          "Ethinicity: Not known<br>Count: 0",
          "Ethinicity: Not known<br>Count: 0"
         ],
         "marker": {
          "color": "#7eb0d5"
         },
         "name": "Ethincity Not known",
         "offsetgroup": "1",
         "orientation": "h",
         "showlegend": false,
         "type": "bar",
         "width": 0.7,
         "x": [
          2,
          0,
          3,
          0,
          2,
          3,
          7,
          18,
          23,
          17,
          18,
          6,
          5,
          1,
          1,
          1,
          2,
          0,
          2,
          0,
          0,
          1,
          0,
          1,
          1,
          0,
          1,
          1,
          1,
          0,
          0,
          1,
          1,
          1,
          1,
          0,
          0,
          0,
          0,
          0
         ],
         "xaxis": "x2",
         "y": [
          6,
          7,
          8,
          9,
          11,
          12,
          13,
          14,
          15,
          16,
          17,
          18,
          19,
          20,
          21,
          22,
          23,
          24,
          25,
          26,
          27,
          28,
          29,
          30,
          32,
          34,
          38,
          39,
          41,
          42,
          44,
          45,
          47,
          48,
          49,
          50,
          53,
          55,
          56,
          72
         ],
         "yaxis": "y2"
        },
        {
         "base": [
          3,
          0,
          3,
          0,
          2,
          5,
          9,
          19,
          30,
          30,
          28,
          13,
          11,
          2,
          3,
          1,
          2,
          1,
          2,
          1,
          1,
          2,
          1,
          1,
          1,
          1,
          2,
          1,
          1,
          1,
          0,
          1,
          2,
          1,
          1,
          0,
          1,
          1,
          0,
          0
         ],
         "hovertemplate": [
          "Ethinicity: White<br>Count: 0",
          "Ethinicity: White<br>Count: 1",
          "Ethinicity: White<br>Count: 0",
          "Ethinicity: White<br>Count: 1",
          "Ethinicity: White<br>Count: 0",
          "Ethinicity: White<br>Count: 2",
          "Ethinicity: White<br>Count: 2",
          "Ethinicity: White<br>Count: 8",
          "Ethinicity: White<br>Count: 14",
          "Ethinicity: White<br>Count: 7",
          "Ethinicity: White<br>Count: 6",
          "Ethinicity: White<br>Count: 2",
          "Ethinicity: White<br>Count: 3",
          "Ethinicity: White<br>Count: 3",
          "Ethinicity: White<br>Count: 1",
          "Ethinicity: White<br>Count: 0",
          "Ethinicity: White<br>Count: 0",
          "Ethinicity: White<br>Count: 0",
          "Ethinicity: White<br>Count: 0",
          "Ethinicity: White<br>Count: 1",
          "Ethinicity: White<br>Count: 0",
          "Ethinicity: White<br>Count: 1",
          "Ethinicity: White<br>Count: 0",
          "Ethinicity: White<br>Count: 0",
          "Ethinicity: White<br>Count: 2",
          "Ethinicity: White<br>Count: 0",
          "Ethinicity: White<br>Count: 0",
          "Ethinicity: White<br>Count: 0",
          "Ethinicity: White<br>Count: 1",
          "Ethinicity: White<br>Count: 0",
          "Ethinicity: White<br>Count: 2",
          "Ethinicity: White<br>Count: 1",
          "Ethinicity: White<br>Count: 0",
          "Ethinicity: White<br>Count: 0",
          "Ethinicity: White<br>Count: 0",
          "Ethinicity: White<br>Count: 1",
          "Ethinicity: White<br>Count: 2",
          "Ethinicity: White<br>Count: 0",
          "Ethinicity: White<br>Count: 1",
          "Ethinicity: White<br>Count: 1"
         ],
         "marker": {
          "color": "#b2e061"
         },
         "name": "Ethincity White",
         "offsetgroup": "1",
         "orientation": "h",
         "showlegend": false,
         "type": "bar",
         "width": 0.7,
         "x": [
          0,
          1,
          0,
          1,
          0,
          2,
          2,
          8,
          14,
          7,
          6,
          2,
          3,
          3,
          1,
          0,
          0,
          0,
          0,
          1,
          0,
          1,
          0,
          0,
          2,
          0,
          0,
          0,
          1,
          0,
          2,
          1,
          0,
          0,
          0,
          1,
          2,
          0,
          1,
          1
         ],
         "xaxis": "x2",
         "y": [
          6,
          7,
          8,
          9,
          11,
          12,
          13,
          14,
          15,
          16,
          17,
          18,
          19,
          20,
          21,
          22,
          23,
          24,
          25,
          26,
          27,
          28,
          29,
          30,
          32,
          34,
          38,
          39,
          41,
          42,
          44,
          45,
          47,
          48,
          49,
          50,
          53,
          55,
          56,
          72
         ],
         "yaxis": "y2"
        }
       ],
       "layout": {
        "barmode": "relative",
        "height": 700,
        "template": {
         "data": {
          "bar": [
           {
            "error_x": {
             "color": "#2a3f5f"
            },
            "error_y": {
             "color": "#2a3f5f"
            },
            "marker": {
             "line": {
              "color": "#E5ECF6",
              "width": 0.5
             },
             "pattern": {
              "fillmode": "overlay",
              "size": 10,
              "solidity": 0.2
             }
            },
            "type": "bar"
           }
          ],
          "barpolar": [
           {
            "marker": {
             "line": {
              "color": "#E5ECF6",
              "width": 0.5
             },
             "pattern": {
              "fillmode": "overlay",
              "size": 10,
              "solidity": 0.2
             }
            },
            "type": "barpolar"
           }
          ],
          "carpet": [
           {
            "aaxis": {
             "endlinecolor": "#2a3f5f",
             "gridcolor": "white",
             "linecolor": "white",
             "minorgridcolor": "white",
             "startlinecolor": "#2a3f5f"
            },
            "baxis": {
             "endlinecolor": "#2a3f5f",
             "gridcolor": "white",
             "linecolor": "white",
             "minorgridcolor": "white",
             "startlinecolor": "#2a3f5f"
            },
            "type": "carpet"
           }
          ],
          "choropleth": [
           {
            "colorbar": {
             "outlinewidth": 0,
             "ticks": ""
            },
            "type": "choropleth"
           }
          ],
          "contour": [
           {
            "colorbar": {
             "outlinewidth": 0,
             "ticks": ""
            },
            "colorscale": [
             [
              0,
              "#0d0887"
             ],
             [
              0.1111111111111111,
              "#46039f"
             ],
             [
              0.2222222222222222,
              "#7201a8"
             ],
             [
              0.3333333333333333,
              "#9c179e"
             ],
             [
              0.4444444444444444,
              "#bd3786"
             ],
             [
              0.5555555555555556,
              "#d8576b"
             ],
             [
              0.6666666666666666,
              "#ed7953"
             ],
             [
              0.7777777777777778,
              "#fb9f3a"
             ],
             [
              0.8888888888888888,
              "#fdca26"
             ],
             [
              1,
              "#f0f921"
             ]
            ],
            "type": "contour"
           }
          ],
          "contourcarpet": [
           {
            "colorbar": {
             "outlinewidth": 0,
             "ticks": ""
            },
            "type": "contourcarpet"
           }
          ],
          "heatmap": [
           {
            "colorbar": {
             "outlinewidth": 0,
             "ticks": ""
            },
            "colorscale": [
             [
              0,
              "#0d0887"
             ],
             [
              0.1111111111111111,
              "#46039f"
             ],
             [
              0.2222222222222222,
              "#7201a8"
             ],
             [
              0.3333333333333333,
              "#9c179e"
             ],
             [
              0.4444444444444444,
              "#bd3786"
             ],
             [
              0.5555555555555556,
              "#d8576b"
             ],
             [
              0.6666666666666666,
              "#ed7953"
             ],
             [
              0.7777777777777778,
              "#fb9f3a"
             ],
             [
              0.8888888888888888,
              "#fdca26"
             ],
             [
              1,
              "#f0f921"
             ]
            ],
            "type": "heatmap"
           }
          ],
          "heatmapgl": [
           {
            "colorbar": {
             "outlinewidth": 0,
             "ticks": ""
            },
            "colorscale": [
             [
              0,
              "#0d0887"
             ],
             [
              0.1111111111111111,
              "#46039f"
             ],
             [
              0.2222222222222222,
              "#7201a8"
             ],
             [
              0.3333333333333333,
              "#9c179e"
             ],
             [
              0.4444444444444444,
              "#bd3786"
             ],
             [
              0.5555555555555556,
              "#d8576b"
             ],
             [
              0.6666666666666666,
              "#ed7953"
             ],
             [
              0.7777777777777778,
              "#fb9f3a"
             ],
             [
              0.8888888888888888,
              "#fdca26"
             ],
             [
              1,
              "#f0f921"
             ]
            ],
            "type": "heatmapgl"
           }
          ],
          "histogram": [
           {
            "marker": {
             "pattern": {
              "fillmode": "overlay",
              "size": 10,
              "solidity": 0.2
             }
            },
            "type": "histogram"
           }
          ],
          "histogram2d": [
           {
            "colorbar": {
             "outlinewidth": 0,
             "ticks": ""
            },
            "colorscale": [
             [
              0,
              "#0d0887"
             ],
             [
              0.1111111111111111,
              "#46039f"
             ],
             [
              0.2222222222222222,
              "#7201a8"
             ],
             [
              0.3333333333333333,
              "#9c179e"
             ],
             [
              0.4444444444444444,
              "#bd3786"
             ],
             [
              0.5555555555555556,
              "#d8576b"
             ],
             [
              0.6666666666666666,
              "#ed7953"
             ],
             [
              0.7777777777777778,
              "#fb9f3a"
             ],
             [
              0.8888888888888888,
              "#fdca26"
             ],
             [
              1,
              "#f0f921"
             ]
            ],
            "type": "histogram2d"
           }
          ],
          "histogram2dcontour": [
           {
            "colorbar": {
             "outlinewidth": 0,
             "ticks": ""
            },
            "colorscale": [
             [
              0,
              "#0d0887"
             ],
             [
              0.1111111111111111,
              "#46039f"
             ],
             [
              0.2222222222222222,
              "#7201a8"
             ],
             [
              0.3333333333333333,
              "#9c179e"
             ],
             [
              0.4444444444444444,
              "#bd3786"
             ],
             [
              0.5555555555555556,
              "#d8576b"
             ],
             [
              0.6666666666666666,
              "#ed7953"
             ],
             [
              0.7777777777777778,
              "#fb9f3a"
             ],
             [
              0.8888888888888888,
              "#fdca26"
             ],
             [
              1,
              "#f0f921"
             ]
            ],
            "type": "histogram2dcontour"
           }
          ],
          "mesh3d": [
           {
            "colorbar": {
             "outlinewidth": 0,
             "ticks": ""
            },
            "type": "mesh3d"
           }
          ],
          "parcoords": [
           {
            "line": {
             "colorbar": {
              "outlinewidth": 0,
              "ticks": ""
             }
            },
            "type": "parcoords"
           }
          ],
          "pie": [
           {
            "automargin": true,
            "type": "pie"
           }
          ],
          "scatter": [
           {
            "fillpattern": {
             "fillmode": "overlay",
             "size": 10,
             "solidity": 0.2
            },
            "type": "scatter"
           }
          ],
          "scatter3d": [
           {
            "line": {
             "colorbar": {
              "outlinewidth": 0,
              "ticks": ""
             }
            },
            "marker": {
             "colorbar": {
              "outlinewidth": 0,
              "ticks": ""
             }
            },
            "type": "scatter3d"
           }
          ],
          "scattercarpet": [
           {
            "marker": {
             "colorbar": {
              "outlinewidth": 0,
              "ticks": ""
             }
            },
            "type": "scattercarpet"
           }
          ],
          "scattergeo": [
           {
            "marker": {
             "colorbar": {
              "outlinewidth": 0,
              "ticks": ""
             }
            },
            "type": "scattergeo"
           }
          ],
          "scattergl": [
           {
            "marker": {
             "colorbar": {
              "outlinewidth": 0,
              "ticks": ""
             }
            },
            "type": "scattergl"
           }
          ],
          "scattermapbox": [
           {
            "marker": {
             "colorbar": {
              "outlinewidth": 0,
              "ticks": ""
             }
            },
            "type": "scattermapbox"
           }
          ],
          "scatterpolar": [
           {
            "marker": {
             "colorbar": {
              "outlinewidth": 0,
              "ticks": ""
             }
            },
            "type": "scatterpolar"
           }
          ],
          "scatterpolargl": [
           {
            "marker": {
             "colorbar": {
              "outlinewidth": 0,
              "ticks": ""
             }
            },
            "type": "scatterpolargl"
           }
          ],
          "scatterternary": [
           {
            "marker": {
             "colorbar": {
              "outlinewidth": 0,
              "ticks": ""
             }
            },
            "type": "scatterternary"
           }
          ],
          "surface": [
           {
            "colorbar": {
             "outlinewidth": 0,
             "ticks": ""
            },
            "colorscale": [
             [
              0,
              "#0d0887"
             ],
             [
              0.1111111111111111,
              "#46039f"
             ],
             [
              0.2222222222222222,
              "#7201a8"
             ],
             [
              0.3333333333333333,
              "#9c179e"
             ],
             [
              0.4444444444444444,
              "#bd3786"
             ],
             [
              0.5555555555555556,
              "#d8576b"
             ],
             [
              0.6666666666666666,
              "#ed7953"
             ],
             [
              0.7777777777777778,
              "#fb9f3a"
             ],
             [
              0.8888888888888888,
              "#fdca26"
             ],
             [
              1,
              "#f0f921"
             ]
            ],
            "type": "surface"
           }
          ],
          "table": [
           {
            "cells": {
             "fill": {
              "color": "#EBF0F8"
             },
             "line": {
              "color": "white"
             }
            },
            "header": {
             "fill": {
              "color": "#C8D4E3"
             },
             "line": {
              "color": "white"
             }
            },
            "type": "table"
           }
          ]
         },
         "layout": {
          "annotationdefaults": {
           "arrowcolor": "#2a3f5f",
           "arrowhead": 0,
           "arrowwidth": 1
          },
          "autotypenumbers": "strict",
          "coloraxis": {
           "colorbar": {
            "outlinewidth": 0,
            "ticks": ""
           }
          },
          "colorscale": {
           "diverging": [
            [
             0,
             "#8e0152"
            ],
            [
             0.1,
             "#c51b7d"
            ],
            [
             0.2,
             "#de77ae"
            ],
            [
             0.3,
             "#f1b6da"
            ],
            [
             0.4,
             "#fde0ef"
            ],
            [
             0.5,
             "#f7f7f7"
            ],
            [
             0.6,
             "#e6f5d0"
            ],
            [
             0.7,
             "#b8e186"
            ],
            [
             0.8,
             "#7fbc41"
            ],
            [
             0.9,
             "#4d9221"
            ],
            [
             1,
             "#276419"
            ]
           ],
           "sequential": [
            [
             0,
             "#0d0887"
            ],
            [
             0.1111111111111111,
             "#46039f"
            ],
            [
             0.2222222222222222,
             "#7201a8"
            ],
            [
             0.3333333333333333,
             "#9c179e"
            ],
            [
             0.4444444444444444,
             "#bd3786"
            ],
            [
             0.5555555555555556,
             "#d8576b"
            ],
            [
             0.6666666666666666,
             "#ed7953"
            ],
            [
             0.7777777777777778,
             "#fb9f3a"
            ],
            [
             0.8888888888888888,
             "#fdca26"
            ],
            [
             1,
             "#f0f921"
            ]
           ],
           "sequentialminus": [
            [
             0,
             "#0d0887"
            ],
            [
             0.1111111111111111,
             "#46039f"
            ],
            [
             0.2222222222222222,
             "#7201a8"
            ],
            [
             0.3333333333333333,
             "#9c179e"
            ],
            [
             0.4444444444444444,
             "#bd3786"
            ],
            [
             0.5555555555555556,
             "#d8576b"
            ],
            [
             0.6666666666666666,
             "#ed7953"
            ],
            [
             0.7777777777777778,
             "#fb9f3a"
            ],
            [
             0.8888888888888888,
             "#fdca26"
            ],
            [
             1,
             "#f0f921"
            ]
           ]
          },
          "colorway": [
           "#636efa",
           "#EF553B",
           "#00cc96",
           "#ab63fa",
           "#FFA15A",
           "#19d3f3",
           "#FF6692",
           "#B6E880",
           "#FF97FF",
           "#FECB52"
          ],
          "font": {
           "color": "#2a3f5f"
          },
          "geo": {
           "bgcolor": "white",
           "lakecolor": "white",
           "landcolor": "#E5ECF6",
           "showlakes": true,
           "showland": true,
           "subunitcolor": "white"
          },
          "hoverlabel": {
           "align": "left"
          },
          "hovermode": "closest",
          "mapbox": {
           "style": "light"
          },
          "paper_bgcolor": "white",
          "plot_bgcolor": "#E5ECF6",
          "polar": {
           "angularaxis": {
            "gridcolor": "white",
            "linecolor": "white",
            "ticks": ""
           },
           "bgcolor": "#E5ECF6",
           "radialaxis": {
            "gridcolor": "white",
            "linecolor": "white",
            "ticks": ""
           }
          },
          "scene": {
           "xaxis": {
            "backgroundcolor": "#E5ECF6",
            "gridcolor": "white",
            "gridwidth": 2,
            "linecolor": "white",
            "showbackground": true,
            "ticks": "",
            "zerolinecolor": "white"
           },
           "yaxis": {
            "backgroundcolor": "#E5ECF6",
            "gridcolor": "white",
            "gridwidth": 2,
            "linecolor": "white",
            "showbackground": true,
            "ticks": "",
            "zerolinecolor": "white"
           },
           "zaxis": {
            "backgroundcolor": "#E5ECF6",
            "gridcolor": "white",
            "gridwidth": 2,
            "linecolor": "white",
            "showbackground": true,
            "ticks": "",
            "zerolinecolor": "white"
           }
          },
          "shapedefaults": {
           "line": {
            "color": "#2a3f5f"
           }
          },
          "ternary": {
           "aaxis": {
            "gridcolor": "white",
            "linecolor": "white",
            "ticks": ""
           },
           "baxis": {
            "gridcolor": "white",
            "linecolor": "white",
            "ticks": ""
           },
           "bgcolor": "#E5ECF6",
           "caxis": {
            "gridcolor": "white",
            "linecolor": "white",
            "ticks": ""
           }
          },
          "title": {
           "x": 0.05
          },
          "xaxis": {
           "automargin": true,
           "gridcolor": "white",
           "linecolor": "white",
           "ticks": "",
           "title": {
            "standoff": 15
           },
           "zerolinecolor": "white",
           "zerolinewidth": 2
          },
          "yaxis": {
           "automargin": true,
           "gridcolor": "white",
           "linecolor": "white",
           "ticks": "",
           "title": {
            "standoff": 15
           },
           "zerolinecolor": "white",
           "zerolinewidth": 2
          }
         }
        },
        "title": {
         "text": "Age of the shooter with ethnicity distinguished",
         "x": 0.9
        },
        "width": 800,
        "xaxis": {
         "anchor": "y",
         "domain": [
          0,
          0.5
         ],
         "range": [
          20,
          0
         ],
         "showticklabels": false,
         "side": "top",
         "title": {
          "text": "Female"
         }
        },
        "xaxis2": {
         "anchor": "y2",
         "domain": [
          0.5,
          1
         ],
         "showticklabels": false,
         "side": "top",
         "title": {
          "text": "Male"
         }
        },
        "yaxis": {
         "anchor": "x",
         "domain": [
          0,
          1
         ]
        },
        "yaxis2": {
         "anchor": "x2",
         "domain": [
          0,
          1
         ],
         "matches": "y",
         "showticklabels": false
        }
       }
      }
     },
     "metadata": {},
     "output_type": "display_data"
    }
   ],
   "source": [
    "fig = make_subplots(rows=1, cols=2, specs=[[{\"type\":\"bar\"}, {\"type\": \"bar\"}]], shared_xaxes=False,\n",
    "                    shared_yaxes=True, horizontal_spacing=0)\n",
    "\n",
    "base = np.zeros(shape=women_ethnicity.shape[0])  \n",
    "base = pd.Series(base)\n",
    "for col in women_ethnicity.columns[1:]:\n",
    "    fig.append_trace(go.Bar(name=\"Ethincity \"+col,\n",
    "                        x=women_ethnicity[col],\n",
    "                        y=women_ethnicity['age_shooter1'], \n",
    "                        hovertemplate='Ethinicity: ' + col + '<br>Count: ' +women_ethnicity[col].map('{:,.0f}'.format), \n",
    "                        offsetgroup=0,\n",
    "                        orientation='h', \n",
    "                        width=0.7, \n",
    "                        marker_color=marker_color[col],\n",
    "                        showlegend=False, \n",
    "                        base=base), \n",
    "                        1, 1) # 1,1 represents row 1 column 1 in the plot grid\n",
    "    base = base.add(women_ethnicity[col])\n",
    "\n",
    "\n",
    "base = np.zeros(shape=men_ethnicity.shape[0])  \n",
    "base = pd.Series(base)\n",
    "for col in men_ethnicity.columns[1:]:\n",
    "    fig.append_trace(go.Bar(name=\"Ethincity \"+col,\n",
    "                        x=men_ethnicity[col],\n",
    "                        y=men_ethnicity['age_shooter1'], \n",
    "                        hovertemplate='Ethinicity: ' + col + '<br>Count: ' +men_ethnicity[col].map('{:,.0f}'.format),\n",
    "                        offsetgroup=1,\n",
    "                        orientation='h', \n",
    "                        width=0.7, \n",
    "                        marker_color=marker_color[col],\n",
    "                        showlegend=False, \n",
    "                        base=base), \n",
    "                        1, 2) # 1,1 represents row 1 column 1 in the plot grid\n",
    "    base = base.add(men_ethnicity[col])\n",
    "\n",
    "fig.update_xaxes(showticklabels=False,title_text=\"Female\", row=1, col=1, range=[20,0])\n",
    "fig.update_xaxes(showticklabels=False,title_text=\"Male\", row=1, col=2)\n",
    "\n",
    "fig.update_layout(title_text=\"Age of the shooter with ethnicity distinguished\", \n",
    "                  width=800, \n",
    "                  height=700,\n",
    "                  title_x=0.9,\n",
    "                  xaxis1={'side': 'top'},\n",
    "                  xaxis2={'side': 'top'},\n",
    "                  barmode='relative')\n",
    "\n",
    "plotly.offline.plot(fig, filename=html_path+\"shooter_age_gender_distribution.html\")\n",
    "fig.show()"
   ]
  },
  {
   "cell_type": "markdown",
   "metadata": {},
   "source": [
    "# Shootings per year"
   ]
  },
  {
   "cell_type": "code",
   "execution_count": 30,
   "metadata": {},
   "outputs": [
    {
     "data": {
      "text/html": [
       "<div>\n",
       "<style scoped>\n",
       "    .dataframe tbody tr th:only-of-type {\n",
       "        vertical-align: middle;\n",
       "    }\n",
       "\n",
       "    .dataframe tbody tr th {\n",
       "        vertical-align: top;\n",
       "    }\n",
       "\n",
       "    .dataframe thead th {\n",
       "        text-align: right;\n",
       "    }\n",
       "</style>\n",
       "<table border=\"1\" class=\"dataframe\">\n",
       "  <thead>\n",
       "    <tr style=\"text-align: right;\">\n",
       "      <th></th>\n",
       "      <th>year</th>\n",
       "      <th>sum_killed</th>\n",
       "      <th>sum_injured</th>\n",
       "      <th>sum</th>\n",
       "    </tr>\n",
       "  </thead>\n",
       "  <tbody>\n",
       "    <tr>\n",
       "      <th>0</th>\n",
       "      <td>1999</td>\n",
       "      <td>14</td>\n",
       "      <td>35</td>\n",
       "      <td>7</td>\n",
       "    </tr>\n",
       "    <tr>\n",
       "      <th>1</th>\n",
       "      <td>2000</td>\n",
       "      <td>4</td>\n",
       "      <td>3</td>\n",
       "      <td>12</td>\n",
       "    </tr>\n",
       "    <tr>\n",
       "      <th>2</th>\n",
       "      <td>2001</td>\n",
       "      <td>5</td>\n",
       "      <td>22</td>\n",
       "      <td>13</td>\n",
       "    </tr>\n",
       "    <tr>\n",
       "      <th>3</th>\n",
       "      <td>2002</td>\n",
       "      <td>1</td>\n",
       "      <td>7</td>\n",
       "      <td>5</td>\n",
       "    </tr>\n",
       "    <tr>\n",
       "      <th>4</th>\n",
       "      <td>2003</td>\n",
       "      <td>5</td>\n",
       "      <td>8</td>\n",
       "      <td>12</td>\n",
       "    </tr>\n",
       "  </tbody>\n",
       "</table>\n",
       "</div>"
      ],
      "text/plain": [
       "   year  sum_killed  sum_injured  sum\n",
       "0  1999          14           35    7\n",
       "1  2000           4            3   12\n",
       "2  2001           5           22   13\n",
       "3  2002           1            7    5\n",
       "4  2003           5            8   12"
      ]
     },
     "execution_count": 30,
     "metadata": {},
     "output_type": "execute_result"
    }
   ],
   "source": [
    "\n",
    "shootings_per_year = df.groupby(['year']).agg(\n",
    "     sum_killed = ('killed','sum'),\n",
    "     sum_injured = ('injured','sum'),\n",
    "     sum=('year', 'count')\n",
    "     ).reset_index()\n"
   ]
  },
  {
   "cell_type": "code",
   "execution_count": null,
   "metadata": {},
   "outputs": [],
   "source": [
    "fig = go.Figure(\n",
    "    data = [\n",
    "        go.Bar(x=shootings_per_year['year'], y=shootings_per_year['sum_injured'], offsetgroup=0, name='People injured', hovertemplate='Year: %{x} <br> Injured: %{y}', hovertextsrc=''),\n",
    "        go.Bar(x=shootings_per_year['year'], y=shootings_per_year['sum_killed'], offsetgroup=0, base=shootings_per_year['sum_injured'],  name='People killed', hovertemplate='Year: %{x} <br> Killed: %{y}'),\n",
    "        go.Line(x=shootings_per_year['year'], y=shootings_per_year['sum'], name='All incidents', hovertemplate='Year: %{x} <br> Incidents count: %{y}'),\n",
    "    ]\n",
    ")\n",
    "fig.update_layout(width=1000, xaxis_title=\"Year\", yaxis_title=\"Count\")\n",
    "plotly.offline.plot(fig, filename=html_path+\"shootings_year.html\")"
   ]
  },
  {
   "cell_type": "markdown",
   "metadata": {},
   "source": [
    "# Plot student's ethnicity distribution in schools"
   ]
  },
  {
   "cell_type": "code",
   "execution_count": 32,
   "metadata": {},
   "outputs": [],
   "source": [
    "def plot_student_race_distribution(races, column_names, school_name, file_path):\n",
    "    races = races.fillna(0)\n",
    "    fig = px.pie(values=races.values[0], names=column_names, title='Population of '+school_name, width=700)\n",
    "    fig.update_layout(legend_title=\"Ethnicity\")\n",
    "    fig.update_traces(hovertemplate='Ethnicity: %{label} <br>  Count: %{value}')\n",
    "    plotly.offline.plot(fig, filename=file_path)"
   ]
  },
  {
   "cell_type": "code",
   "execution_count": 33,
   "metadata": {},
   "outputs": [],
   "source": [
    "df.reset_index(drop=True, inplace=True)"
   ]
  },
  {
   "cell_type": "code",
   "execution_count": null,
   "metadata": {},
   "outputs": [],
   "source": [
    "column_names = ['White', 'Black', 'Hispanic', 'Asian',\n",
    "       'American/Indian/Alaska native', 'Hawaiian native/Pacific islander']\n",
    "df['ethnicity_diagram_path'] = np.nan\n",
    "for i in range(0,df.shape[0]):\n",
    "    races = df.loc[[i], ['white', 'black', 'hispanic', 'asian',\n",
    "       'american_indian_alaska_native', 'hawaiian_native_pacific_islander']]\n",
    "    races = races._convert(numeric=True)\n",
    "    schoolname = df.iloc[i]['school_name']\n",
    "    filepath = './ethinicity_diagrams/' + schoolname.replace('/', '_') +'_ethinicity.html'\n",
    "    filepathtosave= html_path + 'ethinicity_diagrams/' + schoolname.replace('/', '_') +'_ethinicity.html'\n",
    "    plot_student_race_distribution(races, column_names, df.iloc[i]['school_name'], filepathtosave)\n",
    "    df.at[i,'ethnicity_diagram_path']= filepath"
   ]
  },
  {
   "cell_type": "markdown",
   "metadata": {},
   "source": [
    "# Map with student's ethnicity in school"
   ]
  },
  {
   "cell_type": "code",
   "execution_count": null,
   "metadata": {},
   "outputs": [],
   "source": [
    "def generate_color(killed, injured):\n",
    "    if killed ==0 and injured==0:\n",
    "        return 'blue'\n",
    "    if killed ==0 :\n",
    "        return 'gray'\n",
    "    return 'crimson'\n",
    "\n",
    "def calculate_circle_radius(max_affected, current_affected):\n",
    "    return math.log(current_affected/ max_affected * 100 + 1.) * 2 + 4"
   ]
  },
  {
   "cell_type": "code",
   "execution_count": null,
   "metadata": {},
   "outputs": [],
   "source": [
    "max_killed_and_injured = max(df['killed']) + max(df['injured'])\n",
    "# Make an empty map\n",
    "m = folium.Map(location=[40,-100], tiles=\"OpenStreetMap\", zoom_start=4.5)\n",
    "for i in range(0,df.shape[0]):\n",
    "   killed_and_injured = df.iloc[i]['killed'] + df.iloc[i]['injured']\n",
    "   # calculate radius\n",
    "   radius = calculate_circle_radius(max_killed_and_injured, killed_and_injured)\n",
    "   # prepare html text to embeed in map\n",
    "   html=\"\"\"\n",
    "    <iframe src=\\\"\"\"\" + df['ethnicity_diagram_path'][i] + \"\"\"\\\" width=\"850\" height=\"400\"  frameborder=\"0\">    \n",
    "    \"\"\"\n",
    "   diagram = folium.Popup(folium.Html(html, script=True))\n",
    "   folium.CircleMarker(\n",
    "      location=[df.iloc[i]['lat'], df.iloc[i]['long']],\n",
    "      radius=radius,\n",
    "      popup=diagram,\n",
    "      color=generate_color(df.iloc[i]['killed'], df.iloc[i]['injured']),\n",
    "      fill=True,\n",
    "      fill_color=generate_color(df.iloc[i]['killed'], df.iloc[i]['injured'])\n",
    "   ).add_to(m)\n",
    "\n",
    "# Save the map\n",
    "m.save(html_path+'shootings_details.html')\n"
   ]
  },
  {
   "cell_type": "markdown",
   "metadata": {},
   "source": [
    "# Gun ownership"
   ]
  },
  {
   "cell_type": "code",
   "execution_count": null,
   "metadata": {},
   "outputs": [],
   "source": [
    "file_name = '../../TL-354-State-Level Estimates of Household Firearm Ownership.xlsx'\n",
    "sheet_to_df_map = pd.read_excel(file_name, sheet_name=\"State-Level Data & Factor Score\")\n",
    "gun_ownership = sheet_to_df_map.groupby(['STATE']).aggregate(\n",
    "    average_ownership = ('HFR', 'mean')\n",
    ").reset_index()\n",
    "# convert rate to %\n",
    "gun_ownership['average_ownership'] = gun_ownership['average_ownership'] * 100\n",
    "# get shootings by state\n",
    "school_shootings_by_state = df.groupby('state').aggregate( killed = ('killed', 'sum'), injured= ('injured', 'sum')).reset_index()"
   ]
  },
  {
   "cell_type": "code",
   "execution_count": 91,
   "metadata": {},
   "outputs": [],
   "source": [
    "with open('../../us-states.json') as f:\n",
    "    us_state_map = geojson.load(f)"
   ]
  },
  {
   "cell_type": "code",
   "execution_count": 147,
   "metadata": {},
   "outputs": [],
   "source": [
    "us_state_to_abbrev = {\n",
    "    \"Alabama\": \"AL\",\n",
    "    \"Alaska\": \"AK\",\n",
    "    \"Arizona\": \"AZ\",\n",
    "    \"Arkansas\": \"AR\",\n",
    "    \"California\": \"CA\",\n",
    "    \"Colorado\": \"CO\",\n",
    "    \"Connecticut\": \"CT\",\n",
    "    \"Delaware\": \"DE\",\n",
    "    \"Florida\": \"FL\",\n",
    "    \"Georgia\": \"GA\",\n",
    "    \"Hawaii\": \"HI\",\n",
    "    \"Idaho\": \"ID\",\n",
    "    \"Illinois\": \"IL\",\n",
    "    \"Indiana\": \"IN\",\n",
    "    \"Iowa\": \"IA\",\n",
    "    \"Kansas\": \"KS\",\n",
    "    \"Kentucky\": \"KY\",\n",
    "    \"Louisiana\": \"LA\",\n",
    "    \"Maine\": \"ME\",\n",
    "    \"Maryland\": \"MD\",\n",
    "    \"Massachusetts\": \"MA\",\n",
    "    \"Michigan\": \"MI\",\n",
    "    \"Minnesota\": \"MN\",\n",
    "    \"Mississippi\": \"MS\",\n",
    "    \"Missouri\": \"MO\",\n",
    "    \"Montana\": \"MT\",\n",
    "    \"Nebraska\": \"NE\",\n",
    "    \"Nevada\": \"NV\",\n",
    "    \"New Hampshire\": \"NH\",\n",
    "    \"New Jersey\": \"NJ\",\n",
    "    \"New Mexico\": \"NM\",\n",
    "    \"New York\": \"NY\",\n",
    "    \"North Carolina\": \"NC\",\n",
    "    \"North Dakota\": \"ND\",\n",
    "    \"Ohio\": \"OH\",\n",
    "    \"Oklahoma\": \"OK\",\n",
    "    \"Oregon\": \"OR\",\n",
    "    \"Pennsylvania\": \"PA\",\n",
    "    \"Rhode Island\": \"RI\",\n",
    "    \"South Carolina\": \"SC\",\n",
    "    \"South Dakota\": \"SD\",\n",
    "    \"Tennessee\": \"TN\",\n",
    "    \"Texas\": \"TX\",\n",
    "    \"Utah\": \"UT\",\n",
    "    \"Vermont\": \"VT\",\n",
    "    \"Virginia\": \"VA\",\n",
    "    \"Washington\": \"WA\",\n",
    "    \"West Virginia\": \"WV\",\n",
    "    \"Wisconsin\": \"WI\",\n",
    "    \"Wyoming\": \"WY\",\n",
    "    \"District of Columbia\": \"DC\",\n",
    "    \"American Samoa\": \"AS\",\n",
    "    \"Guam\": \"GU\",\n",
    "    \"Northern Mariana Islands\": \"MP\",\n",
    "    \"Puerto Rico\": \"PR\",\n",
    "    \"United States Minor Outlying Islands\": \"UM\",\n",
    "    \"U.S. Virgin Islands\": \"VI\",\n",
    "}\n",
    "abbrev_to_us_state = dict(map(reversed, us_state_to_abbrev.items()))\n",
    "\n",
    "# generate abbreviations for states\n",
    "school_shootings_by_state['state_abb'] = school_shootings_by_state['state'].apply(lambda x: us_state_to_abbrev[x])\n",
    "gun_ownership['state_abb'] = gun_ownership['STATE'].apply(lambda x: us_state_to_abbrev[x])\n",
    "# generate tooltip text\n",
    "gun_ownership['text'] = gun_ownership.apply(lambda row: f\"{row['STATE']} <br> Average % of households that own a gun: {round(row['average_ownership'],2)} %\", axis=1)"
   ]
  },
  {
   "cell_type": "code",
   "execution_count": 172,
   "metadata": {},
   "outputs": [
    {
     "data": {
      "application/vnd.plotly.v1+json": {
       "config": {
        "plotlyServerURL": "https://plot.ly"
       },
       "data": [
        {
         "colorscale": [
          [
           0,
           "rgb(0,0,255)"
          ],
          [
           1,
           "rgb(255,0,0)"
          ]
         ],
         "hoverinfo": "text",
         "locationmode": "USA-states",
         "locations": [
          "AL",
          "AK",
          "AZ",
          "AR",
          "CA",
          "CO",
          "CT",
          "DE",
          "FL",
          "GA",
          "HI",
          "ID",
          "IL",
          "IN",
          "IA",
          "KS",
          "KY",
          "LA",
          "ME",
          "MD",
          "MA",
          "MI",
          "MN",
          "MS",
          "MO",
          "MT",
          "NE",
          "NV",
          "NH",
          "NJ",
          "NM",
          "NY",
          "NC",
          "ND",
          "OH",
          "OK",
          "OR",
          "PA",
          "RI",
          "SC",
          "SD",
          "TN",
          "TX",
          "UT",
          "VT",
          "VA",
          "WA",
          "WV",
          "WI",
          "WY"
         ],
         "text": [
          "Alabama <br> Average % of households that own a gun: 55.49 %",
          "Alaska <br> Average % of households that own a gun: 64.51 %",
          "Arizona <br> Average % of households that own a gun: 46.26 %",
          "Arkansas <br> Average % of households that own a gun: 57.18 %",
          "California <br> Average % of households that own a gun: 28.32 %",
          "Colorado <br> Average % of households that own a gun: 45.12 %",
          "Connecticut <br> Average % of households that own a gun: 23.6 %",
          "Delaware <br> Average % of households that own a gun: 34.38 %",
          "Florida <br> Average % of households that own a gun: 35.34 %",
          "Georgia <br> Average % of households that own a gun: 49.24 %",
          "Hawaii <br> Average % of households that own a gun: 14.88 %",
          "Idaho <br> Average % of households that own a gun: 60.06 %",
          "Illinois <br> Average % of households that own a gun: 27.83 %",
          "Indiana <br> Average % of households that own a gun: 44.81 %",
          "Iowa <br> Average % of households that own a gun: 43.57 %",
          "Kansas <br> Average % of households that own a gun: 48.91 %",
          "Kentucky <br> Average % of households that own a gun: 54.6 %",
          "Louisiana <br> Average % of households that own a gun: 53.15 %",
          "Maine <br> Average % of households that own a gun: 46.83 %",
          "Maryland <br> Average % of households that own a gun: 30.18 %",
          "Massachusetts <br> Average % of households that own a gun: 14.65 %",
          "Michigan <br> Average % of households that own a gun: 40.23 %",
          "Minnesota <br> Average % of households that own a gun: 42.8 %",
          "Mississippi <br> Average % of households that own a gun: 55.8 %",
          "Missouri <br> Average % of households that own a gun: 48.75 %",
          "Montana <br> Average % of households that own a gun: 66.32 %",
          "Nebraska <br> Average % of households that own a gun: 45.19 %",
          "Nevada <br> Average % of households that own a gun: 47.27 %",
          "New Hampshire <br> Average % of households that own a gun: 41.07 %",
          "New Jersey <br> Average % of households that own a gun: 14.69 %",
          "New Mexico <br> Average % of households that own a gun: 46.19 %",
          "New York <br> Average % of households that own a gun: 19.88 %",
          "North Carolina <br> Average % of households that own a gun: 45.76 %",
          "North Dakota <br> Average % of households that own a gun: 55.09 %",
          "Ohio <br> Average % of households that own a gun: 40.03 %",
          "Oklahoma <br> Average % of households that own a gun: 54.7 %",
          "Oregon <br> Average % of households that own a gun: 50.81 %",
          "Pennsylvania <br> Average % of households that own a gun: 40.7 %",
          "Rhode Island <br> Average % of households that own a gun: 14.84 %",
          "South Carolina <br> Average % of households that own a gun: 49.36 %",
          "South Dakota <br> Average % of households that own a gun: 55.32 %",
          "Tennessee <br> Average % of households that own a gun: 51.6 %",
          "Texas <br> Average % of households that own a gun: 45.71 %",
          "Utah <br> Average % of households that own a gun: 46.75 %",
          "Vermont <br> Average % of households that own a gun: 50.51 %",
          "Virginia <br> Average % of households that own a gun: 44.63 %",
          "Washington <br> Average % of households that own a gun: 42.08 %",
          "West Virginia <br> Average % of households that own a gun: 58.51 %",
          "Wisconsin <br> Average % of households that own a gun: 45.3 %",
          "Wyoming <br> Average % of households that own a gun: 66.22 %"
         ],
         "type": "choropleth",
         "z": [
          55.48918918918918,
          64.5054054054054,
          46.26216216216216,
          57.18108108108109,
          28.324324324324323,
          45.118918918918915,
          23.5972972972973,
          34.37567567567568,
          35.340540540540545,
          49.24054054054054,
          14.878378378378379,
          60.05945945945946,
          27.82972972972973,
          44.810810810810814,
          43.57297297297297,
          48.913513513513514,
          54.597297297297295,
          53.148648648648646,
          46.832432432432434,
          30.18378378378378,
          14.654054054054052,
          40.229729729729726,
          42.7972972972973,
          55.7972972972973,
          48.75135135135135,
          66.31891891891892,
          45.189189189189186,
          47.27027027027027,
          41.07027027027027,
          14.694594594594596,
          46.189189189189186,
          19.87837837837838,
          45.762162162162156,
          55.08918918918919,
          40.02972972972973,
          54.6972972972973,
          50.813513513513506,
          40.6972972972973,
          14.84054054054054,
          49.35675675675676,
          55.316216216216205,
          51.60270270270271,
          45.70540540540541,
          46.751351351351346,
          50.50540540540541,
          44.627027027027026,
          42.078378378378375,
          58.508108108108104,
          45.3027027027027,
          66.22162162162162
         ]
        },
        {
         "hoverinfo": "skip",
         "locationmode": "USA-states",
         "locations": [
          "AL",
          "AK",
          "AZ",
          "AR",
          "CA",
          "CO",
          "CT",
          "DE",
          "DC",
          "FL",
          "GA",
          "HI",
          "ID",
          "IL",
          "IN",
          "IA",
          "KS",
          "KY",
          "LA",
          "MD",
          "MA",
          "MI",
          "MN",
          "MS",
          "MO",
          "MT",
          "NE",
          "NV",
          "NH",
          "NJ",
          "NM",
          "NY",
          "NC",
          "ND",
          "OH",
          "OK",
          "OR",
          "PA",
          "RI",
          "SC",
          "SD",
          "TN",
          "TX",
          "UT",
          "VA",
          "WA",
          "WI"
         ],
         "mode": "text",
         "text": [
          3,
          0,
          2,
          1,
          12,
          17,
          26,
          1,
          1,
          24,
          0,
          0,
          0,
          1,
          1,
          1,
          0,
          3,
          1,
          3,
          0,
          5,
          10,
          1,
          4,
          0,
          1,
          2,
          0,
          0,
          4,
          1,
          3,
          1,
          4,
          0,
          1,
          9,
          0,
          3,
          0,
          3,
          33,
          0,
          0,
          8,
          1
         ],
         "type": "scattergeo"
        }
       ],
       "layout": {
        "font": {
         "size": 8
        },
        "geo": {
         "projection": {
          "type": "albers usa"
         },
         "scope": "usa"
        },
        "template": {
         "data": {
          "bar": [
           {
            "error_x": {
             "color": "#2a3f5f"
            },
            "error_y": {
             "color": "#2a3f5f"
            },
            "marker": {
             "line": {
              "color": "#E5ECF6",
              "width": 0.5
             },
             "pattern": {
              "fillmode": "overlay",
              "size": 10,
              "solidity": 0.2
             }
            },
            "type": "bar"
           }
          ],
          "barpolar": [
           {
            "marker": {
             "line": {
              "color": "#E5ECF6",
              "width": 0.5
             },
             "pattern": {
              "fillmode": "overlay",
              "size": 10,
              "solidity": 0.2
             }
            },
            "type": "barpolar"
           }
          ],
          "carpet": [
           {
            "aaxis": {
             "endlinecolor": "#2a3f5f",
             "gridcolor": "white",
             "linecolor": "white",
             "minorgridcolor": "white",
             "startlinecolor": "#2a3f5f"
            },
            "baxis": {
             "endlinecolor": "#2a3f5f",
             "gridcolor": "white",
             "linecolor": "white",
             "minorgridcolor": "white",
             "startlinecolor": "#2a3f5f"
            },
            "type": "carpet"
           }
          ],
          "choropleth": [
           {
            "colorbar": {
             "outlinewidth": 0,
             "ticks": ""
            },
            "type": "choropleth"
           }
          ],
          "contour": [
           {
            "colorbar": {
             "outlinewidth": 0,
             "ticks": ""
            },
            "colorscale": [
             [
              0,
              "#0d0887"
             ],
             [
              0.1111111111111111,
              "#46039f"
             ],
             [
              0.2222222222222222,
              "#7201a8"
             ],
             [
              0.3333333333333333,
              "#9c179e"
             ],
             [
              0.4444444444444444,
              "#bd3786"
             ],
             [
              0.5555555555555556,
              "#d8576b"
             ],
             [
              0.6666666666666666,
              "#ed7953"
             ],
             [
              0.7777777777777778,
              "#fb9f3a"
             ],
             [
              0.8888888888888888,
              "#fdca26"
             ],
             [
              1,
              "#f0f921"
             ]
            ],
            "type": "contour"
           }
          ],
          "contourcarpet": [
           {
            "colorbar": {
             "outlinewidth": 0,
             "ticks": ""
            },
            "type": "contourcarpet"
           }
          ],
          "heatmap": [
           {
            "colorbar": {
             "outlinewidth": 0,
             "ticks": ""
            },
            "colorscale": [
             [
              0,
              "#0d0887"
             ],
             [
              0.1111111111111111,
              "#46039f"
             ],
             [
              0.2222222222222222,
              "#7201a8"
             ],
             [
              0.3333333333333333,
              "#9c179e"
             ],
             [
              0.4444444444444444,
              "#bd3786"
             ],
             [
              0.5555555555555556,
              "#d8576b"
             ],
             [
              0.6666666666666666,
              "#ed7953"
             ],
             [
              0.7777777777777778,
              "#fb9f3a"
             ],
             [
              0.8888888888888888,
              "#fdca26"
             ],
             [
              1,
              "#f0f921"
             ]
            ],
            "type": "heatmap"
           }
          ],
          "heatmapgl": [
           {
            "colorbar": {
             "outlinewidth": 0,
             "ticks": ""
            },
            "colorscale": [
             [
              0,
              "#0d0887"
             ],
             [
              0.1111111111111111,
              "#46039f"
             ],
             [
              0.2222222222222222,
              "#7201a8"
             ],
             [
              0.3333333333333333,
              "#9c179e"
             ],
             [
              0.4444444444444444,
              "#bd3786"
             ],
             [
              0.5555555555555556,
              "#d8576b"
             ],
             [
              0.6666666666666666,
              "#ed7953"
             ],
             [
              0.7777777777777778,
              "#fb9f3a"
             ],
             [
              0.8888888888888888,
              "#fdca26"
             ],
             [
              1,
              "#f0f921"
             ]
            ],
            "type": "heatmapgl"
           }
          ],
          "histogram": [
           {
            "marker": {
             "pattern": {
              "fillmode": "overlay",
              "size": 10,
              "solidity": 0.2
             }
            },
            "type": "histogram"
           }
          ],
          "histogram2d": [
           {
            "colorbar": {
             "outlinewidth": 0,
             "ticks": ""
            },
            "colorscale": [
             [
              0,
              "#0d0887"
             ],
             [
              0.1111111111111111,
              "#46039f"
             ],
             [
              0.2222222222222222,
              "#7201a8"
             ],
             [
              0.3333333333333333,
              "#9c179e"
             ],
             [
              0.4444444444444444,
              "#bd3786"
             ],
             [
              0.5555555555555556,
              "#d8576b"
             ],
             [
              0.6666666666666666,
              "#ed7953"
             ],
             [
              0.7777777777777778,
              "#fb9f3a"
             ],
             [
              0.8888888888888888,
              "#fdca26"
             ],
             [
              1,
              "#f0f921"
             ]
            ],
            "type": "histogram2d"
           }
          ],
          "histogram2dcontour": [
           {
            "colorbar": {
             "outlinewidth": 0,
             "ticks": ""
            },
            "colorscale": [
             [
              0,
              "#0d0887"
             ],
             [
              0.1111111111111111,
              "#46039f"
             ],
             [
              0.2222222222222222,
              "#7201a8"
             ],
             [
              0.3333333333333333,
              "#9c179e"
             ],
             [
              0.4444444444444444,
              "#bd3786"
             ],
             [
              0.5555555555555556,
              "#d8576b"
             ],
             [
              0.6666666666666666,
              "#ed7953"
             ],
             [
              0.7777777777777778,
              "#fb9f3a"
             ],
             [
              0.8888888888888888,
              "#fdca26"
             ],
             [
              1,
              "#f0f921"
             ]
            ],
            "type": "histogram2dcontour"
           }
          ],
          "mesh3d": [
           {
            "colorbar": {
             "outlinewidth": 0,
             "ticks": ""
            },
            "type": "mesh3d"
           }
          ],
          "parcoords": [
           {
            "line": {
             "colorbar": {
              "outlinewidth": 0,
              "ticks": ""
             }
            },
            "type": "parcoords"
           }
          ],
          "pie": [
           {
            "automargin": true,
            "type": "pie"
           }
          ],
          "scatter": [
           {
            "fillpattern": {
             "fillmode": "overlay",
             "size": 10,
             "solidity": 0.2
            },
            "type": "scatter"
           }
          ],
          "scatter3d": [
           {
            "line": {
             "colorbar": {
              "outlinewidth": 0,
              "ticks": ""
             }
            },
            "marker": {
             "colorbar": {
              "outlinewidth": 0,
              "ticks": ""
             }
            },
            "type": "scatter3d"
           }
          ],
          "scattercarpet": [
           {
            "marker": {
             "colorbar": {
              "outlinewidth": 0,
              "ticks": ""
             }
            },
            "type": "scattercarpet"
           }
          ],
          "scattergeo": [
           {
            "marker": {
             "colorbar": {
              "outlinewidth": 0,
              "ticks": ""
             }
            },
            "type": "scattergeo"
           }
          ],
          "scattergl": [
           {
            "marker": {
             "colorbar": {
              "outlinewidth": 0,
              "ticks": ""
             }
            },
            "type": "scattergl"
           }
          ],
          "scattermapbox": [
           {
            "marker": {
             "colorbar": {
              "outlinewidth": 0,
              "ticks": ""
             }
            },
            "type": "scattermapbox"
           }
          ],
          "scatterpolar": [
           {
            "marker": {
             "colorbar": {
              "outlinewidth": 0,
              "ticks": ""
             }
            },
            "type": "scatterpolar"
           }
          ],
          "scatterpolargl": [
           {
            "marker": {
             "colorbar": {
              "outlinewidth": 0,
              "ticks": ""
             }
            },
            "type": "scatterpolargl"
           }
          ],
          "scatterternary": [
           {
            "marker": {
             "colorbar": {
              "outlinewidth": 0,
              "ticks": ""
             }
            },
            "type": "scatterternary"
           }
          ],
          "surface": [
           {
            "colorbar": {
             "outlinewidth": 0,
             "ticks": ""
            },
            "colorscale": [
             [
              0,
              "#0d0887"
             ],
             [
              0.1111111111111111,
              "#46039f"
             ],
             [
              0.2222222222222222,
              "#7201a8"
             ],
             [
              0.3333333333333333,
              "#9c179e"
             ],
             [
              0.4444444444444444,
              "#bd3786"
             ],
             [
              0.5555555555555556,
              "#d8576b"
             ],
             [
              0.6666666666666666,
              "#ed7953"
             ],
             [
              0.7777777777777778,
              "#fb9f3a"
             ],
             [
              0.8888888888888888,
              "#fdca26"
             ],
             [
              1,
              "#f0f921"
             ]
            ],
            "type": "surface"
           }
          ],
          "table": [
           {
            "cells": {
             "fill": {
              "color": "#EBF0F8"
             },
             "line": {
              "color": "white"
             }
            },
            "header": {
             "fill": {
              "color": "#C8D4E3"
             },
             "line": {
              "color": "white"
             }
            },
            "type": "table"
           }
          ]
         },
         "layout": {
          "annotationdefaults": {
           "arrowcolor": "#2a3f5f",
           "arrowhead": 0,
           "arrowwidth": 1
          },
          "autotypenumbers": "strict",
          "coloraxis": {
           "colorbar": {
            "outlinewidth": 0,
            "ticks": ""
           }
          },
          "colorscale": {
           "diverging": [
            [
             0,
             "#8e0152"
            ],
            [
             0.1,
             "#c51b7d"
            ],
            [
             0.2,
             "#de77ae"
            ],
            [
             0.3,
             "#f1b6da"
            ],
            [
             0.4,
             "#fde0ef"
            ],
            [
             0.5,
             "#f7f7f7"
            ],
            [
             0.6,
             "#e6f5d0"
            ],
            [
             0.7,
             "#b8e186"
            ],
            [
             0.8,
             "#7fbc41"
            ],
            [
             0.9,
             "#4d9221"
            ],
            [
             1,
             "#276419"
            ]
           ],
           "sequential": [
            [
             0,
             "#0d0887"
            ],
            [
             0.1111111111111111,
             "#46039f"
            ],
            [
             0.2222222222222222,
             "#7201a8"
            ],
            [
             0.3333333333333333,
             "#9c179e"
            ],
            [
             0.4444444444444444,
             "#bd3786"
            ],
            [
             0.5555555555555556,
             "#d8576b"
            ],
            [
             0.6666666666666666,
             "#ed7953"
            ],
            [
             0.7777777777777778,
             "#fb9f3a"
            ],
            [
             0.8888888888888888,
             "#fdca26"
            ],
            [
             1,
             "#f0f921"
            ]
           ],
           "sequentialminus": [
            [
             0,
             "#0d0887"
            ],
            [
             0.1111111111111111,
             "#46039f"
            ],
            [
             0.2222222222222222,
             "#7201a8"
            ],
            [
             0.3333333333333333,
             "#9c179e"
            ],
            [
             0.4444444444444444,
             "#bd3786"
            ],
            [
             0.5555555555555556,
             "#d8576b"
            ],
            [
             0.6666666666666666,
             "#ed7953"
            ],
            [
             0.7777777777777778,
             "#fb9f3a"
            ],
            [
             0.8888888888888888,
             "#fdca26"
            ],
            [
             1,
             "#f0f921"
            ]
           ]
          },
          "colorway": [
           "#636efa",
           "#EF553B",
           "#00cc96",
           "#ab63fa",
           "#FFA15A",
           "#19d3f3",
           "#FF6692",
           "#B6E880",
           "#FF97FF",
           "#FECB52"
          ],
          "font": {
           "color": "#2a3f5f"
          },
          "geo": {
           "bgcolor": "white",
           "lakecolor": "white",
           "landcolor": "#E5ECF6",
           "showlakes": true,
           "showland": true,
           "subunitcolor": "white"
          },
          "hoverlabel": {
           "align": "left"
          },
          "hovermode": "closest",
          "mapbox": {
           "style": "light"
          },
          "paper_bgcolor": "white",
          "plot_bgcolor": "#E5ECF6",
          "polar": {
           "angularaxis": {
            "gridcolor": "white",
            "linecolor": "white",
            "ticks": ""
           },
           "bgcolor": "#E5ECF6",
           "radialaxis": {
            "gridcolor": "white",
            "linecolor": "white",
            "ticks": ""
           }
          },
          "scene": {
           "xaxis": {
            "backgroundcolor": "#E5ECF6",
            "gridcolor": "white",
            "gridwidth": 2,
            "linecolor": "white",
            "showbackground": true,
            "ticks": "",
            "zerolinecolor": "white"
           },
           "yaxis": {
            "backgroundcolor": "#E5ECF6",
            "gridcolor": "white",
            "gridwidth": 2,
            "linecolor": "white",
            "showbackground": true,
            "ticks": "",
            "zerolinecolor": "white"
           },
           "zaxis": {
            "backgroundcolor": "#E5ECF6",
            "gridcolor": "white",
            "gridwidth": 2,
            "linecolor": "white",
            "showbackground": true,
            "ticks": "",
            "zerolinecolor": "white"
           }
          },
          "shapedefaults": {
           "line": {
            "color": "#2a3f5f"
           }
          },
          "ternary": {
           "aaxis": {
            "gridcolor": "white",
            "linecolor": "white",
            "ticks": ""
           },
           "baxis": {
            "gridcolor": "white",
            "linecolor": "white",
            "ticks": ""
           },
           "bgcolor": "#E5ECF6",
           "caxis": {
            "gridcolor": "white",
            "linecolor": "white",
            "ticks": ""
           }
          },
          "title": {
           "x": 0.05
          },
          "xaxis": {
           "automargin": true,
           "gridcolor": "white",
           "linecolor": "white",
           "ticks": "",
           "title": {
            "standoff": 15
           },
           "zerolinecolor": "white",
           "zerolinewidth": 2
          },
          "yaxis": {
           "automargin": true,
           "gridcolor": "white",
           "linecolor": "white",
           "ticks": "",
           "title": {
            "standoff": 15
           },
           "zerolinecolor": "white",
           "zerolinewidth": 2
          }
         }
        }
       }
      }
     },
     "metadata": {},
     "output_type": "display_data"
    }
   ],
   "source": [
    "layout = dict(font=dict(size=8), geo=dict(scope=\"usa\", projection=dict(type=\"albers usa\")))\n",
    "data = []\n",
    "\n",
    "data.append(go.Choropleth(locations=gun_ownership['state_abb'], z=gun_ownership['average_ownership'], locationmode=\"USA-states\", colorscale=\"bluered\", text=gun_ownership[\"text\"], hoverinfo='text'))\n",
    "data.append(go.Scattergeo(locations=school_shootings_by_state['state_abb'], text=school_shootings_by_state['killed'], locationmode=\"USA-states\", mode=\"text\", hoverinfo='skip'))\n",
    "\n",
    "fig = go.Figure(data=data, layout=layout)\n",
    "fig.show()"
   ]
  },
  {
   "cell_type": "code",
   "execution_count": null,
   "metadata": {},
   "outputs": [],
   "source": [
    "# test\n",
    "choropleth = px.choropleth_mapbox(gun_ownership, geojson=us_state_map, locations='STATE', featureidkey='properties.name', color='average_ownership',\n",
    "                           color_continuous_scale=\"Viridis\",\n",
    "                           range_color=(0, 100),\n",
    "                           zoom=2.5, center = {\"lat\": 37.770722, \"lon\": -90.425583},\n",
    "                           mapbox_style=\"carto-positron\",\n",
    "                           opacity=0.7,\n",
    "                           labels={'average_ownership':'Average % of gun ownership in household', \"STATE\": \"State\"}\n",
    "                          )\n",
    "killed = px.scatter_mapbox(school_shootings_by_state, geojson=us_state_map, locations='state', featureidkey='properties.name', text=school_shootings_by_state['killed'])\n",
    "fig = go.Figure(data=choropleth)\n",
    "# fig.append_trace(\n",
    "#     px.scatter_geo(school_shootings_by_state, geojson=us_state_map, locations='state', featureidkey='properties.name', text=school_shootings_by_state['killed']), 1, 1\n",
    "# )\n",
    "fig.update_layout(margin={\"r\":0,\"t\":0,\"l\":0,\"b\":0})\n",
    "fig.show()"
   ]
  }
 ],
 "metadata": {
  "kernelspec": {
   "display_name": "Python 3.10.0 64-bit",
   "language": "python",
   "name": "python3"
  },
  "language_info": {
   "codemirror_mode": {
    "name": "ipython",
    "version": 3
   },
   "file_extension": ".py",
   "mimetype": "text/x-python",
   "name": "python",
   "nbconvert_exporter": "python",
   "pygments_lexer": "ipython3",
   "version": "3.10.0"
  },
  "orig_nbformat": 4,
  "vscode": {
   "interpreter": {
    "hash": "522d2784befa186e8221d5dd489e621670897cb098e08463098cf898111202eb"
   }
  }
 },
 "nbformat": 4,
 "nbformat_minor": 2
}
