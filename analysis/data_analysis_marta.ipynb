{
 "cells": [
  {
   "cell_type": "code",
   "execution_count": 109,
   "metadata": {},
   "outputs": [],
   "source": [
    "import pandas as pd\n",
    "import numpy as np\n",
    "import datetime\n",
    "import math\n",
    "import calendar\n",
    "\n",
    "import folium\n",
    "\n",
    "import matplotlib.pyplot as plt\n",
    "import matplotlib as mpl\n",
    "import plotly\n",
    "import plotly.express as px\n",
    "import plotly.graph_objects as go\n",
    "from plotly.subplots import make_subplots\n",
    "\n",
    "import geojson\n",
    "%matplotlib inline"
   ]
  },
  {
   "cell_type": "code",
   "execution_count": 110,
   "metadata": {},
   "outputs": [],
   "source": [
    "html_path = '../docs/assets/htmls/'\n",
    "image_path = '../docs/assets/imgs/'"
   ]
  },
  {
   "cell_type": "code",
   "execution_count": 111,
   "metadata": {},
   "outputs": [],
   "source": [
    "def convert_timestring_to_time(date_string):\n",
    "    if date_string is np.nan:\n",
    "        return date_string\n",
    "    idx = date_string.find('M')\n",
    "    if( idx ==-1):\n",
    "        return datetime.datetime.strptime(date_string, '%H:%M')\n",
    "    idx -=2\n",
    "    if date_string[idx] == ' ':\n",
    "        return datetime.datetime.strptime(date_string, '%I:%M %p')\n",
    "    return datetime.datetime.strptime(date_string, '%I:%M%p')"
   ]
  },
  {
   "cell_type": "code",
   "execution_count": 112,
   "metadata": {},
   "outputs": [],
   "source": [
    "df = pd.read_csv(\"../../school-shootings-data.csv\")\n",
    "df['time'] = df['time'].apply(lambda x: convert_timestring_to_time(x))\n",
    "df['date'] = pd.to_datetime(df['date'], format='%m/%d/%Y')"
   ]
  },
  {
   "cell_type": "code",
   "execution_count": 113,
   "metadata": {},
   "outputs": [],
   "source": [
    "df = df[df['long'].notna()]\n",
    "df.reset_index(drop=True, inplace=True)"
   ]
  },
  {
   "cell_type": "markdown",
   "metadata": {},
   "source": [
    "# Aggregate by time"
   ]
  },
  {
   "cell_type": "code",
   "execution_count": 7,
   "metadata": {},
   "outputs": [
    {
     "data": {
      "text/plain": [
       "'../docs/assets/htmls/shootings_hour.html'"
      ]
     },
     "execution_count": 7,
     "metadata": {},
     "output_type": "execute_result"
    }
   ],
   "source": [
    "# hour\n",
    "df['hour'] = df['time'].dt.hour\n",
    "shootings_per_hour = df.loc[:, ['hour']]\n",
    "shootings_per_hour = shootings_per_hour.groupby(['hour']).aggregate(count=('hour', 'count')).reset_index()\n",
    "fig = px.bar(shootings_per_hour, x=\"hour\", y=\"count\", height=400)\n",
    "fig.update_traces(hovertemplate='Hour: %{x} <br> Incidents: %{y}')\n",
    "fig.update_layout(legend_title=\"Incidents\", \n",
    "                    xaxis_range=[0,23],\n",
    "                    xaxis = dict(\n",
    "                    tickmode = 'linear',\n",
    "                    tick0 = 0,\n",
    "                    dtick = 1\n",
    "                ),\n",
    "                    xaxis_title=\"Hour\", \n",
    "                    yaxis_title=\"Count\")\n",
    "\n",
    "plotly.offline.plot(fig, filename=html_path+\"shootings_hour.html\")"
   ]
  },
  {
   "cell_type": "code",
   "execution_count": 9,
   "metadata": {},
   "outputs": [
    {
     "data": {
      "text/plain": [
       "'../docs/assets/htmls/shootings_month.html'"
      ]
     },
     "execution_count": 9,
     "metadata": {},
     "output_type": "execute_result"
    }
   ],
   "source": [
    "# month\n",
    "df['month'] = df['date'].dt.month\n",
    "shootings_per_month = df.loc[:, ['month']]\n",
    "shootings_per_month = shootings_per_month.groupby(['month']).aggregate(count=('month', 'count')).reset_index()\n",
    "fig = px.bar(shootings_per_month, x=\"month\", y=\"count\", height=400)\n",
    "fig.update_traces(hovertemplate='Month: %{x} <br> Incidents: %{y}')\n",
    "fig.update_layout(legend_title=\"Incidents\", \n",
    "                    xaxis = dict(\n",
    "                    tickmode = 'linear',\n",
    "                    tick0 = 1,\n",
    "                    dtick = 1\n",
    "                ),\n",
    "                    xaxis_title=\"Month\", \n",
    "                    yaxis_title=\"Count\")\n",
    "\n",
    "plotly.offline.plot(fig, filename=html_path+\"shootings_month.html\")"
   ]
  },
  {
   "cell_type": "code",
   "execution_count": 11,
   "metadata": {},
   "outputs": [
    {
     "data": {
      "text/plain": [
       "'../docs/assets/htmls/shootings_weekday.html'"
      ]
     },
     "execution_count": 11,
     "metadata": {},
     "output_type": "execute_result"
    }
   ],
   "source": [
    "# weekday\n",
    "cat = ['Monday', 'Tuesday', 'Wednesday', 'Thursday', 'Friday', 'Saturday', 'Sunday']\n",
    "shootings_per_weekday = df.loc[:, ['day_of_week']]\n",
    "shootings_per_weekday = shootings_per_weekday.groupby(['day_of_week']).aggregate(count=('day_of_week', 'count')).reindex(cat)\n",
    "shootings_per_weekday['weekday'] = shootings_per_weekday.index\n",
    "\n",
    "fig = px.bar(shootings_per_weekday, x=\"weekday\", y=\"count\", height=400)\n",
    "fig.update_traces(hovertemplate='Weekday: %{x} <br> Incidents: %{y}')\n",
    "fig.update_layout(  xaxis_title=\"Weekday\", \n",
    "                    yaxis_title=\"Count\")\n",
    "plotly.offline.plot(fig, filename=html_path+\"shootings_weekday.html\")"
   ]
  },
  {
   "cell_type": "markdown",
   "metadata": {},
   "source": [
    "# Shooter characteristic"
   ]
  },
  {
   "cell_type": "code",
   "execution_count": 5,
   "metadata": {},
   "outputs": [],
   "source": [
    "races= {'a': 'Asian', 'ai':'American Indian','b':'Black','h':'Hispanic','w':'White'}\n",
    "def assign_race(race):\n",
    "    if race is np.nan:\n",
    "        return \"Not known\"\n",
    "    if race in races:\n",
    "        return races[race]\n",
    "    return \"Not known\""
   ]
  },
  {
   "cell_type": "code",
   "execution_count": 6,
   "metadata": {},
   "outputs": [
    {
     "data": {
      "text/html": [
       "<div>\n",
       "<style scoped>\n",
       "    .dataframe tbody tr th:only-of-type {\n",
       "        vertical-align: middle;\n",
       "    }\n",
       "\n",
       "    .dataframe tbody tr th {\n",
       "        vertical-align: top;\n",
       "    }\n",
       "\n",
       "    .dataframe thead th {\n",
       "        text-align: right;\n",
       "    }\n",
       "</style>\n",
       "<table border=\"1\" class=\"dataframe\">\n",
       "  <thead>\n",
       "    <tr style=\"text-align: right;\">\n",
       "      <th>race_ethnicity_shooter</th>\n",
       "      <th>age_shooter1</th>\n",
       "      <th>Black</th>\n",
       "      <th>Not known</th>\n",
       "      <th>White</th>\n",
       "    </tr>\n",
       "  </thead>\n",
       "  <tbody>\n",
       "    <tr>\n",
       "      <th>0</th>\n",
       "      <td>12</td>\n",
       "      <td>0.0</td>\n",
       "      <td>1.0</td>\n",
       "      <td>0.0</td>\n",
       "    </tr>\n",
       "    <tr>\n",
       "      <th>1</th>\n",
       "      <td>14</td>\n",
       "      <td>0.0</td>\n",
       "      <td>1.0</td>\n",
       "      <td>1.0</td>\n",
       "    </tr>\n",
       "    <tr>\n",
       "      <th>2</th>\n",
       "      <td>15</td>\n",
       "      <td>1.0</td>\n",
       "      <td>1.0</td>\n",
       "      <td>0.0</td>\n",
       "    </tr>\n",
       "    <tr>\n",
       "      <th>3</th>\n",
       "      <td>22</td>\n",
       "      <td>1.0</td>\n",
       "      <td>0.0</td>\n",
       "      <td>0.0</td>\n",
       "    </tr>\n",
       "    <tr>\n",
       "      <th>4</th>\n",
       "      <td>28</td>\n",
       "      <td>0.0</td>\n",
       "      <td>2.0</td>\n",
       "      <td>0.0</td>\n",
       "    </tr>\n",
       "    <tr>\n",
       "      <th>5</th>\n",
       "      <td>30</td>\n",
       "      <td>0.0</td>\n",
       "      <td>0.0</td>\n",
       "      <td>1.0</td>\n",
       "    </tr>\n",
       "    <tr>\n",
       "      <th>6</th>\n",
       "      <td>33</td>\n",
       "      <td>0.0</td>\n",
       "      <td>1.0</td>\n",
       "      <td>0.0</td>\n",
       "    </tr>\n",
       "  </tbody>\n",
       "</table>\n",
       "</div>"
      ],
      "text/plain": [
       "race_ethnicity_shooter  age_shooter1  Black  Not known  White\n",
       "0                                 12    0.0        1.0    0.0\n",
       "1                                 14    0.0        1.0    1.0\n",
       "2                                 15    1.0        1.0    0.0\n",
       "3                                 22    1.0        0.0    0.0\n",
       "4                                 28    0.0        2.0    0.0\n",
       "5                                 30    0.0        0.0    1.0\n",
       "6                                 33    0.0        1.0    0.0"
      ]
     },
     "execution_count": 6,
     "metadata": {},
     "output_type": "execute_result"
    }
   ],
   "source": [
    "df['gender_shooter1'].isna().sum()\n",
    "# assign race from dictionary\n",
    "df['race_ethnicity_shooter'] = df['race_ethnicity_shooter1'].apply(lambda x: assign_race(x))\n",
    "# reove cells where age of the shooter was not known\n",
    "df = df[df['age_shooter1'].notna()]\n",
    "# convert age to int\n",
    "df['age_shooter1'] = df['age_shooter1'].astype(int)\n",
    "# separate data for men and women\n",
    "women = df[df['gender_shooter1'] == 'f']\n",
    "men = df[df['gender_shooter1'] == 'm']\n",
    "# aggregate women\n",
    "women_ethnicity = women.loc[:,['age_shooter1','race_ethnicity_shooter']].value_counts(dropna=False).unstack() \n",
    "women_ethnicity = women_ethnicity.fillna(0)\n",
    "women_ethnicity = women_ethnicity.reset_index()\n",
    "#aggregate men\n",
    "men_ethnicity = men.loc[:,['age_shooter1','race_ethnicity_shooter']].value_counts(dropna=False).unstack() \n",
    "men_ethnicity = men_ethnicity.fillna(0)\n",
    "men_ethnicity = men_ethnicity.reset_index()"
   ]
  },
  {
   "cell_type": "code",
   "execution_count": 46,
   "metadata": {},
   "outputs": [],
   "source": [
    "marker_color = {\n",
    "    \"Black\":\"#fd7f6f\",\n",
    "    \"Not known\":\"#7eb0d5\",\n",
    "    \"White\": \"#b2e061\",\n",
    "    \"Hispanic\":\"#bd7ebe\",\n",
    "    \"American Indian\":\"#ffb55a\",\n",
    "    \"Asian\": \"#ffee65\",\n",
    "}"
   ]
  },
  {
   "cell_type": "code",
   "execution_count": 108,
   "metadata": {},
   "outputs": [
    {
     "data": {
      "application/vnd.plotly.v1+json": {
       "config": {
        "plotlyServerURL": "https://plot.ly"
       },
       "data": [
        {
         "base": [
          0,
          0,
          0,
          0,
          0,
          0,
          0
         ],
         "hovertemplate": [
          "Ethinicity: Black<br>Count: 0<br>Age: 12",
          "Ethinicity: Black<br>Count: 0<br>Age: 14",
          "Ethinicity: Black<br>Count: 1<br>Age: 15",
          "Ethinicity: Black<br>Count: 1<br>Age: 22",
          "Ethinicity: Black<br>Count: 0<br>Age: 28",
          "Ethinicity: Black<br>Count: 0<br>Age: 30",
          "Ethinicity: Black<br>Count: 0<br>Age: 33"
         ],
         "marker": {
          "color": "#fd7f6f"
         },
         "name": "Ethincity Black",
         "offsetgroup": "0",
         "orientation": "h",
         "showlegend": false,
         "type": "bar",
         "width": 0.7,
         "x": [
          0,
          0,
          1,
          1,
          0,
          0,
          0
         ],
         "xaxis": "x",
         "y": [
          12,
          14,
          15,
          22,
          28,
          30,
          33
         ],
         "yaxis": "y"
        },
        {
         "base": [
          0,
          0,
          1,
          1,
          0,
          0,
          0
         ],
         "hovertemplate": [
          "Ethinicity: Not known<br>Count: 1<br>Age: 12",
          "Ethinicity: Not known<br>Count: 1<br>Age: 14",
          "Ethinicity: Not known<br>Count: 1<br>Age: 15",
          "Ethinicity: Not known<br>Count: 0<br>Age: 22",
          "Ethinicity: Not known<br>Count: 2<br>Age: 28",
          "Ethinicity: Not known<br>Count: 0<br>Age: 30",
          "Ethinicity: Not known<br>Count: 1<br>Age: 33"
         ],
         "marker": {
          "color": "#7eb0d5"
         },
         "name": "Ethincity Not known",
         "offsetgroup": "0",
         "orientation": "h",
         "showlegend": false,
         "type": "bar",
         "width": 0.7,
         "x": [
          1,
          1,
          1,
          0,
          2,
          0,
          1
         ],
         "xaxis": "x",
         "y": [
          12,
          14,
          15,
          22,
          28,
          30,
          33
         ],
         "yaxis": "y"
        },
        {
         "base": [
          1,
          1,
          2,
          1,
          2,
          0,
          1
         ],
         "hovertemplate": [
          "Ethinicity: White<br>Count: 0<br>Age: 12",
          "Ethinicity: White<br>Count: 1<br>Age: 14",
          "Ethinicity: White<br>Count: 0<br>Age: 15",
          "Ethinicity: White<br>Count: 0<br>Age: 22",
          "Ethinicity: White<br>Count: 0<br>Age: 28",
          "Ethinicity: White<br>Count: 1<br>Age: 30",
          "Ethinicity: White<br>Count: 0<br>Age: 33"
         ],
         "marker": {
          "color": "#b2e061"
         },
         "name": "Ethincity White",
         "offsetgroup": "0",
         "orientation": "h",
         "showlegend": false,
         "type": "bar",
         "width": 0.7,
         "x": [
          0,
          1,
          0,
          0,
          0,
          1,
          0
         ],
         "xaxis": "x",
         "y": [
          12,
          14,
          15,
          22,
          28,
          30,
          33
         ],
         "yaxis": "y"
        },
        {
         "base": [
          0,
          0,
          0,
          0,
          0,
          0,
          0,
          0,
          0,
          0,
          0,
          0,
          0,
          0,
          0,
          0,
          0,
          0,
          0,
          0,
          0,
          0,
          0,
          0,
          0,
          0,
          0,
          0,
          0,
          0,
          0,
          0,
          0,
          0,
          0,
          0,
          0,
          0,
          0,
          0
         ],
         "hovertemplate": [
          "Ethinicity: American Indian<br>Count: 0<br>Age: 6",
          "Ethinicity: American Indian<br>Count: 0<br>Age: 7",
          "Ethinicity: American Indian<br>Count: 0<br>Age: 8",
          "Ethinicity: American Indian<br>Count: 0<br>Age: 9",
          "Ethinicity: American Indian<br>Count: 0<br>Age: 11",
          "Ethinicity: American Indian<br>Count: 0<br>Age: 12",
          "Ethinicity: American Indian<br>Count: 1<br>Age: 13",
          "Ethinicity: American Indian<br>Count: 0<br>Age: 14",
          "Ethinicity: American Indian<br>Count: 0<br>Age: 15",
          "Ethinicity: American Indian<br>Count: 1<br>Age: 16",
          "Ethinicity: American Indian<br>Count: 0<br>Age: 17",
          "Ethinicity: American Indian<br>Count: 0<br>Age: 18",
          "Ethinicity: American Indian<br>Count: 0<br>Age: 19",
          "Ethinicity: American Indian<br>Count: 0<br>Age: 20",
          "Ethinicity: American Indian<br>Count: 0<br>Age: 21",
          "Ethinicity: American Indian<br>Count: 0<br>Age: 22",
          "Ethinicity: American Indian<br>Count: 0<br>Age: 23",
          "Ethinicity: American Indian<br>Count: 0<br>Age: 24",
          "Ethinicity: American Indian<br>Count: 0<br>Age: 25",
          "Ethinicity: American Indian<br>Count: 0<br>Age: 26",
          "Ethinicity: American Indian<br>Count: 0<br>Age: 27",
          "Ethinicity: American Indian<br>Count: 0<br>Age: 28",
          "Ethinicity: American Indian<br>Count: 0<br>Age: 29",
          "Ethinicity: American Indian<br>Count: 0<br>Age: 30",
          "Ethinicity: American Indian<br>Count: 0<br>Age: 32",
          "Ethinicity: American Indian<br>Count: 0<br>Age: 34",
          "Ethinicity: American Indian<br>Count: 0<br>Age: 38",
          "Ethinicity: American Indian<br>Count: 0<br>Age: 39",
          "Ethinicity: American Indian<br>Count: 0<br>Age: 41",
          "Ethinicity: American Indian<br>Count: 0<br>Age: 42",
          "Ethinicity: American Indian<br>Count: 0<br>Age: 44",
          "Ethinicity: American Indian<br>Count: 0<br>Age: 45",
          "Ethinicity: American Indian<br>Count: 0<br>Age: 47",
          "Ethinicity: American Indian<br>Count: 0<br>Age: 48",
          "Ethinicity: American Indian<br>Count: 0<br>Age: 49",
          "Ethinicity: American Indian<br>Count: 0<br>Age: 50",
          "Ethinicity: American Indian<br>Count: 0<br>Age: 53",
          "Ethinicity: American Indian<br>Count: 0<br>Age: 55",
          "Ethinicity: American Indian<br>Count: 0<br>Age: 56",
          "Ethinicity: American Indian<br>Count: 0<br>Age: 72"
         ],
         "marker": {
          "color": "#ffb55a"
         },
         "name": "Ethincity American Indian",
         "offsetgroup": "1",
         "orientation": "h",
         "showlegend": false,
         "type": "bar",
         "width": 0.7,
         "x": [
          0,
          0,
          0,
          0,
          0,
          0,
          1,
          0,
          0,
          1,
          0,
          0,
          0,
          0,
          0,
          0,
          0,
          0,
          0,
          0,
          0,
          0,
          0,
          0,
          0,
          0,
          0,
          0,
          0,
          0,
          0,
          0,
          0,
          0,
          0,
          0,
          0,
          0,
          0,
          0
         ],
         "xaxis": "x2",
         "y": [
          6,
          7,
          8,
          9,
          11,
          12,
          13,
          14,
          15,
          16,
          17,
          18,
          19,
          20,
          21,
          22,
          23,
          24,
          25,
          26,
          27,
          28,
          29,
          30,
          32,
          34,
          38,
          39,
          41,
          42,
          44,
          45,
          47,
          48,
          49,
          50,
          53,
          55,
          56,
          72
         ],
         "yaxis": "y2"
        },
        {
         "base": [
          0,
          0,
          0,
          0,
          0,
          0,
          1,
          0,
          0,
          1,
          0,
          0,
          0,
          0,
          0,
          0,
          0,
          0,
          0,
          0,
          0,
          0,
          0,
          0,
          0,
          0,
          0,
          0,
          0,
          0,
          0,
          0,
          0,
          0,
          0,
          0,
          0,
          0,
          0,
          0
         ],
         "hovertemplate": [
          "Ethinicity: Asian<br>Count: 0<br>Age: 6",
          "Ethinicity: Asian<br>Count: 0<br>Age: 7",
          "Ethinicity: Asian<br>Count: 0<br>Age: 8",
          "Ethinicity: Asian<br>Count: 0<br>Age: 9",
          "Ethinicity: Asian<br>Count: 0<br>Age: 11",
          "Ethinicity: Asian<br>Count: 0<br>Age: 12",
          "Ethinicity: Asian<br>Count: 0<br>Age: 13",
          "Ethinicity: Asian<br>Count: 1<br>Age: 14",
          "Ethinicity: Asian<br>Count: 0<br>Age: 15",
          "Ethinicity: Asian<br>Count: 0<br>Age: 16",
          "Ethinicity: Asian<br>Count: 0<br>Age: 17",
          "Ethinicity: Asian<br>Count: 0<br>Age: 18",
          "Ethinicity: Asian<br>Count: 0<br>Age: 19",
          "Ethinicity: Asian<br>Count: 0<br>Age: 20",
          "Ethinicity: Asian<br>Count: 0<br>Age: 21",
          "Ethinicity: Asian<br>Count: 0<br>Age: 22",
          "Ethinicity: Asian<br>Count: 0<br>Age: 23",
          "Ethinicity: Asian<br>Count: 0<br>Age: 24",
          "Ethinicity: Asian<br>Count: 0<br>Age: 25",
          "Ethinicity: Asian<br>Count: 0<br>Age: 26",
          "Ethinicity: Asian<br>Count: 0<br>Age: 27",
          "Ethinicity: Asian<br>Count: 0<br>Age: 28",
          "Ethinicity: Asian<br>Count: 0<br>Age: 29",
          "Ethinicity: Asian<br>Count: 0<br>Age: 30",
          "Ethinicity: Asian<br>Count: 0<br>Age: 32",
          "Ethinicity: Asian<br>Count: 0<br>Age: 34",
          "Ethinicity: Asian<br>Count: 0<br>Age: 38",
          "Ethinicity: Asian<br>Count: 0<br>Age: 39",
          "Ethinicity: Asian<br>Count: 0<br>Age: 41",
          "Ethinicity: Asian<br>Count: 0<br>Age: 42",
          "Ethinicity: Asian<br>Count: 0<br>Age: 44",
          "Ethinicity: Asian<br>Count: 0<br>Age: 45",
          "Ethinicity: Asian<br>Count: 0<br>Age: 47",
          "Ethinicity: Asian<br>Count: 0<br>Age: 48",
          "Ethinicity: Asian<br>Count: 0<br>Age: 49",
          "Ethinicity: Asian<br>Count: 0<br>Age: 50",
          "Ethinicity: Asian<br>Count: 0<br>Age: 53",
          "Ethinicity: Asian<br>Count: 0<br>Age: 55",
          "Ethinicity: Asian<br>Count: 0<br>Age: 56",
          "Ethinicity: Asian<br>Count: 0<br>Age: 72"
         ],
         "marker": {
          "color": "#ffee65"
         },
         "name": "Ethincity Asian",
         "offsetgroup": "1",
         "orientation": "h",
         "showlegend": false,
         "type": "bar",
         "width": 0.7,
         "x": [
          0,
          0,
          0,
          0,
          0,
          0,
          0,
          1,
          0,
          0,
          0,
          0,
          0,
          0,
          0,
          0,
          0,
          0,
          0,
          0,
          0,
          0,
          0,
          0,
          0,
          0,
          0,
          0,
          0,
          0,
          0,
          0,
          0,
          0,
          0,
          0,
          0,
          0,
          0,
          0
         ],
         "xaxis": "x2",
         "y": [
          6,
          7,
          8,
          9,
          11,
          12,
          13,
          14,
          15,
          16,
          17,
          18,
          19,
          20,
          21,
          22,
          23,
          24,
          25,
          26,
          27,
          28,
          29,
          30,
          32,
          34,
          38,
          39,
          41,
          42,
          44,
          45,
          47,
          48,
          49,
          50,
          53,
          55,
          56,
          72
         ],
         "yaxis": "y2"
        },
        {
         "base": [
          0,
          0,
          0,
          0,
          0,
          0,
          1,
          1,
          0,
          1,
          0,
          0,
          0,
          0,
          0,
          0,
          0,
          0,
          0,
          0,
          0,
          0,
          0,
          0,
          0,
          0,
          0,
          0,
          0,
          0,
          0,
          0,
          0,
          0,
          0,
          0,
          0,
          0,
          0,
          0
         ],
         "hovertemplate": [
          "Ethinicity: Black<br>Count: 1<br>Age: 6",
          "Ethinicity: Black<br>Count: 0<br>Age: 7",
          "Ethinicity: Black<br>Count: 0<br>Age: 8",
          "Ethinicity: Black<br>Count: 0<br>Age: 9",
          "Ethinicity: Black<br>Count: 0<br>Age: 11",
          "Ethinicity: Black<br>Count: 0<br>Age: 12",
          "Ethinicity: Black<br>Count: 1<br>Age: 13",
          "Ethinicity: Black<br>Count: 0<br>Age: 14",
          "Ethinicity: Black<br>Count: 7<br>Age: 15",
          "Ethinicity: Black<br>Count: 11<br>Age: 16",
          "Ethinicity: Black<br>Count: 9<br>Age: 17",
          "Ethinicity: Black<br>Count: 6<br>Age: 18",
          "Ethinicity: Black<br>Count: 4<br>Age: 19",
          "Ethinicity: Black<br>Count: 1<br>Age: 20",
          "Ethinicity: Black<br>Count: 2<br>Age: 21",
          "Ethinicity: Black<br>Count: 0<br>Age: 22",
          "Ethinicity: Black<br>Count: 0<br>Age: 23",
          "Ethinicity: Black<br>Count: 1<br>Age: 24",
          "Ethinicity: Black<br>Count: 0<br>Age: 25",
          "Ethinicity: Black<br>Count: 1<br>Age: 26",
          "Ethinicity: Black<br>Count: 0<br>Age: 27",
          "Ethinicity: Black<br>Count: 1<br>Age: 28",
          "Ethinicity: Black<br>Count: 1<br>Age: 29",
          "Ethinicity: Black<br>Count: 0<br>Age: 30",
          "Ethinicity: Black<br>Count: 0<br>Age: 32",
          "Ethinicity: Black<br>Count: 1<br>Age: 34",
          "Ethinicity: Black<br>Count: 1<br>Age: 38",
          "Ethinicity: Black<br>Count: 0<br>Age: 39",
          "Ethinicity: Black<br>Count: 0<br>Age: 41",
          "Ethinicity: Black<br>Count: 1<br>Age: 42",
          "Ethinicity: Black<br>Count: 0<br>Age: 44",
          "Ethinicity: Black<br>Count: 0<br>Age: 45",
          "Ethinicity: Black<br>Count: 1<br>Age: 47",
          "Ethinicity: Black<br>Count: 0<br>Age: 48",
          "Ethinicity: Black<br>Count: 0<br>Age: 49",
          "Ethinicity: Black<br>Count: 0<br>Age: 50",
          "Ethinicity: Black<br>Count: 1<br>Age: 53",
          "Ethinicity: Black<br>Count: 1<br>Age: 55",
          "Ethinicity: Black<br>Count: 0<br>Age: 56",
          "Ethinicity: Black<br>Count: 0<br>Age: 72"
         ],
         "marker": {
          "color": "#fd7f6f"
         },
         "name": "Ethincity Black",
         "offsetgroup": "1",
         "orientation": "h",
         "showlegend": false,
         "type": "bar",
         "width": 0.7,
         "x": [
          1,
          0,
          0,
          0,
          0,
          0,
          1,
          0,
          7,
          11,
          9,
          6,
          4,
          1,
          2,
          0,
          0,
          1,
          0,
          1,
          0,
          1,
          1,
          0,
          0,
          1,
          1,
          0,
          0,
          1,
          0,
          0,
          1,
          0,
          0,
          0,
          1,
          1,
          0,
          0
         ],
         "xaxis": "x2",
         "y": [
          6,
          7,
          8,
          9,
          11,
          12,
          13,
          14,
          15,
          16,
          17,
          18,
          19,
          20,
          21,
          22,
          23,
          24,
          25,
          26,
          27,
          28,
          29,
          30,
          32,
          34,
          38,
          39,
          41,
          42,
          44,
          45,
          47,
          48,
          49,
          50,
          53,
          55,
          56,
          72
         ],
         "yaxis": "y2"
        },
        {
         "base": [
          1,
          0,
          0,
          0,
          0,
          0,
          2,
          1,
          7,
          12,
          9,
          6,
          4,
          1,
          2,
          0,
          0,
          1,
          0,
          1,
          0,
          1,
          1,
          0,
          0,
          1,
          1,
          0,
          0,
          1,
          0,
          0,
          1,
          0,
          0,
          0,
          1,
          1,
          0,
          0
         ],
         "hovertemplate": [
          "Ethinicity: Hispanic<br>Count: 0<br>Age: 6",
          "Ethinicity: Hispanic<br>Count: 0<br>Age: 7",
          "Ethinicity: Hispanic<br>Count: 0<br>Age: 8",
          "Ethinicity: Hispanic<br>Count: 0<br>Age: 9",
          "Ethinicity: Hispanic<br>Count: 0<br>Age: 11",
          "Ethinicity: Hispanic<br>Count: 2<br>Age: 12",
          "Ethinicity: Hispanic<br>Count: 0<br>Age: 13",
          "Ethinicity: Hispanic<br>Count: 0<br>Age: 14",
          "Ethinicity: Hispanic<br>Count: 0<br>Age: 15",
          "Ethinicity: Hispanic<br>Count: 1<br>Age: 16",
          "Ethinicity: Hispanic<br>Count: 1<br>Age: 17",
          "Ethinicity: Hispanic<br>Count: 1<br>Age: 18",
          "Ethinicity: Hispanic<br>Count: 2<br>Age: 19",
          "Ethinicity: Hispanic<br>Count: 0<br>Age: 20",
          "Ethinicity: Hispanic<br>Count: 0<br>Age: 21",
          "Ethinicity: Hispanic<br>Count: 0<br>Age: 22",
          "Ethinicity: Hispanic<br>Count: 0<br>Age: 23",
          "Ethinicity: Hispanic<br>Count: 0<br>Age: 24",
          "Ethinicity: Hispanic<br>Count: 0<br>Age: 25",
          "Ethinicity: Hispanic<br>Count: 0<br>Age: 26",
          "Ethinicity: Hispanic<br>Count: 1<br>Age: 27",
          "Ethinicity: Hispanic<br>Count: 0<br>Age: 28",
          "Ethinicity: Hispanic<br>Count: 0<br>Age: 29",
          "Ethinicity: Hispanic<br>Count: 0<br>Age: 30",
          "Ethinicity: Hispanic<br>Count: 0<br>Age: 32",
          "Ethinicity: Hispanic<br>Count: 0<br>Age: 34",
          "Ethinicity: Hispanic<br>Count: 0<br>Age: 38",
          "Ethinicity: Hispanic<br>Count: 0<br>Age: 39",
          "Ethinicity: Hispanic<br>Count: 0<br>Age: 41",
          "Ethinicity: Hispanic<br>Count: 0<br>Age: 42",
          "Ethinicity: Hispanic<br>Count: 0<br>Age: 44",
          "Ethinicity: Hispanic<br>Count: 0<br>Age: 45",
          "Ethinicity: Hispanic<br>Count: 0<br>Age: 47",
          "Ethinicity: Hispanic<br>Count: 0<br>Age: 48",
          "Ethinicity: Hispanic<br>Count: 0<br>Age: 49",
          "Ethinicity: Hispanic<br>Count: 0<br>Age: 50",
          "Ethinicity: Hispanic<br>Count: 0<br>Age: 53",
          "Ethinicity: Hispanic<br>Count: 0<br>Age: 55",
          "Ethinicity: Hispanic<br>Count: 0<br>Age: 56",
          "Ethinicity: Hispanic<br>Count: 0<br>Age: 72"
         ],
         "marker": {
          "color": "#bd7ebe"
         },
         "name": "Ethincity Hispanic",
         "offsetgroup": "1",
         "orientation": "h",
         "showlegend": false,
         "type": "bar",
         "width": 0.7,
         "x": [
          0,
          0,
          0,
          0,
          0,
          2,
          0,
          0,
          0,
          1,
          1,
          1,
          2,
          0,
          0,
          0,
          0,
          0,
          0,
          0,
          1,
          0,
          0,
          0,
          0,
          0,
          0,
          0,
          0,
          0,
          0,
          0,
          0,
          0,
          0,
          0,
          0,
          0,
          0,
          0
         ],
         "xaxis": "x2",
         "y": [
          6,
          7,
          8,
          9,
          11,
          12,
          13,
          14,
          15,
          16,
          17,
          18,
          19,
          20,
          21,
          22,
          23,
          24,
          25,
          26,
          27,
          28,
          29,
          30,
          32,
          34,
          38,
          39,
          41,
          42,
          44,
          45,
          47,
          48,
          49,
          50,
          53,
          55,
          56,
          72
         ],
         "yaxis": "y2"
        },
        {
         "base": [
          1,
          0,
          0,
          0,
          0,
          2,
          2,
          1,
          7,
          13,
          10,
          7,
          6,
          1,
          2,
          0,
          0,
          1,
          0,
          1,
          1,
          1,
          1,
          0,
          0,
          1,
          1,
          0,
          0,
          1,
          0,
          0,
          1,
          0,
          0,
          0,
          1,
          1,
          0,
          0
         ],
         "hovertemplate": [
          "Ethinicity: Not known<br>Count: 2<br>Age: 6",
          "Ethinicity: Not known<br>Count: 0<br>Age: 7",
          "Ethinicity: Not known<br>Count: 3<br>Age: 8",
          "Ethinicity: Not known<br>Count: 0<br>Age: 9",
          "Ethinicity: Not known<br>Count: 2<br>Age: 11",
          "Ethinicity: Not known<br>Count: 3<br>Age: 12",
          "Ethinicity: Not known<br>Count: 7<br>Age: 13",
          "Ethinicity: Not known<br>Count: 18<br>Age: 14",
          "Ethinicity: Not known<br>Count: 23<br>Age: 15",
          "Ethinicity: Not known<br>Count: 17<br>Age: 16",
          "Ethinicity: Not known<br>Count: 18<br>Age: 17",
          "Ethinicity: Not known<br>Count: 6<br>Age: 18",
          "Ethinicity: Not known<br>Count: 5<br>Age: 19",
          "Ethinicity: Not known<br>Count: 1<br>Age: 20",
          "Ethinicity: Not known<br>Count: 1<br>Age: 21",
          "Ethinicity: Not known<br>Count: 1<br>Age: 22",
          "Ethinicity: Not known<br>Count: 2<br>Age: 23",
          "Ethinicity: Not known<br>Count: 0<br>Age: 24",
          "Ethinicity: Not known<br>Count: 2<br>Age: 25",
          "Ethinicity: Not known<br>Count: 0<br>Age: 26",
          "Ethinicity: Not known<br>Count: 0<br>Age: 27",
          "Ethinicity: Not known<br>Count: 1<br>Age: 28",
          "Ethinicity: Not known<br>Count: 0<br>Age: 29",
          "Ethinicity: Not known<br>Count: 1<br>Age: 30",
          "Ethinicity: Not known<br>Count: 1<br>Age: 32",
          "Ethinicity: Not known<br>Count: 0<br>Age: 34",
          "Ethinicity: Not known<br>Count: 1<br>Age: 38",
          "Ethinicity: Not known<br>Count: 1<br>Age: 39",
          "Ethinicity: Not known<br>Count: 1<br>Age: 41",
          "Ethinicity: Not known<br>Count: 0<br>Age: 42",
          "Ethinicity: Not known<br>Count: 0<br>Age: 44",
          "Ethinicity: Not known<br>Count: 1<br>Age: 45",
          "Ethinicity: Not known<br>Count: 1<br>Age: 47",
          "Ethinicity: Not known<br>Count: 1<br>Age: 48",
          "Ethinicity: Not known<br>Count: 1<br>Age: 49",
          "Ethinicity: Not known<br>Count: 0<br>Age: 50",
          "Ethinicity: Not known<br>Count: 0<br>Age: 53",
          "Ethinicity: Not known<br>Count: 0<br>Age: 55",
          "Ethinicity: Not known<br>Count: 0<br>Age: 56",
          "Ethinicity: Not known<br>Count: 0<br>Age: 72"
         ],
         "marker": {
          "color": "#7eb0d5"
         },
         "name": "Ethincity Not known",
         "offsetgroup": "1",
         "orientation": "h",
         "showlegend": false,
         "type": "bar",
         "width": 0.7,
         "x": [
          2,
          0,
          3,
          0,
          2,
          3,
          7,
          18,
          23,
          17,
          18,
          6,
          5,
          1,
          1,
          1,
          2,
          0,
          2,
          0,
          0,
          1,
          0,
          1,
          1,
          0,
          1,
          1,
          1,
          0,
          0,
          1,
          1,
          1,
          1,
          0,
          0,
          0,
          0,
          0
         ],
         "xaxis": "x2",
         "y": [
          6,
          7,
          8,
          9,
          11,
          12,
          13,
          14,
          15,
          16,
          17,
          18,
          19,
          20,
          21,
          22,
          23,
          24,
          25,
          26,
          27,
          28,
          29,
          30,
          32,
          34,
          38,
          39,
          41,
          42,
          44,
          45,
          47,
          48,
          49,
          50,
          53,
          55,
          56,
          72
         ],
         "yaxis": "y2"
        },
        {
         "base": [
          3,
          0,
          3,
          0,
          2,
          5,
          9,
          19,
          30,
          30,
          28,
          13,
          11,
          2,
          3,
          1,
          2,
          1,
          2,
          1,
          1,
          2,
          1,
          1,
          1,
          1,
          2,
          1,
          1,
          1,
          0,
          1,
          2,
          1,
          1,
          0,
          1,
          1,
          0,
          0
         ],
         "hovertemplate": [
          "Ethinicity: White<br>Count: 0<br>Age: 6",
          "Ethinicity: White<br>Count: 1<br>Age: 7",
          "Ethinicity: White<br>Count: 0<br>Age: 8",
          "Ethinicity: White<br>Count: 1<br>Age: 9",
          "Ethinicity: White<br>Count: 0<br>Age: 11",
          "Ethinicity: White<br>Count: 2<br>Age: 12",
          "Ethinicity: White<br>Count: 2<br>Age: 13",
          "Ethinicity: White<br>Count: 8<br>Age: 14",
          "Ethinicity: White<br>Count: 14<br>Age: 15",
          "Ethinicity: White<br>Count: 7<br>Age: 16",
          "Ethinicity: White<br>Count: 6<br>Age: 17",
          "Ethinicity: White<br>Count: 2<br>Age: 18",
          "Ethinicity: White<br>Count: 3<br>Age: 19",
          "Ethinicity: White<br>Count: 3<br>Age: 20",
          "Ethinicity: White<br>Count: 1<br>Age: 21",
          "Ethinicity: White<br>Count: 0<br>Age: 22",
          "Ethinicity: White<br>Count: 0<br>Age: 23",
          "Ethinicity: White<br>Count: 0<br>Age: 24",
          "Ethinicity: White<br>Count: 0<br>Age: 25",
          "Ethinicity: White<br>Count: 1<br>Age: 26",
          "Ethinicity: White<br>Count: 0<br>Age: 27",
          "Ethinicity: White<br>Count: 1<br>Age: 28",
          "Ethinicity: White<br>Count: 0<br>Age: 29",
          "Ethinicity: White<br>Count: 0<br>Age: 30",
          "Ethinicity: White<br>Count: 2<br>Age: 32",
          "Ethinicity: White<br>Count: 0<br>Age: 34",
          "Ethinicity: White<br>Count: 0<br>Age: 38",
          "Ethinicity: White<br>Count: 0<br>Age: 39",
          "Ethinicity: White<br>Count: 1<br>Age: 41",
          "Ethinicity: White<br>Count: 0<br>Age: 42",
          "Ethinicity: White<br>Count: 2<br>Age: 44",
          "Ethinicity: White<br>Count: 1<br>Age: 45",
          "Ethinicity: White<br>Count: 0<br>Age: 47",
          "Ethinicity: White<br>Count: 0<br>Age: 48",
          "Ethinicity: White<br>Count: 0<br>Age: 49",
          "Ethinicity: White<br>Count: 1<br>Age: 50",
          "Ethinicity: White<br>Count: 2<br>Age: 53",
          "Ethinicity: White<br>Count: 0<br>Age: 55",
          "Ethinicity: White<br>Count: 1<br>Age: 56",
          "Ethinicity: White<br>Count: 1<br>Age: 72"
         ],
         "marker": {
          "color": "#b2e061"
         },
         "name": "Ethincity White",
         "offsetgroup": "1",
         "orientation": "h",
         "showlegend": false,
         "type": "bar",
         "width": 0.7,
         "x": [
          0,
          1,
          0,
          1,
          0,
          2,
          2,
          8,
          14,
          7,
          6,
          2,
          3,
          3,
          1,
          0,
          0,
          0,
          0,
          1,
          0,
          1,
          0,
          0,
          2,
          0,
          0,
          0,
          1,
          0,
          2,
          1,
          0,
          0,
          0,
          1,
          2,
          0,
          1,
          1
         ],
         "xaxis": "x2",
         "y": [
          6,
          7,
          8,
          9,
          11,
          12,
          13,
          14,
          15,
          16,
          17,
          18,
          19,
          20,
          21,
          22,
          23,
          24,
          25,
          26,
          27,
          28,
          29,
          30,
          32,
          34,
          38,
          39,
          41,
          42,
          44,
          45,
          47,
          48,
          49,
          50,
          53,
          55,
          56,
          72
         ],
         "yaxis": "y2"
        }
       ],
       "layout": {
        "barmode": "relative",
        "height": 700,
        "margin": {
         "b": 50,
         "l": 50,
         "r": 50,
         "t": 150
        },
        "template": {
         "data": {
          "bar": [
           {
            "error_x": {
             "color": "#2a3f5f"
            },
            "error_y": {
             "color": "#2a3f5f"
            },
            "marker": {
             "line": {
              "color": "#E5ECF6",
              "width": 0.5
             },
             "pattern": {
              "fillmode": "overlay",
              "size": 10,
              "solidity": 0.2
             }
            },
            "type": "bar"
           }
          ],
          "barpolar": [
           {
            "marker": {
             "line": {
              "color": "#E5ECF6",
              "width": 0.5
             },
             "pattern": {
              "fillmode": "overlay",
              "size": 10,
              "solidity": 0.2
             }
            },
            "type": "barpolar"
           }
          ],
          "carpet": [
           {
            "aaxis": {
             "endlinecolor": "#2a3f5f",
             "gridcolor": "white",
             "linecolor": "white",
             "minorgridcolor": "white",
             "startlinecolor": "#2a3f5f"
            },
            "baxis": {
             "endlinecolor": "#2a3f5f",
             "gridcolor": "white",
             "linecolor": "white",
             "minorgridcolor": "white",
             "startlinecolor": "#2a3f5f"
            },
            "type": "carpet"
           }
          ],
          "choropleth": [
           {
            "colorbar": {
             "outlinewidth": 0,
             "ticks": ""
            },
            "type": "choropleth"
           }
          ],
          "contour": [
           {
            "colorbar": {
             "outlinewidth": 0,
             "ticks": ""
            },
            "colorscale": [
             [
              0,
              "#0d0887"
             ],
             [
              0.1111111111111111,
              "#46039f"
             ],
             [
              0.2222222222222222,
              "#7201a8"
             ],
             [
              0.3333333333333333,
              "#9c179e"
             ],
             [
              0.4444444444444444,
              "#bd3786"
             ],
             [
              0.5555555555555556,
              "#d8576b"
             ],
             [
              0.6666666666666666,
              "#ed7953"
             ],
             [
              0.7777777777777778,
              "#fb9f3a"
             ],
             [
              0.8888888888888888,
              "#fdca26"
             ],
             [
              1,
              "#f0f921"
             ]
            ],
            "type": "contour"
           }
          ],
          "contourcarpet": [
           {
            "colorbar": {
             "outlinewidth": 0,
             "ticks": ""
            },
            "type": "contourcarpet"
           }
          ],
          "heatmap": [
           {
            "colorbar": {
             "outlinewidth": 0,
             "ticks": ""
            },
            "colorscale": [
             [
              0,
              "#0d0887"
             ],
             [
              0.1111111111111111,
              "#46039f"
             ],
             [
              0.2222222222222222,
              "#7201a8"
             ],
             [
              0.3333333333333333,
              "#9c179e"
             ],
             [
              0.4444444444444444,
              "#bd3786"
             ],
             [
              0.5555555555555556,
              "#d8576b"
             ],
             [
              0.6666666666666666,
              "#ed7953"
             ],
             [
              0.7777777777777778,
              "#fb9f3a"
             ],
             [
              0.8888888888888888,
              "#fdca26"
             ],
             [
              1,
              "#f0f921"
             ]
            ],
            "type": "heatmap"
           }
          ],
          "heatmapgl": [
           {
            "colorbar": {
             "outlinewidth": 0,
             "ticks": ""
            },
            "colorscale": [
             [
              0,
              "#0d0887"
             ],
             [
              0.1111111111111111,
              "#46039f"
             ],
             [
              0.2222222222222222,
              "#7201a8"
             ],
             [
              0.3333333333333333,
              "#9c179e"
             ],
             [
              0.4444444444444444,
              "#bd3786"
             ],
             [
              0.5555555555555556,
              "#d8576b"
             ],
             [
              0.6666666666666666,
              "#ed7953"
             ],
             [
              0.7777777777777778,
              "#fb9f3a"
             ],
             [
              0.8888888888888888,
              "#fdca26"
             ],
             [
              1,
              "#f0f921"
             ]
            ],
            "type": "heatmapgl"
           }
          ],
          "histogram": [
           {
            "marker": {
             "pattern": {
              "fillmode": "overlay",
              "size": 10,
              "solidity": 0.2
             }
            },
            "type": "histogram"
           }
          ],
          "histogram2d": [
           {
            "colorbar": {
             "outlinewidth": 0,
             "ticks": ""
            },
            "colorscale": [
             [
              0,
              "#0d0887"
             ],
             [
              0.1111111111111111,
              "#46039f"
             ],
             [
              0.2222222222222222,
              "#7201a8"
             ],
             [
              0.3333333333333333,
              "#9c179e"
             ],
             [
              0.4444444444444444,
              "#bd3786"
             ],
             [
              0.5555555555555556,
              "#d8576b"
             ],
             [
              0.6666666666666666,
              "#ed7953"
             ],
             [
              0.7777777777777778,
              "#fb9f3a"
             ],
             [
              0.8888888888888888,
              "#fdca26"
             ],
             [
              1,
              "#f0f921"
             ]
            ],
            "type": "histogram2d"
           }
          ],
          "histogram2dcontour": [
           {
            "colorbar": {
             "outlinewidth": 0,
             "ticks": ""
            },
            "colorscale": [
             [
              0,
              "#0d0887"
             ],
             [
              0.1111111111111111,
              "#46039f"
             ],
             [
              0.2222222222222222,
              "#7201a8"
             ],
             [
              0.3333333333333333,
              "#9c179e"
             ],
             [
              0.4444444444444444,
              "#bd3786"
             ],
             [
              0.5555555555555556,
              "#d8576b"
             ],
             [
              0.6666666666666666,
              "#ed7953"
             ],
             [
              0.7777777777777778,
              "#fb9f3a"
             ],
             [
              0.8888888888888888,
              "#fdca26"
             ],
             [
              1,
              "#f0f921"
             ]
            ],
            "type": "histogram2dcontour"
           }
          ],
          "mesh3d": [
           {
            "colorbar": {
             "outlinewidth": 0,
             "ticks": ""
            },
            "type": "mesh3d"
           }
          ],
          "parcoords": [
           {
            "line": {
             "colorbar": {
              "outlinewidth": 0,
              "ticks": ""
             }
            },
            "type": "parcoords"
           }
          ],
          "pie": [
           {
            "automargin": true,
            "type": "pie"
           }
          ],
          "scatter": [
           {
            "fillpattern": {
             "fillmode": "overlay",
             "size": 10,
             "solidity": 0.2
            },
            "type": "scatter"
           }
          ],
          "scatter3d": [
           {
            "line": {
             "colorbar": {
              "outlinewidth": 0,
              "ticks": ""
             }
            },
            "marker": {
             "colorbar": {
              "outlinewidth": 0,
              "ticks": ""
             }
            },
            "type": "scatter3d"
           }
          ],
          "scattercarpet": [
           {
            "marker": {
             "colorbar": {
              "outlinewidth": 0,
              "ticks": ""
             }
            },
            "type": "scattercarpet"
           }
          ],
          "scattergeo": [
           {
            "marker": {
             "colorbar": {
              "outlinewidth": 0,
              "ticks": ""
             }
            },
            "type": "scattergeo"
           }
          ],
          "scattergl": [
           {
            "marker": {
             "colorbar": {
              "outlinewidth": 0,
              "ticks": ""
             }
            },
            "type": "scattergl"
           }
          ],
          "scattermapbox": [
           {
            "marker": {
             "colorbar": {
              "outlinewidth": 0,
              "ticks": ""
             }
            },
            "type": "scattermapbox"
           }
          ],
          "scatterpolar": [
           {
            "marker": {
             "colorbar": {
              "outlinewidth": 0,
              "ticks": ""
             }
            },
            "type": "scatterpolar"
           }
          ],
          "scatterpolargl": [
           {
            "marker": {
             "colorbar": {
              "outlinewidth": 0,
              "ticks": ""
             }
            },
            "type": "scatterpolargl"
           }
          ],
          "scatterternary": [
           {
            "marker": {
             "colorbar": {
              "outlinewidth": 0,
              "ticks": ""
             }
            },
            "type": "scatterternary"
           }
          ],
          "surface": [
           {
            "colorbar": {
             "outlinewidth": 0,
             "ticks": ""
            },
            "colorscale": [
             [
              0,
              "#0d0887"
             ],
             [
              0.1111111111111111,
              "#46039f"
             ],
             [
              0.2222222222222222,
              "#7201a8"
             ],
             [
              0.3333333333333333,
              "#9c179e"
             ],
             [
              0.4444444444444444,
              "#bd3786"
             ],
             [
              0.5555555555555556,
              "#d8576b"
             ],
             [
              0.6666666666666666,
              "#ed7953"
             ],
             [
              0.7777777777777778,
              "#fb9f3a"
             ],
             [
              0.8888888888888888,
              "#fdca26"
             ],
             [
              1,
              "#f0f921"
             ]
            ],
            "type": "surface"
           }
          ],
          "table": [
           {
            "cells": {
             "fill": {
              "color": "#EBF0F8"
             },
             "line": {
              "color": "white"
             }
            },
            "header": {
             "fill": {
              "color": "#C8D4E3"
             },
             "line": {
              "color": "white"
             }
            },
            "type": "table"
           }
          ]
         },
         "layout": {
          "annotationdefaults": {
           "arrowcolor": "#2a3f5f",
           "arrowhead": 0,
           "arrowwidth": 1
          },
          "autotypenumbers": "strict",
          "coloraxis": {
           "colorbar": {
            "outlinewidth": 0,
            "ticks": ""
           }
          },
          "colorscale": {
           "diverging": [
            [
             0,
             "#8e0152"
            ],
            [
             0.1,
             "#c51b7d"
            ],
            [
             0.2,
             "#de77ae"
            ],
            [
             0.3,
             "#f1b6da"
            ],
            [
             0.4,
             "#fde0ef"
            ],
            [
             0.5,
             "#f7f7f7"
            ],
            [
             0.6,
             "#e6f5d0"
            ],
            [
             0.7,
             "#b8e186"
            ],
            [
             0.8,
             "#7fbc41"
            ],
            [
             0.9,
             "#4d9221"
            ],
            [
             1,
             "#276419"
            ]
           ],
           "sequential": [
            [
             0,
             "#0d0887"
            ],
            [
             0.1111111111111111,
             "#46039f"
            ],
            [
             0.2222222222222222,
             "#7201a8"
            ],
            [
             0.3333333333333333,
             "#9c179e"
            ],
            [
             0.4444444444444444,
             "#bd3786"
            ],
            [
             0.5555555555555556,
             "#d8576b"
            ],
            [
             0.6666666666666666,
             "#ed7953"
            ],
            [
             0.7777777777777778,
             "#fb9f3a"
            ],
            [
             0.8888888888888888,
             "#fdca26"
            ],
            [
             1,
             "#f0f921"
            ]
           ],
           "sequentialminus": [
            [
             0,
             "#0d0887"
            ],
            [
             0.1111111111111111,
             "#46039f"
            ],
            [
             0.2222222222222222,
             "#7201a8"
            ],
            [
             0.3333333333333333,
             "#9c179e"
            ],
            [
             0.4444444444444444,
             "#bd3786"
            ],
            [
             0.5555555555555556,
             "#d8576b"
            ],
            [
             0.6666666666666666,
             "#ed7953"
            ],
            [
             0.7777777777777778,
             "#fb9f3a"
            ],
            [
             0.8888888888888888,
             "#fdca26"
            ],
            [
             1,
             "#f0f921"
            ]
           ]
          },
          "colorway": [
           "#636efa",
           "#EF553B",
           "#00cc96",
           "#ab63fa",
           "#FFA15A",
           "#19d3f3",
           "#FF6692",
           "#B6E880",
           "#FF97FF",
           "#FECB52"
          ],
          "font": {
           "color": "#2a3f5f"
          },
          "geo": {
           "bgcolor": "white",
           "lakecolor": "white",
           "landcolor": "#E5ECF6",
           "showlakes": true,
           "showland": true,
           "subunitcolor": "white"
          },
          "hoverlabel": {
           "align": "left"
          },
          "hovermode": "closest",
          "mapbox": {
           "style": "light"
          },
          "paper_bgcolor": "white",
          "plot_bgcolor": "#E5ECF6",
          "polar": {
           "angularaxis": {
            "gridcolor": "white",
            "linecolor": "white",
            "ticks": ""
           },
           "bgcolor": "#E5ECF6",
           "radialaxis": {
            "gridcolor": "white",
            "linecolor": "white",
            "ticks": ""
           }
          },
          "scene": {
           "xaxis": {
            "backgroundcolor": "#E5ECF6",
            "gridcolor": "white",
            "gridwidth": 2,
            "linecolor": "white",
            "showbackground": true,
            "ticks": "",
            "zerolinecolor": "white"
           },
           "yaxis": {
            "backgroundcolor": "#E5ECF6",
            "gridcolor": "white",
            "gridwidth": 2,
            "linecolor": "white",
            "showbackground": true,
            "ticks": "",
            "zerolinecolor": "white"
           },
           "zaxis": {
            "backgroundcolor": "#E5ECF6",
            "gridcolor": "white",
            "gridwidth": 2,
            "linecolor": "white",
            "showbackground": true,
            "ticks": "",
            "zerolinecolor": "white"
           }
          },
          "shapedefaults": {
           "line": {
            "color": "#2a3f5f"
           }
          },
          "ternary": {
           "aaxis": {
            "gridcolor": "white",
            "linecolor": "white",
            "ticks": ""
           },
           "baxis": {
            "gridcolor": "white",
            "linecolor": "white",
            "ticks": ""
           },
           "bgcolor": "#E5ECF6",
           "caxis": {
            "gridcolor": "white",
            "linecolor": "white",
            "ticks": ""
           }
          },
          "title": {
           "x": 0.05
          },
          "xaxis": {
           "automargin": true,
           "gridcolor": "white",
           "linecolor": "white",
           "ticks": "",
           "title": {
            "standoff": 15
           },
           "zerolinecolor": "white",
           "zerolinewidth": 2
          },
          "yaxis": {
           "automargin": true,
           "gridcolor": "white",
           "linecolor": "white",
           "ticks": "",
           "title": {
            "standoff": 15
           },
           "zerolinecolor": "white",
           "zerolinewidth": 2
          }
         }
        },
        "title": {
         "text": "Age of the shooter with ethnicity distinguished"
        },
        "width": 800,
        "xaxis": {
         "anchor": "y",
         "domain": [
          0,
          0.3
         ],
         "fixedrange": true,
         "range": [
          20,
          0
         ],
         "showticklabels": false,
         "side": "top",
         "title": {
          "text": "Female"
         }
        },
        "xaxis2": {
         "anchor": "y2",
         "domain": [
          0.3,
          1
         ],
         "fixedrange": true,
         "showticklabels": false,
         "side": "top",
         "title": {
          "text": "Male"
         }
        },
        "yaxis": {
         "anchor": "x",
         "domain": [
          0,
          1
         ]
        },
        "yaxis2": {
         "anchor": "x2",
         "domain": [
          0,
          1
         ],
         "matches": "y",
         "showticklabels": false
        }
       }
      }
     },
     "metadata": {},
     "output_type": "display_data"
    }
   ],
   "source": [
    "fig = make_subplots(rows=1, cols=2, column_widths=[0.3,0.7], specs=[[{\"type\":\"bar\"}, {\"type\": \"bar\"}]], shared_xaxes=False,\n",
    "                    shared_yaxes=True, horizontal_spacing=0)\n",
    "\n",
    "base = np.zeros(shape=women_ethnicity.shape[0])  \n",
    "base = pd.Series(base)\n",
    "for col in women_ethnicity.columns[1:]:\n",
    "    fig.append_trace(go.Bar(name=\"Ethincity \"+col,\n",
    "                        x=women_ethnicity[col],\n",
    "                        y=women_ethnicity['age_shooter1'], \n",
    "                        hovertemplate='Ethinicity: ' + col + '<br>Count: ' +women_ethnicity[col].map('{:,.0f}'.format) + '<br>Age: ' + women_ethnicity['age_shooter1'].map('{:,.0f}'.format),\n",
    "                        offsetgroup=0,\n",
    "                        orientation='h', \n",
    "                        width=0.7, \n",
    "                        marker_color=marker_color[col],\n",
    "                        showlegend=False, \n",
    "                        base=base), \n",
    "                        1, 1) # 1,1 represents row 1 column 1 in the plot grid\n",
    "    base = base.add(women_ethnicity[col])\n",
    "\n",
    "\n",
    "base = np.zeros(shape=men_ethnicity.shape[0])  \n",
    "base = pd.Series(base)\n",
    "for col in men_ethnicity.columns[1:]:\n",
    "    fig.append_trace(go.Bar(name=\"Ethincity \"+col,\n",
    "                        x=men_ethnicity[col],\n",
    "                        y=men_ethnicity['age_shooter1'], \n",
    "                        hovertemplate='Ethinicity: ' + col + '<br>Count: ' +men_ethnicity[col].map('{:,.0f}'.format) + '<br>Age: ' + men_ethnicity['age_shooter1'].map('{:,.0f}'.format),\n",
    "                        offsetgroup=1,\n",
    "                        orientation='h', \n",
    "                        width=0.7, \n",
    "                        marker_color=marker_color[col],\n",
    "                        showlegend=False, \n",
    "                        base=base), \n",
    "                        1, 2) # 1,1 represents row 1 column 1 in the plot grid\n",
    "    base = base.add(men_ethnicity[col])\n",
    "\n",
    "fig.update_xaxes(showticklabels=False,title_text=\"Female\", row=1, col=1, range=[20,0], fixedrange=True)\n",
    "fig.update_xaxes(showticklabels=False,title_text=\"Male\", row=1, col=2, fixedrange=True)\n",
    "\n",
    "fig.update_layout(title_text=\"Age of the shooter with ethnicity distinguished\", \n",
    "                  width=800, \n",
    "                  height=700,\n",
    "                  xaxis1={'side': 'top'},\n",
    "                  xaxis2={'side': 'top'},\n",
    "                  margin=dict(b=50, l=50, r=50, t=150),\n",
    "                  barmode='relative')\n",
    "\n",
    "plotly.offline.plot(fig, filename=html_path+\"shooter_age_gender_distribution.html\")\n",
    "fig.show()"
   ]
  },
  {
   "cell_type": "markdown",
   "metadata": {},
   "source": [
    "# Shootings per year"
   ]
  },
  {
   "cell_type": "code",
   "execution_count": 289,
   "metadata": {},
   "outputs": [],
   "source": [
    "\n",
    "shootings_per_year = df.groupby(['year']).agg(\n",
    "     sum_killed = ('killed','sum'),\n",
    "     sum_injured = ('injured','sum'),\n",
    "     sum=('year', 'count')\n",
    "     ).reset_index()\n"
   ]
  },
  {
   "cell_type": "code",
   "execution_count": 292,
   "metadata": {},
   "outputs": [
    {
     "data": {
      "text/plain": [
       "'../docs/assets/htmls/shootings_year.html'"
      ]
     },
     "execution_count": 292,
     "metadata": {},
     "output_type": "execute_result"
    }
   ],
   "source": [
    "fig = go.Figure(\n",
    "    data = [\n",
    "        go.Bar(x=shootings_per_year['year'], y=shootings_per_year['sum_injured'], offsetgroup=0, name='People injured', hovertemplate='Year: %{x} <br> Injured: %{y}', hovertextsrc=''),\n",
    "        go.Bar(x=shootings_per_year['year'], y=shootings_per_year['sum_killed'], customdata=shootings_per_year['sum_killed'], offsetgroup=0, name='People killed', hovertemplate='Year: %{x} <br> Killed: %{customdata}'),\n",
    "        go.Line(x=shootings_per_year['year'], y=shootings_per_year['sum'], name='All incidents', hovertemplate='Year: %{x} <br> Incidents count: %{y}'),\n",
    "    ]\n",
    ")\n",
    "fig.update_layout( xaxis_title=\"Year\", yaxis_title=\"Count\", yaxis=dict(range=[0, 95]), legend_traceorder=\"reversed\", barmode='stack')\n",
    "plotly.offline.plot(fig, filename=html_path+\"shootings_year.html\")"
   ]
  },
  {
   "cell_type": "markdown",
   "metadata": {},
   "source": [
    "# Plot student's ethnicity distribution in schools"
   ]
  },
  {
   "cell_type": "code",
   "execution_count": 334,
   "metadata": {},
   "outputs": [],
   "source": [
    "def plot_student_race_distribution(races, column_names, title, file_path):\n",
    "    races = races.dropna(axis=1)\n",
    "    races = races.loc[:, (races != 0).any(axis=0)]\n",
    "    names =[]\n",
    "    for c in races.columns:\n",
    "        names.append(column_names[c])\n",
    "    fig = px.pie(values=races.values[0], names=names, title=title, height=290, width=320)\n",
    "    fig.update_layout(uniformtext_minsize=6, uniformtext_mode='hide', legend=dict(\n",
    "        font=dict(size=10), \n",
    "        yanchor=\"top\",\n",
    "        y=-0.01,\n",
    "        xanchor=\"left\",\n",
    "        x=0.01\n",
    "        ),\n",
    "        margin=dict(l=20, r=20, t=20, b=20),\n",
    "        font_size=8, title_font_size=10)\n",
    "    fig.update_traces(hovertemplate='Ethnicity: %{label} <br>  Count: %{value}', textposition='inside')\n",
    "    fig.update_traces(textfont_size=8)\n",
    "    plotly.offline.plot(fig, filename=file_path, config=dict(displayModeBar=False))"
   ]
  },
  {
   "cell_type": "code",
   "execution_count": 335,
   "metadata": {},
   "outputs": [],
   "source": [
    "df.reset_index(drop=True, inplace=True)"
   ]
  },
  {
   "cell_type": "code",
   "execution_count": 336,
   "metadata": {},
   "outputs": [
    {
     "name": "stderr",
     "output_type": "stream",
     "text": [
      "c:\\Users\\Marta\\AppData\\Local\\Programs\\Python\\Python310\\lib\\site-packages\\plotly\\express\\_core.py:1074: FutureWarning:\n",
      "\n",
      "The default dtype for empty Series will be 'object' instead of 'float64' in a future version. Specify a dtype explicitly to silence this warning.\n",
      "\n",
      "c:\\Users\\Marta\\AppData\\Local\\Programs\\Python\\Python310\\lib\\site-packages\\plotly\\express\\_core.py:1074: FutureWarning:\n",
      "\n",
      "The default dtype for empty Series will be 'object' instead of 'float64' in a future version. Specify a dtype explicitly to silence this warning.\n",
      "\n",
      "c:\\Users\\Marta\\AppData\\Local\\Programs\\Python\\Python310\\lib\\site-packages\\plotly\\express\\_core.py:1074: FutureWarning:\n",
      "\n",
      "The default dtype for empty Series will be 'object' instead of 'float64' in a future version. Specify a dtype explicitly to silence this warning.\n",
      "\n",
      "c:\\Users\\Marta\\AppData\\Local\\Programs\\Python\\Python310\\lib\\site-packages\\plotly\\express\\_core.py:1074: FutureWarning:\n",
      "\n",
      "The default dtype for empty Series will be 'object' instead of 'float64' in a future version. Specify a dtype explicitly to silence this warning.\n",
      "\n",
      "c:\\Users\\Marta\\AppData\\Local\\Programs\\Python\\Python310\\lib\\site-packages\\plotly\\express\\_core.py:1074: FutureWarning:\n",
      "\n",
      "The default dtype for empty Series will be 'object' instead of 'float64' in a future version. Specify a dtype explicitly to silence this warning.\n",
      "\n",
      "c:\\Users\\Marta\\AppData\\Local\\Programs\\Python\\Python310\\lib\\site-packages\\plotly\\express\\_core.py:1074: FutureWarning:\n",
      "\n",
      "The default dtype for empty Series will be 'object' instead of 'float64' in a future version. Specify a dtype explicitly to silence this warning.\n",
      "\n",
      "c:\\Users\\Marta\\AppData\\Local\\Programs\\Python\\Python310\\lib\\site-packages\\plotly\\express\\_core.py:1074: FutureWarning:\n",
      "\n",
      "The default dtype for empty Series will be 'object' instead of 'float64' in a future version. Specify a dtype explicitly to silence this warning.\n",
      "\n",
      "c:\\Users\\Marta\\AppData\\Local\\Programs\\Python\\Python310\\lib\\site-packages\\plotly\\express\\_core.py:1074: FutureWarning:\n",
      "\n",
      "The default dtype for empty Series will be 'object' instead of 'float64' in a future version. Specify a dtype explicitly to silence this warning.\n",
      "\n"
     ]
    }
   ],
   "source": [
    "column_names = {'white':'White', 'black':'Black', 'hispanic':'Hispanic', 'asian':'Asian',\n",
    "       'american_indian_alaska_native':'American/Indian/Alaska native', 'hawaiian_native_pacific_islander':'Hawaiian native/Pacific islander'}\n",
    "df['ethnicity_diagram_path'] = np.nan\n",
    "for i in range(0, df.shape[0]):\n",
    "    races = df.loc[[i], ['white', 'black', 'hispanic', 'asian',\n",
    "       'american_indian_alaska_native', 'hawaiian_native_pacific_islander']]\n",
    "    races = races._convert(numeric=True)\n",
    "    schoolname = df.iloc[i]['school_name']\n",
    "    filepath = './ethinicity_diagrams/' + schoolname.replace('/', '_') +'_ethinicity.html'\n",
    "    filepathtosave= html_path + 'ethinicity_diagrams/' + schoolname.replace('/', '_') +'_ethinicity.html'\n",
    "    diagram_title = f\"Population of {schoolname} <br>({df.iloc[i]['school_type']} school)\"\n",
    "    plot_student_race_distribution(races, column_names, diagram_title, filepathtosave)\n",
    "    df.at[i,'ethnicity_diagram_path']= filepath"
   ]
  },
  {
   "cell_type": "markdown",
   "metadata": {},
   "source": [
    "# Map with student's ethnicity in school"
   ]
  },
  {
   "cell_type": "code",
   "execution_count": 188,
   "metadata": {},
   "outputs": [],
   "source": [
    "def generate_color(killed, injured):\n",
    "    if killed ==0 and injured==0:\n",
    "        return 'blue'\n",
    "    if killed ==0 :\n",
    "        return 'gray'\n",
    "    return 'crimson'\n",
    "\n",
    "def calculate_circle_radius(max_affected, current_affected):\n",
    "    return math.log(current_affected/ max_affected * 100 + 1.) * 2 + 4"
   ]
  },
  {
   "cell_type": "code",
   "execution_count": 357,
   "metadata": {},
   "outputs": [],
   "source": [
    "colors = {'blue': 'Incident without causalities', 'gray': 'Incident with injured', 'crimson': 'Incident with killed'}\n",
    "max_killed_and_injured = max(df['killed']) + max(df['injured'])\n",
    "# Make an empty map\n",
    "m = folium.Map(location=[40,-100], tiles=\"OpenStreetMap\", zoom_start=2.5, height=516, width=640)\n",
    "feature_groups = {}\n",
    "lgd_txt = '<span style=\"color: {col};\">{txt}</span>'\n",
    "for c, t in colors.items():\n",
    "   fg = folium.FeatureGroup(name=lgd_txt.format(col = c, txt=t))\n",
    "   feature_groups[c] = fg\n",
    "\n",
    "for i in range(0,df.shape[0]):\n",
    "   killed_and_injured = df.iloc[i]['killed'] + df.iloc[i]['injured']\n",
    "   # calculate radius\n",
    "   radius = calculate_circle_radius(max_killed_and_injured, killed_and_injured)\n",
    "   # prepare html text to embeed in map\n",
    "   html=f\"<div style='width:500px; height:300px; display: flex' > \\\n",
    "       <div style='flex:30%; text-align: left; margin: auto;'> \\\n",
    "         <span >\\\n",
    "            Date and time of incident: {df.iloc[i]['date'].strftime('%Y-%m-%d')}  {'' if pd.isnull(df.iloc[i]['time']) else df.iloc[i]['time'].strftime('%H:%M')}<br \\> \\\n",
    "            Enrollment: {df.iloc[i]['enrollment']} <br \\> \\\n",
    "            Killed/casualties: {df.iloc[i]['killed']}/{df.iloc[i]['casualties']} <br \\> \\\n",
    "            Injured/casualties: {df.iloc[i]['injured']}/{df.iloc[i]['casualties']} <br \\> <br \\>\\\n",
    "            <\\span> \\\n",
    "            <span> \\\n",
    "              Shooting details <br\\> \\\n",
    "               Type of shooting: {df.iloc[i]['shooting_type']} <br \\> \\\n",
    "                  Age of shooter: {'Not known' if pd.isnull(df.iloc[i]['age_shooter1']) else df.iloc[i]['age_shooter1']} \\\n",
    "               <\\span> \\\n",
    "         </div> \\\n",
    "            <div style='flex: 70%'> \\\n",
    "    <iframe scrolling='no' src='{df['ethnicity_diagram_path'][i]}' width='100%' height='100%'  frameborder='0'>    \\\n",
    "      </div> \\\n",
    "    </div> \\\n",
    "    \"\n",
    "   diagram = folium.Popup(folium.Html(html, script=True), min_width=500, min_height=300, max_width=500, max_height=300)\n",
    "   color = generate_color(df.iloc[i]['killed'], df.iloc[i]['injured'])\n",
    "   marker = folium.CircleMarker(\n",
    "      location=[df.iloc[i]['lat'], df.iloc[i]['long']],\n",
    "      radius=radius,\n",
    "      popup=diagram,\n",
    "      color=color,\n",
    "      fill=True,\n",
    "      fill_color=color\n",
    "   )\n",
    "   feature_groups[color].add_child(marker)\n",
    "for _,fg in feature_groups.items():\n",
    "   m.add_child(fg)\n",
    "# Save the map\n",
    "folium.map.LayerControl('topleft', collapsed= True).add_to(m)\n",
    "# m\n",
    "m.save(html_path+'shootings_details.html')\n"
   ]
  },
  {
   "cell_type": "markdown",
   "metadata": {},
   "source": [
    "# Gun ownership"
   ]
  },
  {
   "cell_type": "code",
   "execution_count": 358,
   "metadata": {},
   "outputs": [],
   "source": [
    "file_name = '../../TL-354-State-Level Estimates of Household Firearm Ownership.xlsx'\n",
    "sheet_to_df_map = pd.read_excel(file_name, sheet_name=\"State-Level Data & Factor Score\")\n",
    "gun_ownership = sheet_to_df_map.groupby(['STATE']).aggregate(\n",
    "    average_ownership = ('HFR', 'mean')\n",
    ").reset_index()\n",
    "# convert rate to %\n",
    "gun_ownership['average_ownership'] = gun_ownership['average_ownership'] * 100\n",
    "# get shootings by state\n",
    "school_shootings_by_state = df.groupby('state').aggregate( killed = ('killed', 'sum'), injured= ('injured', 'sum'), causalities = ('casualties', 'sum')).reset_index()"
   ]
  },
  {
   "cell_type": "code",
   "execution_count": 359,
   "metadata": {},
   "outputs": [],
   "source": [
    "us_state_to_abbrev = {\n",
    "    \"Alabama\": \"AL\",\n",
    "    \"Alaska\": \"AK\",\n",
    "    \"Arizona\": \"AZ\",\n",
    "    \"Arkansas\": \"AR\",\n",
    "    \"California\": \"CA\",\n",
    "    \"Colorado\": \"CO\",\n",
    "    \"Connecticut\": \"CT\",\n",
    "    \"Delaware\": \"DE\",\n",
    "    \"Florida\": \"FL\",\n",
    "    \"Georgia\": \"GA\",\n",
    "    \"Hawaii\": \"HI\",\n",
    "    \"Idaho\": \"ID\",\n",
    "    \"Illinois\": \"IL\",\n",
    "    \"Indiana\": \"IN\",\n",
    "    \"Iowa\": \"IA\",\n",
    "    \"Kansas\": \"KS\",\n",
    "    \"Kentucky\": \"KY\",\n",
    "    \"Louisiana\": \"LA\",\n",
    "    \"Maine\": \"ME\",\n",
    "    \"Maryland\": \"MD\",\n",
    "    \"Massachusetts\": \"MA\",\n",
    "    \"Michigan\": \"MI\",\n",
    "    \"Minnesota\": \"MN\",\n",
    "    \"Mississippi\": \"MS\",\n",
    "    \"Missouri\": \"MO\",\n",
    "    \"Montana\": \"MT\",\n",
    "    \"Nebraska\": \"NE\",\n",
    "    \"Nevada\": \"NV\",\n",
    "    \"New Hampshire\": \"NH\",\n",
    "    \"New Jersey\": \"NJ\",\n",
    "    \"New Mexico\": \"NM\",\n",
    "    \"New York\": \"NY\",\n",
    "    \"North Carolina\": \"NC\",\n",
    "    \"North Dakota\": \"ND\",\n",
    "    \"Ohio\": \"OH\",\n",
    "    \"Oklahoma\": \"OK\",\n",
    "    \"Oregon\": \"OR\",\n",
    "    \"Pennsylvania\": \"PA\",\n",
    "    \"Rhode Island\": \"RI\",\n",
    "    \"South Carolina\": \"SC\",\n",
    "    \"South Dakota\": \"SD\",\n",
    "    \"Tennessee\": \"TN\",\n",
    "    \"Texas\": \"TX\",\n",
    "    \"Utah\": \"UT\",\n",
    "    \"Vermont\": \"VT\",\n",
    "    \"Virginia\": \"VA\",\n",
    "    \"Washington\": \"WA\",\n",
    "    \"West Virginia\": \"WV\",\n",
    "    \"Wisconsin\": \"WI\",\n",
    "    \"Wyoming\": \"WY\",\n",
    "    \"District of Columbia\": \"DC\",\n",
    "    \"American Samoa\": \"AS\",\n",
    "    \"Guam\": \"GU\",\n",
    "    \"Northern Mariana Islands\": \"MP\",\n",
    "    \"Puerto Rico\": \"PR\",\n",
    "    \"United States Minor Outlying Islands\": \"UM\",\n",
    "    \"U.S. Virgin Islands\": \"VI\",\n",
    "}\n",
    "abbrev_to_us_state = dict(map(reversed, us_state_to_abbrev.items()))\n",
    "\n",
    "# generate abbreviations for states\n",
    "school_shootings_by_state['state_abb'] = school_shootings_by_state['state'].apply(lambda x: us_state_to_abbrev[x])\n",
    "gun_ownership['state_abb'] = gun_ownership['STATE'].apply(lambda x: us_state_to_abbrev[x])\n",
    "result = pd.merge(school_shootings_by_state, gun_ownership, on='state_abb', how='outer')\n",
    "result['causalities']  = result['causalities'].fillna(0)\n",
    "result['killed']  = result['killed'].fillna(0)\n",
    "result['injured']  = result['injured'].fillna(0)\n",
    "result['average_ownership']  = result['average_ownership'].fillna(0)\n",
    "result['text'] = result.apply(lambda row: f\"{row['state']} <br>Average % of households that own a gun: {round(row['average_ownership'],2)} % <br>Killed: {row['killed']}<br>Injured: {row['injured']}\", axis=1)"
   ]
  },
  {
   "cell_type": "code",
   "execution_count": 360,
   "metadata": {},
   "outputs": [
    {
     "data": {
      "text/plain": [
       "'../docs/assets/htmls/us_gun_ownership.html'"
      ]
     },
     "execution_count": 360,
     "metadata": {},
     "output_type": "execute_result"
    }
   ],
   "source": [
    "layout = dict(font=dict(size=12), geo=dict(scope=\"usa\", projection=dict(type=\"albers usa\")), legend=dict(font=dict(color='black')))\n",
    "data = []\n",
    "\n",
    "data.append(go.Choropleth(locations=result['state_abb'], z=result['average_ownership'], locationmode=\"USA-states\", colorscale=\"bluered\", text=result[\"text\"], hoverinfo='text', showscale=True, showlegend=False, name='Gun ownership'))\n",
    "data.append(go.Scattergeo(locations=result['state_abb'], text=result['causalities'], locationmode=\"USA-states\", mode=\"text\", hoverinfo='skip', name='Amount of casualties', showlegend=False,textfont=dict(color='white')))\n",
    "\n",
    "fig = go.Figure(data=data, layout=layout)\n",
    "fig.update_layout(showlegend=True)\n",
    "\n",
    "plotly.offline.plot(fig, filename=html_path+'us_gun_ownership.html')"
   ]
  }
 ],
 "metadata": {
  "kernelspec": {
   "display_name": "Python 3.10.0 64-bit",
   "language": "python",
   "name": "python3"
  },
  "language_info": {
   "codemirror_mode": {
    "name": "ipython",
    "version": 3
   },
   "file_extension": ".py",
   "mimetype": "text/x-python",
   "name": "python",
   "nbconvert_exporter": "python",
   "pygments_lexer": "ipython3",
   "version": "3.10.10"
  },
  "orig_nbformat": 4,
  "vscode": {
   "interpreter": {
    "hash": "522d2784befa186e8221d5dd489e621670897cb098e08463098cf898111202eb"
   }
  }
 },
 "nbformat": 4,
 "nbformat_minor": 2
}
