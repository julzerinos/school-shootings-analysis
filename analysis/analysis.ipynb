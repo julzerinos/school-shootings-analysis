{
 "cells": [
  {
   "attachments": {},
   "cell_type": "markdown",
   "metadata": {},
   "source": [
    "# Introduction\n",
    "\n",
    "This notebook contains all the analysis done on Washington Post data set about school shootings in the US (link: https://github.com/washingtonpost/data-school-shootings).\n",
    "As the size of the data set is quite small, most of the preliminary analysis was conducted in Excel. Here the main motivation and basic analysis will be presented together with the source code for the final vizualizations used in the narrative piece [\"Exploration into two decades of school shootings in the United States\"](https://julzerinos.github.io/school-shootings-analysis/) hosted on Github Pages.\n",
    "\n",
    "# Motivation\n",
    "\n",
    "While looking for an interesting data set that would contain information from a limited region, we started to wonder what would be more interesting for us.\n",
    "Data sets from the US are one of the most common to use, as they cover quite big areas as well as having a robust structure.\n",
    "The US has been struggling with school shootings for the last couple of years, which seemed an interesting case study, as this phenomenon is observed in the vast majority only there.\n",
    "\n",
    "\n",
    "The purpose of our analysis is to determine if there are any time patterns that could help prevent further tradegies.\n",
    "Furthermore, we will investigate cultural response and news trends. We will also look into different counterstategies that should prevent further accidents.\n",
    "Based on data analysis we want to determine how effective are they.\n",
    "\n",
    "\n",
    "We want to draw attention to this problem, as it seems that it has partly dissappeared from social media, which does not mean that the number of accidents has dropped.\n",
    "We want to show that the problem is not gone and that despite intuition, the threat comes from pupils, not adults.\n",
    "\n",
    "## Dataset\n",
    "\n",
    "Our dataset contain information about the shootings that happened in schools. It starts with the first big massive school shooting in Columbine High School and includes data up to 2023.\n",
    "It contains data regarding date and time of schooting as well as some characteristics about the shooter as his age, gender, source of weapon etc.\n",
    "We also used the dataset from RAND about the gun ownership in the US. We wanted to examine if there is any connection between the number of weapons per household and the number of shootings in the area."
   ]
  },
  {
   "cell_type": "markdown",
   "metadata": {},
   "source": [
    "# Basic stats\n",
    "\n",
    "Here we present some basic analysis we performed on dataset in order to get acquainted with it.\n",
    "\n",
    "Each entry in our dataset is a tragic event that should not have happen in a modern world, therefore it is really hard to generalize things and apply statistical models.\n",
    "Nonetheless, we will try to look for some patterns as well as connections between this accidents and other environmental factors. \n",
    "\n",
    "### Imports\n",
    "\n",
    "In order to be able to run the notebook you need to install all the needed libraries. To do so we prepared file with requirements that helps intall everything at once.\n",
    "To do so run the command: \n",
    "``` \n",
    "pip install -r requirements.txt\n",
    "```"
   ]
  },
  {
   "cell_type": "code",
   "execution_count": 1,
   "metadata": {},
   "outputs": [],
   "source": [
    "import pandas as pd\n",
    "import geopandas as gpd\n",
    "\n",
    "import numpy as np\n",
    "import datetime\n",
    "import math\n",
    "import calendar\n",
    "\n",
    "import folium\n",
    "\n",
    "import matplotlib.pyplot as plt\n",
    "import matplotlib as mpl\n",
    "import matplotlib.font_manager as fm\n",
    "import plotly\n",
    "import plotly.express as px\n",
    "import plotly.graph_objects as go\n",
    "from plotly.subplots import make_subplots\n",
    "\n",
    "import geojson\n",
    "%matplotlib inline"
   ]
  },
  {
   "cell_type": "markdown",
   "metadata": {},
   "source": [
    "## Dataset preprocessing\n",
    "\n",
    "Dataset needs to be downloaded beforehand as it is not part of the repository. It should be placed one folder outside of the repository. \n",
    "First let's load the data and have a quick pick at it."
   ]
  },
  {
   "cell_type": "code",
   "execution_count": 2,
   "metadata": {},
   "outputs": [
    {
     "name": "stdout",
     "output_type": "stream",
     "text": [
      "   uid nces_school_id                       school_name  nces_district_id   \n",
      "0    1   080480000707             Columbine High School          804800.0  \\\n",
      "1    2   220054000422       Scotlandville Middle School         2200540.0   \n",
      "2    3   130441001591              Heritage High School         1304410.0   \n",
      "3    4   421899003847          John Bartram High School         4218990.0   \n",
      "4    5   250279000225            Dorchester High School         2502790.0   \n",
      "5    6   350069000240              Deming Middle School         3500690.0   \n",
      "6    7   401197000559         Fort Gibson Middle School         4011970.0   \n",
      "7    8   120153001590             Ridgewood High School         1201530.0   \n",
      "8    9   062460009581    Alicia Reyes Elementary School          624600.0   \n",
      "9   10   170993000748  Duke Ellington Elementary School         1709930.0   \n",
      "\n",
      "                          district_name        date school_year  year   \n",
      "0                  Jefferson County R-1   4/20/1999   1998-1999  1999  \\\n",
      "1  East Baton Rouge Parish School Board   4/22/1999   1998-1999  1999   \n",
      "2                       Rockdale County   5/20/1999   1998-1999  1999   \n",
      "3                  Philadelphia City SD   10/4/1999   1999-2000  1999   \n",
      "4                                Boston   11/3/1999   1999-2000  1999   \n",
      "5                 Deming Public Schools  11/19/1999   1999-2000  1999   \n",
      "6                           Fort Gibson   12/6/1999   1999-2000  1999   \n",
      "7                                 Pasco   1/19/2000   1999-2000  2000   \n",
      "8                Merced City Elementary   1/26/2000   1999-2000  2000   \n",
      "9   City of Chicago School District 299   2/14/2000   1999-2000  2000   \n",
      "\n",
      "       time day_of_week  ...        lat        long staffing  low_grade   \n",
      "0  11:19 AM     Tuesday  ...  39.603910 -105.075000     89.6          9  \\\n",
      "1  12:30 PM    Thursday  ...  30.529958  -91.169966     39.0          6   \n",
      "2   8:03 AM    Thursday  ...  33.626922  -84.047960     84.0          9   \n",
      "3  10:00 AM      Monday  ...  39.921509  -75.234108     41.0          9   \n",
      "4   7:40 AM   Wednesday  ...  42.285268  -71.075901      NaN          9   \n",
      "5  12:45 PM      Friday  ...  32.261547 -107.762986     44.0          6   \n",
      "6   7:45 AM      Monday  ...  35.795556  -95.241921     25.4          6   \n",
      "7   3:00 PM   Wednesday  ...  28.273253  -82.687231     85.0          9   \n",
      "8   8:34 AM   Wednesday  ...  37.286387 -120.494808     36.0         KG   \n",
      "9       NaN      Monday  ...  41.885272  -87.766042     37.0         PK   \n",
      "\n",
      "   high_grade  lunch                   county state_fips  county_fips ulocale  \n",
      "0          12     41         Jefferson County          8         8059    21.0  \n",
      "1           8    495  East Baton Rouge Parish         22        22033    12.0  \n",
      "2          12    125          Rockdale County         13        13247    21.0  \n",
      "3          12   2007      Philadelphia County         42        42101    11.0  \n",
      "4          12    543           Suffolk County         25        25025    11.0  \n",
      "5           7    502              Luna County         35        35029    33.0  \n",
      "6           8    146          Muskogee County         40        40101    32.0  \n",
      "7          12    654             Pasco County         12        12101    21.0  \n",
      "8           5    643            Merced County          6         6047    13.0  \n",
      "9           6    NaN              Cook County         17        17031    11.0  \n",
      "\n",
      "[10 rows x 50 columns]\n",
      "Index(['uid', 'nces_school_id', 'school_name', 'nces_district_id',\n",
      "       'district_name', 'date', 'school_year', 'year', 'time', 'day_of_week',\n",
      "       'city', 'state', 'school_type', 'enrollment', 'killed', 'injured',\n",
      "       'casualties', 'shooting_type', 'age_shooter1', 'gender_shooter1',\n",
      "       'race_ethnicity_shooter1', 'shooter_relationship1', 'shooter_deceased1',\n",
      "       'deceased_notes1', 'age_shooter2', 'gender_shooter2',\n",
      "       'race_ethnicity_shooter2', 'shooter_relationship2', 'shooter_deceased2',\n",
      "       'deceased_notes2', 'white', 'black', 'hispanic', 'asian',\n",
      "       'american_indian_alaska_native', 'hawaiian_native_pacific_islander',\n",
      "       'two_or_more', 'resource_officer', 'weapon', 'weapon_source', 'lat',\n",
      "       'long', 'staffing', 'low_grade', 'high_grade', 'lunch', 'county',\n",
      "       'state_fips', 'county_fips', 'ulocale'],\n",
      "      dtype='object')\n"
     ]
    }
   ],
   "source": [
    "df = pd.read_csv(\"../../data//school_shooting_data.csv\")\n",
    "# print some data\n",
    "print(df.head(10))\n",
    "# check what columns are available\n",
    "print(df.columns)"
   ]
  },
  {
   "cell_type": "markdown",
   "metadata": {},
   "source": [
    "As we see there are multiple columns for us the most interesting ones are related to date and time and shooter characteristics, we notice that there are different time format used.\n",
    "\n",
    "Lets check how many empty data withing date and time columns we have."
   ]
  },
  {
   "cell_type": "code",
   "execution_count": 5,
   "metadata": {},
   "outputs": [
    {
     "name": "stdout",
     "output_type": "stream",
     "text": [
      "Empty date dolumn:  0\n",
      "Empty time dolumn:  20\n"
     ]
    }
   ],
   "source": [
    "print(\"Empty date dolumn: \",df['date'].isna().sum())\n",
    "print(\"Empty time dolumn: \",df['time'].isna().sum())"
   ]
  },
  {
   "cell_type": "markdown",
   "metadata": {},
   "source": [
    "As we see we have all of the dates but some time stamps are missing. We will not remove those lines, as they might be some valuable incidents there. Those 20 records will not be considered while analyzing hour pattern, but they will be used in analyzing date and weekday patterns.\n",
    "\n",
    "**We also decided not to remove partial years (1999, 2023) as they provide valuable input to the analysis. Also one of the biggest massive shootings that started whole reasearch in this area, happened in 1999 (Columbine High School).**\n",
    "\n",
    "Here we prepared function that maps all the different time formats used in the dataset to datetime object."
   ]
  },
  {
   "cell_type": "code",
   "execution_count": 3,
   "metadata": {},
   "outputs": [],
   "source": [
    "def convert_timestring_to_time(date_string):\n",
    "    if date_string is np.nan:\n",
    "        return date_string\n",
    "    idx = date_string.find('M')\n",
    "    if( idx ==-1):\n",
    "        return datetime.datetime.strptime(date_string, '%H:%M')\n",
    "    idx -=2\n",
    "    if date_string[idx] == ' ':\n",
    "        return datetime.datetime.strptime(date_string, '%I:%M %p')\n",
    "    return datetime.datetime.strptime(date_string, '%I:%M%p')"
   ]
  },
  {
   "cell_type": "markdown",
   "metadata": {},
   "source": [
    "As the date is always the same format, we can map time and date to datetime objects.\n",
    "That will be helpful later when we will aggregate data. "
   ]
  },
  {
   "cell_type": "code",
   "execution_count": 4,
   "metadata": {},
   "outputs": [],
   "source": [
    "df['time'] = df['time'].apply(lambda x: convert_timestring_to_time(x))\n",
    "df['date'] = pd.to_datetime(df['date'], format='%m/%d/%Y')"
   ]
  },
  {
   "cell_type": "markdown",
   "metadata": {},
   "source": [
    "As we will be also displaying data on maps, we need to remove all data that does not contain location point.\n",
    "\n",
    "We have already verified it in Excel that there is only 1 record that does not have latitude and longitude."
   ]
  },
  {
   "cell_type": "code",
   "execution_count": 5,
   "metadata": {},
   "outputs": [],
   "source": [
    "df = df[df['long'].notna()]\n",
    "df = df[df['lat'].notna()]\n",
    "df.reset_index(drop=True, inplace=True)"
   ]
  },
  {
   "cell_type": "markdown",
   "metadata": {},
   "source": [
    "As the dataset contains of only 367 entries we decided to also have a closer look at it in the excel sheet. We notices that there are multiple data missing from the shooters characteristics and relation to deceased as well as the gun origin and type. Even though, we decided not to remove those entries, as loosing those records would change the results of conducted analysis.\n",
    "\n",
    "\n",
    "We prepare the path for the generated files and declare colors that will be used for charts:"
   ]
  },
  {
   "cell_type": "code",
   "execution_count": 6,
   "metadata": {},
   "outputs": [],
   "source": [
    "# paths\n",
    "html_path = '../docs/assets/htmls/'\n",
    "include_path ='../docs/_includes/'\n",
    "image_path = '../docs/assets/imgs/'\n",
    "# colors\n",
    "color_dark = '#000000'\n",
    "color_light = '#FFFFFF'\n",
    "color_dark_accent = '#14213D'\n",
    "color_light_accent = '#E5E5E5'\n",
    "color_highlight = '#FCA311'\n",
    "color_dark_accent_2 = '#3d3d3d'"
   ]
  },
  {
   "cell_type": "markdown",
   "metadata": {},
   "source": [
    "Add font for matplot lib"
   ]
  },
  {
   "cell_type": "code",
   "execution_count": 7,
   "metadata": {},
   "outputs": [
    {
     "name": "stdout",
     "output_type": "stream",
     "text": [
      "Added new font to matplotlib with name Rubik of ['sans-serif']\n"
     ]
    }
   ],
   "source": [
    "import requests\n",
    "from tempfile import NamedTemporaryFile\n",
    "font_url = 'https://github.com/google/fonts/blob/main/ofl/rubik/Rubik%5Bwght%5D.ttf' + '?raw=true'\n",
    "\n",
    "response = requests.get(font_url)\n",
    "with NamedTemporaryFile(delete=False, suffix='.ttf') as f:\n",
    "    f.write(response.content)\n",
    "    \n",
    "    fm.fontManager.addfont(f.name)\n",
    "    prop = fm.FontProperties(fname=f.name)\n",
    "    print(f\"Added new font to matplotlib with name {prop.get_name()} of {prop.get_family()}\")"
   ]
  },
  {
   "cell_type": "markdown",
   "metadata": {},
   "source": [
    "## Initial stats\n"
   ]
  },
  {
   "cell_type": "code",
   "execution_count": 11,
   "metadata": {},
   "outputs": [
    {
     "name": "stdout",
     "output_type": "stream",
     "text": [
      "Shape of the data set: (365, 50)\n"
     ]
    },
    {
     "data": {
      "text/html": [
       "<div>\n",
       "<style scoped>\n",
       "    .dataframe tbody tr th:only-of-type {\n",
       "        vertical-align: middle;\n",
       "    }\n",
       "\n",
       "    .dataframe tbody tr th {\n",
       "        vertical-align: top;\n",
       "    }\n",
       "\n",
       "    .dataframe thead th {\n",
       "        text-align: right;\n",
       "    }\n",
       "</style>\n",
       "<table border=\"1\" class=\"dataframe\">\n",
       "  <thead>\n",
       "    <tr style=\"text-align: right;\">\n",
       "      <th></th>\n",
       "      <th>uid</th>\n",
       "      <th>nces_school_id</th>\n",
       "      <th>school_name</th>\n",
       "      <th>nces_district_id</th>\n",
       "      <th>district_name</th>\n",
       "      <th>date</th>\n",
       "      <th>school_year</th>\n",
       "      <th>year</th>\n",
       "      <th>time</th>\n",
       "      <th>day_of_week</th>\n",
       "      <th>...</th>\n",
       "      <th>lat</th>\n",
       "      <th>long</th>\n",
       "      <th>staffing</th>\n",
       "      <th>low_grade</th>\n",
       "      <th>high_grade</th>\n",
       "      <th>lunch</th>\n",
       "      <th>county</th>\n",
       "      <th>state_fips</th>\n",
       "      <th>county_fips</th>\n",
       "      <th>ulocale</th>\n",
       "    </tr>\n",
       "  </thead>\n",
       "  <tbody>\n",
       "    <tr>\n",
       "      <th>0</th>\n",
       "      <td>1</td>\n",
       "      <td>080480000707</td>\n",
       "      <td>Columbine High School</td>\n",
       "      <td>804800.0</td>\n",
       "      <td>Jefferson County R-1</td>\n",
       "      <td>1999-04-20</td>\n",
       "      <td>1998-1999</td>\n",
       "      <td>1999</td>\n",
       "      <td>1900-01-01 11:19:00</td>\n",
       "      <td>Tuesday</td>\n",
       "      <td>...</td>\n",
       "      <td>39.603910</td>\n",
       "      <td>-105.075000</td>\n",
       "      <td>89.6</td>\n",
       "      <td>9</td>\n",
       "      <td>12</td>\n",
       "      <td>41</td>\n",
       "      <td>Jefferson County</td>\n",
       "      <td>8</td>\n",
       "      <td>8059</td>\n",
       "      <td>21.0</td>\n",
       "    </tr>\n",
       "    <tr>\n",
       "      <th>1</th>\n",
       "      <td>2</td>\n",
       "      <td>220054000422</td>\n",
       "      <td>Scotlandville Middle School</td>\n",
       "      <td>2200540.0</td>\n",
       "      <td>East Baton Rouge Parish School Board</td>\n",
       "      <td>1999-04-22</td>\n",
       "      <td>1998-1999</td>\n",
       "      <td>1999</td>\n",
       "      <td>1900-01-01 12:30:00</td>\n",
       "      <td>Thursday</td>\n",
       "      <td>...</td>\n",
       "      <td>30.529958</td>\n",
       "      <td>-91.169966</td>\n",
       "      <td>39.0</td>\n",
       "      <td>6</td>\n",
       "      <td>8</td>\n",
       "      <td>495</td>\n",
       "      <td>East Baton Rouge Parish</td>\n",
       "      <td>22</td>\n",
       "      <td>22033</td>\n",
       "      <td>12.0</td>\n",
       "    </tr>\n",
       "    <tr>\n",
       "      <th>2</th>\n",
       "      <td>3</td>\n",
       "      <td>130441001591</td>\n",
       "      <td>Heritage High School</td>\n",
       "      <td>1304410.0</td>\n",
       "      <td>Rockdale County</td>\n",
       "      <td>1999-05-20</td>\n",
       "      <td>1998-1999</td>\n",
       "      <td>1999</td>\n",
       "      <td>1900-01-01 08:03:00</td>\n",
       "      <td>Thursday</td>\n",
       "      <td>...</td>\n",
       "      <td>33.626922</td>\n",
       "      <td>-84.047960</td>\n",
       "      <td>84.0</td>\n",
       "      <td>9</td>\n",
       "      <td>12</td>\n",
       "      <td>125</td>\n",
       "      <td>Rockdale County</td>\n",
       "      <td>13</td>\n",
       "      <td>13247</td>\n",
       "      <td>21.0</td>\n",
       "    </tr>\n",
       "    <tr>\n",
       "      <th>3</th>\n",
       "      <td>4</td>\n",
       "      <td>421899003847</td>\n",
       "      <td>John Bartram High School</td>\n",
       "      <td>4218990.0</td>\n",
       "      <td>Philadelphia City SD</td>\n",
       "      <td>1999-10-04</td>\n",
       "      <td>1999-2000</td>\n",
       "      <td>1999</td>\n",
       "      <td>1900-01-01 10:00:00</td>\n",
       "      <td>Monday</td>\n",
       "      <td>...</td>\n",
       "      <td>39.921509</td>\n",
       "      <td>-75.234108</td>\n",
       "      <td>41.0</td>\n",
       "      <td>9</td>\n",
       "      <td>12</td>\n",
       "      <td>2007</td>\n",
       "      <td>Philadelphia County</td>\n",
       "      <td>42</td>\n",
       "      <td>42101</td>\n",
       "      <td>11.0</td>\n",
       "    </tr>\n",
       "    <tr>\n",
       "      <th>4</th>\n",
       "      <td>5</td>\n",
       "      <td>250279000225</td>\n",
       "      <td>Dorchester High School</td>\n",
       "      <td>2502790.0</td>\n",
       "      <td>Boston</td>\n",
       "      <td>1999-11-03</td>\n",
       "      <td>1999-2000</td>\n",
       "      <td>1999</td>\n",
       "      <td>1900-01-01 07:40:00</td>\n",
       "      <td>Wednesday</td>\n",
       "      <td>...</td>\n",
       "      <td>42.285268</td>\n",
       "      <td>-71.075901</td>\n",
       "      <td>NaN</td>\n",
       "      <td>9</td>\n",
       "      <td>12</td>\n",
       "      <td>543</td>\n",
       "      <td>Suffolk County</td>\n",
       "      <td>25</td>\n",
       "      <td>25025</td>\n",
       "      <td>11.0</td>\n",
       "    </tr>\n",
       "  </tbody>\n",
       "</table>\n",
       "<p>5 rows × 50 columns</p>\n",
       "</div>"
      ],
      "text/plain": [
       "   uid nces_school_id                  school_name  nces_district_id   \n",
       "0    1   080480000707        Columbine High School          804800.0  \\\n",
       "1    2   220054000422  Scotlandville Middle School         2200540.0   \n",
       "2    3   130441001591         Heritage High School         1304410.0   \n",
       "3    4   421899003847     John Bartram High School         4218990.0   \n",
       "4    5   250279000225       Dorchester High School         2502790.0   \n",
       "\n",
       "                          district_name       date school_year  year   \n",
       "0                  Jefferson County R-1 1999-04-20   1998-1999  1999  \\\n",
       "1  East Baton Rouge Parish School Board 1999-04-22   1998-1999  1999   \n",
       "2                       Rockdale County 1999-05-20   1998-1999  1999   \n",
       "3                  Philadelphia City SD 1999-10-04   1999-2000  1999   \n",
       "4                                Boston 1999-11-03   1999-2000  1999   \n",
       "\n",
       "                 time day_of_week  ...        lat        long staffing   \n",
       "0 1900-01-01 11:19:00     Tuesday  ...  39.603910 -105.075000     89.6  \\\n",
       "1 1900-01-01 12:30:00    Thursday  ...  30.529958  -91.169966     39.0   \n",
       "2 1900-01-01 08:03:00    Thursday  ...  33.626922  -84.047960     84.0   \n",
       "3 1900-01-01 10:00:00      Monday  ...  39.921509  -75.234108     41.0   \n",
       "4 1900-01-01 07:40:00   Wednesday  ...  42.285268  -71.075901      NaN   \n",
       "\n",
       "   low_grade  high_grade  lunch                   county state_fips   \n",
       "0          9          12     41         Jefferson County          8  \\\n",
       "1          6           8    495  East Baton Rouge Parish         22   \n",
       "2          9          12    125          Rockdale County         13   \n",
       "3          9          12   2007      Philadelphia County         42   \n",
       "4          9          12    543           Suffolk County         25   \n",
       "\n",
       "   county_fips ulocale  \n",
       "0         8059    21.0  \n",
       "1        22033    12.0  \n",
       "2        13247    21.0  \n",
       "3        42101    11.0  \n",
       "4        25025    11.0  \n",
       "\n",
       "[5 rows x 50 columns]"
      ]
     },
     "execution_count": 11,
     "metadata": {},
     "output_type": "execute_result"
    }
   ],
   "source": [
    "print(\"Shape of the data set:\", df.shape)\n",
    "df.head()"
   ]
  },
  {
   "cell_type": "code",
   "execution_count": 12,
   "metadata": {},
   "outputs": [
    {
     "name": "stdout",
     "output_type": "stream",
     "text": [
      "Latest and earliest shooting events\n",
      "2023-02-02 00:00:00 1999-04-20 00:00:00\n",
      "Days covered: 8689\n"
     ]
    }
   ],
   "source": [
    "print(\"Latest and earliest shooting events\")\n",
    "print(df['date'].max(), df['date'].min())\n",
    "print(\"Days covered:\", (df['date'].max() - df['date'].min()).days)"
   ]
  },
  {
   "cell_type": "code",
   "execution_count": 13,
   "metadata": {},
   "outputs": [
    {
     "name": "stdout",
     "output_type": "stream",
     "text": [
      "one school shooting per days:\n"
     ]
    },
    {
     "data": {
      "text/plain": [
       "23.805479452054794"
      ]
     },
     "execution_count": 13,
     "metadata": {},
     "output_type": "execute_result"
    }
   ],
   "source": [
    "print(\"one school shooting per days:\")\n",
    "(df['date'].max() - df['date'].min()).days / len(df)"
   ]
  },
  {
   "cell_type": "code",
   "execution_count": 14,
   "metadata": {},
   "outputs": [
    {
     "name": "stdout",
     "output_type": "stream",
     "text": [
      "Casualties\n",
      "sum 601\n",
      "count    365.000000\n",
      "mean       1.646575\n",
      "std        3.945859\n",
      "min        0.000000\n",
      "25%        0.000000\n",
      "50%        1.000000\n",
      "75%        1.000000\n",
      "max       34.000000\n",
      "Name: casualties, dtype: float64\n",
      "\n",
      "Deaths\n",
      "sum 191\n",
      "count    365.000000\n",
      "mean       0.523288\n",
      "std        2.214495\n",
      "min        0.000000\n",
      "25%        0.000000\n",
      "50%        0.000000\n",
      "75%        0.000000\n",
      "max       26.000000\n",
      "Name: killed, dtype: float64\n",
      "\n",
      "injured\n",
      "sum 412\n",
      "count    365.000000\n",
      "mean       1.128767\n",
      "std        2.268361\n",
      "min        0.000000\n",
      "25%        0.000000\n",
      "50%        1.000000\n",
      "75%        1.000000\n",
      "max       21.000000\n",
      "Name: injured, dtype: float64\n"
     ]
    }
   ],
   "source": [
    "print(\"Casualties\")\n",
    "print(\"sum\", df['casualties'].sum())\n",
    "print(df['casualties'].describe())\n",
    "print()\n",
    "print(\"Deaths\")\n",
    "print(\"sum\", df['killed'].sum())\n",
    "print(df['killed'].describe())\n",
    "print()\n",
    "print(\"injured\")\n",
    "print(\"sum\", df['injured'].sum())\n",
    "print(df['injured'].describe())"
   ]
  },
  {
   "cell_type": "markdown",
   "metadata": {},
   "source": [
    "\n",
    "Let's check how big shooting problem is in the US and let have a closer look at the age of the shooter.\n",
    "\n",
    "Shootings per year:"
   ]
  },
  {
   "cell_type": "code",
   "execution_count": 15,
   "metadata": {},
   "outputs": [
    {
     "data": {
      "application/vnd.plotly.v1+json": {
       "config": {
        "plotlyServerURL": "https://plot.ly"
       },
       "data": [
        {
         "alignmentgroup": "True",
         "hovertemplate": "year=%{x}<br>sum_casualties=%{y}<extra></extra>",
         "legendgroup": "",
         "marker": {
          "color": "#636efa",
          "pattern": {
           "shape": ""
          }
         },
         "name": "",
         "offsetgroup": "",
         "orientation": "v",
         "showlegend": false,
         "textposition": "auto",
         "type": "bar",
         "x": [
          1999,
          2000,
          2001,
          2002,
          2003,
          2004,
          2005,
          2006,
          2007,
          2008,
          2009,
          2010,
          2011,
          2012,
          2013,
          2014,
          2015,
          2016,
          2017,
          2018,
          2019,
          2020,
          2021,
          2022,
          2023
         ],
         "xaxis": "x",
         "y": [
          49,
          7,
          27,
          8,
          13,
          12,
          26,
          25,
          18,
          8,
          5,
          9,
          11,
          40,
          16,
          20,
          2,
          20,
          21,
          95,
          24,
          6,
          45,
          90,
          4
         ],
         "yaxis": "y"
        }
       ],
       "layout": {
        "barmode": "relative",
        "legend": {
         "tracegroupgap": 0
        },
        "margin": {
         "t": 60
        },
        "template": {
         "data": {
          "bar": [
           {
            "error_x": {
             "color": "#2a3f5f"
            },
            "error_y": {
             "color": "#2a3f5f"
            },
            "marker": {
             "line": {
              "color": "#E5ECF6",
              "width": 0.5
             },
             "pattern": {
              "fillmode": "overlay",
              "size": 10,
              "solidity": 0.2
             }
            },
            "type": "bar"
           }
          ],
          "barpolar": [
           {
            "marker": {
             "line": {
              "color": "#E5ECF6",
              "width": 0.5
             },
             "pattern": {
              "fillmode": "overlay",
              "size": 10,
              "solidity": 0.2
             }
            },
            "type": "barpolar"
           }
          ],
          "carpet": [
           {
            "aaxis": {
             "endlinecolor": "#2a3f5f",
             "gridcolor": "white",
             "linecolor": "white",
             "minorgridcolor": "white",
             "startlinecolor": "#2a3f5f"
            },
            "baxis": {
             "endlinecolor": "#2a3f5f",
             "gridcolor": "white",
             "linecolor": "white",
             "minorgridcolor": "white",
             "startlinecolor": "#2a3f5f"
            },
            "type": "carpet"
           }
          ],
          "choropleth": [
           {
            "colorbar": {
             "outlinewidth": 0,
             "ticks": ""
            },
            "type": "choropleth"
           }
          ],
          "contour": [
           {
            "colorbar": {
             "outlinewidth": 0,
             "ticks": ""
            },
            "colorscale": [
             [
              0,
              "#0d0887"
             ],
             [
              0.1111111111111111,
              "#46039f"
             ],
             [
              0.2222222222222222,
              "#7201a8"
             ],
             [
              0.3333333333333333,
              "#9c179e"
             ],
             [
              0.4444444444444444,
              "#bd3786"
             ],
             [
              0.5555555555555556,
              "#d8576b"
             ],
             [
              0.6666666666666666,
              "#ed7953"
             ],
             [
              0.7777777777777778,
              "#fb9f3a"
             ],
             [
              0.8888888888888888,
              "#fdca26"
             ],
             [
              1,
              "#f0f921"
             ]
            ],
            "type": "contour"
           }
          ],
          "contourcarpet": [
           {
            "colorbar": {
             "outlinewidth": 0,
             "ticks": ""
            },
            "type": "contourcarpet"
           }
          ],
          "heatmap": [
           {
            "colorbar": {
             "outlinewidth": 0,
             "ticks": ""
            },
            "colorscale": [
             [
              0,
              "#0d0887"
             ],
             [
              0.1111111111111111,
              "#46039f"
             ],
             [
              0.2222222222222222,
              "#7201a8"
             ],
             [
              0.3333333333333333,
              "#9c179e"
             ],
             [
              0.4444444444444444,
              "#bd3786"
             ],
             [
              0.5555555555555556,
              "#d8576b"
             ],
             [
              0.6666666666666666,
              "#ed7953"
             ],
             [
              0.7777777777777778,
              "#fb9f3a"
             ],
             [
              0.8888888888888888,
              "#fdca26"
             ],
             [
              1,
              "#f0f921"
             ]
            ],
            "type": "heatmap"
           }
          ],
          "heatmapgl": [
           {
            "colorbar": {
             "outlinewidth": 0,
             "ticks": ""
            },
            "colorscale": [
             [
              0,
              "#0d0887"
             ],
             [
              0.1111111111111111,
              "#46039f"
             ],
             [
              0.2222222222222222,
              "#7201a8"
             ],
             [
              0.3333333333333333,
              "#9c179e"
             ],
             [
              0.4444444444444444,
              "#bd3786"
             ],
             [
              0.5555555555555556,
              "#d8576b"
             ],
             [
              0.6666666666666666,
              "#ed7953"
             ],
             [
              0.7777777777777778,
              "#fb9f3a"
             ],
             [
              0.8888888888888888,
              "#fdca26"
             ],
             [
              1,
              "#f0f921"
             ]
            ],
            "type": "heatmapgl"
           }
          ],
          "histogram": [
           {
            "marker": {
             "pattern": {
              "fillmode": "overlay",
              "size": 10,
              "solidity": 0.2
             }
            },
            "type": "histogram"
           }
          ],
          "histogram2d": [
           {
            "colorbar": {
             "outlinewidth": 0,
             "ticks": ""
            },
            "colorscale": [
             [
              0,
              "#0d0887"
             ],
             [
              0.1111111111111111,
              "#46039f"
             ],
             [
              0.2222222222222222,
              "#7201a8"
             ],
             [
              0.3333333333333333,
              "#9c179e"
             ],
             [
              0.4444444444444444,
              "#bd3786"
             ],
             [
              0.5555555555555556,
              "#d8576b"
             ],
             [
              0.6666666666666666,
              "#ed7953"
             ],
             [
              0.7777777777777778,
              "#fb9f3a"
             ],
             [
              0.8888888888888888,
              "#fdca26"
             ],
             [
              1,
              "#f0f921"
             ]
            ],
            "type": "histogram2d"
           }
          ],
          "histogram2dcontour": [
           {
            "colorbar": {
             "outlinewidth": 0,
             "ticks": ""
            },
            "colorscale": [
             [
              0,
              "#0d0887"
             ],
             [
              0.1111111111111111,
              "#46039f"
             ],
             [
              0.2222222222222222,
              "#7201a8"
             ],
             [
              0.3333333333333333,
              "#9c179e"
             ],
             [
              0.4444444444444444,
              "#bd3786"
             ],
             [
              0.5555555555555556,
              "#d8576b"
             ],
             [
              0.6666666666666666,
              "#ed7953"
             ],
             [
              0.7777777777777778,
              "#fb9f3a"
             ],
             [
              0.8888888888888888,
              "#fdca26"
             ],
             [
              1,
              "#f0f921"
             ]
            ],
            "type": "histogram2dcontour"
           }
          ],
          "mesh3d": [
           {
            "colorbar": {
             "outlinewidth": 0,
             "ticks": ""
            },
            "type": "mesh3d"
           }
          ],
          "parcoords": [
           {
            "line": {
             "colorbar": {
              "outlinewidth": 0,
              "ticks": ""
             }
            },
            "type": "parcoords"
           }
          ],
          "pie": [
           {
            "automargin": true,
            "type": "pie"
           }
          ],
          "scatter": [
           {
            "fillpattern": {
             "fillmode": "overlay",
             "size": 10,
             "solidity": 0.2
            },
            "type": "scatter"
           }
          ],
          "scatter3d": [
           {
            "line": {
             "colorbar": {
              "outlinewidth": 0,
              "ticks": ""
             }
            },
            "marker": {
             "colorbar": {
              "outlinewidth": 0,
              "ticks": ""
             }
            },
            "type": "scatter3d"
           }
          ],
          "scattercarpet": [
           {
            "marker": {
             "colorbar": {
              "outlinewidth": 0,
              "ticks": ""
             }
            },
            "type": "scattercarpet"
           }
          ],
          "scattergeo": [
           {
            "marker": {
             "colorbar": {
              "outlinewidth": 0,
              "ticks": ""
             }
            },
            "type": "scattergeo"
           }
          ],
          "scattergl": [
           {
            "marker": {
             "colorbar": {
              "outlinewidth": 0,
              "ticks": ""
             }
            },
            "type": "scattergl"
           }
          ],
          "scattermapbox": [
           {
            "marker": {
             "colorbar": {
              "outlinewidth": 0,
              "ticks": ""
             }
            },
            "type": "scattermapbox"
           }
          ],
          "scatterpolar": [
           {
            "marker": {
             "colorbar": {
              "outlinewidth": 0,
              "ticks": ""
             }
            },
            "type": "scatterpolar"
           }
          ],
          "scatterpolargl": [
           {
            "marker": {
             "colorbar": {
              "outlinewidth": 0,
              "ticks": ""
             }
            },
            "type": "scatterpolargl"
           }
          ],
          "scatterternary": [
           {
            "marker": {
             "colorbar": {
              "outlinewidth": 0,
              "ticks": ""
             }
            },
            "type": "scatterternary"
           }
          ],
          "surface": [
           {
            "colorbar": {
             "outlinewidth": 0,
             "ticks": ""
            },
            "colorscale": [
             [
              0,
              "#0d0887"
             ],
             [
              0.1111111111111111,
              "#46039f"
             ],
             [
              0.2222222222222222,
              "#7201a8"
             ],
             [
              0.3333333333333333,
              "#9c179e"
             ],
             [
              0.4444444444444444,
              "#bd3786"
             ],
             [
              0.5555555555555556,
              "#d8576b"
             ],
             [
              0.6666666666666666,
              "#ed7953"
             ],
             [
              0.7777777777777778,
              "#fb9f3a"
             ],
             [
              0.8888888888888888,
              "#fdca26"
             ],
             [
              1,
              "#f0f921"
             ]
            ],
            "type": "surface"
           }
          ],
          "table": [
           {
            "cells": {
             "fill": {
              "color": "#EBF0F8"
             },
             "line": {
              "color": "white"
             }
            },
            "header": {
             "fill": {
              "color": "#C8D4E3"
             },
             "line": {
              "color": "white"
             }
            },
            "type": "table"
           }
          ]
         },
         "layout": {
          "annotationdefaults": {
           "arrowcolor": "#2a3f5f",
           "arrowhead": 0,
           "arrowwidth": 1
          },
          "autotypenumbers": "strict",
          "coloraxis": {
           "colorbar": {
            "outlinewidth": 0,
            "ticks": ""
           }
          },
          "colorscale": {
           "diverging": [
            [
             0,
             "#8e0152"
            ],
            [
             0.1,
             "#c51b7d"
            ],
            [
             0.2,
             "#de77ae"
            ],
            [
             0.3,
             "#f1b6da"
            ],
            [
             0.4,
             "#fde0ef"
            ],
            [
             0.5,
             "#f7f7f7"
            ],
            [
             0.6,
             "#e6f5d0"
            ],
            [
             0.7,
             "#b8e186"
            ],
            [
             0.8,
             "#7fbc41"
            ],
            [
             0.9,
             "#4d9221"
            ],
            [
             1,
             "#276419"
            ]
           ],
           "sequential": [
            [
             0,
             "#0d0887"
            ],
            [
             0.1111111111111111,
             "#46039f"
            ],
            [
             0.2222222222222222,
             "#7201a8"
            ],
            [
             0.3333333333333333,
             "#9c179e"
            ],
            [
             0.4444444444444444,
             "#bd3786"
            ],
            [
             0.5555555555555556,
             "#d8576b"
            ],
            [
             0.6666666666666666,
             "#ed7953"
            ],
            [
             0.7777777777777778,
             "#fb9f3a"
            ],
            [
             0.8888888888888888,
             "#fdca26"
            ],
            [
             1,
             "#f0f921"
            ]
           ],
           "sequentialminus": [
            [
             0,
             "#0d0887"
            ],
            [
             0.1111111111111111,
             "#46039f"
            ],
            [
             0.2222222222222222,
             "#7201a8"
            ],
            [
             0.3333333333333333,
             "#9c179e"
            ],
            [
             0.4444444444444444,
             "#bd3786"
            ],
            [
             0.5555555555555556,
             "#d8576b"
            ],
            [
             0.6666666666666666,
             "#ed7953"
            ],
            [
             0.7777777777777778,
             "#fb9f3a"
            ],
            [
             0.8888888888888888,
             "#fdca26"
            ],
            [
             1,
             "#f0f921"
            ]
           ]
          },
          "colorway": [
           "#636efa",
           "#EF553B",
           "#00cc96",
           "#ab63fa",
           "#FFA15A",
           "#19d3f3",
           "#FF6692",
           "#B6E880",
           "#FF97FF",
           "#FECB52"
          ],
          "font": {
           "color": "#2a3f5f"
          },
          "geo": {
           "bgcolor": "white",
           "lakecolor": "white",
           "landcolor": "#E5ECF6",
           "showlakes": true,
           "showland": true,
           "subunitcolor": "white"
          },
          "hoverlabel": {
           "align": "left"
          },
          "hovermode": "closest",
          "mapbox": {
           "style": "light"
          },
          "paper_bgcolor": "white",
          "plot_bgcolor": "#E5ECF6",
          "polar": {
           "angularaxis": {
            "gridcolor": "white",
            "linecolor": "white",
            "ticks": ""
           },
           "bgcolor": "#E5ECF6",
           "radialaxis": {
            "gridcolor": "white",
            "linecolor": "white",
            "ticks": ""
           }
          },
          "scene": {
           "xaxis": {
            "backgroundcolor": "#E5ECF6",
            "gridcolor": "white",
            "gridwidth": 2,
            "linecolor": "white",
            "showbackground": true,
            "ticks": "",
            "zerolinecolor": "white"
           },
           "yaxis": {
            "backgroundcolor": "#E5ECF6",
            "gridcolor": "white",
            "gridwidth": 2,
            "linecolor": "white",
            "showbackground": true,
            "ticks": "",
            "zerolinecolor": "white"
           },
           "zaxis": {
            "backgroundcolor": "#E5ECF6",
            "gridcolor": "white",
            "gridwidth": 2,
            "linecolor": "white",
            "showbackground": true,
            "ticks": "",
            "zerolinecolor": "white"
           }
          },
          "shapedefaults": {
           "line": {
            "color": "#2a3f5f"
           }
          },
          "ternary": {
           "aaxis": {
            "gridcolor": "white",
            "linecolor": "white",
            "ticks": ""
           },
           "baxis": {
            "gridcolor": "white",
            "linecolor": "white",
            "ticks": ""
           },
           "bgcolor": "#E5ECF6",
           "caxis": {
            "gridcolor": "white",
            "linecolor": "white",
            "ticks": ""
           }
          },
          "title": {
           "x": 0.05
          },
          "xaxis": {
           "automargin": true,
           "gridcolor": "white",
           "linecolor": "white",
           "ticks": "",
           "title": {
            "standoff": 15
           },
           "zerolinecolor": "white",
           "zerolinewidth": 2
          },
          "yaxis": {
           "automargin": true,
           "gridcolor": "white",
           "linecolor": "white",
           "ticks": "",
           "title": {
            "standoff": 15
           },
           "zerolinecolor": "white",
           "zerolinewidth": 2
          }
         }
        },
        "xaxis": {
         "anchor": "y",
         "domain": [
          0,
          1
         ],
         "title": {
          "text": "year"
         }
        },
        "yaxis": {
         "anchor": "x",
         "domain": [
          0,
          1
         ],
         "title": {
          "text": "sum_casualties"
         }
        }
       }
      }
     },
     "metadata": {},
     "output_type": "display_data"
    }
   ],
   "source": [
    "casualties_per_year = df.groupby(['year']).agg(\n",
    "     sum_casualties = ('casualties','sum'),\n",
    "     sum=('year', 'count')\n",
    "     ).reset_index()\n",
    "fig = px.bar(casualties_per_year, x='year', y='sum_casualties')\n",
    "fig.show()"
   ]
  },
  {
   "cell_type": "markdown",
   "metadata": {},
   "source": [
    "We can see that there are some fluctuations within these 20 years, probably they are cause by the policies employed to prevent shootings.\n",
    "We see that during COVID pandemic the amount of incidents dropeed, but surprisingly it significantly increased to almost 100 accidents in 2022. \n",
    "\n",
    "Age of the shooter:"
   ]
  },
  {
   "cell_type": "code",
   "execution_count": 16,
   "metadata": {},
   "outputs": [
    {
     "name": "stderr",
     "output_type": "stream",
     "text": [
      "C:\\Users\\j\\AppData\\Local\\Temp\\ipykernel_17700\\169206493.py:4: SettingWithCopyWarning:\n",
      "\n",
      "\n",
      "A value is trying to be set on a copy of a slice from a DataFrame.\n",
      "Try using .loc[row_indexer,col_indexer] = value instead\n",
      "\n",
      "See the caveats in the documentation: https://pandas.pydata.org/pandas-docs/stable/user_guide/indexing.html#returning-a-view-versus-a-copy\n",
      "\n"
     ]
    },
    {
     "data": {
      "application/vnd.plotly.v1+json": {
       "config": {
        "plotlyServerURL": "https://plot.ly"
       },
       "data": [
        {
         "alignmentgroup": "True",
         "hovertemplate": "age_shooter1=%{x}<br>sum_age=%{y}<extra></extra>",
         "legendgroup": "",
         "marker": {
          "color": "#636efa",
          "pattern": {
           "shape": ""
          }
         },
         "name": "",
         "offsetgroup": "",
         "orientation": "v",
         "showlegend": false,
         "textposition": "auto",
         "type": "bar",
         "x": [
          6,
          7,
          8,
          9,
          11,
          12,
          13,
          14,
          15,
          16,
          17,
          18,
          19,
          20,
          21,
          22,
          23,
          24,
          25,
          26,
          27,
          28,
          29,
          30,
          32,
          33,
          34,
          38,
          39,
          41,
          42,
          44,
          45,
          47,
          48,
          49,
          50,
          53,
          54,
          55,
          56,
          72
         ],
         "xaxis": "x",
         "y": [
          3,
          1,
          3,
          1,
          2,
          9,
          11,
          30,
          47,
          39,
          35,
          16,
          14,
          5,
          4,
          2,
          2,
          1,
          2,
          2,
          1,
          5,
          1,
          2,
          3,
          1,
          1,
          2,
          1,
          2,
          1,
          2,
          2,
          2,
          1,
          1,
          1,
          3,
          1,
          1,
          1,
          1
         ],
         "yaxis": "y"
        }
       ],
       "layout": {
        "barmode": "relative",
        "legend": {
         "tracegroupgap": 0
        },
        "margin": {
         "t": 60
        },
        "template": {
         "data": {
          "bar": [
           {
            "error_x": {
             "color": "#2a3f5f"
            },
            "error_y": {
             "color": "#2a3f5f"
            },
            "marker": {
             "line": {
              "color": "#E5ECF6",
              "width": 0.5
             },
             "pattern": {
              "fillmode": "overlay",
              "size": 10,
              "solidity": 0.2
             }
            },
            "type": "bar"
           }
          ],
          "barpolar": [
           {
            "marker": {
             "line": {
              "color": "#E5ECF6",
              "width": 0.5
             },
             "pattern": {
              "fillmode": "overlay",
              "size": 10,
              "solidity": 0.2
             }
            },
            "type": "barpolar"
           }
          ],
          "carpet": [
           {
            "aaxis": {
             "endlinecolor": "#2a3f5f",
             "gridcolor": "white",
             "linecolor": "white",
             "minorgridcolor": "white",
             "startlinecolor": "#2a3f5f"
            },
            "baxis": {
             "endlinecolor": "#2a3f5f",
             "gridcolor": "white",
             "linecolor": "white",
             "minorgridcolor": "white",
             "startlinecolor": "#2a3f5f"
            },
            "type": "carpet"
           }
          ],
          "choropleth": [
           {
            "colorbar": {
             "outlinewidth": 0,
             "ticks": ""
            },
            "type": "choropleth"
           }
          ],
          "contour": [
           {
            "colorbar": {
             "outlinewidth": 0,
             "ticks": ""
            },
            "colorscale": [
             [
              0,
              "#0d0887"
             ],
             [
              0.1111111111111111,
              "#46039f"
             ],
             [
              0.2222222222222222,
              "#7201a8"
             ],
             [
              0.3333333333333333,
              "#9c179e"
             ],
             [
              0.4444444444444444,
              "#bd3786"
             ],
             [
              0.5555555555555556,
              "#d8576b"
             ],
             [
              0.6666666666666666,
              "#ed7953"
             ],
             [
              0.7777777777777778,
              "#fb9f3a"
             ],
             [
              0.8888888888888888,
              "#fdca26"
             ],
             [
              1,
              "#f0f921"
             ]
            ],
            "type": "contour"
           }
          ],
          "contourcarpet": [
           {
            "colorbar": {
             "outlinewidth": 0,
             "ticks": ""
            },
            "type": "contourcarpet"
           }
          ],
          "heatmap": [
           {
            "colorbar": {
             "outlinewidth": 0,
             "ticks": ""
            },
            "colorscale": [
             [
              0,
              "#0d0887"
             ],
             [
              0.1111111111111111,
              "#46039f"
             ],
             [
              0.2222222222222222,
              "#7201a8"
             ],
             [
              0.3333333333333333,
              "#9c179e"
             ],
             [
              0.4444444444444444,
              "#bd3786"
             ],
             [
              0.5555555555555556,
              "#d8576b"
             ],
             [
              0.6666666666666666,
              "#ed7953"
             ],
             [
              0.7777777777777778,
              "#fb9f3a"
             ],
             [
              0.8888888888888888,
              "#fdca26"
             ],
             [
              1,
              "#f0f921"
             ]
            ],
            "type": "heatmap"
           }
          ],
          "heatmapgl": [
           {
            "colorbar": {
             "outlinewidth": 0,
             "ticks": ""
            },
            "colorscale": [
             [
              0,
              "#0d0887"
             ],
             [
              0.1111111111111111,
              "#46039f"
             ],
             [
              0.2222222222222222,
              "#7201a8"
             ],
             [
              0.3333333333333333,
              "#9c179e"
             ],
             [
              0.4444444444444444,
              "#bd3786"
             ],
             [
              0.5555555555555556,
              "#d8576b"
             ],
             [
              0.6666666666666666,
              "#ed7953"
             ],
             [
              0.7777777777777778,
              "#fb9f3a"
             ],
             [
              0.8888888888888888,
              "#fdca26"
             ],
             [
              1,
              "#f0f921"
             ]
            ],
            "type": "heatmapgl"
           }
          ],
          "histogram": [
           {
            "marker": {
             "pattern": {
              "fillmode": "overlay",
              "size": 10,
              "solidity": 0.2
             }
            },
            "type": "histogram"
           }
          ],
          "histogram2d": [
           {
            "colorbar": {
             "outlinewidth": 0,
             "ticks": ""
            },
            "colorscale": [
             [
              0,
              "#0d0887"
             ],
             [
              0.1111111111111111,
              "#46039f"
             ],
             [
              0.2222222222222222,
              "#7201a8"
             ],
             [
              0.3333333333333333,
              "#9c179e"
             ],
             [
              0.4444444444444444,
              "#bd3786"
             ],
             [
              0.5555555555555556,
              "#d8576b"
             ],
             [
              0.6666666666666666,
              "#ed7953"
             ],
             [
              0.7777777777777778,
              "#fb9f3a"
             ],
             [
              0.8888888888888888,
              "#fdca26"
             ],
             [
              1,
              "#f0f921"
             ]
            ],
            "type": "histogram2d"
           }
          ],
          "histogram2dcontour": [
           {
            "colorbar": {
             "outlinewidth": 0,
             "ticks": ""
            },
            "colorscale": [
             [
              0,
              "#0d0887"
             ],
             [
              0.1111111111111111,
              "#46039f"
             ],
             [
              0.2222222222222222,
              "#7201a8"
             ],
             [
              0.3333333333333333,
              "#9c179e"
             ],
             [
              0.4444444444444444,
              "#bd3786"
             ],
             [
              0.5555555555555556,
              "#d8576b"
             ],
             [
              0.6666666666666666,
              "#ed7953"
             ],
             [
              0.7777777777777778,
              "#fb9f3a"
             ],
             [
              0.8888888888888888,
              "#fdca26"
             ],
             [
              1,
              "#f0f921"
             ]
            ],
            "type": "histogram2dcontour"
           }
          ],
          "mesh3d": [
           {
            "colorbar": {
             "outlinewidth": 0,
             "ticks": ""
            },
            "type": "mesh3d"
           }
          ],
          "parcoords": [
           {
            "line": {
             "colorbar": {
              "outlinewidth": 0,
              "ticks": ""
             }
            },
            "type": "parcoords"
           }
          ],
          "pie": [
           {
            "automargin": true,
            "type": "pie"
           }
          ],
          "scatter": [
           {
            "fillpattern": {
             "fillmode": "overlay",
             "size": 10,
             "solidity": 0.2
            },
            "type": "scatter"
           }
          ],
          "scatter3d": [
           {
            "line": {
             "colorbar": {
              "outlinewidth": 0,
              "ticks": ""
             }
            },
            "marker": {
             "colorbar": {
              "outlinewidth": 0,
              "ticks": ""
             }
            },
            "type": "scatter3d"
           }
          ],
          "scattercarpet": [
           {
            "marker": {
             "colorbar": {
              "outlinewidth": 0,
              "ticks": ""
             }
            },
            "type": "scattercarpet"
           }
          ],
          "scattergeo": [
           {
            "marker": {
             "colorbar": {
              "outlinewidth": 0,
              "ticks": ""
             }
            },
            "type": "scattergeo"
           }
          ],
          "scattergl": [
           {
            "marker": {
             "colorbar": {
              "outlinewidth": 0,
              "ticks": ""
             }
            },
            "type": "scattergl"
           }
          ],
          "scattermapbox": [
           {
            "marker": {
             "colorbar": {
              "outlinewidth": 0,
              "ticks": ""
             }
            },
            "type": "scattermapbox"
           }
          ],
          "scatterpolar": [
           {
            "marker": {
             "colorbar": {
              "outlinewidth": 0,
              "ticks": ""
             }
            },
            "type": "scatterpolar"
           }
          ],
          "scatterpolargl": [
           {
            "marker": {
             "colorbar": {
              "outlinewidth": 0,
              "ticks": ""
             }
            },
            "type": "scatterpolargl"
           }
          ],
          "scatterternary": [
           {
            "marker": {
             "colorbar": {
              "outlinewidth": 0,
              "ticks": ""
             }
            },
            "type": "scatterternary"
           }
          ],
          "surface": [
           {
            "colorbar": {
             "outlinewidth": 0,
             "ticks": ""
            },
            "colorscale": [
             [
              0,
              "#0d0887"
             ],
             [
              0.1111111111111111,
              "#46039f"
             ],
             [
              0.2222222222222222,
              "#7201a8"
             ],
             [
              0.3333333333333333,
              "#9c179e"
             ],
             [
              0.4444444444444444,
              "#bd3786"
             ],
             [
              0.5555555555555556,
              "#d8576b"
             ],
             [
              0.6666666666666666,
              "#ed7953"
             ],
             [
              0.7777777777777778,
              "#fb9f3a"
             ],
             [
              0.8888888888888888,
              "#fdca26"
             ],
             [
              1,
              "#f0f921"
             ]
            ],
            "type": "surface"
           }
          ],
          "table": [
           {
            "cells": {
             "fill": {
              "color": "#EBF0F8"
             },
             "line": {
              "color": "white"
             }
            },
            "header": {
             "fill": {
              "color": "#C8D4E3"
             },
             "line": {
              "color": "white"
             }
            },
            "type": "table"
           }
          ]
         },
         "layout": {
          "annotationdefaults": {
           "arrowcolor": "#2a3f5f",
           "arrowhead": 0,
           "arrowwidth": 1
          },
          "autotypenumbers": "strict",
          "coloraxis": {
           "colorbar": {
            "outlinewidth": 0,
            "ticks": ""
           }
          },
          "colorscale": {
           "diverging": [
            [
             0,
             "#8e0152"
            ],
            [
             0.1,
             "#c51b7d"
            ],
            [
             0.2,
             "#de77ae"
            ],
            [
             0.3,
             "#f1b6da"
            ],
            [
             0.4,
             "#fde0ef"
            ],
            [
             0.5,
             "#f7f7f7"
            ],
            [
             0.6,
             "#e6f5d0"
            ],
            [
             0.7,
             "#b8e186"
            ],
            [
             0.8,
             "#7fbc41"
            ],
            [
             0.9,
             "#4d9221"
            ],
            [
             1,
             "#276419"
            ]
           ],
           "sequential": [
            [
             0,
             "#0d0887"
            ],
            [
             0.1111111111111111,
             "#46039f"
            ],
            [
             0.2222222222222222,
             "#7201a8"
            ],
            [
             0.3333333333333333,
             "#9c179e"
            ],
            [
             0.4444444444444444,
             "#bd3786"
            ],
            [
             0.5555555555555556,
             "#d8576b"
            ],
            [
             0.6666666666666666,
             "#ed7953"
            ],
            [
             0.7777777777777778,
             "#fb9f3a"
            ],
            [
             0.8888888888888888,
             "#fdca26"
            ],
            [
             1,
             "#f0f921"
            ]
           ],
           "sequentialminus": [
            [
             0,
             "#0d0887"
            ],
            [
             0.1111111111111111,
             "#46039f"
            ],
            [
             0.2222222222222222,
             "#7201a8"
            ],
            [
             0.3333333333333333,
             "#9c179e"
            ],
            [
             0.4444444444444444,
             "#bd3786"
            ],
            [
             0.5555555555555556,
             "#d8576b"
            ],
            [
             0.6666666666666666,
             "#ed7953"
            ],
            [
             0.7777777777777778,
             "#fb9f3a"
            ],
            [
             0.8888888888888888,
             "#fdca26"
            ],
            [
             1,
             "#f0f921"
            ]
           ]
          },
          "colorway": [
           "#636efa",
           "#EF553B",
           "#00cc96",
           "#ab63fa",
           "#FFA15A",
           "#19d3f3",
           "#FF6692",
           "#B6E880",
           "#FF97FF",
           "#FECB52"
          ],
          "font": {
           "color": "#2a3f5f"
          },
          "geo": {
           "bgcolor": "white",
           "lakecolor": "white",
           "landcolor": "#E5ECF6",
           "showlakes": true,
           "showland": true,
           "subunitcolor": "white"
          },
          "hoverlabel": {
           "align": "left"
          },
          "hovermode": "closest",
          "mapbox": {
           "style": "light"
          },
          "paper_bgcolor": "white",
          "plot_bgcolor": "#E5ECF6",
          "polar": {
           "angularaxis": {
            "gridcolor": "white",
            "linecolor": "white",
            "ticks": ""
           },
           "bgcolor": "#E5ECF6",
           "radialaxis": {
            "gridcolor": "white",
            "linecolor": "white",
            "ticks": ""
           }
          },
          "scene": {
           "xaxis": {
            "backgroundcolor": "#E5ECF6",
            "gridcolor": "white",
            "gridwidth": 2,
            "linecolor": "white",
            "showbackground": true,
            "ticks": "",
            "zerolinecolor": "white"
           },
           "yaxis": {
            "backgroundcolor": "#E5ECF6",
            "gridcolor": "white",
            "gridwidth": 2,
            "linecolor": "white",
            "showbackground": true,
            "ticks": "",
            "zerolinecolor": "white"
           },
           "zaxis": {
            "backgroundcolor": "#E5ECF6",
            "gridcolor": "white",
            "gridwidth": 2,
            "linecolor": "white",
            "showbackground": true,
            "ticks": "",
            "zerolinecolor": "white"
           }
          },
          "shapedefaults": {
           "line": {
            "color": "#2a3f5f"
           }
          },
          "ternary": {
           "aaxis": {
            "gridcolor": "white",
            "linecolor": "white",
            "ticks": ""
           },
           "baxis": {
            "gridcolor": "white",
            "linecolor": "white",
            "ticks": ""
           },
           "bgcolor": "#E5ECF6",
           "caxis": {
            "gridcolor": "white",
            "linecolor": "white",
            "ticks": ""
           }
          },
          "title": {
           "x": 0.05
          },
          "xaxis": {
           "automargin": true,
           "gridcolor": "white",
           "linecolor": "white",
           "ticks": "",
           "title": {
            "standoff": 15
           },
           "zerolinecolor": "white",
           "zerolinewidth": 2
          },
          "yaxis": {
           "automargin": true,
           "gridcolor": "white",
           "linecolor": "white",
           "ticks": "",
           "title": {
            "standoff": 15
           },
           "zerolinecolor": "white",
           "zerolinewidth": 2
          }
         }
        },
        "xaxis": {
         "anchor": "y",
         "domain": [
          0,
          1
         ],
         "title": {
          "text": "age_shooter1"
         }
        },
        "yaxis": {
         "anchor": "x",
         "domain": [
          0,
          1
         ],
         "title": {
          "text": "sum_age"
         }
        }
       }
      }
     },
     "metadata": {},
     "output_type": "display_data"
    }
   ],
   "source": [
    "# remove empty lines\n",
    "age_of_the_shooter = df[df['age_shooter1'].notna()]\n",
    "# convert age to int\n",
    "age_of_the_shooter['age_shooter1'] = age_of_the_shooter['age_shooter1'].astype(int)\n",
    "age_of_the_shooter = age_of_the_shooter.groupby(['age_shooter1']).agg(\n",
    "     sum_age = ('age_shooter1','count')\n",
    "     ).reset_index()\n",
    "fig = px.bar(age_of_the_shooter, x='age_shooter1', y='sum_age')\n",
    "fig.show()"
   ]
  },
  {
   "cell_type": "markdown",
   "metadata": {},
   "source": [
    "As the diagrams show the age of the shooter is usually between 13 and 20 years old, let's check the median:"
   ]
  },
  {
   "cell_type": "code",
   "execution_count": 17,
   "metadata": {},
   "outputs": [
    {
     "data": {
      "text/plain": [
       "16.0"
      ]
     },
     "execution_count": 17,
     "metadata": {},
     "output_type": "execute_result"
    }
   ],
   "source": [
    "ages = df[df['age_shooter1'].notna()]\n",
    "np.median(ages['age_shooter1'])"
   ]
  },
  {
   "cell_type": "markdown",
   "metadata": {},
   "source": [
    "This investigation shows that indeed the shooters are usually students not adult people with probably mental issues. \n",
    "This insight will be a starting point for our investigation."
   ]
  },
  {
   "cell_type": "markdown",
   "metadata": {},
   "source": [
    "# Data analysis \n",
    "\n",
    "Diagrams from that part are saved directly to folders and will be later used for visualizations in webpage.\n",
    "\n",
    "## Aggregate by time\n",
    "\n",
    "We will have a look if there are any date time patterns within data.\n"
   ]
  },
  {
   "cell_type": "markdown",
   "metadata": {},
   "source": [
    "### Yearly victims amount and accidents\n",
    "Firstly we will look what is the trend for the last years."
   ]
  },
  {
   "cell_type": "code",
   "execution_count": 18,
   "metadata": {},
   "outputs": [],
   "source": [
    "shootings_per_year = df.groupby(['year']).agg(\n",
    "     sum_killed = ('killed','sum'),\n",
    "     sum_injured = ('injured','sum'),\n",
    "     sum=('year', 'count')\n",
    "     ).reset_index()"
   ]
  },
  {
   "cell_type": "code",
   "execution_count": 34,
   "metadata": {},
   "outputs": [
    {
     "name": "stderr",
     "output_type": "stream",
     "text": [
      "c:\\Users\\j\\miniconda3\\envs\\social-data-viz\\lib\\site-packages\\plotly\\graph_objs\\_deprecations.py:378: DeprecationWarning:\n",
      "\n",
      "plotly.graph_objs.Line is deprecated.\n",
      "Please replace it with one of the following more specific types\n",
      "  - plotly.graph_objs.scatter.Line\n",
      "  - plotly.graph_objs.layout.shape.Line\n",
      "  - etc.\n",
      "\n",
      "\n"
     ]
    }
   ],
   "source": [
    "fig = go.Figure(\n",
    "    data = [\n",
    "        go.Bar(\n",
    "            x=shootings_per_year['year'], \n",
    "            y=shootings_per_year['sum_injured'], \n",
    "            offsetgroup=0, name='People injured', \n",
    "            hovertemplate='Year: %{x} <br> Injured: %{y}', \n",
    "            hovertextsrc='',\n",
    "            ),\n",
    "        go.Bar(\n",
    "            x=shootings_per_year['year'], \n",
    "            y=shootings_per_year['sum_killed'], \n",
    "            customdata=shootings_per_year['sum_killed'], \n",
    "            offsetgroup=0, name='People killed', \n",
    "            hovertemplate='Year: %{x} <br> Killed: %{customdata}',\n",
    "            ),\n",
    "        go.Line(\n",
    "            x=shootings_per_year['year'], \n",
    "            y=shootings_per_year['sum'], \n",
    "            name='All incidents', \n",
    "            hovertemplate='Year: %{x} <br> Incidents count: %{y}',\n",
    "            ),\n",
    "    ]\n",
    ")\n",
    "\n",
    "fig.update_traces(\n",
    "    marker=dict(\n",
    "        line=dict(\n",
    "            width=1,\n",
    "            color=color_light_accent\n",
    "        )\n",
    "    )\n",
    ")\n",
    "\n",
    "fig.update_layout(\n",
    "    width=630, \n",
    "    height=500,\n",
    "    title=\"School shooting casualties vs occurences per year\",\n",
    "    title_x=.5,\n",
    "    legend=dict(\n",
    "        yanchor=\"top\",\n",
    "        y=0.99,\n",
    "        xanchor=\"left\",\n",
    "        x=0.01\n",
    "    ),\n",
    "    xaxis=dict(\n",
    "        tickmode='linear',\n",
    "        tick0=0,\n",
    "        dtick=1,\n",
    "        showline=True,\n",
    "        mirror=True,\n",
    "        linecolor=\"#000000\"\n",
    "    ),\n",
    "    yaxis=dict(\n",
    "        showline=True,\n",
    "        mirror=True,\n",
    "        linecolor=\"#000000\",\n",
    "    ),\n",
    "    xaxis_title=\"Year\",\n",
    "    yaxis_title=\"Count of casualties/occurences\",\n",
    "    font=dict(family='Rubik', size=12, color=color_dark),\n",
    "    plot_bgcolor=color_light,\n",
    "    modebar=dict(\n",
    "        remove=[\n",
    "             \"autoScale2d\", \"autoscale\", \"editInChartStudio\", \"editinchartstudio\", \"hoverCompareCartesian\", \"hovercompare\", \"lasso\", \"lasso2d\", \"orbitRotation\", \"orbitrotation\", \"pan\", \"pan2d\", \"pan3d\", \"reset\", \"resetCameraDefault3d\", \"resetCameraLastSave3d\", \"resetGeo\", \"resetSankeyGroup\", \"resetScale2d\", \"resetViewMapbox\", \"resetViews\", \"resetcameradefault\", \"resetcameralastsave\", \"resetsankeygroup\", \"resetscale\", \"resetview\", \"resetviews\", \"select\", \"select2d\", \"sendDataToCloud\", \"senddatatocloud\", \"tableRotation\", \"tablerotation\", \"toImage\", \"toggleHover\", \"toggleSpikelines\", \"togglehover\", \"togglespikelines\", \"toimage\", \"zoom\", \"zoom2d\", \"zoom3d\", \"zoomIn2d\", \"zoomInGeo\", \"zoomInMapbox\", \"zoomOut2d\", \"zoomOutGeo\", \"zoomOutMapbox\", \"zoomin\", \"zoomout\"\n",
    "        ],\n",
    "        orientation='h',\n",
    "    ),\n",
    "    colorway=[color_dark_accent_2, color_dark_accent, color_highlight],\n",
    "    legend_traceorder=\"reversed\", \n",
    "    barmode='stack'\n",
    ") \n",
    "# saving\n",
    "chart_div = plotly.offline.plot(fig, output_type='div')\n",
    "with open(include_path + \"shootings_details.html\", 'w') as f:\n",
    "    f.write(chart_div)"
   ]
  },
  {
   "cell_type": "markdown",
   "metadata": {},
   "source": [
    "We see that there are some fluctuations, and usually the number of killed people is quite low, except for the years with massive shootings (1999, 2012, 2018 and 2022). In 2018 and 2022 we observe a big rise in both killed and injured victims due to the incidents in Santa Fe high School and Marjory Stoneman Douglas High school (2018) and Robb Elementary School (2022). \n",
    "\n",
    "Between 1999 and 2017 the number of accidents per year was quite similar, while years 2018 and 2022 have an outstanding number of both killed and injured people. This indicate that the gun problem is far from gone."
   ]
  },
  {
   "cell_type": "markdown",
   "metadata": {},
   "source": [
    "### Hour\n",
    "Diagram of time of all the shootings."
   ]
  },
  {
   "cell_type": "code",
   "execution_count": 35,
   "metadata": {},
   "outputs": [],
   "source": [
    "# hour\n",
    "df['hour'] = df['time'].dt.hour\n",
    "shootings_per_hour = df.loc[:, ['hour']]\n",
    "shootings_per_hour = shootings_per_hour.groupby(\n",
    "    ['hour']\n",
    "    ).aggregate(\n",
    "        count=('hour', 'count')\n",
    "        ).reset_index()\n",
    "fig = px.bar(shootings_per_hour, x=\"hour\", y=\"count\", height=350, width=630)\n",
    "\n",
    "fig.update_traces(\n",
    "    hovertemplate='Hour: %{x} <br>Incidents: %{y}',\n",
    "    marker_line_color=color_dark_accent,\n",
    "    marker_color=color_dark_accent_2\n",
    ")\n",
    "fig.update_layout(\n",
    "    title=\"Aggregated school shootings per hour\",\n",
    "    title_x=.5,\n",
    "    legend_title=\"Incidents\",\n",
    "    xaxis_range=[0, 23],\n",
    "    xaxis=dict(\n",
    "        tickmode='linear',\n",
    "        tick0=0,\n",
    "        dtick=1,\n",
    "        showline=True,\n",
    "        mirror=True,\n",
    "        linecolor=\"#000000\"\n",
    "    ),\n",
    "    yaxis=dict(\n",
    "        showline=True,\n",
    "        mirror=True,\n",
    "        linecolor=\"#000000\"\n",
    "    ),\n",
    "    xaxis_title=\"Hour\",\n",
    "    yaxis_title=\"Count\",\n",
    "    font=dict(family='Rubik', size=12, color=color_dark),\n",
    "    plot_bgcolor=color_light,\n",
    "    modebar=dict(\n",
    "        remove=[\n",
    "             \"autoScale2d\", \"autoscale\", \"editInChartStudio\", \"editinchartstudio\", \"hoverCompareCartesian\", \"hovercompare\", \"lasso\", \"lasso2d\", \"orbitRotation\", \"orbitrotation\", \"pan\", \"pan2d\", \"pan3d\", \"reset\", \"resetCameraDefault3d\", \"resetCameraLastSave3d\", \"resetGeo\", \"resetSankeyGroup\", \"resetScale2d\", \"resetViewMapbox\", \"resetViews\", \"resetcameradefault\", \"resetcameralastsave\", \"resetsankeygroup\", \"resetscale\", \"resetview\", \"resetviews\", \"select\", \"select2d\", \"sendDataToCloud\", \"senddatatocloud\", \"tableRotation\", \"tablerotation\", \"toImage\", \"toggleHover\", \"toggleSpikelines\", \"togglehover\", \"togglespikelines\", \"toimage\", \"zoom\", \"zoom2d\", \"zoom3d\", \"zoomIn2d\", \"zoomInGeo\", \"zoomInMapbox\", \"zoomOut2d\", \"zoomOutGeo\", \"zoomOutMapbox\", \"zoomin\", \"zoomout\"\n",
    "        ],\n",
    "        orientation='h',\n",
    "    ),\n",
    ")\n",
    "\n",
    "chart_div = plotly.offline.plot(fig, output_type='div')\n",
    "with open(include_path + \"shootings_hour.html\", 'w') as f:\n",
    "    f.write(chart_div)"
   ]
  },
  {
   "cell_type": "markdown",
   "metadata": {},
   "source": [
    "As expected most of the incident happen during school hours, there is only one outstanding observation that happen on a parking lot.\n",
    "\n",
    "There is no particular hour that would be more dangerous for kids, although we can observe a small drop of incidents during lunch hours (10-12)."
   ]
  },
  {
   "cell_type": "markdown",
   "metadata": {},
   "source": [
    "### Month\n",
    "Diagram of all the monts and accidents that happened."
   ]
  },
  {
   "cell_type": "code",
   "execution_count": 36,
   "metadata": {},
   "outputs": [],
   "source": [
    "# month\n",
    "df['month'] = df['date'].dt.month\n",
    "shootings_per_month = df.loc[:, ['month']]\n",
    "shootings_per_month = shootings_per_month.groupby(\n",
    "    ['month']\n",
    "    ).aggregate(\n",
    "        count=('month', 'count')\n",
    "        ).reset_index()\n",
    "fig = px.bar(shootings_per_month, x=\"month\", y=\"count\", height=350, width=630)\n",
    "\n",
    "fig.update_traces(\n",
    "    hovertemplate='Month: %{x} <br> Incidents: %{y}',\n",
    "    marker_line_color=color_dark_accent,\n",
    "    marker_color=color_dark_accent_2\n",
    ")\n",
    "fig.update_layout(\n",
    "    title=\"Aggregated school shootings per weekday\",\n",
    "    title_x=.5,\n",
    "    legend_title=\"Incidents\",\n",
    "    xaxis=dict(\n",
    "        tickmode='linear',\n",
    "        tick0=1,\n",
    "        dtick=1,\n",
    "                showline=True,\n",
    "        mirror=True,\n",
    "        linecolor=\"#000000\"\n",
    "    ),\n",
    "    yaxis=dict(\n",
    "        showline=True,\n",
    "        mirror=True,\n",
    "        linecolor=\"#000000\"\n",
    "    ),\n",
    "    xaxis_title=\"Month\",\n",
    "    yaxis_title=\"Count\",\n",
    "    font=dict(family='Rubik', size=12, color=color_dark),\n",
    "    plot_bgcolor=color_light,\n",
    "    modebar=dict(\n",
    "        remove=[\n",
    "             \"autoScale2d\", \"autoscale\", \"editInChartStudio\", \"editinchartstudio\", \"hoverCompareCartesian\", \"hovercompare\", \"lasso\", \"lasso2d\", \"orbitRotation\", \"orbitrotation\", \"pan\", \"pan2d\", \"pan3d\", \"reset\", \"resetCameraDefault3d\", \"resetCameraLastSave3d\", \"resetGeo\", \"resetSankeyGroup\", \"resetScale2d\", \"resetViewMapbox\", \"resetViews\", \"resetcameradefault\", \"resetcameralastsave\", \"resetsankeygroup\", \"resetscale\", \"resetview\", \"resetviews\", \"select\", \"select2d\", \"sendDataToCloud\", \"senddatatocloud\", \"tableRotation\", \"tablerotation\", \"toImage\", \"toggleHover\", \"toggleSpikelines\", \"togglehover\", \"togglespikelines\", \"toimage\", \"zoom\", \"zoom2d\", \"zoom3d\", \"zoomIn2d\", \"zoomInGeo\", \"zoomInMapbox\", \"zoomOut2d\", \"zoomOutGeo\", \"zoomOutMapbox\", \"zoomin\", \"zoomout\"\n",
    "        ],\n",
    "        orientation='h',\n",
    "    ),\n",
    ")\n",
    "\n",
    "\n",
    "chart_div = plotly.offline.plot(fig, output_type='div')\n",
    "with open(include_path + \"shootings_month.html\", 'w') as f:\n",
    "    f.write(chart_div)"
   ]
  },
  {
   "cell_type": "markdown",
   "metadata": {},
   "source": [
    "As expected, the lowest number of incidents is during the holiday moths (June, July, August).\n",
    "Month with the highest shooting incidents number is January, which may be surprising as in December the number of incidents is 2 times smaller. "
   ]
  },
  {
   "cell_type": "markdown",
   "metadata": {},
   "source": [
    "### Weekday\n",
    "\n",
    "Diagram presenting all the incidents per weekday"
   ]
  },
  {
   "cell_type": "code",
   "execution_count": 37,
   "metadata": {},
   "outputs": [],
   "source": [
    "# weekday\n",
    "cat = ['Monday', 'Tuesday', 'Wednesday', 'Thursday', 'Friday', 'Saturday', 'Sunday']\n",
    "shootings_per_weekday = df.loc[:, ['day_of_week']]\n",
    "shootings_per_weekday = shootings_per_weekday.groupby(\n",
    "    ['day_of_week']\n",
    "    ).aggregate(\n",
    "        count=('day_of_week', 'count')\n",
    "        ).reindex(cat)\n",
    "shootings_per_weekday['weekday'] = shootings_per_weekday.index\n",
    "\n",
    "fig = px.bar(shootings_per_weekday, x=\"weekday\",\n",
    "             y=\"count\", height=350, width=630)\n",
    "\n",
    "fig.update_traces(\n",
    "    hovertemplate='Weekday: %{x} <br> Incidents: %{y}',\n",
    "    marker_line_color=color_dark_accent,\n",
    "    marker_color=color_dark_accent_2\n",
    ")\n",
    "fig.update_layout(\n",
    "    title=\"Aggregated school shootings per month\",\n",
    "    title_x=.5,\n",
    "    xaxis_title=\"Weekday\",\n",
    "    yaxis_title=\"Count\",\n",
    "    xaxis=dict(\n",
    "        showline=True,\n",
    "        mirror=True,\n",
    "        linecolor=\"#000000\"\n",
    "    ),\n",
    "    yaxis=dict(\n",
    "        showline=True,\n",
    "        mirror=True,\n",
    "        linecolor=\"#000000\"\n",
    "    ),\n",
    "    font=dict(family='Rubik', size=12, color=color_dark),\n",
    "    plot_bgcolor=color_light,\n",
    "    modebar=dict(\n",
    "        remove=[\n",
    "             \"autoScale2d\", \"autoscale\", \"editInChartStudio\", \"editinchartstudio\", \"hoverCompareCartesian\", \"hovercompare\", \"lasso\", \"lasso2d\", \"orbitRotation\", \"orbitrotation\", \"pan\", \"pan2d\", \"pan3d\", \"reset\", \"resetCameraDefault3d\", \"resetCameraLastSave3d\", \"resetGeo\", \"resetSankeyGroup\", \"resetScale2d\", \"resetViewMapbox\", \"resetViews\", \"resetcameradefault\", \"resetcameralastsave\", \"resetsankeygroup\", \"resetscale\", \"resetview\", \"resetviews\", \"select\", \"select2d\", \"sendDataToCloud\", \"senddatatocloud\", \"tableRotation\", \"tablerotation\", \"toImage\", \"toggleHover\", \"toggleSpikelines\", \"togglehover\", \"togglespikelines\", \"toimage\", \"zoom\", \"zoom2d\", \"zoom3d\", \"zoomIn2d\", \"zoomInGeo\", \"zoomInMapbox\", \"zoomOut2d\", \"zoomOutGeo\", \"zoomOutMapbox\", \"zoomin\", \"zoomout\"\n",
    "        ],\n",
    "        orientation='h',\n",
    "    ),\n",
    ")\n",
    "\n",
    "chart_div = plotly.offline.plot(fig, output_type='div')\n",
    "with open(include_path + \"shootings_weekday.html\", 'w') as f:\n",
    "    f.write(chart_div)"
   ]
  },
  {
   "cell_type": "markdown",
   "metadata": {},
   "source": [
    "Again, there is no surprise there are no incidents during weekend. \n",
    "\n",
    "We can notice that the highest number of shootings happen in Tuesday."
   ]
  },
  {
   "cell_type": "markdown",
   "metadata": {},
   "source": [
    "### Year"
   ]
  },
  {
   "cell_type": "code",
   "execution_count": 38,
   "metadata": {},
   "outputs": [],
   "source": [
    "df['Year'] = df['date'].dt.year\n",
    "school_shooting_by_year = df.loc[:, ['Year']].value_counts().reset_index()"
   ]
  },
  {
   "cell_type": "code",
   "execution_count": 39,
   "metadata": {},
   "outputs": [
    {
     "data": {
      "image/png": "[encoded data removed]",
      "text/plain": [
       "<Figure size 2100x900 with 1 Axes>"
      ]
     },
     "metadata": {},
     "output_type": "display_data"
    }
   ],
   "source": [
    "# matplotlib configuration\n",
    "mpl_runtime_config_context = {\n",
    "    'axes.prop_cycle': f\"cycler('color', ['{color_highlight}', '{color_dark_accent}',])\",\n",
    "    'font.family': 'Rubik',\n",
    "    }\n",
    "\n",
    "with plt.rc_context(mpl_runtime_config_context):\n",
    "    fig = plt.figure(figsize=(7, 3), dpi=300)\n",
    "    plt.title(\"Total school shooting occurences per year in the USA\")\n",
    "    plt.xlabel(\"Year\")\n",
    "    plt.ylabel(\"School shooting occurences\")\n",
    "    plt.bar(school_shooting_by_year['Year'], school_shooting_by_year['count'], color='#3d3d3d')\n",
    "fig.savefig('../docs/assets/imgs/total_shootings.png', bbox_inches=\"tight\")"
   ]
  },
  {
   "cell_type": "markdown",
   "metadata": {},
   "source": [
    "### Accidents distribution per state"
   ]
  },
  {
   "cell_type": "code",
   "execution_count": 40,
   "metadata": {},
   "outputs": [],
   "source": [
    "school_shootings_by_state = df.loc[:, ['state', 'injured', 'killed']].value_counts().reset_index().groupby(\n",
    "    by=['state']\n",
    "    ).sum().reset_index()\n",
    "# load geojson with state data\n",
    "states_data = gpd.read_file(\"../../data/gz_2010_us_040_00_500k.json\")\n",
    "\n",
    "states_with_data = states_data.merge(school_shootings_by_state, left_on=\"NAME\", right_on=\"state\", how=\"outer\") \n",
    "states_with_data.fillna(0, inplace=True)\n",
    "\n",
    "# generate map\n",
    "\n",
    "map = folium.Map(location=[ 40, -96, ], zoom_start= 3.5, tiles=None)\n",
    "base_map = folium.FeatureGroup(name='BaseMap', overlay=True, control=False)\n",
    "folium.TileLayer(tiles='openstreetmap').add_to(base_map)\n",
    "base_map.add_to(map)\n",
    "\n",
    "style_function = lambda x: {'fillColor': '#ffffff', \n",
    "                            'color':'#000000', \n",
    "                            'fillOpacity': 0, \n",
    "                            'weight': 2 if x['properties']['STATE'] in ['06', '48', '12', '09', '37', '08'] else .1,\n",
    "                            }\n",
    "highlight_function = lambda x: {'fillColor': '#000000', \n",
    "                                'color':'#000000', \n",
    "                                'fillOpacity': 0.50, \n",
    "                                'weight': 0.1}\n",
    "overlay_1 = folium.features.GeoJson(\n",
    "    states_with_data,\n",
    "    style_function=style_function, \n",
    "    highlight_function=highlight_function, \n",
    "    tooltip=folium.features.GeoJsonTooltip(\n",
    "        fields=['NAME','count', 'injured', 'killed'],  # use fields from the json file\n",
    "        aliases=['State: ','Total occurences: ', 'Total injured victims: ', 'Total killed victims: '],\n",
    "        style=(\"background-color: white; color: #333333; font-family: arial; font-size: 12px; padding: 10px;\") \n",
    "    ),\n",
    ")\n",
    "overlay_2 = folium.features.GeoJson(\n",
    "    states_with_data,\n",
    "    style_function=style_function, \n",
    "    highlight_function=highlight_function, \n",
    "    tooltip=folium.features.GeoJsonTooltip(\n",
    "        fields=['NAME','count', 'injured', 'killed'],  # use fields from the json file\n",
    "        aliases=['State: ','Total occurences: ', 'Total amount of injured victims: ', 'Total amount of killed victims: '],\n",
    "        style=(\"background-color: white; color: #333333; font-family: arial; font-size: 12px; padding: 10px;\") \n",
    "    ),\n",
    ")\n",
    "\n",
    "layer1 = folium.FeatureGroup(name=\"School shooting total occurences\", control=True, overlay=False)\n",
    "ss_occurences = folium.Choropleth(\n",
    "            geo_data='../../data/gz_2010_us_040_00_500k.json',\n",
    "            name='School shooting occurence intensity',\n",
    "            data=states_with_data,\n",
    "            columns=['GEO_ID', 'count'],\n",
    "            key_on='feature.properties.GEO_ID',\n",
    "            fill_color='YlOrRd',\n",
    "            nan_fill_color=\"White\",\n",
    "            fill_opacity=0.7,\n",
    "            line_opacity=0.2,\n",
    "            legend_name='Count of total school shooting incidents',\n",
    "            line_color='black',\n",
    "        )\n",
    "ss_occurences.geojson.add_to(layer1) \n",
    "layer1.add_child(overlay_1)\n",
    "\n",
    "layer2 = folium.FeatureGroup(name='School shooting total deaths', control=True, overlay=False)\n",
    "ss_deaths = folium.Choropleth(\n",
    "            geo_data='../../data/gz_2010_us_040_00_500k.json',\n",
    "            name='School shooting deaths',\n",
    "            data=states_with_data,\n",
    "            columns=['GEO_ID', 'killed'],\n",
    "            key_on='feature.properties.GEO_ID',\n",
    "            fill_color='YlOrRd',\n",
    "            nan_fill_color=\"White\",\n",
    "            fill_opacity=0.7,\n",
    "            line_opacity=0.2,\n",
    "            legend_name='Count of total school shooting deaths',\n",
    "            line_color='black',\n",
    "        )\n",
    "ss_deaths.geojson.add_to(layer2) \n",
    "layer2.add_child(overlay_2)\n",
    "\n",
    "map.add_child(layer1)\n",
    "map.add_child(layer2)\n",
    "\n",
    "# map.keep_in_front(NIL)\n",
    "\n",
    "folium.LayerControl(collapsed=False).add_to(map)\n",
    "\n",
    "map.save(html_path + \"choropleth.html\")\n"
   ]
  },
  {
   "cell_type": "markdown",
   "metadata": {},
   "source": []
  },
  {
   "cell_type": "markdown",
   "metadata": {},
   "source": [
    "## Shooter characteristic\n",
    "\n",
    "Diagram with shooter age and enthicity with distinguishing between women and men."
   ]
  },
  {
   "cell_type": "code",
   "execution_count": 41,
   "metadata": {},
   "outputs": [],
   "source": [
    "races= {'a': 'Asian', 'ai':'American Indian','b':'Black','h':'Hispanic','w':'White'}\n",
    "def assign_race(race):\n",
    "    if race is np.nan:\n",
    "        return \"Not known\"\n",
    "    if race in races:\n",
    "        return races[race]\n",
    "    return \"Not known\""
   ]
  },
  {
   "cell_type": "code",
   "execution_count": 42,
   "metadata": {},
   "outputs": [],
   "source": [
    "df['gender_shooter1'].isna().sum()\n",
    "# assign race from dictionary\n",
    "df['race_ethnicity_shooter'] = df['race_ethnicity_shooter1'].apply(lambda x: assign_race(x))\n",
    "# reove cells where age of the shooter was not known\n",
    "df = df[df['age_shooter1'].notna()]\n",
    "# convert age to int\n",
    "df['age_shooter1'] = df['age_shooter1'].astype(int)\n",
    "# separate data for men and women\n",
    "women = df[df['gender_shooter1'] == 'f']\n",
    "men = df[df['gender_shooter1'] == 'm']\n",
    "# aggregate women\n",
    "women_ethnicity = women.loc[:,['age_shooter1','race_ethnicity_shooter']].value_counts(dropna=False).unstack() \n",
    "women_ethnicity = women_ethnicity.fillna(0)\n",
    "women_ethnicity = women_ethnicity.reset_index()\n",
    "#aggregate men\n",
    "men_ethnicity = men.loc[:,['age_shooter1','race_ethnicity_shooter']].value_counts(dropna=False).unstack() \n",
    "men_ethnicity = men_ethnicity.fillna(0)\n",
    "men_ethnicity = men_ethnicity.reset_index()"
   ]
  },
  {
   "cell_type": "code",
   "execution_count": 43,
   "metadata": {},
   "outputs": [],
   "source": [
    "marker_color = {\n",
    "    \"Black\":\"#fd7f6f\",\n",
    "    \"Not known\":\"#7eb0d5\",\n",
    "    \"White\": \"#b2e061\",\n",
    "    \"Hispanic\":\"#bd7ebe\",\n",
    "    \"American Indian\":\"#ffb55a\",\n",
    "    \"Asian\": \"#ffee65\",\n",
    "}"
   ]
  },
  {
   "cell_type": "code",
   "execution_count": 45,
   "metadata": {},
   "outputs": [
    {
     "data": {
      "text/plain": [
       "'../docs/assets/htmls/shooter_age_gender_distribution.html'"
      ]
     },
     "execution_count": 45,
     "metadata": {},
     "output_type": "execute_result"
    }
   ],
   "source": [
    "fig = make_subplots(rows=1, cols=2, column_widths=[0.3, 0.7], specs=[[{\"type\": \"bar\"}, {\"type\": \"bar\"}]], shared_xaxes=False,\n",
    "                    shared_yaxes=True, horizontal_spacing=0)\n",
    "\n",
    "base = np.zeros(shape=women_ethnicity.shape[0])\n",
    "base = pd.Series(base)\n",
    "for col in women_ethnicity.columns[1:]:\n",
    "    fig.append_trace(go.Bar(name=\"Ethincity \"+col,\n",
    "                            x=women_ethnicity[col],\n",
    "                            y=women_ethnicity['age_shooter1'],\n",
    "                            hovertemplate='Ethinicity: ' + col + '<br>Count: ' + women_ethnicity[col].map(\n",
    "                                '{:,.0f}'.format) + '<br>Age: ' + women_ethnicity['age_shooter1'].map('{:,.0f}'.format),\n",
    "                            offsetgroup=0,\n",
    "                            orientation='h',\n",
    "                            width=0.7,\n",
    "                            marker_color=marker_color[col],\n",
    "                            showlegend=False,\n",
    "                            base=base),\n",
    "                     1, 1)  # 1,1 represents row 1 column 1 in the plot grid\n",
    "    base = base.add(women_ethnicity[col])\n",
    "\n",
    "\n",
    "base = np.zeros(shape=men_ethnicity.shape[0])\n",
    "base = pd.Series(base)\n",
    "for col in men_ethnicity.columns[1:]:\n",
    "    fig.append_trace(go.Bar(name=\"Ethincity \"+col,\n",
    "                            x=men_ethnicity[col],\n",
    "                            y=men_ethnicity['age_shooter1'],\n",
    "                            hovertemplate='Ethinicity: ' + col + '<br>Count: ' + men_ethnicity[col].map(\n",
    "                                '{:,.0f}'.format) + '<br>Age: ' + men_ethnicity['age_shooter1'].map('{:,.0f}'.format),\n",
    "                            offsetgroup=1,\n",
    "                            orientation='h',\n",
    "                            width=0.7,\n",
    "                            marker_color=marker_color[col],\n",
    "                            showlegend=False,\n",
    "                            base=base),\n",
    "                     1, 2)  # 1,1 represents row 1 column 1 in the plot grid\n",
    "    base = base.add(men_ethnicity[col])\n",
    "\n",
    "fig.update_xaxes(showticklabels=False, title_text=\"Female\",\n",
    "                 row=1, col=1, range=[20, 0], fixedrange=True)\n",
    "fig.update_xaxes(showticklabels=False, title_text=\"Male\",\n",
    "                 row=1, col=2, fixedrange=True)\n",
    "\n",
    "fig.update_layout(\n",
    "    title_text=\"Age of the shooter with ethnicity distinguished\",\n",
    "    width=800,\n",
    "    height=700,\n",
    "    xaxis1={'side': 'top'},\n",
    "    xaxis2={'side': 'top'},\n",
    "    margin=dict(b=50, l=50, r=50, t=150),\n",
    "    barmode='relative',\n",
    "    modebar=dict(\n",
    "        remove=[\n",
    "            \"autoScale2d\", \"autoscale\", \"editInChartStudio\", \"editinchartstudio\", \"hoverCompareCartesian\", \"hovercompare\", \"lasso\", \"lasso2d\", \"orbitRotation\", \"orbitrotation\", \"pan\", \"pan2d\", \"pan3d\", \"reset\", \"resetCameraDefault3d\", \"resetCameraLastSave3d\", \"resetGeo\", \"resetSankeyGroup\", \"resetScale2d\", \"resetViewMapbox\", \"resetViews\", \"resetcameradefault\", \"resetcameralastsave\", \"resetsankeygroup\", \"resetscale\", \"resetview\", \"resetviews\", \"select\", \"select2d\", \"sendDataToCloud\", \"senddatatocloud\", \"tableRotation\", \"tablerotation\", \"toImage\", \"toggleHover\", \"toggleSpikelines\", \"togglehover\", \"togglespikelines\", \"toimage\", \"zoom\", \"zoom2d\", \"zoom3d\", \"zoomIn2d\", \"zoomInGeo\", \"zoomInMapbox\", \"zoomOut2d\", \"zoomOutGeo\", \"zoomOutMapbox\", \"zoomin\", \"zoomout\"\n",
    "        ],\n",
    "        orientation='h',\n",
    "    ),\n",
    ")\n",
    "\n",
    "plotly.offline.plot(fig, filename=html_path +\n",
    "                    \"shooter_age_gender_distribution.html\")\n"
   ]
  },
  {
   "cell_type": "markdown",
   "metadata": {},
   "source": [
    "Overall, most of the shooters were young male in their teens years. As we mentioned before there is a lot of unknown when it come to the shooters data, therefore almost 1/3 of the shooters do not have specified ethnicity.\n",
    "Another big group is white and black males.\n",
    "\n",
    "Female shooters also mostly do not have specified ethinicty group."
   ]
  },
  {
   "cell_type": "markdown",
   "metadata": {},
   "source": [
    "## Plot student's ethnicity distribution in schools\n",
    "\n",
    "A pie chart showing the ethnic breakdown of students in the attacked schools."
   ]
  },
  {
   "cell_type": "code",
   "execution_count": 46,
   "metadata": {},
   "outputs": [],
   "source": [
    "def plot_student_race_distribution(races, column_names, title, file_path):\n",
    "    races = races.dropna(axis=1)\n",
    "    races = races.loc[:, (races != 0).any(axis=0)]\n",
    "    names =[]\n",
    "    for c in races.columns:\n",
    "        names.append(column_names[c])\n",
    "    fig = px.pie(values=races.values[0], names=names, title=title, height=290, width=320)\n",
    "    fig.update_layout(uniformtext_minsize=6, uniformtext_mode='hide', legend=dict(\n",
    "        font=dict(size=10), \n",
    "        yanchor=\"top\",\n",
    "        y=-0.01,\n",
    "        xanchor=\"left\",\n",
    "        x=0.01\n",
    "        ),\n",
    "        margin=dict(l=20, r=20, t=20, b=20),\n",
    "        font_size=8, title_font_size=10)\n",
    "    fig.update_traces(hovertemplate='Ethnicity: %{label} <br>  Count: %{value}', textposition='inside')\n",
    "    fig.update_traces(textfont_size=8)\n",
    "    plotly.offline.plot(fig, filename=file_path, config=dict(displayModeBar=False))"
   ]
  },
  {
   "cell_type": "code",
   "execution_count": 47,
   "metadata": {},
   "outputs": [],
   "source": [
    "df.reset_index(drop=True, inplace=True)"
   ]
  },
  {
   "cell_type": "code",
   "execution_count": null,
   "metadata": {},
   "outputs": [],
   "source": [
    "column_names = {\n",
    "   'white':'White', \n",
    "   'black':'Black', \n",
    "   'hispanic':'Hispanic', \n",
    "   'asian':'Asian',\n",
    "   'american_indian_alaska_native':'American/Indian/Alaska native', \n",
    "   'hawaiian_native_pacific_islander':'Hawaiian native/Pacific islander'\n",
    "   }\n",
    "   \n",
    "df['ethnicity_diagram_path'] = np.nan\n",
    "for i in range(0, df.shape[0]):\n",
    "    races = df.loc[[i], ['white', 'black', 'hispanic', 'asian',\n",
    "       'american_indian_alaska_native', 'hawaiian_native_pacific_islander']]\n",
    "    races = races._convert(numeric=True)\n",
    "    schoolname = df.iloc[i]['school_name']\n",
    "    filepath = './ethinicity_diagrams/' + schoolname.replace('/', '_') +'_ethinicity.html'\n",
    "    filepathtosave= html_path + 'ethinicity_diagrams/' + schoolname.replace('/', '_') +'_ethinicity.html'\n",
    "    diagram_title = f\"Population of {schoolname} <br>({df.iloc[i]['school_type']} school)\"\n",
    "    plot_student_race_distribution(races, column_names, diagram_title, filepathtosave)\n",
    "    df.at[i,'ethnicity_diagram_path']= filepath"
   ]
  },
  {
   "cell_type": "code",
   "execution_count": null,
   "metadata": {},
   "outputs": [],
   "source": [
    "# Quick workaround for environment mismatch bug in pandas\n",
    "if df['ethnicity_diagram_path'].hasnans:\n",
    "    df['ethnicity_diagram_path'] = 'ethinicity_diagrams/' + df['school_name'].str.replace('/', '_') + '_ethinicity.html'"
   ]
  },
  {
   "cell_type": "markdown",
   "metadata": {},
   "source": [
    "We plot ethnic distribution for each school to later in the detailed map with accidents, be able to examine if this breakdown has any impact on choosing this school as a target.\n",
    "But quickly looking at the diagrams, we can notice that there is whole cross-section of data - there are school with only white people, mix with different majorities (black or white).\n",
    "Usually other ethinicities, like Hispanic, Hawaiian native etc., make up a minority of the school community."
   ]
  },
  {
   "cell_type": "markdown",
   "metadata": {},
   "source": [
    "## Map with student's ethnicity in school\n",
    "\n",
    "Detailed map with marked location of all of the incidents.\n",
    "For each school location there is a popup with information about the incidents and victioms as well as diagram showing ethnicity breakdown."
   ]
  },
  {
   "cell_type": "code",
   "execution_count": 49,
   "metadata": {},
   "outputs": [],
   "source": [
    "def generate_color(killed, injured):\n",
    "    if killed ==0 and injured==0:\n",
    "        return 'blue'\n",
    "    if killed ==0 :\n",
    "        return 'gray'\n",
    "    return 'crimson'\n",
    "\n",
    "def calculate_circle_radius(max_affected, current_affected):\n",
    "    return math.log(current_affected/ max_affected * 100 + 1.) * 2 + 4"
   ]
  },
  {
   "cell_type": "code",
   "execution_count": 98,
   "metadata": {},
   "outputs": [],
   "source": [
    "colors = {'blue': 'Incident without causalities', 'gray': 'Incident with injured', 'crimson': 'Incident with killed'}\n",
    "max_killed_and_injured = max(df['killed']) + max(df['injured'])\n",
    "# Make an empty map\n",
    "m = folium.Map(location=[40,-100], tiles=\"OpenStreetMap\", zoom_start=2.5, height=600, width=640)\n",
    "feature_groups = {}\n",
    "lgd_txt = '<span style=\"color: {col};\">{txt}</span>'\n",
    "for c, t in colors.items():\n",
    "   fg = folium.FeatureGroup(name=lgd_txt.format(col = c, txt=t))\n",
    "   feature_groups[c] = fg\n",
    "\n",
    "for i in range(0,df.shape[0]):\n",
    "   killed_and_injured = df.iloc[i]['killed'] + df.iloc[i]['injured']\n",
    "   # calculate radius\n",
    "   radius = calculate_circle_radius(max_killed_and_injured, killed_and_injured)\n",
    "   # prepare html text to embeed in map\n",
    "   html=f\"<div style='width:500px; height:300px; display:flex; font-size: 15px;' > \\\n",
    "       <div style='flex:45%; text-align: left;'> \\\n",
    "         <h3>Shooting details</h3>\\\n",
    "         <br\\> \\\n",
    "         <span >\\\n",
    "            Date: {df.iloc[i]['date'].strftime('%d %B, %Y')}  <br \\> \\\n",
    "            Time: {'' if pd.isnull(df.iloc[i]['time']) else df.iloc[i]['time'].strftime('%H:%M')}<br \\> \\\n",
    "            Students enrolled at time of shooting: {df.iloc[i]['enrollment']} <br \\> \\\n",
    "         <\\span> \\\n",
    "         <br\\> \\\n",
    "         <span> \\\n",
    "            Killed/casualties: {df.iloc[i]['killed']}/{df.iloc[i]['casualties']} <br \\> \\\n",
    "            Injured/casualties: {df.iloc[i]['injured']}/{df.iloc[i]['casualties']} <br \\>\\\n",
    "            Type of shooting: {df.iloc[i]['shooting_type']} <br \\> \\\n",
    "               Age of shooter: {'Not known' if pd.isnull(df.iloc[i]['age_shooter1']) else df.iloc[i]['age_shooter1']} \\\n",
    "            <\\span> \\\n",
    "         </div> \\\n",
    "         <div style='flex: 55%'> \\\n",
    "            <iframe scrolling='no' src='{df['ethnicity_diagram_path'][i]}' width='100%' height='100%'  frameborder='0'>    \\\n",
    "         </div> \\\n",
    "    </div> \\\n",
    "    \"\n",
    "   diagram = folium.Popup(folium.Html(html, script=True), min_width=500, min_height=300, max_width=500, max_height=300)\n",
    "   color = generate_color(df.iloc[i]['killed'], df.iloc[i]['injured'])\n",
    "   marker = folium.CircleMarker(\n",
    "      location=[df.iloc[i]['lat'], df.iloc[i]['long']],\n",
    "      radius=radius,\n",
    "      popup=diagram,\n",
    "      color=color,\n",
    "      fill=True,\n",
    "      fill_color=color\n",
    "   )\n",
    "   feature_groups[color].add_child(marker)\n",
    "for _,fg in feature_groups.items():\n",
    "   m.add_child(fg)\n",
    "# Save the map\n",
    "folium.map.LayerControl('topleft', collapsed=True).add_to(m)\n",
    "# m\n",
    "m.save(html_path+'shootings_details.html')\n"
   ]
  },
  {
   "cell_type": "markdown",
   "metadata": {},
   "source": [
    "The purpose of this map was to let the user explore the data on his own.\n",
    "\n",
    "The size of the marker indicated how many victims were injured and killed during that incident. Also the color of the marker depends wheather there were any fatalities, injuries or was it a victimless incident.\n",
    "\n",
    "We can notice that most of the incident took place in the east coast. Interestingly enough, we can see that Denver, city of the big Columbine massacre was also the city of 5 other attacks, which 2 of them had fatalities."
   ]
  },
  {
   "cell_type": "markdown",
   "metadata": {},
   "source": [
    "## Gun ownership map\n",
    "\n",
    "Map visualizing the average gun ownership in households in the US.\n",
    "It also contains n the number of casuaities in each state."
   ]
  },
  {
   "cell_type": "code",
   "execution_count": 8,
   "metadata": {},
   "outputs": [],
   "source": [
    "file_name = '../../data/TL-354-State-Level Estimates of Household Firearm Ownership.xlsx'\n",
    "sheet_to_df_map = pd.read_excel(file_name, sheet_name=\"State-Level Data & Factor Score\")\n",
    "gun_ownership = sheet_to_df_map.groupby(['STATE']).aggregate(\n",
    "    average_ownership = ('HFR', 'mean')\n",
    ").reset_index()\n",
    "# convert rate to %\n",
    "gun_ownership['average_ownership'] = gun_ownership['average_ownership'] * 100\n",
    "# get shootings by state\n",
    "school_shootings_by_state = df.groupby('state').aggregate( killed = ('killed', 'sum'), injured= ('injured', 'sum'), causalities = ('casualties', 'sum')).reset_index()"
   ]
  },
  {
   "cell_type": "code",
   "execution_count": 9,
   "metadata": {},
   "outputs": [],
   "source": [
    "us_state_to_abbrev = {\n",
    "    \"Alabama\": \"AL\",\n",
    "    \"Alaska\": \"AK\",\n",
    "    \"Arizona\": \"AZ\",\n",
    "    \"Arkansas\": \"AR\",\n",
    "    \"California\": \"CA\",\n",
    "    \"Colorado\": \"CO\",\n",
    "    \"Connecticut\": \"CT\",\n",
    "    \"Delaware\": \"DE\",\n",
    "    \"Florida\": \"FL\",\n",
    "    \"Georgia\": \"GA\",\n",
    "    \"Hawaii\": \"HI\",\n",
    "    \"Idaho\": \"ID\",\n",
    "    \"Illinois\": \"IL\",\n",
    "    \"Indiana\": \"IN\",\n",
    "    \"Iowa\": \"IA\",\n",
    "    \"Kansas\": \"KS\",\n",
    "    \"Kentucky\": \"KY\",\n",
    "    \"Louisiana\": \"LA\",\n",
    "    \"Maine\": \"ME\",\n",
    "    \"Maryland\": \"MD\",\n",
    "    \"Massachusetts\": \"MA\",\n",
    "    \"Michigan\": \"MI\",\n",
    "    \"Minnesota\": \"MN\",\n",
    "    \"Mississippi\": \"MS\",\n",
    "    \"Missouri\": \"MO\",\n",
    "    \"Montana\": \"MT\",\n",
    "    \"Nebraska\": \"NE\",\n",
    "    \"Nevada\": \"NV\",\n",
    "    \"New Hampshire\": \"NH\",\n",
    "    \"New Jersey\": \"NJ\",\n",
    "    \"New Mexico\": \"NM\",\n",
    "    \"New York\": \"NY\",\n",
    "    \"North Carolina\": \"NC\",\n",
    "    \"North Dakota\": \"ND\",\n",
    "    \"Ohio\": \"OH\",\n",
    "    \"Oklahoma\": \"OK\",\n",
    "    \"Oregon\": \"OR\",\n",
    "    \"Pennsylvania\": \"PA\",\n",
    "    \"Rhode Island\": \"RI\",\n",
    "    \"South Carolina\": \"SC\",\n",
    "    \"South Dakota\": \"SD\",\n",
    "    \"Tennessee\": \"TN\",\n",
    "    \"Texas\": \"TX\",\n",
    "    \"Utah\": \"UT\",\n",
    "    \"Vermont\": \"VT\",\n",
    "    \"Virginia\": \"VA\",\n",
    "    \"Washington\": \"WA\",\n",
    "    \"West Virginia\": \"WV\",\n",
    "    \"Wisconsin\": \"WI\",\n",
    "    \"Wyoming\": \"WY\",\n",
    "    \"District of Columbia\": \"DC\",\n",
    "    \"American Samoa\": \"AS\",\n",
    "    \"Guam\": \"GU\",\n",
    "    \"Northern Mariana Islands\": \"MP\",\n",
    "    \"Puerto Rico\": \"PR\",\n",
    "    \"United States Minor Outlying Islands\": \"UM\",\n",
    "    \"U.S. Virgin Islands\": \"VI\",\n",
    "}\n",
    "abbrev_to_us_state = dict(map(reversed, us_state_to_abbrev.items()))\n",
    "\n",
    "# generate abbreviations for states\n",
    "school_shootings_by_state['state_abb'] = school_shootings_by_state['state'].apply(lambda x: us_state_to_abbrev[x])\n",
    "gun_ownership['state_abb'] = gun_ownership['STATE'].apply(lambda x: us_state_to_abbrev[x])\n",
    "result = pd.merge(school_shootings_by_state, gun_ownership, on='state_abb', how='outer')\n",
    "result['causalities']  = result['causalities'].fillna(0)\n",
    "result['killed']  = result['killed'].fillna(0)\n",
    "result['injured']  = result['injured'].fillna(0)\n",
    "result['average_ownership']  = result['average_ownership'].fillna(0)\n",
    "result['text'] = result.apply(lambda row: f\"{abbrev_to_us_state[row['state_abb']]} <br>Average % of households that own a gun: {round(row['average_ownership'],2)} % <br>Killed: {row['killed']}<br>Injured: {row['injured']}\", axis=1)"
   ]
  },
  {
   "cell_type": "code",
   "execution_count": 11,
   "metadata": {},
   "outputs": [],
   "source": [
    "layout = dict(\n",
    "    font=dict(size=12, family='Rubik'),\n",
    "    geo=dict(\n",
    "        scope=\"usa\",\n",
    "        projection=dict(\n",
    "            type=\"albers usa\"\n",
    "        )\n",
    "    ),\n",
    "    legend=dict(\n",
    "        font=dict(\n",
    "            color='black'\n",
    "        )\n",
    "    ),\n",
    "    width=630,\n",
    "    height=300,\n",
    "    margin=dict(\n",
    "        pad=0,\n",
    "        b=0,\n",
    "        t=0,\n",
    "        l=0,\n",
    "        r=0\n",
    "    ),\n",
    "    modebar=dict(\n",
    "        remove=[\n",
    "            \"autoScale2d\", \"autoscale\", \"editInChartStudio\", \"editinchartstudio\", \"hoverCompareCartesian\", \"hovercompare\", \"lasso\", \"lasso2d\", \"orbitRotation\", \"orbitrotation\", \"pan\", \"pan2d\", \"pan3d\", \"reset\", \"resetCameraDefault3d\", \"resetCameraLastSave3d\", \"resetGeo\", \"resetSankeyGroup\", \"resetScale2d\", \"resetViewMapbox\", \"resetViews\", \"resetcameradefault\", \"resetcameralastsave\", \"resetsankeygroup\", \"resetscale\", \"resetview\", \"resetviews\", \"select\", \"select2d\", \"sendDataToCloud\", \"senddatatocloud\", \"tableRotation\", \"tablerotation\", \"toImage\", \"toggleHover\", \"toggleSpikelines\", \"togglehover\", \"togglespikelines\", \"toimage\", \"zoom\", \"zoom2d\", \"zoom3d\", \"zoomIn2d\", \"zoomInGeo\", \"zoomInMapbox\", \"zoomOut2d\", \"zoomOutGeo\", \"zoomOutMapbox\", \"zoomin\", \"zoomout\"\n",
    "        ],\n",
    "        orientation='h',\n",
    "    ),\n",
    ")\n",
    "data = []\n",
    "\n",
    "data.append(go.Choropleth(locations=result['state_abb'], z=result['average_ownership'], locationmode=\"USA-states\",\n",
    "            colorscale=\"ylorrd\", text=result[\"text\"], hoverinfo='text', showscale=True, showlegend=False, name='Gun ownership'))\n",
    "data.append(go.Scattergeo(locations=result['state_abb'], text=result['causalities'], locationmode=\"USA-states\",\n",
    "            mode=\"text\", hoverinfo='skip', name='Amount of casualties', showlegend=False, textfont=dict(color='white')))\n",
    "\n",
    "fig = go.Figure(data=data, layout=layout)\n",
    "fig.update_layout(showlegend=True)\n",
    "\n",
    "chart_div = plotly.offline.plot(fig, output_type='div')\n",
    "with open(include_path + \"us_gun_ownership.html\", 'w') as f:\n",
    "    f.write(chart_div)"
   ]
  },
  {
   "attachments": {},
   "cell_type": "markdown",
   "metadata": {},
   "source": [
    "Despite our initial intuition average gun ownership in household does not have any correlation with amount of shootings in school.\n",
    "\n",
    "We would expect that the higher number of households with gun, the bigger number of incident in that state. But states with the highest gun ownership ratio - like Montana or Wyoming have one of the lowest number of victims. In those states most of the terrain is desserts, so there are not many households in the area and the majority of them do have at least one weapon, probably due to a cultural heritage.\n",
    "Moreover states with high gun ownership rate have quite low number of victims.\n",
    "\n",
    "There is no clear colleration between provided data, but we do believe that the ease of access to weapons has an impact on the number of accidents. In order to prove it we would need more detailed datasets. We did try to look for some better ones, but there is no record keep about the amount of guns in each state. "
   ]
  },
  {
   "attachments": {},
   "cell_type": "markdown",
   "metadata": {},
   "source": [
    "# Genre\n",
    "\n",
    "The major genre for our work is the \"magazine style\". We opted for this 'narrative' genre, as it allowed us to provide a linear and streamlined train of thought to the reader. The goal is the walk the user throught the data set while providing internal insight as well as backing that up with external sources.\n",
    "\n",
    "We use inspiration from other styles as minor themes. We've included annotated, interactive maps to enable data exploration for the reader and provided sources on related video media for the reader to explore the topic further.\n",
    "\n",
    "Noteworthy tools we have employed are\n",
    "\n",
    "* Consistent visual platform, by ensuring our visuals are maintained in the same style.\n",
    "* Feature distinction for key data points in graphs, charts and maps.\n",
    "* Zooming is enabled in most analytical elements, especially maps.\n",
    "* Accessibility preference, by optimizing the web site with both dark mode and light mode options.\n",
    "* Linear strucutre to guide the reader's journey through the data set.\n",
    "* Interactivity and providing more details on hover or click, to allow the reader to dive deeper into the data.\n",
    "* Clear sections including an introduction and summary to provide an opening and closure to the story.\n",
    "\n",
    "Each record is a separate story that should be told. There are a lot of different aspects that should be introduced using text and not only diagrams or maps.\n",
    "\n",
    "We organised the page so that reader is guided from one section to the next. There is a strong connection between subsequent sections, and the successive sections form a logical whole. Our maps have different layers that can be filtered out (filtering) we also used different marker sized to highlighten more important points. Most of diagrams contains hover with more detailed text that provides related information. \n",
    "\n",
    "Beginning of the article has an introduction stating what is the purpose of the project. Moreover, each section has a headline and there is also a summary part. There are some external links to the sources and dataset. Diagrams have titles and axis description."
   ]
  },
  {
   "attachments": {},
   "cell_type": "markdown",
   "metadata": {},
   "source": [
    "# Visualizations\n",
    "\n",
    "Since the data set is of the type geospatial across time, our graphs revolve around two categories: time aggregates and maps.\n",
    "\n",
    "The time aggregates allow us to show patterns and changing trends across time. This was especially true for the annual change as it helps understand the big picture - the concerning increase in shootings nation-wide.\n",
    "\n",
    "Maps allow us to understand hot spots of the issue and also provides a glimpse into the societal difference across states. It is much more impactful to understand where infamous mass shootings like Columbine actually occurred and provides the user with an oppurtunity to bind reality with numbers in a table.\n",
    "\n",
    "Another type of visualization used is a time series chart. This was used for the Google trends data to provide a more granular glimpse into the changing environment of cultural tolerance for school shootings."
   ]
  },
  {
   "attachments": {},
   "cell_type": "markdown",
   "metadata": {},
   "source": [
    "### Google trends chart"
   ]
  },
  {
   "cell_type": "code",
   "execution_count": null,
   "metadata": {},
   "outputs": [],
   "source": [
    "school_shooting_keyword_trend = pd.read_csv('../../data/google_trends_school_shooting_keyword.csv')\n",
    "school_shooting_keyword_trend.Month = pd.to_datetime(school_shooting_keyword_trend.Month)\n",
    "school_shooting_keyword_trend.sort_values(by=['Month'], ascending=True, inplace=True)\n",
    "\n",
    "peaks = school_shooting_keyword_trend.nlargest(3, columns=['school shooting: (Worldwide)'])"
   ]
  },
  {
   "cell_type": "code",
   "execution_count": null,
   "metadata": {},
   "outputs": [],
   "source": [
    "with plt.rc_context(mpl_runtime_config_context):\n",
    "    fig = plt.figure(figsize=(6, 13), dpi=300)\n",
    "    plt.title('Google trends for keyword \"school shooting\"', pad=10)\n",
    "\n",
    "    plt.gca().invert_yaxis()\n",
    "    plt.ylabel('Time')\n",
    "\n",
    "    # plt.xlabel('Interest relative to peak')\n",
    "    plt.xlim((-5, 105))\n",
    "    ax = plt.twiny()\n",
    "    ax.set_xlabel(\"Interest relative to peak\")\n",
    "\n",
    "    plt.vlines(100, ymin=school_shooting_keyword_trend.Month.min(), ymax=school_shooting_keyword_trend.Month.max(), colors=[color_highlight], linestyles=['dotted'])\n",
    "    plt.hlines(peaks.Month, xmin=-10, xmax=110, colors=[color_highlight], linestyles=['dotted'])\n",
    "    plt.plot(school_shooting_keyword_trend['school shooting: (Worldwide)'], school_shooting_keyword_trend.Month)\n",
    "\n",
    "    plt.text(x=47, y=pd.Timestamp.fromtimestamp(peaks.iloc[0, 0].timestamp() - 10000000), s=\"Sandy Hook Elementary\")\n",
    "    plt.text(x=40, y=pd.Timestamp.fromtimestamp(peaks.iloc[1, 0].timestamp() - 10000000), s=\"Marjory Stoneman Douglas High\")\n",
    "    plt.text(x=60, y=pd.Timestamp.fromtimestamp(peaks.iloc[2, 0].timestamp() - 10000000), s=\"Robb Elementary\")\n",
    "\n",
    "fig.savefig(\"../docs/assets/imgs/google_trends.png\", bbox_inches='tight')"
   ]
  },
  {
   "attachments": {},
   "cell_type": "markdown",
   "metadata": {},
   "source": [
    "# Discussion\n",
    "\n",
    "There are multiple aspects that could be taken into account while preparing this analysis, but we needed to focus on only some of them.\n",
    "\n",
    "What we would also like to investigate is the characteristic of victims - how old they are, what is their ethnic group, what relation do they have with the shooter.\n",
    "There are many interesting questions that can be asked to better understand what is the real cause of school shootings phenomenon.\n",
    "\n",
    "We wanted to include the analysis that could prove whether easier access to the weapon increases number of incidents. We partly did it with our visualization of gun ownership per household, but we do believe that in this topic there are more details that could be taken into account as f.x. availability of weapons due to legal regulations.\n",
    "\n",
    "Unfortunately, the data set turned out to be slightly out of shape - especially with a lack of discipline in consistent feature formats. Another issue, while out of control of the authors (likely due to inaccessible historical data), many fields were left empty barring us from investigating features such as source of weapon, shooters details or victim details more thoroughly. Next time we would aim to expand our data sets by adding, possibly merging other sources as well to use as cross-reference and a more robust source of knowledge.\n",
    "\n",
    "A final, harsh truth we had to come to terms while working on the story is that there are no definitive answers. While we can with good intentions provide insight into the trends, the solution to this problem lies far beyond our capabilities with managing the American cultural sphere to suggest any meaningful fixes. It has become clear during our investigations that this is a burning thorn at the side of all Americans, but it is yet another societal catch-22 that would require a massive undertaking to uproot. \n",
    "\n",
    "What this means in terms for future improvement is to quickly realize concrete goals of the analysis and scale them appropriately to the tools and skills of the team. We set out to fix the world, but realized mid-way we could only reiterate our dismay with what reality is."
   ]
  },
  {
   "attachments": {},
   "cell_type": "markdown",
   "metadata": {},
   "source": [
    "# Contribution\n",
    "\n",
    "Marta did most of date time diagrams as well as detailed map with shooting incidents. She is also responsible for the Gun ownership correlation analysis.\n",
    "\n",
    "Julian worked on the static charts (annual trend, google trends) and provided styling and consistency for the visuals in the project. He wrote the story and maintains the web page."
   ]
  }
 ],
 "metadata": {
  "kernelspec": {
   "display_name": "Python 3.10.0 64-bit",
   "language": "python",
   "name": "python3"
  },
  "language_info": {
   "codemirror_mode": {
    "name": "ipython",
    "version": 3
   },
   "file_extension": ".py",
   "mimetype": "text/x-python",
   "name": "python",
   "nbconvert_exporter": "python",
   "pygments_lexer": "ipython3",
   "version": "3.10.10"
  },
  "orig_nbformat": 4,
  "vscode": {
   "interpreter": {
    "hash": "522d2784befa186e8221d5dd489e621670897cb098e08463098cf898111202eb"
   }
  }
 },
 "nbformat": 4,
 "nbformat_minor": 2
}
