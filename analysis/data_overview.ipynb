{
 "cells": [
  {
   "cell_type": "code",
   "execution_count": 5,
   "metadata": {},
   "outputs": [],
   "source": [
    "import numpy as np\n",
    "import pandas as pd\n",
    "\n",
    "import matplotlib.pyplot as plt"
   ]
  },
  {
   "cell_type": "code",
   "execution_count": 6,
   "metadata": {},
   "outputs": [],
   "source": [
    "school_shooting = pd.read_csv('../../data/school_shooting_data.csv')"
   ]
  },
  {
   "cell_type": "code",
   "execution_count": 7,
   "metadata": {},
   "outputs": [],
   "source": [
    "school_shooting['DateTime'] = pd.to_datetime(school_shooting['date'], format='%m/%d/%Y')\n",
    "# school_shooting = school_shooting[(school_shooting['DateTime'].dt.year > 1999) & (school_shooting['DateTime'].dt.year < 2023)]"
   ]
  },
  {
   "cell_type": "code",
   "execution_count": 11,
   "metadata": {},
   "outputs": [
    {
     "name": "stdout",
     "output_type": "stream",
     "text": [
      "Shape of the data set: (366, 52)\n"
     ]
    },
    {
     "data": {
      "text/html": [
       "<div>\n",
       "<style scoped>\n",
       "    .dataframe tbody tr th:only-of-type {\n",
       "        vertical-align: middle;\n",
       "    }\n",
       "\n",
       "    .dataframe tbody tr th {\n",
       "        vertical-align: top;\n",
       "    }\n",
       "\n",
       "    .dataframe thead th {\n",
       "        text-align: right;\n",
       "    }\n",
       "</style>\n",
       "<table border=\"1\" class=\"dataframe\">\n",
       "  <thead>\n",
       "    <tr style=\"text-align: right;\">\n",
       "      <th></th>\n",
       "      <th>uid</th>\n",
       "      <th>nces_school_id</th>\n",
       "      <th>school_name</th>\n",
       "      <th>nces_district_id</th>\n",
       "      <th>district_name</th>\n",
       "      <th>date</th>\n",
       "      <th>school_year</th>\n",
       "      <th>year</th>\n",
       "      <th>time</th>\n",
       "      <th>day_of_week</th>\n",
       "      <th>...</th>\n",
       "      <th>staffing</th>\n",
       "      <th>low_grade</th>\n",
       "      <th>high_grade</th>\n",
       "      <th>lunch</th>\n",
       "      <th>county</th>\n",
       "      <th>state_fips</th>\n",
       "      <th>county_fips</th>\n",
       "      <th>ulocale</th>\n",
       "      <th>DateTime</th>\n",
       "      <th>Year</th>\n",
       "    </tr>\n",
       "  </thead>\n",
       "  <tbody>\n",
       "    <tr>\n",
       "      <th>0</th>\n",
       "      <td>1</td>\n",
       "      <td>080480000707</td>\n",
       "      <td>Columbine High School</td>\n",
       "      <td>804800.0</td>\n",
       "      <td>Jefferson County R-1</td>\n",
       "      <td>4/20/1999</td>\n",
       "      <td>1998-1999</td>\n",
       "      <td>1999</td>\n",
       "      <td>11:19 AM</td>\n",
       "      <td>Tuesday</td>\n",
       "      <td>...</td>\n",
       "      <td>89.6</td>\n",
       "      <td>9</td>\n",
       "      <td>12</td>\n",
       "      <td>41</td>\n",
       "      <td>Jefferson County</td>\n",
       "      <td>8</td>\n",
       "      <td>8059</td>\n",
       "      <td>21.0</td>\n",
       "      <td>1999-04-20</td>\n",
       "      <td>1999</td>\n",
       "    </tr>\n",
       "    <tr>\n",
       "      <th>1</th>\n",
       "      <td>2</td>\n",
       "      <td>220054000422</td>\n",
       "      <td>Scotlandville Middle School</td>\n",
       "      <td>2200540.0</td>\n",
       "      <td>East Baton Rouge Parish School Board</td>\n",
       "      <td>4/22/1999</td>\n",
       "      <td>1998-1999</td>\n",
       "      <td>1999</td>\n",
       "      <td>12:30 PM</td>\n",
       "      <td>Thursday</td>\n",
       "      <td>...</td>\n",
       "      <td>39.0</td>\n",
       "      <td>6</td>\n",
       "      <td>8</td>\n",
       "      <td>495</td>\n",
       "      <td>East Baton Rouge Parish</td>\n",
       "      <td>22</td>\n",
       "      <td>22033</td>\n",
       "      <td>12.0</td>\n",
       "      <td>1999-04-22</td>\n",
       "      <td>1999</td>\n",
       "    </tr>\n",
       "    <tr>\n",
       "      <th>2</th>\n",
       "      <td>3</td>\n",
       "      <td>130441001591</td>\n",
       "      <td>Heritage High School</td>\n",
       "      <td>1304410.0</td>\n",
       "      <td>Rockdale County</td>\n",
       "      <td>5/20/1999</td>\n",
       "      <td>1998-1999</td>\n",
       "      <td>1999</td>\n",
       "      <td>8:03 AM</td>\n",
       "      <td>Thursday</td>\n",
       "      <td>...</td>\n",
       "      <td>84.0</td>\n",
       "      <td>9</td>\n",
       "      <td>12</td>\n",
       "      <td>125</td>\n",
       "      <td>Rockdale County</td>\n",
       "      <td>13</td>\n",
       "      <td>13247</td>\n",
       "      <td>21.0</td>\n",
       "      <td>1999-05-20</td>\n",
       "      <td>1999</td>\n",
       "    </tr>\n",
       "    <tr>\n",
       "      <th>3</th>\n",
       "      <td>4</td>\n",
       "      <td>421899003847</td>\n",
       "      <td>John Bartram High School</td>\n",
       "      <td>4218990.0</td>\n",
       "      <td>Philadelphia City SD</td>\n",
       "      <td>10/4/1999</td>\n",
       "      <td>1999-2000</td>\n",
       "      <td>1999</td>\n",
       "      <td>10:00 AM</td>\n",
       "      <td>Monday</td>\n",
       "      <td>...</td>\n",
       "      <td>41.0</td>\n",
       "      <td>9</td>\n",
       "      <td>12</td>\n",
       "      <td>2007</td>\n",
       "      <td>Philadelphia County</td>\n",
       "      <td>42</td>\n",
       "      <td>42101</td>\n",
       "      <td>11.0</td>\n",
       "      <td>1999-10-04</td>\n",
       "      <td>1999</td>\n",
       "    </tr>\n",
       "    <tr>\n",
       "      <th>4</th>\n",
       "      <td>5</td>\n",
       "      <td>250279000225</td>\n",
       "      <td>Dorchester High School</td>\n",
       "      <td>2502790.0</td>\n",
       "      <td>Boston</td>\n",
       "      <td>11/3/1999</td>\n",
       "      <td>1999-2000</td>\n",
       "      <td>1999</td>\n",
       "      <td>7:40 AM</td>\n",
       "      <td>Wednesday</td>\n",
       "      <td>...</td>\n",
       "      <td>NaN</td>\n",
       "      <td>9</td>\n",
       "      <td>12</td>\n",
       "      <td>543</td>\n",
       "      <td>Suffolk County</td>\n",
       "      <td>25</td>\n",
       "      <td>25025</td>\n",
       "      <td>11.0</td>\n",
       "      <td>1999-11-03</td>\n",
       "      <td>1999</td>\n",
       "    </tr>\n",
       "  </tbody>\n",
       "</table>\n",
       "<p>5 rows × 52 columns</p>\n",
       "</div>"
      ],
      "text/plain": [
       "   uid nces_school_id                  school_name  nces_district_id   \n",
       "0    1   080480000707        Columbine High School          804800.0  \\\n",
       "1    2   220054000422  Scotlandville Middle School         2200540.0   \n",
       "2    3   130441001591         Heritage High School         1304410.0   \n",
       "3    4   421899003847     John Bartram High School         4218990.0   \n",
       "4    5   250279000225       Dorchester High School         2502790.0   \n",
       "\n",
       "                          district_name       date school_year  year   \n",
       "0                  Jefferson County R-1  4/20/1999   1998-1999  1999  \\\n",
       "1  East Baton Rouge Parish School Board  4/22/1999   1998-1999  1999   \n",
       "2                       Rockdale County  5/20/1999   1998-1999  1999   \n",
       "3                  Philadelphia City SD  10/4/1999   1999-2000  1999   \n",
       "4                                Boston  11/3/1999   1999-2000  1999   \n",
       "\n",
       "       time day_of_week  ... staffing low_grade high_grade  lunch   \n",
       "0  11:19 AM     Tuesday  ...     89.6         9         12     41  \\\n",
       "1  12:30 PM    Thursday  ...     39.0         6          8    495   \n",
       "2   8:03 AM    Thursday  ...     84.0         9         12    125   \n",
       "3  10:00 AM      Monday  ...     41.0         9         12   2007   \n",
       "4   7:40 AM   Wednesday  ...      NaN         9         12    543   \n",
       "\n",
       "                    county  state_fips  county_fips ulocale   DateTime  Year  \n",
       "0         Jefferson County           8         8059    21.0 1999-04-20  1999  \n",
       "1  East Baton Rouge Parish          22        22033    12.0 1999-04-22  1999  \n",
       "2          Rockdale County          13        13247    21.0 1999-05-20  1999  \n",
       "3      Philadelphia County          42        42101    11.0 1999-10-04  1999  \n",
       "4           Suffolk County          25        25025    11.0 1999-11-03  1999  \n",
       "\n",
       "[5 rows x 52 columns]"
      ]
     },
     "execution_count": 11,
     "metadata": {},
     "output_type": "execute_result"
    }
   ],
   "source": [
    "print(\"Shape of the data set:\", school_shooting.shape)\n",
    "school_shooting.head()"
   ]
  },
  {
   "cell_type": "code",
   "execution_count": 15,
   "metadata": {},
   "outputs": [
    {
     "name": "stdout",
     "output_type": "stream",
     "text": [
      "Latest and earliest shooting events\n",
      "2023-02-02 00:00:00 1999-04-20 00:00:00\n",
      "Days covered: 8689\n"
     ]
    }
   ],
   "source": [
    "print(\"Latest and earliest shooting events\")\n",
    "print(school_shooting['DateTime'].max(), school_shooting['DateTime'].min())\n",
    "print(\"Days covered:\", (school_shooting['DateTime'].max() - school_shooting['DateTime'].min()).days)"
   ]
  },
  {
   "cell_type": "code",
   "execution_count": 14,
   "metadata": {},
   "outputs": [
    {
     "name": "stdout",
     "output_type": "stream",
     "text": [
      "one school shooting per days:\n"
     ]
    },
    {
     "data": {
      "text/plain": [
       "23.740437158469945"
      ]
     },
     "execution_count": 14,
     "metadata": {},
     "output_type": "execute_result"
    }
   ],
   "source": [
    "print(\"one school shooting per days:\")\n",
    "(school_shooting['DateTime'].max() - school_shooting['DateTime'].min()).days / len(school_shooting)\n"
   ]
  },
  {
   "cell_type": "code",
   "execution_count": 25,
   "metadata": {},
   "outputs": [
    {
     "name": "stdout",
     "output_type": "stream",
     "text": [
      "Casualties\n",
      "sum 603\n",
      "count    366.000000\n",
      "mean       1.647541\n",
      "std        3.940493\n",
      "min        0.000000\n",
      "25%        0.000000\n",
      "50%        1.000000\n",
      "75%        1.000000\n",
      "max       34.000000\n",
      "Name: casualties, dtype: float64\n",
      "\n",
      "Deaths\n",
      "sum 192\n",
      "count    366.00000\n",
      "mean       0.52459\n",
      "std        2.21160\n",
      "min        0.00000\n",
      "25%        0.00000\n",
      "50%        0.00000\n",
      "75%        0.00000\n",
      "max       26.00000\n",
      "Name: killed, dtype: float64\n",
      "\n",
      "injured\n",
      "sum 413\n",
      "count    366.000000\n",
      "mean       1.128415\n",
      "std        2.265261\n",
      "min        0.000000\n",
      "25%        0.000000\n",
      "50%        1.000000\n",
      "75%        1.000000\n",
      "max       21.000000\n",
      "Name: injured, dtype: float64\n"
     ]
    }
   ],
   "source": [
    "print(\"Casualties\")\n",
    "print(\"sum\", school_shooting['casualties'].sum())\n",
    "print(school_shooting['casualties'].describe())\n",
    "print()\n",
    "print(\"Deaths\")\n",
    "print(\"sum\", school_shooting['killed'].sum())\n",
    "print(school_shooting['killed'].describe())\n",
    "print()\n",
    "print(\"injured\")\n",
    "print(\"sum\", school_shooting['injured'].sum())\n",
    "print(school_shooting['injured'].describe())"
   ]
  },
  {
   "cell_type": "code",
   "execution_count": null,
   "metadata": {},
   "outputs": [],
   "source": []
  }
 ],
 "metadata": {
  "kernelspec": {
   "display_name": "base",
   "language": "python",
   "name": "python3"
  },
  "language_info": {
   "codemirror_mode": {
    "name": "ipython",
    "version": 3
   },
   "file_extension": ".py",
   "mimetype": "text/x-python",
   "name": "python",
   "nbconvert_exporter": "python",
   "pygments_lexer": "ipython3",
   "version": "3.10.10"
  },
  "orig_nbformat": 4
 },
 "nbformat": 4,
 "nbformat_minor": 2
}
