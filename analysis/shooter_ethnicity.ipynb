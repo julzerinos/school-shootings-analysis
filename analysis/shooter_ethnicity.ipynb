{
 "cells": [
  {
   "cell_type": "code",
   "execution_count": 11,
   "metadata": {},
   "outputs": [],
   "source": [
    "import pandas as pd\n",
    "import numpy as np\n",
    "import datetime\n",
    "\n",
    "import plotly\n",
    "import plotly.graph_objects as go\n",
    "from plotly.subplots import make_subplots"
   ]
  },
  {
   "cell_type": "code",
   "execution_count": 35,
   "metadata": {},
   "outputs": [],
   "source": [
    "marker_color = {\n",
    "    \"Black\":\"#fd7f6f\",\n",
    "    \"Not known\":\"#7eb0d5\",\n",
    "    \"White\": \"#b2e061\",\n",
    "    \"Hispanic\":\"#bd7ebe\",\n",
    "    \"American Indian\":\"#ffb55a\",\n",
    "    \"Asian\": \"#ffee65\",\n",
    "}\n",
    "\n",
    "color_dark = '#000000'\n",
    "color_light = '#FFFFFF'\n",
    "color_dark_accent = '#14213D'\n",
    "color_light_accent = '#E5E5E5'\n",
    "color_highlight = '#FCA311'\n",
    "color_dark_accent_2 = '#3d3d3d'"
   ]
  },
  {
   "cell_type": "code",
   "execution_count": 13,
   "metadata": {},
   "outputs": [],
   "source": [
    "def convert_timestring_to_time(date_string):\n",
    "    if date_string is np.nan:\n",
    "        return date_string\n",
    "    idx = date_string.find('M')\n",
    "    if( idx ==-1):\n",
    "        return datetime.datetime.strptime(date_string, '%H:%M')\n",
    "    idx -=2\n",
    "    if date_string[idx] == ' ':\n",
    "        return datetime.datetime.strptime(date_string, '%I:%M %p')\n",
    "    return datetime.datetime.strptime(date_string, '%I:%M%p')"
   ]
  },
  {
   "cell_type": "code",
   "execution_count": 14,
   "metadata": {},
   "outputs": [],
   "source": [
    "df = pd.read_csv(\"../../data/school_shooting_data.csv\")\n",
    "df['time'] = df['time'].apply(lambda x: convert_timestring_to_time(x))\n",
    "df['date'] = pd.to_datetime(df['date'], format='%m/%d/%Y')\n",
    "\n",
    "df = df[df['long'].notna()]\n",
    "df.reset_index(drop=True, inplace=True)"
   ]
  },
  {
   "cell_type": "code",
   "execution_count": 15,
   "metadata": {},
   "outputs": [],
   "source": [
    "races= {'a': 'Asian', 'ai':'American Indian','b':'Black','h':'Hispanic','w':'White'}\n",
    "def assign_race(race):\n",
    "    if race is np.nan:\n",
    "        return \"Not known\"\n",
    "    if race in races:\n",
    "        return races[race]\n",
    "    return \"Not known\""
   ]
  },
  {
   "cell_type": "code",
   "execution_count": 16,
   "metadata": {},
   "outputs": [],
   "source": [
    "df['gender_shooter1'].isna().sum()\n",
    "# assign race from dictionary\n",
    "df['race_ethnicity_shooter'] = df['race_ethnicity_shooter1'].apply(lambda x: assign_race(x))\n",
    "# reove cells where age of the shooter was not known\n",
    "df = df[df['age_shooter1'].notna()]\n",
    "# convert age to int\n",
    "df['age_shooter1'] = df['age_shooter1'].astype(int)\n",
    "# separate data for men and women\n",
    "women = df[df['gender_shooter1'] == 'f']\n",
    "men = df[df['gender_shooter1'] == 'm']\n",
    "# aggregate women\n",
    "women_ethnicity = women.loc[:,['age_shooter1','race_ethnicity_shooter']].value_counts(dropna=False).unstack() \n",
    "women_ethnicity = women_ethnicity.fillna(0)\n",
    "women_ethnicity = women_ethnicity.reset_index()\n",
    "#aggregate men\n",
    "men_ethnicity = men.loc[:,['age_shooter1','race_ethnicity_shooter']].value_counts(dropna=False).unstack() \n",
    "men_ethnicity = men_ethnicity.fillna(0)\n",
    "men_ethnicity = men_ethnicity.reset_index()"
   ]
  },
  {
   "cell_type": "code",
   "execution_count": 131,
   "metadata": {},
   "outputs": [
    {
     "data": {
      "application/vnd.plotly.v1+json": {
       "config": {
        "plotlyServerURL": "https://plot.ly"
       },
       "data": [
        {
         "base": [
          0,
          0,
          0,
          0,
          0,
          0,
          0
         ],
         "hovertemplate": [
          "Ethinicity: Black<br>Count: 0<br>Age: 12",
          "Ethinicity: Black<br>Count: 0<br>Age: 14",
          "Ethinicity: Black<br>Count: 1<br>Age: 15",
          "Ethinicity: Black<br>Count: 1<br>Age: 22",
          "Ethinicity: Black<br>Count: 0<br>Age: 28",
          "Ethinicity: Black<br>Count: 0<br>Age: 30",
          "Ethinicity: Black<br>Count: 0<br>Age: 33"
         ],
         "marker": {
          "color": "#fd7f6f",
          "line": {
           "color": "#3d3d3d"
          }
         },
         "name": "Ethincity Black",
         "offsetgroup": "0",
         "orientation": "h",
         "showlegend": false,
         "type": "bar",
         "width": 0.7,
         "x": [
          0,
          0,
          1,
          1,
          0,
          0,
          0
         ],
         "xaxis": "x",
         "y": [
          12,
          14,
          15,
          22,
          28,
          30,
          33
         ],
         "yaxis": "y"
        },
        {
         "base": [
          0,
          0,
          1,
          1,
          0,
          0,
          0
         ],
         "hovertemplate": [
          "Ethinicity: Not known<br>Count: 1<br>Age: 12",
          "Ethinicity: Not known<br>Count: 1<br>Age: 14",
          "Ethinicity: Not known<br>Count: 1<br>Age: 15",
          "Ethinicity: Not known<br>Count: 0<br>Age: 22",
          "Ethinicity: Not known<br>Count: 2<br>Age: 28",
          "Ethinicity: Not known<br>Count: 0<br>Age: 30",
          "Ethinicity: Not known<br>Count: 1<br>Age: 33"
         ],
         "marker": {
          "color": "#7eb0d5",
          "line": {
           "color": "#3d3d3d"
          }
         },
         "name": "Ethincity Not known",
         "offsetgroup": "0",
         "orientation": "h",
         "showlegend": false,
         "type": "bar",
         "width": 0.7,
         "x": [
          1,
          1,
          1,
          0,
          2,
          0,
          1
         ],
         "xaxis": "x",
         "y": [
          12,
          14,
          15,
          22,
          28,
          30,
          33
         ],
         "yaxis": "y"
        },
        {
         "base": [
          1,
          1,
          2,
          1,
          2,
          0,
          1
         ],
         "hovertemplate": [
          "Ethinicity: White<br>Count: 0<br>Age: 12",
          "Ethinicity: White<br>Count: 1<br>Age: 14",
          "Ethinicity: White<br>Count: 0<br>Age: 15",
          "Ethinicity: White<br>Count: 0<br>Age: 22",
          "Ethinicity: White<br>Count: 0<br>Age: 28",
          "Ethinicity: White<br>Count: 1<br>Age: 30",
          "Ethinicity: White<br>Count: 0<br>Age: 33"
         ],
         "marker": {
          "color": "#b2e061",
          "line": {
           "color": "#3d3d3d"
          }
         },
         "name": "Ethincity White",
         "offsetgroup": "0",
         "orientation": "h",
         "showlegend": false,
         "type": "bar",
         "width": 0.7,
         "x": [
          0,
          1,
          0,
          0,
          0,
          1,
          0
         ],
         "xaxis": "x",
         "y": [
          12,
          14,
          15,
          22,
          28,
          30,
          33
         ],
         "yaxis": "y"
        },
        {
         "base": [
          0,
          0,
          0,
          0,
          0,
          0,
          0,
          0,
          0,
          0,
          0,
          0,
          0,
          0,
          0,
          0,
          0,
          0,
          0,
          0,
          0,
          0,
          0,
          0,
          0,
          0,
          0,
          0,
          0,
          0,
          0,
          0,
          0,
          0,
          0,
          0,
          0,
          0,
          0,
          0
         ],
         "hovertemplate": [
          "Ethinicity: American Indian<br>Count: 0<br>Age: 6",
          "Ethinicity: American Indian<br>Count: 0<br>Age: 7",
          "Ethinicity: American Indian<br>Count: 0<br>Age: 8",
          "Ethinicity: American Indian<br>Count: 0<br>Age: 9",
          "Ethinicity: American Indian<br>Count: 0<br>Age: 11",
          "Ethinicity: American Indian<br>Count: 0<br>Age: 12",
          "Ethinicity: American Indian<br>Count: 1<br>Age: 13",
          "Ethinicity: American Indian<br>Count: 0<br>Age: 14",
          "Ethinicity: American Indian<br>Count: 0<br>Age: 15",
          "Ethinicity: American Indian<br>Count: 1<br>Age: 16",
          "Ethinicity: American Indian<br>Count: 0<br>Age: 17",
          "Ethinicity: American Indian<br>Count: 0<br>Age: 18",
          "Ethinicity: American Indian<br>Count: 0<br>Age: 19",
          "Ethinicity: American Indian<br>Count: 0<br>Age: 20",
          "Ethinicity: American Indian<br>Count: 0<br>Age: 21",
          "Ethinicity: American Indian<br>Count: 0<br>Age: 22",
          "Ethinicity: American Indian<br>Count: 0<br>Age: 23",
          "Ethinicity: American Indian<br>Count: 0<br>Age: 24",
          "Ethinicity: American Indian<br>Count: 0<br>Age: 25",
          "Ethinicity: American Indian<br>Count: 0<br>Age: 26",
          "Ethinicity: American Indian<br>Count: 0<br>Age: 27",
          "Ethinicity: American Indian<br>Count: 0<br>Age: 28",
          "Ethinicity: American Indian<br>Count: 0<br>Age: 29",
          "Ethinicity: American Indian<br>Count: 0<br>Age: 30",
          "Ethinicity: American Indian<br>Count: 0<br>Age: 32",
          "Ethinicity: American Indian<br>Count: 0<br>Age: 34",
          "Ethinicity: American Indian<br>Count: 0<br>Age: 38",
          "Ethinicity: American Indian<br>Count: 0<br>Age: 39",
          "Ethinicity: American Indian<br>Count: 0<br>Age: 41",
          "Ethinicity: American Indian<br>Count: 0<br>Age: 42",
          "Ethinicity: American Indian<br>Count: 0<br>Age: 44",
          "Ethinicity: American Indian<br>Count: 0<br>Age: 45",
          "Ethinicity: American Indian<br>Count: 0<br>Age: 47",
          "Ethinicity: American Indian<br>Count: 0<br>Age: 48",
          "Ethinicity: American Indian<br>Count: 0<br>Age: 49",
          "Ethinicity: American Indian<br>Count: 0<br>Age: 50",
          "Ethinicity: American Indian<br>Count: 0<br>Age: 53",
          "Ethinicity: American Indian<br>Count: 0<br>Age: 55",
          "Ethinicity: American Indian<br>Count: 0<br>Age: 56",
          "Ethinicity: American Indian<br>Count: 0<br>Age: 72"
         ],
         "marker": {
          "color": "#ffb55a",
          "line": {
           "color": "#3d3d3d"
          }
         },
         "name": "American Indian",
         "offsetgroup": "1",
         "orientation": "h",
         "showlegend": true,
         "type": "bar",
         "width": 0.7,
         "x": [
          0,
          0,
          0,
          0,
          0,
          0,
          1,
          0,
          0,
          1,
          0,
          0,
          0,
          0,
          0,
          0,
          0,
          0,
          0,
          0,
          0,
          0,
          0,
          0,
          0,
          0,
          0,
          0,
          0,
          0,
          0,
          0,
          0,
          0,
          0,
          0,
          0,
          0,
          0,
          0
         ],
         "xaxis": "x2",
         "y": [
          6,
          7,
          8,
          9,
          11,
          12,
          13,
          14,
          15,
          16,
          17,
          18,
          19,
          20,
          21,
          22,
          23,
          24,
          25,
          26,
          27,
          28,
          29,
          30,
          32,
          34,
          38,
          39,
          41,
          42,
          44,
          45,
          47,
          48,
          49,
          50,
          53,
          55,
          56,
          72
         ],
         "yaxis": "y2"
        },
        {
         "base": [
          0,
          0,
          0,
          0,
          0,
          0,
          1,
          0,
          0,
          1,
          0,
          0,
          0,
          0,
          0,
          0,
          0,
          0,
          0,
          0,
          0,
          0,
          0,
          0,
          0,
          0,
          0,
          0,
          0,
          0,
          0,
          0,
          0,
          0,
          0,
          0,
          0,
          0,
          0,
          0
         ],
         "hovertemplate": [
          "Ethinicity: Asian<br>Count: 0<br>Age: 6",
          "Ethinicity: Asian<br>Count: 0<br>Age: 7",
          "Ethinicity: Asian<br>Count: 0<br>Age: 8",
          "Ethinicity: Asian<br>Count: 0<br>Age: 9",
          "Ethinicity: Asian<br>Count: 0<br>Age: 11",
          "Ethinicity: Asian<br>Count: 0<br>Age: 12",
          "Ethinicity: Asian<br>Count: 0<br>Age: 13",
          "Ethinicity: Asian<br>Count: 1<br>Age: 14",
          "Ethinicity: Asian<br>Count: 0<br>Age: 15",
          "Ethinicity: Asian<br>Count: 0<br>Age: 16",
          "Ethinicity: Asian<br>Count: 0<br>Age: 17",
          "Ethinicity: Asian<br>Count: 0<br>Age: 18",
          "Ethinicity: Asian<br>Count: 0<br>Age: 19",
          "Ethinicity: Asian<br>Count: 0<br>Age: 20",
          "Ethinicity: Asian<br>Count: 0<br>Age: 21",
          "Ethinicity: Asian<br>Count: 0<br>Age: 22",
          "Ethinicity: Asian<br>Count: 0<br>Age: 23",
          "Ethinicity: Asian<br>Count: 0<br>Age: 24",
          "Ethinicity: Asian<br>Count: 0<br>Age: 25",
          "Ethinicity: Asian<br>Count: 0<br>Age: 26",
          "Ethinicity: Asian<br>Count: 0<br>Age: 27",
          "Ethinicity: Asian<br>Count: 0<br>Age: 28",
          "Ethinicity: Asian<br>Count: 0<br>Age: 29",
          "Ethinicity: Asian<br>Count: 0<br>Age: 30",
          "Ethinicity: Asian<br>Count: 0<br>Age: 32",
          "Ethinicity: Asian<br>Count: 0<br>Age: 34",
          "Ethinicity: Asian<br>Count: 0<br>Age: 38",
          "Ethinicity: Asian<br>Count: 0<br>Age: 39",
          "Ethinicity: Asian<br>Count: 0<br>Age: 41",
          "Ethinicity: Asian<br>Count: 0<br>Age: 42",
          "Ethinicity: Asian<br>Count: 0<br>Age: 44",
          "Ethinicity: Asian<br>Count: 0<br>Age: 45",
          "Ethinicity: Asian<br>Count: 0<br>Age: 47",
          "Ethinicity: Asian<br>Count: 0<br>Age: 48",
          "Ethinicity: Asian<br>Count: 0<br>Age: 49",
          "Ethinicity: Asian<br>Count: 0<br>Age: 50",
          "Ethinicity: Asian<br>Count: 0<br>Age: 53",
          "Ethinicity: Asian<br>Count: 0<br>Age: 55",
          "Ethinicity: Asian<br>Count: 0<br>Age: 56",
          "Ethinicity: Asian<br>Count: 0<br>Age: 72"
         ],
         "marker": {
          "color": "#ffee65",
          "line": {
           "color": "#3d3d3d"
          }
         },
         "name": "Asian",
         "offsetgroup": "1",
         "orientation": "h",
         "showlegend": true,
         "type": "bar",
         "width": 0.7,
         "x": [
          0,
          0,
          0,
          0,
          0,
          0,
          0,
          1,
          0,
          0,
          0,
          0,
          0,
          0,
          0,
          0,
          0,
          0,
          0,
          0,
          0,
          0,
          0,
          0,
          0,
          0,
          0,
          0,
          0,
          0,
          0,
          0,
          0,
          0,
          0,
          0,
          0,
          0,
          0,
          0
         ],
         "xaxis": "x2",
         "y": [
          6,
          7,
          8,
          9,
          11,
          12,
          13,
          14,
          15,
          16,
          17,
          18,
          19,
          20,
          21,
          22,
          23,
          24,
          25,
          26,
          27,
          28,
          29,
          30,
          32,
          34,
          38,
          39,
          41,
          42,
          44,
          45,
          47,
          48,
          49,
          50,
          53,
          55,
          56,
          72
         ],
         "yaxis": "y2"
        },
        {
         "base": [
          0,
          0,
          0,
          0,
          0,
          0,
          1,
          1,
          0,
          1,
          0,
          0,
          0,
          0,
          0,
          0,
          0,
          0,
          0,
          0,
          0,
          0,
          0,
          0,
          0,
          0,
          0,
          0,
          0,
          0,
          0,
          0,
          0,
          0,
          0,
          0,
          0,
          0,
          0,
          0
         ],
         "hovertemplate": [
          "Ethinicity: Black<br>Count: 1<br>Age: 6",
          "Ethinicity: Black<br>Count: 0<br>Age: 7",
          "Ethinicity: Black<br>Count: 0<br>Age: 8",
          "Ethinicity: Black<br>Count: 0<br>Age: 9",
          "Ethinicity: Black<br>Count: 0<br>Age: 11",
          "Ethinicity: Black<br>Count: 0<br>Age: 12",
          "Ethinicity: Black<br>Count: 1<br>Age: 13",
          "Ethinicity: Black<br>Count: 0<br>Age: 14",
          "Ethinicity: Black<br>Count: 7<br>Age: 15",
          "Ethinicity: Black<br>Count: 11<br>Age: 16",
          "Ethinicity: Black<br>Count: 9<br>Age: 17",
          "Ethinicity: Black<br>Count: 6<br>Age: 18",
          "Ethinicity: Black<br>Count: 4<br>Age: 19",
          "Ethinicity: Black<br>Count: 1<br>Age: 20",
          "Ethinicity: Black<br>Count: 2<br>Age: 21",
          "Ethinicity: Black<br>Count: 0<br>Age: 22",
          "Ethinicity: Black<br>Count: 0<br>Age: 23",
          "Ethinicity: Black<br>Count: 1<br>Age: 24",
          "Ethinicity: Black<br>Count: 0<br>Age: 25",
          "Ethinicity: Black<br>Count: 1<br>Age: 26",
          "Ethinicity: Black<br>Count: 0<br>Age: 27",
          "Ethinicity: Black<br>Count: 1<br>Age: 28",
          "Ethinicity: Black<br>Count: 1<br>Age: 29",
          "Ethinicity: Black<br>Count: 0<br>Age: 30",
          "Ethinicity: Black<br>Count: 0<br>Age: 32",
          "Ethinicity: Black<br>Count: 1<br>Age: 34",
          "Ethinicity: Black<br>Count: 1<br>Age: 38",
          "Ethinicity: Black<br>Count: 0<br>Age: 39",
          "Ethinicity: Black<br>Count: 0<br>Age: 41",
          "Ethinicity: Black<br>Count: 1<br>Age: 42",
          "Ethinicity: Black<br>Count: 0<br>Age: 44",
          "Ethinicity: Black<br>Count: 0<br>Age: 45",
          "Ethinicity: Black<br>Count: 1<br>Age: 47",
          "Ethinicity: Black<br>Count: 0<br>Age: 48",
          "Ethinicity: Black<br>Count: 0<br>Age: 49",
          "Ethinicity: Black<br>Count: 0<br>Age: 50",
          "Ethinicity: Black<br>Count: 1<br>Age: 53",
          "Ethinicity: Black<br>Count: 1<br>Age: 55",
          "Ethinicity: Black<br>Count: 0<br>Age: 56",
          "Ethinicity: Black<br>Count: 0<br>Age: 72"
         ],
         "marker": {
          "color": "#fd7f6f",
          "line": {
           "color": "#3d3d3d"
          }
         },
         "name": "Black",
         "offsetgroup": "1",
         "orientation": "h",
         "showlegend": true,
         "type": "bar",
         "width": 0.7,
         "x": [
          1,
          0,
          0,
          0,
          0,
          0,
          1,
          0,
          7,
          11,
          9,
          6,
          4,
          1,
          2,
          0,
          0,
          1,
          0,
          1,
          0,
          1,
          1,
          0,
          0,
          1,
          1,
          0,
          0,
          1,
          0,
          0,
          1,
          0,
          0,
          0,
          1,
          1,
          0,
          0
         ],
         "xaxis": "x2",
         "y": [
          6,
          7,
          8,
          9,
          11,
          12,
          13,
          14,
          15,
          16,
          17,
          18,
          19,
          20,
          21,
          22,
          23,
          24,
          25,
          26,
          27,
          28,
          29,
          30,
          32,
          34,
          38,
          39,
          41,
          42,
          44,
          45,
          47,
          48,
          49,
          50,
          53,
          55,
          56,
          72
         ],
         "yaxis": "y2"
        },
        {
         "base": [
          1,
          0,
          0,
          0,
          0,
          0,
          2,
          1,
          7,
          12,
          9,
          6,
          4,
          1,
          2,
          0,
          0,
          1,
          0,
          1,
          0,
          1,
          1,
          0,
          0,
          1,
          1,
          0,
          0,
          1,
          0,
          0,
          1,
          0,
          0,
          0,
          1,
          1,
          0,
          0
         ],
         "hovertemplate": [
          "Ethinicity: Hispanic<br>Count: 0<br>Age: 6",
          "Ethinicity: Hispanic<br>Count: 0<br>Age: 7",
          "Ethinicity: Hispanic<br>Count: 0<br>Age: 8",
          "Ethinicity: Hispanic<br>Count: 0<br>Age: 9",
          "Ethinicity: Hispanic<br>Count: 0<br>Age: 11",
          "Ethinicity: Hispanic<br>Count: 2<br>Age: 12",
          "Ethinicity: Hispanic<br>Count: 0<br>Age: 13",
          "Ethinicity: Hispanic<br>Count: 0<br>Age: 14",
          "Ethinicity: Hispanic<br>Count: 0<br>Age: 15",
          "Ethinicity: Hispanic<br>Count: 1<br>Age: 16",
          "Ethinicity: Hispanic<br>Count: 1<br>Age: 17",
          "Ethinicity: Hispanic<br>Count: 1<br>Age: 18",
          "Ethinicity: Hispanic<br>Count: 2<br>Age: 19",
          "Ethinicity: Hispanic<br>Count: 0<br>Age: 20",
          "Ethinicity: Hispanic<br>Count: 0<br>Age: 21",
          "Ethinicity: Hispanic<br>Count: 0<br>Age: 22",
          "Ethinicity: Hispanic<br>Count: 0<br>Age: 23",
          "Ethinicity: Hispanic<br>Count: 0<br>Age: 24",
          "Ethinicity: Hispanic<br>Count: 0<br>Age: 25",
          "Ethinicity: Hispanic<br>Count: 0<br>Age: 26",
          "Ethinicity: Hispanic<br>Count: 1<br>Age: 27",
          "Ethinicity: Hispanic<br>Count: 0<br>Age: 28",
          "Ethinicity: Hispanic<br>Count: 0<br>Age: 29",
          "Ethinicity: Hispanic<br>Count: 0<br>Age: 30",
          "Ethinicity: Hispanic<br>Count: 0<br>Age: 32",
          "Ethinicity: Hispanic<br>Count: 0<br>Age: 34",
          "Ethinicity: Hispanic<br>Count: 0<br>Age: 38",
          "Ethinicity: Hispanic<br>Count: 0<br>Age: 39",
          "Ethinicity: Hispanic<br>Count: 0<br>Age: 41",
          "Ethinicity: Hispanic<br>Count: 0<br>Age: 42",
          "Ethinicity: Hispanic<br>Count: 0<br>Age: 44",
          "Ethinicity: Hispanic<br>Count: 0<br>Age: 45",
          "Ethinicity: Hispanic<br>Count: 0<br>Age: 47",
          "Ethinicity: Hispanic<br>Count: 0<br>Age: 48",
          "Ethinicity: Hispanic<br>Count: 0<br>Age: 49",
          "Ethinicity: Hispanic<br>Count: 0<br>Age: 50",
          "Ethinicity: Hispanic<br>Count: 0<br>Age: 53",
          "Ethinicity: Hispanic<br>Count: 0<br>Age: 55",
          "Ethinicity: Hispanic<br>Count: 0<br>Age: 56",
          "Ethinicity: Hispanic<br>Count: 0<br>Age: 72"
         ],
         "marker": {
          "color": "#bd7ebe",
          "line": {
           "color": "#3d3d3d"
          }
         },
         "name": "Hispanic",
         "offsetgroup": "1",
         "orientation": "h",
         "showlegend": true,
         "type": "bar",
         "width": 0.7,
         "x": [
          0,
          0,
          0,
          0,
          0,
          2,
          0,
          0,
          0,
          1,
          1,
          1,
          2,
          0,
          0,
          0,
          0,
          0,
          0,
          0,
          1,
          0,
          0,
          0,
          0,
          0,
          0,
          0,
          0,
          0,
          0,
          0,
          0,
          0,
          0,
          0,
          0,
          0,
          0,
          0
         ],
         "xaxis": "x2",
         "y": [
          6,
          7,
          8,
          9,
          11,
          12,
          13,
          14,
          15,
          16,
          17,
          18,
          19,
          20,
          21,
          22,
          23,
          24,
          25,
          26,
          27,
          28,
          29,
          30,
          32,
          34,
          38,
          39,
          41,
          42,
          44,
          45,
          47,
          48,
          49,
          50,
          53,
          55,
          56,
          72
         ],
         "yaxis": "y2"
        },
        {
         "base": [
          1,
          0,
          0,
          0,
          0,
          2,
          2,
          1,
          7,
          13,
          10,
          7,
          6,
          1,
          2,
          0,
          0,
          1,
          0,
          1,
          1,
          1,
          1,
          0,
          0,
          1,
          1,
          0,
          0,
          1,
          0,
          0,
          1,
          0,
          0,
          0,
          1,
          1,
          0,
          0
         ],
         "hovertemplate": [
          "Ethinicity: Not known<br>Count: 2<br>Age: 6",
          "Ethinicity: Not known<br>Count: 0<br>Age: 7",
          "Ethinicity: Not known<br>Count: 3<br>Age: 8",
          "Ethinicity: Not known<br>Count: 0<br>Age: 9",
          "Ethinicity: Not known<br>Count: 2<br>Age: 11",
          "Ethinicity: Not known<br>Count: 3<br>Age: 12",
          "Ethinicity: Not known<br>Count: 7<br>Age: 13",
          "Ethinicity: Not known<br>Count: 18<br>Age: 14",
          "Ethinicity: Not known<br>Count: 23<br>Age: 15",
          "Ethinicity: Not known<br>Count: 17<br>Age: 16",
          "Ethinicity: Not known<br>Count: 18<br>Age: 17",
          "Ethinicity: Not known<br>Count: 6<br>Age: 18",
          "Ethinicity: Not known<br>Count: 5<br>Age: 19",
          "Ethinicity: Not known<br>Count: 1<br>Age: 20",
          "Ethinicity: Not known<br>Count: 1<br>Age: 21",
          "Ethinicity: Not known<br>Count: 1<br>Age: 22",
          "Ethinicity: Not known<br>Count: 2<br>Age: 23",
          "Ethinicity: Not known<br>Count: 0<br>Age: 24",
          "Ethinicity: Not known<br>Count: 2<br>Age: 25",
          "Ethinicity: Not known<br>Count: 0<br>Age: 26",
          "Ethinicity: Not known<br>Count: 0<br>Age: 27",
          "Ethinicity: Not known<br>Count: 1<br>Age: 28",
          "Ethinicity: Not known<br>Count: 0<br>Age: 29",
          "Ethinicity: Not known<br>Count: 1<br>Age: 30",
          "Ethinicity: Not known<br>Count: 1<br>Age: 32",
          "Ethinicity: Not known<br>Count: 0<br>Age: 34",
          "Ethinicity: Not known<br>Count: 1<br>Age: 38",
          "Ethinicity: Not known<br>Count: 1<br>Age: 39",
          "Ethinicity: Not known<br>Count: 1<br>Age: 41",
          "Ethinicity: Not known<br>Count: 0<br>Age: 42",
          "Ethinicity: Not known<br>Count: 0<br>Age: 44",
          "Ethinicity: Not known<br>Count: 1<br>Age: 45",
          "Ethinicity: Not known<br>Count: 1<br>Age: 47",
          "Ethinicity: Not known<br>Count: 1<br>Age: 48",
          "Ethinicity: Not known<br>Count: 1<br>Age: 49",
          "Ethinicity: Not known<br>Count: 0<br>Age: 50",
          "Ethinicity: Not known<br>Count: 0<br>Age: 53",
          "Ethinicity: Not known<br>Count: 0<br>Age: 55",
          "Ethinicity: Not known<br>Count: 0<br>Age: 56",
          "Ethinicity: Not known<br>Count: 0<br>Age: 72"
         ],
         "marker": {
          "color": "#7eb0d5",
          "line": {
           "color": "#3d3d3d"
          }
         },
         "name": "Not known",
         "offsetgroup": "1",
         "orientation": "h",
         "showlegend": true,
         "type": "bar",
         "width": 0.7,
         "x": [
          2,
          0,
          3,
          0,
          2,
          3,
          7,
          18,
          23,
          17,
          18,
          6,
          5,
          1,
          1,
          1,
          2,
          0,
          2,
          0,
          0,
          1,
          0,
          1,
          1,
          0,
          1,
          1,
          1,
          0,
          0,
          1,
          1,
          1,
          1,
          0,
          0,
          0,
          0,
          0
         ],
         "xaxis": "x2",
         "y": [
          6,
          7,
          8,
          9,
          11,
          12,
          13,
          14,
          15,
          16,
          17,
          18,
          19,
          20,
          21,
          22,
          23,
          24,
          25,
          26,
          27,
          28,
          29,
          30,
          32,
          34,
          38,
          39,
          41,
          42,
          44,
          45,
          47,
          48,
          49,
          50,
          53,
          55,
          56,
          72
         ],
         "yaxis": "y2"
        },
        {
         "base": [
          3,
          0,
          3,
          0,
          2,
          5,
          9,
          19,
          30,
          30,
          28,
          13,
          11,
          2,
          3,
          1,
          2,
          1,
          2,
          1,
          1,
          2,
          1,
          1,
          1,
          1,
          2,
          1,
          1,
          1,
          0,
          1,
          2,
          1,
          1,
          0,
          1,
          1,
          0,
          0
         ],
         "hovertemplate": [
          "Ethinicity: White<br>Count: 0<br>Age: 6",
          "Ethinicity: White<br>Count: 1<br>Age: 7",
          "Ethinicity: White<br>Count: 0<br>Age: 8",
          "Ethinicity: White<br>Count: 1<br>Age: 9",
          "Ethinicity: White<br>Count: 0<br>Age: 11",
          "Ethinicity: White<br>Count: 2<br>Age: 12",
          "Ethinicity: White<br>Count: 2<br>Age: 13",
          "Ethinicity: White<br>Count: 8<br>Age: 14",
          "Ethinicity: White<br>Count: 14<br>Age: 15",
          "Ethinicity: White<br>Count: 7<br>Age: 16",
          "Ethinicity: White<br>Count: 6<br>Age: 17",
          "Ethinicity: White<br>Count: 2<br>Age: 18",
          "Ethinicity: White<br>Count: 3<br>Age: 19",
          "Ethinicity: White<br>Count: 3<br>Age: 20",
          "Ethinicity: White<br>Count: 1<br>Age: 21",
          "Ethinicity: White<br>Count: 0<br>Age: 22",
          "Ethinicity: White<br>Count: 0<br>Age: 23",
          "Ethinicity: White<br>Count: 0<br>Age: 24",
          "Ethinicity: White<br>Count: 0<br>Age: 25",
          "Ethinicity: White<br>Count: 1<br>Age: 26",
          "Ethinicity: White<br>Count: 0<br>Age: 27",
          "Ethinicity: White<br>Count: 1<br>Age: 28",
          "Ethinicity: White<br>Count: 0<br>Age: 29",
          "Ethinicity: White<br>Count: 0<br>Age: 30",
          "Ethinicity: White<br>Count: 2<br>Age: 32",
          "Ethinicity: White<br>Count: 0<br>Age: 34",
          "Ethinicity: White<br>Count: 0<br>Age: 38",
          "Ethinicity: White<br>Count: 0<br>Age: 39",
          "Ethinicity: White<br>Count: 1<br>Age: 41",
          "Ethinicity: White<br>Count: 0<br>Age: 42",
          "Ethinicity: White<br>Count: 2<br>Age: 44",
          "Ethinicity: White<br>Count: 1<br>Age: 45",
          "Ethinicity: White<br>Count: 0<br>Age: 47",
          "Ethinicity: White<br>Count: 0<br>Age: 48",
          "Ethinicity: White<br>Count: 0<br>Age: 49",
          "Ethinicity: White<br>Count: 1<br>Age: 50",
          "Ethinicity: White<br>Count: 2<br>Age: 53",
          "Ethinicity: White<br>Count: 0<br>Age: 55",
          "Ethinicity: White<br>Count: 1<br>Age: 56",
          "Ethinicity: White<br>Count: 1<br>Age: 72"
         ],
         "marker": {
          "color": "#b2e061",
          "line": {
           "color": "#3d3d3d"
          }
         },
         "name": "White",
         "offsetgroup": "1",
         "orientation": "h",
         "showlegend": true,
         "type": "bar",
         "width": 0.7,
         "x": [
          0,
          1,
          0,
          1,
          0,
          2,
          2,
          8,
          14,
          7,
          6,
          2,
          3,
          3,
          1,
          0,
          0,
          0,
          0,
          1,
          0,
          1,
          0,
          0,
          2,
          0,
          0,
          0,
          1,
          0,
          2,
          1,
          0,
          0,
          0,
          1,
          2,
          0,
          1,
          1
         ],
         "xaxis": "x2",
         "y": [
          6,
          7,
          8,
          9,
          11,
          12,
          13,
          14,
          15,
          16,
          17,
          18,
          19,
          20,
          21,
          22,
          23,
          24,
          25,
          26,
          27,
          28,
          29,
          30,
          32,
          34,
          38,
          39,
          41,
          42,
          44,
          45,
          47,
          48,
          49,
          50,
          53,
          55,
          56,
          72
         ],
         "yaxis": "y2"
        }
       ],
       "layout": {
        "barmode": "relative",
        "font": {
         "color": "#000000",
         "family": "Rubik",
         "size": 12
        },
        "height": 1000,
        "legend": {
         "x": 1,
         "xanchor": "right",
         "y": 1,
         "yanchor": "top"
        },
        "modebar": {
         "orientation": "v"
        },
        "plot_bgcolor": "#FFFFFF",
        "template": {
         "data": {
          "bar": [
           {
            "error_x": {
             "color": "#2a3f5f"
            },
            "error_y": {
             "color": "#2a3f5f"
            },
            "marker": {
             "line": {
              "color": "#E5ECF6",
              "width": 0.5
             },
             "pattern": {
              "fillmode": "overlay",
              "size": 10,
              "solidity": 0.2
             }
            },
            "type": "bar"
           }
          ],
          "barpolar": [
           {
            "marker": {
             "line": {
              "color": "#E5ECF6",
              "width": 0.5
             },
             "pattern": {
              "fillmode": "overlay",
              "size": 10,
              "solidity": 0.2
             }
            },
            "type": "barpolar"
           }
          ],
          "carpet": [
           {
            "aaxis": {
             "endlinecolor": "#2a3f5f",
             "gridcolor": "white",
             "linecolor": "white",
             "minorgridcolor": "white",
             "startlinecolor": "#2a3f5f"
            },
            "baxis": {
             "endlinecolor": "#2a3f5f",
             "gridcolor": "white",
             "linecolor": "white",
             "minorgridcolor": "white",
             "startlinecolor": "#2a3f5f"
            },
            "type": "carpet"
           }
          ],
          "choropleth": [
           {
            "colorbar": {
             "outlinewidth": 0,
             "ticks": ""
            },
            "type": "choropleth"
           }
          ],
          "contour": [
           {
            "colorbar": {
             "outlinewidth": 0,
             "ticks": ""
            },
            "colorscale": [
             [
              0,
              "#0d0887"
             ],
             [
              0.1111111111111111,
              "#46039f"
             ],
             [
              0.2222222222222222,
              "#7201a8"
             ],
             [
              0.3333333333333333,
              "#9c179e"
             ],
             [
              0.4444444444444444,
              "#bd3786"
             ],
             [
              0.5555555555555556,
              "#d8576b"
             ],
             [
              0.6666666666666666,
              "#ed7953"
             ],
             [
              0.7777777777777778,
              "#fb9f3a"
             ],
             [
              0.8888888888888888,
              "#fdca26"
             ],
             [
              1,
              "#f0f921"
             ]
            ],
            "type": "contour"
           }
          ],
          "contourcarpet": [
           {
            "colorbar": {
             "outlinewidth": 0,
             "ticks": ""
            },
            "type": "contourcarpet"
           }
          ],
          "heatmap": [
           {
            "colorbar": {
             "outlinewidth": 0,
             "ticks": ""
            },
            "colorscale": [
             [
              0,
              "#0d0887"
             ],
             [
              0.1111111111111111,
              "#46039f"
             ],
             [
              0.2222222222222222,
              "#7201a8"
             ],
             [
              0.3333333333333333,
              "#9c179e"
             ],
             [
              0.4444444444444444,
              "#bd3786"
             ],
             [
              0.5555555555555556,
              "#d8576b"
             ],
             [
              0.6666666666666666,
              "#ed7953"
             ],
             [
              0.7777777777777778,
              "#fb9f3a"
             ],
             [
              0.8888888888888888,
              "#fdca26"
             ],
             [
              1,
              "#f0f921"
             ]
            ],
            "type": "heatmap"
           }
          ],
          "heatmapgl": [
           {
            "colorbar": {
             "outlinewidth": 0,
             "ticks": ""
            },
            "colorscale": [
             [
              0,
              "#0d0887"
             ],
             [
              0.1111111111111111,
              "#46039f"
             ],
             [
              0.2222222222222222,
              "#7201a8"
             ],
             [
              0.3333333333333333,
              "#9c179e"
             ],
             [
              0.4444444444444444,
              "#bd3786"
             ],
             [
              0.5555555555555556,
              "#d8576b"
             ],
             [
              0.6666666666666666,
              "#ed7953"
             ],
             [
              0.7777777777777778,
              "#fb9f3a"
             ],
             [
              0.8888888888888888,
              "#fdca26"
             ],
             [
              1,
              "#f0f921"
             ]
            ],
            "type": "heatmapgl"
           }
          ],
          "histogram": [
           {
            "marker": {
             "pattern": {
              "fillmode": "overlay",
              "size": 10,
              "solidity": 0.2
             }
            },
            "type": "histogram"
           }
          ],
          "histogram2d": [
           {
            "colorbar": {
             "outlinewidth": 0,
             "ticks": ""
            },
            "colorscale": [
             [
              0,
              "#0d0887"
             ],
             [
              0.1111111111111111,
              "#46039f"
             ],
             [
              0.2222222222222222,
              "#7201a8"
             ],
             [
              0.3333333333333333,
              "#9c179e"
             ],
             [
              0.4444444444444444,
              "#bd3786"
             ],
             [
              0.5555555555555556,
              "#d8576b"
             ],
             [
              0.6666666666666666,
              "#ed7953"
             ],
             [
              0.7777777777777778,
              "#fb9f3a"
             ],
             [
              0.8888888888888888,
              "#fdca26"
             ],
             [
              1,
              "#f0f921"
             ]
            ],
            "type": "histogram2d"
           }
          ],
          "histogram2dcontour": [
           {
            "colorbar": {
             "outlinewidth": 0,
             "ticks": ""
            },
            "colorscale": [
             [
              0,
              "#0d0887"
             ],
             [
              0.1111111111111111,
              "#46039f"
             ],
             [
              0.2222222222222222,
              "#7201a8"
             ],
             [
              0.3333333333333333,
              "#9c179e"
             ],
             [
              0.4444444444444444,
              "#bd3786"
             ],
             [
              0.5555555555555556,
              "#d8576b"
             ],
             [
              0.6666666666666666,
              "#ed7953"
             ],
             [
              0.7777777777777778,
              "#fb9f3a"
             ],
             [
              0.8888888888888888,
              "#fdca26"
             ],
             [
              1,
              "#f0f921"
             ]
            ],
            "type": "histogram2dcontour"
           }
          ],
          "mesh3d": [
           {
            "colorbar": {
             "outlinewidth": 0,
             "ticks": ""
            },
            "type": "mesh3d"
           }
          ],
          "parcoords": [
           {
            "line": {
             "colorbar": {
              "outlinewidth": 0,
              "ticks": ""
             }
            },
            "type": "parcoords"
           }
          ],
          "pie": [
           {
            "automargin": true,
            "type": "pie"
           }
          ],
          "scatter": [
           {
            "fillpattern": {
             "fillmode": "overlay",
             "size": 10,
             "solidity": 0.2
            },
            "type": "scatter"
           }
          ],
          "scatter3d": [
           {
            "line": {
             "colorbar": {
              "outlinewidth": 0,
              "ticks": ""
             }
            },
            "marker": {
             "colorbar": {
              "outlinewidth": 0,
              "ticks": ""
             }
            },
            "type": "scatter3d"
           }
          ],
          "scattercarpet": [
           {
            "marker": {
             "colorbar": {
              "outlinewidth": 0,
              "ticks": ""
             }
            },
            "type": "scattercarpet"
           }
          ],
          "scattergeo": [
           {
            "marker": {
             "colorbar": {
              "outlinewidth": 0,
              "ticks": ""
             }
            },
            "type": "scattergeo"
           }
          ],
          "scattergl": [
           {
            "marker": {
             "colorbar": {
              "outlinewidth": 0,
              "ticks": ""
             }
            },
            "type": "scattergl"
           }
          ],
          "scattermapbox": [
           {
            "marker": {
             "colorbar": {
              "outlinewidth": 0,
              "ticks": ""
             }
            },
            "type": "scattermapbox"
           }
          ],
          "scatterpolar": [
           {
            "marker": {
             "colorbar": {
              "outlinewidth": 0,
              "ticks": ""
             }
            },
            "type": "scatterpolar"
           }
          ],
          "scatterpolargl": [
           {
            "marker": {
             "colorbar": {
              "outlinewidth": 0,
              "ticks": ""
             }
            },
            "type": "scatterpolargl"
           }
          ],
          "scatterternary": [
           {
            "marker": {
             "colorbar": {
              "outlinewidth": 0,
              "ticks": ""
             }
            },
            "type": "scatterternary"
           }
          ],
          "surface": [
           {
            "colorbar": {
             "outlinewidth": 0,
             "ticks": ""
            },
            "colorscale": [
             [
              0,
              "#0d0887"
             ],
             [
              0.1111111111111111,
              "#46039f"
             ],
             [
              0.2222222222222222,
              "#7201a8"
             ],
             [
              0.3333333333333333,
              "#9c179e"
             ],
             [
              0.4444444444444444,
              "#bd3786"
             ],
             [
              0.5555555555555556,
              "#d8576b"
             ],
             [
              0.6666666666666666,
              "#ed7953"
             ],
             [
              0.7777777777777778,
              "#fb9f3a"
             ],
             [
              0.8888888888888888,
              "#fdca26"
             ],
             [
              1,
              "#f0f921"
             ]
            ],
            "type": "surface"
           }
          ],
          "table": [
           {
            "cells": {
             "fill": {
              "color": "#EBF0F8"
             },
             "line": {
              "color": "white"
             }
            },
            "header": {
             "fill": {
              "color": "#C8D4E3"
             },
             "line": {
              "color": "white"
             }
            },
            "type": "table"
           }
          ]
         },
         "layout": {
          "annotationdefaults": {
           "arrowcolor": "#2a3f5f",
           "arrowhead": 0,
           "arrowwidth": 1
          },
          "autotypenumbers": "strict",
          "coloraxis": {
           "colorbar": {
            "outlinewidth": 0,
            "ticks": ""
           }
          },
          "colorscale": {
           "diverging": [
            [
             0,
             "#8e0152"
            ],
            [
             0.1,
             "#c51b7d"
            ],
            [
             0.2,
             "#de77ae"
            ],
            [
             0.3,
             "#f1b6da"
            ],
            [
             0.4,
             "#fde0ef"
            ],
            [
             0.5,
             "#f7f7f7"
            ],
            [
             0.6,
             "#e6f5d0"
            ],
            [
             0.7,
             "#b8e186"
            ],
            [
             0.8,
             "#7fbc41"
            ],
            [
             0.9,
             "#4d9221"
            ],
            [
             1,
             "#276419"
            ]
           ],
           "sequential": [
            [
             0,
             "#0d0887"
            ],
            [
             0.1111111111111111,
             "#46039f"
            ],
            [
             0.2222222222222222,
             "#7201a8"
            ],
            [
             0.3333333333333333,
             "#9c179e"
            ],
            [
             0.4444444444444444,
             "#bd3786"
            ],
            [
             0.5555555555555556,
             "#d8576b"
            ],
            [
             0.6666666666666666,
             "#ed7953"
            ],
            [
             0.7777777777777778,
             "#fb9f3a"
            ],
            [
             0.8888888888888888,
             "#fdca26"
            ],
            [
             1,
             "#f0f921"
            ]
           ],
           "sequentialminus": [
            [
             0,
             "#0d0887"
            ],
            [
             0.1111111111111111,
             "#46039f"
            ],
            [
             0.2222222222222222,
             "#7201a8"
            ],
            [
             0.3333333333333333,
             "#9c179e"
            ],
            [
             0.4444444444444444,
             "#bd3786"
            ],
            [
             0.5555555555555556,
             "#d8576b"
            ],
            [
             0.6666666666666666,
             "#ed7953"
            ],
            [
             0.7777777777777778,
             "#fb9f3a"
            ],
            [
             0.8888888888888888,
             "#fdca26"
            ],
            [
             1,
             "#f0f921"
            ]
           ]
          },
          "colorway": [
           "#636efa",
           "#EF553B",
           "#00cc96",
           "#ab63fa",
           "#FFA15A",
           "#19d3f3",
           "#FF6692",
           "#B6E880",
           "#FF97FF",
           "#FECB52"
          ],
          "font": {
           "color": "#2a3f5f"
          },
          "geo": {
           "bgcolor": "white",
           "lakecolor": "white",
           "landcolor": "#E5ECF6",
           "showlakes": true,
           "showland": true,
           "subunitcolor": "white"
          },
          "hoverlabel": {
           "align": "left"
          },
          "hovermode": "closest",
          "mapbox": {
           "style": "light"
          },
          "paper_bgcolor": "white",
          "plot_bgcolor": "#E5ECF6",
          "polar": {
           "angularaxis": {
            "gridcolor": "white",
            "linecolor": "white",
            "ticks": ""
           },
           "bgcolor": "#E5ECF6",
           "radialaxis": {
            "gridcolor": "white",
            "linecolor": "white",
            "ticks": ""
           }
          },
          "scene": {
           "xaxis": {
            "backgroundcolor": "#E5ECF6",
            "gridcolor": "white",
            "gridwidth": 2,
            "linecolor": "white",
            "showbackground": true,
            "ticks": "",
            "zerolinecolor": "white"
           },
           "yaxis": {
            "backgroundcolor": "#E5ECF6",
            "gridcolor": "white",
            "gridwidth": 2,
            "linecolor": "white",
            "showbackground": true,
            "ticks": "",
            "zerolinecolor": "white"
           },
           "zaxis": {
            "backgroundcolor": "#E5ECF6",
            "gridcolor": "white",
            "gridwidth": 2,
            "linecolor": "white",
            "showbackground": true,
            "ticks": "",
            "zerolinecolor": "white"
           }
          },
          "shapedefaults": {
           "line": {
            "color": "#2a3f5f"
           }
          },
          "ternary": {
           "aaxis": {
            "gridcolor": "white",
            "linecolor": "white",
            "ticks": ""
           },
           "baxis": {
            "gridcolor": "white",
            "linecolor": "white",
            "ticks": ""
           },
           "bgcolor": "#E5ECF6",
           "caxis": {
            "gridcolor": "white",
            "linecolor": "white",
            "ticks": ""
           }
          },
          "title": {
           "x": 0.05
          },
          "xaxis": {
           "automargin": true,
           "gridcolor": "white",
           "linecolor": "white",
           "ticks": "",
           "title": {
            "standoff": 15
           },
           "zerolinecolor": "white",
           "zerolinewidth": 2
          },
          "yaxis": {
           "automargin": true,
           "gridcolor": "white",
           "linecolor": "white",
           "ticks": "",
           "title": {
            "standoff": 15
           },
           "zerolinecolor": "white",
           "zerolinewidth": 2
          }
         }
        },
        "title": {
         "text": "Distribution of shooters vs age with ethnicity distinguished<br><br><sup>Female | Male</sup>",
         "x": 0.5,
         "y": 0.96
        },
        "width": 630,
        "xaxis": {
         "anchor": "y",
         "domain": [
          0,
          0.3
         ],
         "linecolor": "#000000",
         "mirror": true,
         "range": [
          20,
          0
         ],
         "showline": true,
         "showticklabels": true,
         "side": "top"
        },
        "xaxis2": {
         "anchor": "y2",
         "domain": [
          0.3,
          1
         ],
         "linecolor": "#000000",
         "mirror": true,
         "showline": true,
         "showticklabels": true,
         "side": "top"
        },
        "yaxis": {
         "anchor": "x",
         "domain": [
          0,
          1
         ],
         "linecolor": "#000000",
         "mirror": true,
         "showline": true,
         "title": {
          "text": "Age"
         }
        },
        "yaxis2": {
         "anchor": "x2",
         "domain": [
          0,
          1
         ],
         "linecolor": "#000000",
         "matches": "y",
         "mirror": true,
         "showline": true,
         "showticklabels": false
        }
       }
      }
     },
     "metadata": {},
     "output_type": "display_data"
    }
   ],
   "source": [
    "fig = make_subplots(rows=1, cols=2, column_widths=[0.3, 0.7], specs=[[{\"type\": \"bar\"}, {\"type\": \"bar\"}]], shared_xaxes=False,\n",
    "                    shared_yaxes=True, horizontal_spacing=0)\n",
    "\n",
    "base = np.zeros(shape=women_ethnicity.shape[0])\n",
    "base = pd.Series(base)\n",
    "for col in women_ethnicity.columns[1:]:\n",
    "    fig.append_trace(go.Bar(name=\"Ethincity \"+col,\n",
    "                            x=women_ethnicity[col],\n",
    "                            y=women_ethnicity['age_shooter1'],\n",
    "                            hovertemplate='Ethinicity: ' + col + '<br>Count: ' + women_ethnicity[col].map(\n",
    "                                '{:,.0f}'.format) + '<br>Age: ' + women_ethnicity['age_shooter1'].map('{:,.0f}'.format),\n",
    "                            offsetgroup=0,\n",
    "                            orientation='h',\n",
    "                            width=0.7,\n",
    "                            marker_color=marker_color[col],\n",
    "                            showlegend=False,\n",
    "                            base=base),\n",
    "                     1, 1)  # 1,1 represents row 1 column 1 in the plot grid\n",
    "    base = base.add(women_ethnicity[col])\n",
    "\n",
    "\n",
    "base = np.zeros(shape=men_ethnicity.shape[0])\n",
    "base = pd.Series(base)\n",
    "for col in men_ethnicity.columns[1:]:\n",
    "    fig.append_trace(go.Bar(name=col,\n",
    "                            x=men_ethnicity[col],\n",
    "                            y=men_ethnicity['age_shooter1'],\n",
    "                            hovertemplate='Ethinicity: ' + col + '<br>Count: ' + men_ethnicity[col].map(\n",
    "                                '{:,.0f}'.format) + '<br>Age: ' + men_ethnicity['age_shooter1'].map('{:,.0f}'.format),\n",
    "                            offsetgroup=1,\n",
    "                            orientation='h',\n",
    "                            width=0.7,\n",
    "                            marker_color=marker_color[col],\n",
    "                            showlegend=True,\n",
    "                            base=base,\n",
    "                            \n",
    "                            ),\n",
    "                     1, 2)  # 1,1 represents row 1 column 1 in the plot grid\n",
    "    base = base.add(men_ethnicity[col])\n",
    "\n",
    "fig.update_xaxes(\n",
    "    showticklabels=True,\n",
    "    # title_text=\"Female\",\n",
    "\n",
    "    row=1,\n",
    "    col=1,\n",
    "    range=[20, 0]\n",
    ")\n",
    "fig.update_xaxes(\n",
    "    showticklabels=True,\n",
    "    # title_text=\"Male\",\n",
    "    row=1,\n",
    "    col=2\n",
    ")\n",
    "\n",
    "fig.update_layout(\n",
    "    title_text=\"Distribution of shooters vs age with ethnicity distinguished<br><br><sup>Female | Male</sup>\",\n",
    "    title_x=.5,\n",
    "    title_y=.96,\n",
    "    width=630,\n",
    "    height=1000,\n",
    "    xaxis1={'side': 'top'},\n",
    "    xaxis2={'side': 'top'},\n",
    "    barmode='relative'\n",
    ")\n",
    "\n",
    "fig.update_layout(\n",
    "    legend=dict(\n",
    "        yanchor=\"top\",\n",
    "        y=1,\n",
    "        xanchor=\"right\",\n",
    "        x=1\n",
    "    ),\n",
    "    xaxis=dict(\n",
    "        showline=True,\n",
    "        mirror=True,\n",
    "        linecolor=\"#000000\",\n",
    "    ),\n",
    "    xaxis2=dict(\n",
    "        showline=True,\n",
    "        mirror=True,\n",
    "        linecolor=\"#000000\",\n",
    "    ),\n",
    "    yaxis=dict(\n",
    "        showline=True,\n",
    "        mirror=True,\n",
    "        linecolor=\"#000000\",\n",
    "        title=dict(\n",
    "            text=\"Age\"\n",
    "        )\n",
    "    ),\n",
    "    yaxis2=dict(\n",
    "        showline=True,\n",
    "        mirror=True,\n",
    "        linecolor=\"#000000\"\n",
    "    ),\n",
    "    plot_bgcolor=color_light,\n",
    "    font=dict(family='Rubik', size=12, color=color_dark),\n",
    "    modebar=dict(\n",
    "        orientation='v',\n",
    "    )\n",
    ")\n",
    "\n",
    "fig.update_traces(\n",
    "    marker_line_color=color_dark_accent_2,\n",
    ")\n",
    "\n",
    "fig.show()\n"
   ]
  },
  {
   "cell_type": "code",
   "execution_count": 130,
   "metadata": {},
   "outputs": [],
   "source": [
    "chart_div = plotly.offline.plot(fig, output_type='div')\n",
    "with open(\"../docs/_includes/shooters.html\", 'w') as f:\n",
    "    f.write(chart_div)"
   ]
  }
 ],
 "metadata": {
  "kernelspec": {
   "display_name": "social-data-viz",
   "language": "python",
   "name": "python3"
  },
  "language_info": {
   "codemirror_mode": {
    "name": "ipython",
    "version": 3
   },
   "file_extension": ".py",
   "mimetype": "text/x-python",
   "name": "python",
   "nbconvert_exporter": "python",
   "pygments_lexer": "ipython3",
   "version": "3.10.10"
  },
  "orig_nbformat": 4
 },
 "nbformat": 4,
 "nbformat_minor": 2
}
