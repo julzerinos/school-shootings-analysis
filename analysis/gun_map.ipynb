{
 "cells": [
  {
   "cell_type": "code",
   "execution_count": 2,
   "metadata": {},
   "outputs": [],
   "source": [
    "import pandas as pd\n",
    "import numpy as np\n",
    "import datetime\n",
    "import math\n",
    "import calendar\n",
    "\n",
    "import folium\n",
    "\n",
    "import matplotlib.pyplot as plt\n",
    "import matplotlib as mpl\n",
    "import plotly\n",
    "import plotly.express as px\n",
    "import plotly.graph_objects as go\n",
    "from plotly.subplots import make_subplots\n",
    "\n",
    "import geojson\n",
    "%matplotlib inline"
   ]
  },
  {
   "cell_type": "code",
   "execution_count": 3,
   "metadata": {},
   "outputs": [],
   "source": [
    "def convert_timestring_to_time(date_string):\n",
    "    if date_string is np.nan:\n",
    "        return date_string\n",
    "    idx = date_string.find('M')\n",
    "    if( idx ==-1):\n",
    "        return datetime.datetime.strptime(date_string, '%H:%M')\n",
    "    idx -=2\n",
    "    if date_string[idx] == ' ':\n",
    "        return datetime.datetime.strptime(date_string, '%I:%M %p')\n",
    "    return datetime.datetime.strptime(date_string, '%I:%M%p')"
   ]
  },
  {
   "cell_type": "code",
   "execution_count": 4,
   "metadata": {},
   "outputs": [],
   "source": [
    "df = pd.read_csv(\"../../data/school_shooting_data.csv\")\n",
    "df['time'] = df['time'].apply(lambda x: convert_timestring_to_time(x))\n",
    "df['date'] = pd.to_datetime(df['date'], format='%m/%d/%Y')"
   ]
  },
  {
   "cell_type": "code",
   "execution_count": 5,
   "metadata": {},
   "outputs": [],
   "source": [
    "df = df[df['long'].notna()]\n",
    "df.reset_index(drop=True, inplace=True)"
   ]
  },
  {
   "cell_type": "code",
   "execution_count": 6,
   "metadata": {},
   "outputs": [],
   "source": [
    "file_name = '../../data/TL-354-State-Level Estimates of Household Firearm Ownership.xlsx'\n",
    "sheet_to_df_map = pd.read_excel(file_name, sheet_name=\"State-Level Data & Factor Score\")\n",
    "gun_ownership = sheet_to_df_map.groupby(['STATE']).aggregate(\n",
    "    average_ownership = ('HFR', 'mean')\n",
    ").reset_index()\n",
    "# convert rate to %\n",
    "gun_ownership['average_ownership'] = gun_ownership['average_ownership'] * 100\n",
    "# get shootings by state\n",
    "school_shootings_by_state = df.groupby('state').aggregate( killed = ('killed', 'sum'), injured= ('injured', 'sum'), causalities = ('casualties', 'sum')).reset_index()"
   ]
  },
  {
   "cell_type": "code",
   "execution_count": 7,
   "metadata": {},
   "outputs": [],
   "source": [
    "us_state_to_abbrev = {\n",
    "    \"Alabama\": \"AL\",\n",
    "    \"Alaska\": \"AK\",\n",
    "    \"Arizona\": \"AZ\",\n",
    "    \"Arkansas\": \"AR\",\n",
    "    \"California\": \"CA\",\n",
    "    \"Colorado\": \"CO\",\n",
    "    \"Connecticut\": \"CT\",\n",
    "    \"Delaware\": \"DE\",\n",
    "    \"Florida\": \"FL\",\n",
    "    \"Georgia\": \"GA\",\n",
    "    \"Hawaii\": \"HI\",\n",
    "    \"Idaho\": \"ID\",\n",
    "    \"Illinois\": \"IL\",\n",
    "    \"Indiana\": \"IN\",\n",
    "    \"Iowa\": \"IA\",\n",
    "    \"Kansas\": \"KS\",\n",
    "    \"Kentucky\": \"KY\",\n",
    "    \"Louisiana\": \"LA\",\n",
    "    \"Maine\": \"ME\",\n",
    "    \"Maryland\": \"MD\",\n",
    "    \"Massachusetts\": \"MA\",\n",
    "    \"Michigan\": \"MI\",\n",
    "    \"Minnesota\": \"MN\",\n",
    "    \"Mississippi\": \"MS\",\n",
    "    \"Missouri\": \"MO\",\n",
    "    \"Montana\": \"MT\",\n",
    "    \"Nebraska\": \"NE\",\n",
    "    \"Nevada\": \"NV\",\n",
    "    \"New Hampshire\": \"NH\",\n",
    "    \"New Jersey\": \"NJ\",\n",
    "    \"New Mexico\": \"NM\",\n",
    "    \"New York\": \"NY\",\n",
    "    \"North Carolina\": \"NC\",\n",
    "    \"North Dakota\": \"ND\",\n",
    "    \"Ohio\": \"OH\",\n",
    "    \"Oklahoma\": \"OK\",\n",
    "    \"Oregon\": \"OR\",\n",
    "    \"Pennsylvania\": \"PA\",\n",
    "    \"Rhode Island\": \"RI\",\n",
    "    \"South Carolina\": \"SC\",\n",
    "    \"South Dakota\": \"SD\",\n",
    "    \"Tennessee\": \"TN\",\n",
    "    \"Texas\": \"TX\",\n",
    "    \"Utah\": \"UT\",\n",
    "    \"Vermont\": \"VT\",\n",
    "    \"Virginia\": \"VA\",\n",
    "    \"Washington\": \"WA\",\n",
    "    \"West Virginia\": \"WV\",\n",
    "    \"Wisconsin\": \"WI\",\n",
    "    \"Wyoming\": \"WY\",\n",
    "    \"District of Columbia\": \"DC\",\n",
    "    \"American Samoa\": \"AS\",\n",
    "    \"Guam\": \"GU\",\n",
    "    \"Northern Mariana Islands\": \"MP\",\n",
    "    \"Puerto Rico\": \"PR\",\n",
    "    \"United States Minor Outlying Islands\": \"UM\",\n",
    "    \"U.S. Virgin Islands\": \"VI\",\n",
    "}\n",
    "abbrev_to_us_state = dict(map(reversed, us_state_to_abbrev.items()))\n",
    "\n",
    "# generate abbreviations for states\n",
    "school_shootings_by_state['state_abb'] = school_shootings_by_state['state'].apply(lambda x: us_state_to_abbrev[x])\n",
    "gun_ownership['state_abb'] = gun_ownership['STATE'].apply(lambda x: us_state_to_abbrev[x])\n",
    "result = pd.merge(school_shootings_by_state, gun_ownership, on='state_abb', how='outer')\n",
    "result['causalities']  = result['causalities'].fillna(0)\n",
    "result['killed']  = result['killed'].fillna(0)\n",
    "result['injured']  = result['injured'].fillna(0)\n",
    "result['average_ownership']  = result['average_ownership'].fillna(0)\n",
    "result['text'] = result.apply(lambda row: f\"{row['state']} <br>Average % of households that own a gun: {round(row['average_ownership'],2)} % <br>Killed: {row['killed']}<br>Injured: {row['injured']}\", axis=1)"
   ]
  },
  {
   "cell_type": "code",
   "execution_count": 8,
   "metadata": {},
   "outputs": [],
   "source": [
    "color_dark = '#000000'\n",
    "color_light = '#FFFFFF'\n",
    "color_dark_accent = '#14213D'\n",
    "color_light_accent = '#E5E5E5'\n",
    "color_highlight = '#FCA311'\n",
    "color_dark_accent_2 = '#3d3d3d'"
   ]
  },
  {
   "cell_type": "code",
   "execution_count": 9,
   "metadata": {},
   "outputs": [
    {
     "data": {
      "application/vnd.plotly.v1+json": {
       "config": {
        "plotlyServerURL": "https://plot.ly"
       },
       "data": [
        {
         "colorscale": [
          [
           0,
           "rgb(255,255,204)"
          ],
          [
           0.125,
           "rgb(255,237,160)"
          ],
          [
           0.25,
           "rgb(254,217,118)"
          ],
          [
           0.375,
           "rgb(254,178,76)"
          ],
          [
           0.5,
           "rgb(253,141,60)"
          ],
          [
           0.625,
           "rgb(252,78,42)"
          ],
          [
           0.75,
           "rgb(227,26,28)"
          ],
          [
           0.875,
           "rgb(189,0,38)"
          ],
          [
           1,
           "rgb(128,0,38)"
          ]
         ],
         "hoverinfo": "text",
         "locationmode": "USA-states",
         "locations": [
          "AL",
          "AK",
          "AZ",
          "AR",
          "CA",
          "CO",
          "CT",
          "DE",
          "DC",
          "FL",
          "GA",
          "HI",
          "ID",
          "IL",
          "IN",
          "IA",
          "KS",
          "KY",
          "LA",
          "MD",
          "MA",
          "MI",
          "MN",
          "MS",
          "MO",
          "MT",
          "NE",
          "NV",
          "NH",
          "NJ",
          "NM",
          "NY",
          "NC",
          "ND",
          "OH",
          "OK",
          "OR",
          "PA",
          "RI",
          "SC",
          "SD",
          "TN",
          "TX",
          "UT",
          "VA",
          "WA",
          "WI",
          "ME",
          "VT",
          "WV",
          "WY"
         ],
         "name": "Gun ownership",
         "showlegend": false,
         "showscale": true,
         "text": [
          "Alabama <br>Average % of households that own a gun: 55.49 % <br>Killed: 3.0<br>Injured: 6.0",
          "Alaska <br>Average % of households that own a gun: 64.51 % <br>Killed: 0.0<br>Injured: 1.0",
          "Arizona <br>Average % of households that own a gun: 46.26 % <br>Killed: 2.0<br>Injured: 3.0",
          "Arkansas <br>Average % of households that own a gun: 57.18 % <br>Killed: 1.0<br>Injured: 2.0",
          "California <br>Average % of households that own a gun: 28.32 % <br>Killed: 12.0<br>Injured: 69.0",
          "Colorado <br>Average % of households that own a gun: 45.12 % <br>Killed: 17.0<br>Injured: 34.0",
          "Connecticut <br>Average % of households that own a gun: 23.6 % <br>Killed: 26.0<br>Injured: 2.0",
          "Delaware <br>Average % of households that own a gun: 34.38 % <br>Killed: 1.0<br>Injured: 0.0",
          "District of Columbia <br>Average % of households that own a gun: 0.0 % <br>Killed: 1.0<br>Injured: 6.0",
          "Florida <br>Average % of households that own a gun: 35.34 % <br>Killed: 24.0<br>Injured: 31.0",
          "Georgia <br>Average % of households that own a gun: 49.24 % <br>Killed: 0.0<br>Injured: 11.0",
          "Hawaii <br>Average % of households that own a gun: 14.88 % <br>Killed: 0.0<br>Injured: 1.0",
          "Idaho <br>Average % of households that own a gun: 60.06 % <br>Killed: 0.0<br>Injured: 3.0",
          "Illinois <br>Average % of households that own a gun: 27.83 % <br>Killed: 1.0<br>Injured: 13.0",
          "Indiana <br>Average % of households that own a gun: 44.81 % <br>Killed: 1.0<br>Injured: 5.0",
          "Iowa <br>Average % of households that own a gun: 43.57 % <br>Killed: 1.0<br>Injured: 2.0",
          "Kansas <br>Average % of households that own a gun: 48.91 % <br>Killed: 0.0<br>Injured: 2.0",
          "Kentucky <br>Average % of households that own a gun: 54.6 % <br>Killed: 3.0<br>Injured: 15.0",
          "Louisiana <br>Average % of households that own a gun: 53.15 % <br>Killed: 1.0<br>Injured: 11.0",
          "Maryland <br>Average % of households that own a gun: 30.18 % <br>Killed: 3.0<br>Injured: 9.0",
          "Massachusetts <br>Average % of households that own a gun: 14.65 % <br>Killed: 0.0<br>Injured: 2.0",
          "Michigan <br>Average % of households that own a gun: 40.23 % <br>Killed: 5.0<br>Injured: 14.0",
          "Minnesota <br>Average % of households that own a gun: 42.8 % <br>Killed: 10.0<br>Injured: 8.0",
          "Mississippi <br>Average % of households that own a gun: 55.8 % <br>Killed: 1.0<br>Injured: 2.0",
          "Missouri <br>Average % of households that own a gun: 48.75 % <br>Killed: 4.0<br>Injured: 8.0",
          "Montana <br>Average % of households that own a gun: 66.32 % <br>Killed: 0.0<br>Injured: 0.0",
          "Nebraska <br>Average % of households that own a gun: 45.19 % <br>Killed: 1.0<br>Injured: 2.0",
          "Nevada <br>Average % of households that own a gun: 47.27 % <br>Killed: 2.0<br>Injured: 6.0",
          "New Hampshire <br>Average % of households that own a gun: 41.07 % <br>Killed: 0.0<br>Injured: 0.0",
          "New Jersey <br>Average % of households that own a gun: 14.69 % <br>Killed: 0.0<br>Injured: 1.0",
          "New Mexico <br>Average % of households that own a gun: 46.19 % <br>Killed: 4.0<br>Injured: 4.0",
          "New York <br>Average % of households that own a gun: 19.88 % <br>Killed: 1.0<br>Injured: 5.0",
          "North Carolina <br>Average % of households that own a gun: 45.76 % <br>Killed: 3.0<br>Injured: 11.0",
          "North Dakota <br>Average % of households that own a gun: 55.09 % <br>Killed: 1.0<br>Injured: 0.0",
          "Ohio <br>Average % of households that own a gun: 40.03 % <br>Killed: 4.0<br>Injured: 16.0",
          "Oklahoma <br>Average % of households that own a gun: 54.7 % <br>Killed: 0.0<br>Injured: 6.0",
          "Oregon <br>Average % of households that own a gun: 50.81 % <br>Killed: 1.0<br>Injured: 13.0",
          "Pennsylvania <br>Average % of households that own a gun: 40.7 % <br>Killed: 9.0<br>Injured: 13.0",
          "Rhode Island <br>Average % of households that own a gun: 14.84 % <br>Killed: 0.0<br>Injured: 0.0",
          "South Carolina <br>Average % of households that own a gun: 49.36 % <br>Killed: 3.0<br>Injured: 7.0",
          "South Dakota <br>Average % of households that own a gun: 55.32 % <br>Killed: 0.0<br>Injured: 1.0",
          "Tennessee <br>Average % of households that own a gun: 51.6 % <br>Killed: 3.0<br>Injured: 10.0",
          "Texas <br>Average % of households that own a gun: 45.71 % <br>Killed: 33.0<br>Injured: 42.0",
          "Utah <br>Average % of households that own a gun: 46.75 % <br>Killed: 0.0<br>Injured: 1.0",
          "Virginia <br>Average % of households that own a gun: 44.63 % <br>Killed: 0.0<br>Injured: 5.0",
          "Washington <br>Average % of households that own a gun: 42.08 % <br>Killed: 8.0<br>Injured: 5.0",
          "Wisconsin <br>Average % of households that own a gun: 45.3 % <br>Killed: 1.0<br>Injured: 4.0",
          "nan <br>Average % of households that own a gun: 46.83 % <br>Killed: 0.0<br>Injured: 0.0",
          "nan <br>Average % of households that own a gun: 50.51 % <br>Killed: 0.0<br>Injured: 0.0",
          "nan <br>Average % of households that own a gun: 58.51 % <br>Killed: 0.0<br>Injured: 0.0",
          "nan <br>Average % of households that own a gun: 66.22 % <br>Killed: 0.0<br>Injured: 0.0"
         ],
         "type": "choropleth",
         "z": [
          55.48918918918918,
          64.5054054054054,
          46.26216216216216,
          57.18108108108109,
          28.324324324324323,
          45.118918918918915,
          23.5972972972973,
          34.37567567567568,
          0,
          35.340540540540545,
          49.24054054054054,
          14.878378378378379,
          60.05945945945946,
          27.82972972972973,
          44.810810810810814,
          43.57297297297297,
          48.913513513513514,
          54.597297297297295,
          53.148648648648646,
          30.18378378378378,
          14.654054054054052,
          40.229729729729726,
          42.7972972972973,
          55.7972972972973,
          48.75135135135135,
          66.31891891891892,
          45.189189189189186,
          47.27027027027027,
          41.07027027027027,
          14.694594594594596,
          46.189189189189186,
          19.87837837837838,
          45.762162162162156,
          55.08918918918919,
          40.02972972972973,
          54.6972972972973,
          50.813513513513506,
          40.6972972972973,
          14.84054054054054,
          49.35675675675676,
          55.316216216216205,
          51.60270270270271,
          45.70540540540541,
          46.751351351351346,
          44.627027027027026,
          42.078378378378375,
          45.3027027027027,
          46.832432432432434,
          50.50540540540541,
          58.508108108108104,
          66.22162162162162
         ]
        },
        {
         "hoverinfo": "skip",
         "locationmode": "USA-states",
         "locations": [
          "AL",
          "AK",
          "AZ",
          "AR",
          "CA",
          "CO",
          "CT",
          "DE",
          "DC",
          "FL",
          "GA",
          "HI",
          "ID",
          "IL",
          "IN",
          "IA",
          "KS",
          "KY",
          "LA",
          "MD",
          "MA",
          "MI",
          "MN",
          "MS",
          "MO",
          "MT",
          "NE",
          "NV",
          "NH",
          "NJ",
          "NM",
          "NY",
          "NC",
          "ND",
          "OH",
          "OK",
          "OR",
          "PA",
          "RI",
          "SC",
          "SD",
          "TN",
          "TX",
          "UT",
          "VA",
          "WA",
          "WI",
          "ME",
          "VT",
          "WV",
          "WY"
         ],
         "mode": "text",
         "name": "Amount of casualties",
         "showlegend": false,
         "text": [
          9,
          1,
          5,
          3,
          82,
          51,
          28,
          1,
          7,
          54,
          11,
          1,
          3,
          14,
          6,
          3,
          2,
          18,
          12,
          12,
          2,
          19,
          18,
          3,
          12,
          0,
          3,
          6,
          0,
          1,
          8,
          6,
          14,
          1,
          20,
          6,
          14,
          22,
          0,
          10,
          1,
          13,
          75,
          1,
          5,
          13,
          5,
          0,
          0,
          0,
          0
         ],
         "textfont": {
          "color": "white"
         },
         "type": "scattergeo"
        }
       ],
       "layout": {
        "font": {
         "family": "Rubik",
         "size": 12
        },
        "geo": {
         "projection": {
          "type": "albers usa"
         },
         "scope": "usa"
        },
        "height": 300,
        "margin": {
         "b": 0,
         "l": 0,
         "pad": 0,
         "r": 0,
         "t": 0
        },
        "modebar": {
         "orientation": "h",
         "remove": [
          "autoScale2d",
          "autoscale",
          "editInChartStudio",
          "editinchartstudio",
          "hoverCompareCartesian",
          "hovercompare",
          "lasso",
          "lasso2d",
          "orbitRotation",
          "orbitrotation",
          "pan",
          "pan2d",
          "pan3d",
          "reset",
          "resetCameraDefault3d",
          "resetCameraLastSave3d",
          "resetGeo",
          "resetSankeyGroup",
          "resetScale2d",
          "resetViewMapbox",
          "resetViews",
          "resetcameradefault",
          "resetcameralastsave",
          "resetsankeygroup",
          "resetscale",
          "resetview",
          "resetviews",
          "select",
          "select2d",
          "sendDataToCloud",
          "senddatatocloud",
          "tableRotation",
          "tablerotation",
          "toImage",
          "toggleHover",
          "toggleSpikelines",
          "togglehover",
          "togglespikelines",
          "toimage",
          "zoom",
          "zoom2d",
          "zoom3d",
          "zoomIn2d",
          "zoomInGeo",
          "zoomInMapbox",
          "zoomOut2d",
          "zoomOutGeo",
          "zoomOutMapbox",
          "zoomin",
          "zoomout"
         ]
        },
        "showlegend": true,
        "template": {
         "data": {
          "bar": [
           {
            "error_x": {
             "color": "#2a3f5f"
            },
            "error_y": {
             "color": "#2a3f5f"
            },
            "marker": {
             "line": {
              "color": "#E5ECF6",
              "width": 0.5
             },
             "pattern": {
              "fillmode": "overlay",
              "size": 10,
              "solidity": 0.2
             }
            },
            "type": "bar"
           }
          ],
          "barpolar": [
           {
            "marker": {
             "line": {
              "color": "#E5ECF6",
              "width": 0.5
             },
             "pattern": {
              "fillmode": "overlay",
              "size": 10,
              "solidity": 0.2
             }
            },
            "type": "barpolar"
           }
          ],
          "carpet": [
           {
            "aaxis": {
             "endlinecolor": "#2a3f5f",
             "gridcolor": "white",
             "linecolor": "white",
             "minorgridcolor": "white",
             "startlinecolor": "#2a3f5f"
            },
            "baxis": {
             "endlinecolor": "#2a3f5f",
             "gridcolor": "white",
             "linecolor": "white",
             "minorgridcolor": "white",
             "startlinecolor": "#2a3f5f"
            },
            "type": "carpet"
           }
          ],
          "choropleth": [
           {
            "colorbar": {
             "outlinewidth": 0,
             "ticks": ""
            },
            "type": "choropleth"
           }
          ],
          "contour": [
           {
            "colorbar": {
             "outlinewidth": 0,
             "ticks": ""
            },
            "colorscale": [
             [
              0,
              "#0d0887"
             ],
             [
              0.1111111111111111,
              "#46039f"
             ],
             [
              0.2222222222222222,
              "#7201a8"
             ],
             [
              0.3333333333333333,
              "#9c179e"
             ],
             [
              0.4444444444444444,
              "#bd3786"
             ],
             [
              0.5555555555555556,
              "#d8576b"
             ],
             [
              0.6666666666666666,
              "#ed7953"
             ],
             [
              0.7777777777777778,
              "#fb9f3a"
             ],
             [
              0.8888888888888888,
              "#fdca26"
             ],
             [
              1,
              "#f0f921"
             ]
            ],
            "type": "contour"
           }
          ],
          "contourcarpet": [
           {
            "colorbar": {
             "outlinewidth": 0,
             "ticks": ""
            },
            "type": "contourcarpet"
           }
          ],
          "heatmap": [
           {
            "colorbar": {
             "outlinewidth": 0,
             "ticks": ""
            },
            "colorscale": [
             [
              0,
              "#0d0887"
             ],
             [
              0.1111111111111111,
              "#46039f"
             ],
             [
              0.2222222222222222,
              "#7201a8"
             ],
             [
              0.3333333333333333,
              "#9c179e"
             ],
             [
              0.4444444444444444,
              "#bd3786"
             ],
             [
              0.5555555555555556,
              "#d8576b"
             ],
             [
              0.6666666666666666,
              "#ed7953"
             ],
             [
              0.7777777777777778,
              "#fb9f3a"
             ],
             [
              0.8888888888888888,
              "#fdca26"
             ],
             [
              1,
              "#f0f921"
             ]
            ],
            "type": "heatmap"
           }
          ],
          "heatmapgl": [
           {
            "colorbar": {
             "outlinewidth": 0,
             "ticks": ""
            },
            "colorscale": [
             [
              0,
              "#0d0887"
             ],
             [
              0.1111111111111111,
              "#46039f"
             ],
             [
              0.2222222222222222,
              "#7201a8"
             ],
             [
              0.3333333333333333,
              "#9c179e"
             ],
             [
              0.4444444444444444,
              "#bd3786"
             ],
             [
              0.5555555555555556,
              "#d8576b"
             ],
             [
              0.6666666666666666,
              "#ed7953"
             ],
             [
              0.7777777777777778,
              "#fb9f3a"
             ],
             [
              0.8888888888888888,
              "#fdca26"
             ],
             [
              1,
              "#f0f921"
             ]
            ],
            "type": "heatmapgl"
           }
          ],
          "histogram": [
           {
            "marker": {
             "pattern": {
              "fillmode": "overlay",
              "size": 10,
              "solidity": 0.2
             }
            },
            "type": "histogram"
           }
          ],
          "histogram2d": [
           {
            "colorbar": {
             "outlinewidth": 0,
             "ticks": ""
            },
            "colorscale": [
             [
              0,
              "#0d0887"
             ],
             [
              0.1111111111111111,
              "#46039f"
             ],
             [
              0.2222222222222222,
              "#7201a8"
             ],
             [
              0.3333333333333333,
              "#9c179e"
             ],
             [
              0.4444444444444444,
              "#bd3786"
             ],
             [
              0.5555555555555556,
              "#d8576b"
             ],
             [
              0.6666666666666666,
              "#ed7953"
             ],
             [
              0.7777777777777778,
              "#fb9f3a"
             ],
             [
              0.8888888888888888,
              "#fdca26"
             ],
             [
              1,
              "#f0f921"
             ]
            ],
            "type": "histogram2d"
           }
          ],
          "histogram2dcontour": [
           {
            "colorbar": {
             "outlinewidth": 0,
             "ticks": ""
            },
            "colorscale": [
             [
              0,
              "#0d0887"
             ],
             [
              0.1111111111111111,
              "#46039f"
             ],
             [
              0.2222222222222222,
              "#7201a8"
             ],
             [
              0.3333333333333333,
              "#9c179e"
             ],
             [
              0.4444444444444444,
              "#bd3786"
             ],
             [
              0.5555555555555556,
              "#d8576b"
             ],
             [
              0.6666666666666666,
              "#ed7953"
             ],
             [
              0.7777777777777778,
              "#fb9f3a"
             ],
             [
              0.8888888888888888,
              "#fdca26"
             ],
             [
              1,
              "#f0f921"
             ]
            ],
            "type": "histogram2dcontour"
           }
          ],
          "mesh3d": [
           {
            "colorbar": {
             "outlinewidth": 0,
             "ticks": ""
            },
            "type": "mesh3d"
           }
          ],
          "parcoords": [
           {
            "line": {
             "colorbar": {
              "outlinewidth": 0,
              "ticks": ""
             }
            },
            "type": "parcoords"
           }
          ],
          "pie": [
           {
            "automargin": true,
            "type": "pie"
           }
          ],
          "scatter": [
           {
            "fillpattern": {
             "fillmode": "overlay",
             "size": 10,
             "solidity": 0.2
            },
            "type": "scatter"
           }
          ],
          "scatter3d": [
           {
            "line": {
             "colorbar": {
              "outlinewidth": 0,
              "ticks": ""
             }
            },
            "marker": {
             "colorbar": {
              "outlinewidth": 0,
              "ticks": ""
             }
            },
            "type": "scatter3d"
           }
          ],
          "scattercarpet": [
           {
            "marker": {
             "colorbar": {
              "outlinewidth": 0,
              "ticks": ""
             }
            },
            "type": "scattercarpet"
           }
          ],
          "scattergeo": [
           {
            "marker": {
             "colorbar": {
              "outlinewidth": 0,
              "ticks": ""
             }
            },
            "type": "scattergeo"
           }
          ],
          "scattergl": [
           {
            "marker": {
             "colorbar": {
              "outlinewidth": 0,
              "ticks": ""
             }
            },
            "type": "scattergl"
           }
          ],
          "scattermapbox": [
           {
            "marker": {
             "colorbar": {
              "outlinewidth": 0,
              "ticks": ""
             }
            },
            "type": "scattermapbox"
           }
          ],
          "scatterpolar": [
           {
            "marker": {
             "colorbar": {
              "outlinewidth": 0,
              "ticks": ""
             }
            },
            "type": "scatterpolar"
           }
          ],
          "scatterpolargl": [
           {
            "marker": {
             "colorbar": {
              "outlinewidth": 0,
              "ticks": ""
             }
            },
            "type": "scatterpolargl"
           }
          ],
          "scatterternary": [
           {
            "marker": {
             "colorbar": {
              "outlinewidth": 0,
              "ticks": ""
             }
            },
            "type": "scatterternary"
           }
          ],
          "surface": [
           {
            "colorbar": {
             "outlinewidth": 0,
             "ticks": ""
            },
            "colorscale": [
             [
              0,
              "#0d0887"
             ],
             [
              0.1111111111111111,
              "#46039f"
             ],
             [
              0.2222222222222222,
              "#7201a8"
             ],
             [
              0.3333333333333333,
              "#9c179e"
             ],
             [
              0.4444444444444444,
              "#bd3786"
             ],
             [
              0.5555555555555556,
              "#d8576b"
             ],
             [
              0.6666666666666666,
              "#ed7953"
             ],
             [
              0.7777777777777778,
              "#fb9f3a"
             ],
             [
              0.8888888888888888,
              "#fdca26"
             ],
             [
              1,
              "#f0f921"
             ]
            ],
            "type": "surface"
           }
          ],
          "table": [
           {
            "cells": {
             "fill": {
              "color": "#EBF0F8"
             },
             "line": {
              "color": "white"
             }
            },
            "header": {
             "fill": {
              "color": "#C8D4E3"
             },
             "line": {
              "color": "white"
             }
            },
            "type": "table"
           }
          ]
         },
         "layout": {
          "annotationdefaults": {
           "arrowcolor": "#2a3f5f",
           "arrowhead": 0,
           "arrowwidth": 1
          },
          "autotypenumbers": "strict",
          "coloraxis": {
           "colorbar": {
            "outlinewidth": 0,
            "ticks": ""
           }
          },
          "colorscale": {
           "diverging": [
            [
             0,
             "#8e0152"
            ],
            [
             0.1,
             "#c51b7d"
            ],
            [
             0.2,
             "#de77ae"
            ],
            [
             0.3,
             "#f1b6da"
            ],
            [
             0.4,
             "#fde0ef"
            ],
            [
             0.5,
             "#f7f7f7"
            ],
            [
             0.6,
             "#e6f5d0"
            ],
            [
             0.7,
             "#b8e186"
            ],
            [
             0.8,
             "#7fbc41"
            ],
            [
             0.9,
             "#4d9221"
            ],
            [
             1,
             "#276419"
            ]
           ],
           "sequential": [
            [
             0,
             "#0d0887"
            ],
            [
             0.1111111111111111,
             "#46039f"
            ],
            [
             0.2222222222222222,
             "#7201a8"
            ],
            [
             0.3333333333333333,
             "#9c179e"
            ],
            [
             0.4444444444444444,
             "#bd3786"
            ],
            [
             0.5555555555555556,
             "#d8576b"
            ],
            [
             0.6666666666666666,
             "#ed7953"
            ],
            [
             0.7777777777777778,
             "#fb9f3a"
            ],
            [
             0.8888888888888888,
             "#fdca26"
            ],
            [
             1,
             "#f0f921"
            ]
           ],
           "sequentialminus": [
            [
             0,
             "#0d0887"
            ],
            [
             0.1111111111111111,
             "#46039f"
            ],
            [
             0.2222222222222222,
             "#7201a8"
            ],
            [
             0.3333333333333333,
             "#9c179e"
            ],
            [
             0.4444444444444444,
             "#bd3786"
            ],
            [
             0.5555555555555556,
             "#d8576b"
            ],
            [
             0.6666666666666666,
             "#ed7953"
            ],
            [
             0.7777777777777778,
             "#fb9f3a"
            ],
            [
             0.8888888888888888,
             "#fdca26"
            ],
            [
             1,
             "#f0f921"
            ]
           ]
          },
          "colorway": [
           "#636efa",
           "#EF553B",
           "#00cc96",
           "#ab63fa",
           "#FFA15A",
           "#19d3f3",
           "#FF6692",
           "#B6E880",
           "#FF97FF",
           "#FECB52"
          ],
          "font": {
           "color": "#2a3f5f"
          },
          "geo": {
           "bgcolor": "white",
           "lakecolor": "white",
           "landcolor": "#E5ECF6",
           "showlakes": true,
           "showland": true,
           "subunitcolor": "white"
          },
          "hoverlabel": {
           "align": "left"
          },
          "hovermode": "closest",
          "mapbox": {
           "style": "light"
          },
          "paper_bgcolor": "white",
          "plot_bgcolor": "#E5ECF6",
          "polar": {
           "angularaxis": {
            "gridcolor": "white",
            "linecolor": "white",
            "ticks": ""
           },
           "bgcolor": "#E5ECF6",
           "radialaxis": {
            "gridcolor": "white",
            "linecolor": "white",
            "ticks": ""
           }
          },
          "scene": {
           "xaxis": {
            "backgroundcolor": "#E5ECF6",
            "gridcolor": "white",
            "gridwidth": 2,
            "linecolor": "white",
            "showbackground": true,
            "ticks": "",
            "zerolinecolor": "white"
           },
           "yaxis": {
            "backgroundcolor": "#E5ECF6",
            "gridcolor": "white",
            "gridwidth": 2,
            "linecolor": "white",
            "showbackground": true,
            "ticks": "",
            "zerolinecolor": "white"
           },
           "zaxis": {
            "backgroundcolor": "#E5ECF6",
            "gridcolor": "white",
            "gridwidth": 2,
            "linecolor": "white",
            "showbackground": true,
            "ticks": "",
            "zerolinecolor": "white"
           }
          },
          "shapedefaults": {
           "line": {
            "color": "#2a3f5f"
           }
          },
          "ternary": {
           "aaxis": {
            "gridcolor": "white",
            "linecolor": "white",
            "ticks": ""
           },
           "baxis": {
            "gridcolor": "white",
            "linecolor": "white",
            "ticks": ""
           },
           "bgcolor": "#E5ECF6",
           "caxis": {
            "gridcolor": "white",
            "linecolor": "white",
            "ticks": ""
           }
          },
          "title": {
           "x": 0.05
          },
          "xaxis": {
           "automargin": true,
           "gridcolor": "white",
           "linecolor": "white",
           "ticks": "",
           "title": {
            "standoff": 15
           },
           "zerolinecolor": "white",
           "zerolinewidth": 2
          },
          "yaxis": {
           "automargin": true,
           "gridcolor": "white",
           "linecolor": "white",
           "ticks": "",
           "title": {
            "standoff": 15
           },
           "zerolinecolor": "white",
           "zerolinewidth": 2
          }
         }
        },
        "width": 630
       }
      }
     },
     "metadata": {},
     "output_type": "display_data"
    }
   ],
   "source": [
    "layout = dict(\n",
    "    font=dict(size=12, family='Rubik'), \n",
    "    geo=dict(scope=\"usa\", \n",
    "    projection=dict(type=\"albers usa\")), \n",
    "    # legend=dict(font=dict(color='black'))\n",
    "    width=630,\n",
    "    height=300,\n",
    "    margin=dict(\n",
    "        # autoexpand=True,\n",
    "        pad=0,\n",
    "        b=0,\n",
    "        t=0,\n",
    "        l=0,\n",
    "        r=0\n",
    "    ),\n",
    "    modebar=dict(\n",
    "        remove=[\n",
    "             \"autoScale2d\", \"autoscale\", \"editInChartStudio\", \"editinchartstudio\", \"hoverCompareCartesian\", \"hovercompare\", \"lasso\", \"lasso2d\", \"orbitRotation\", \"orbitrotation\", \"pan\", \"pan2d\", \"pan3d\", \"reset\", \"resetCameraDefault3d\", \"resetCameraLastSave3d\", \"resetGeo\", \"resetSankeyGroup\", \"resetScale2d\", \"resetViewMapbox\", \"resetViews\", \"resetcameradefault\", \"resetcameralastsave\", \"resetsankeygroup\", \"resetscale\", \"resetview\", \"resetviews\", \"select\", \"select2d\", \"sendDataToCloud\", \"senddatatocloud\", \"tableRotation\", \"tablerotation\", \"toImage\", \"toggleHover\", \"toggleSpikelines\", \"togglehover\", \"togglespikelines\", \"toimage\", \"zoom\", \"zoom2d\", \"zoom3d\", \"zoomIn2d\", \"zoomInGeo\", \"zoomInMapbox\", \"zoomOut2d\", \"zoomOutGeo\", \"zoomOutMapbox\", \"zoomin\", \"zoomout\"\n",
    "        ],\n",
    "        orientation='h',\n",
    "    ),\n",
    "    )\n",
    "data = []\n",
    "\n",
    "data.append(go.Choropleth(locations=result['state_abb'], z=result['average_ownership'], locationmode=\"USA-states\", colorscale=\"ylorrd\", text=result[\"text\"], hoverinfo='text', showscale=True, showlegend=False, name='Gun ownership'))\n",
    "data.append(go.Scattergeo(locations=result['state_abb'], text=result['causalities'], locationmode=\"USA-states\", mode=\"text\", hoverinfo='skip', name='Amount of casualties', showlegend=False,textfont=dict(color='white')))\n",
    "\n",
    "fig = go.Figure(data=data, layout=layout, )\n",
    "fig.update_layout(showlegend=True)\n",
    "\n",
    "# plotly.offline.plot(fig, filename=\"../docs/_includes/us_gun_ownership.html\")\n",
    "\n",
    "fig.show()"
   ]
  },
  {
   "cell_type": "code",
   "execution_count": 10,
   "metadata": {},
   "outputs": [],
   "source": [
    "chart_div = plotly.offline.plot(fig, output_type='div')\n",
    "with open(\"../docs/_includes/us_gun_ownership.html\", 'w') as f:\n",
    "    f.write(chart_div)"
   ]
  }
 ],
 "metadata": {
  "kernelspec": {
   "display_name": "social-data-viz",
   "language": "python",
   "name": "python3"
  },
  "language_info": {
   "codemirror_mode": {
    "name": "ipython",
    "version": 3
   },
   "file_extension": ".py",
   "mimetype": "text/x-python",
   "name": "python",
   "nbconvert_exporter": "python",
   "pygments_lexer": "ipython3",
   "version": "3.10.10"
  },
  "orig_nbformat": 4
 },
 "nbformat": 4,
 "nbformat_minor": 2
}
