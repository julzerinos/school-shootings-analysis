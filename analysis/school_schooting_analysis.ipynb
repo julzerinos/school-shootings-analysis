{
 "cells": [
  {
   "cell_type": "code",
   "execution_count": 35,
   "metadata": {},
   "outputs": [],
   "source": [
    "import numpy as np\n",
    "import pandas as pd\n",
    "\n",
    "import matplotlib.pyplot as plt"
   ]
  },
  {
   "cell_type": "code",
   "execution_count": 36,
   "metadata": {},
   "outputs": [],
   "source": [
    "school_shooting = pd.read_csv('data/school_shooting_data.csv')"
   ]
  },
  {
   "cell_type": "code",
   "execution_count": 37,
   "metadata": {},
   "outputs": [],
   "source": [
    "school_shooting['DateTime'] = pd.to_datetime(school_shooting['date'], format='%m/%d/%Y')\n",
    "school_shooting = school_shooting[(school_shooting['DateTime'].dt.year > 1999) & (school_shooting['DateTime'].dt.year < 2023)]"
   ]
  },
  {
   "cell_type": "code",
   "execution_count": 38,
   "metadata": {},
   "outputs": [
    {
     "name": "stdout",
     "output_type": "stream",
     "text": [
      "(352, 51)\n"
     ]
    },
    {
     "data": {
      "text/html": [
       "<div>\n",
       "<style scoped>\n",
       "    .dataframe tbody tr th:only-of-type {\n",
       "        vertical-align: middle;\n",
       "    }\n",
       "\n",
       "    .dataframe tbody tr th {\n",
       "        vertical-align: top;\n",
       "    }\n",
       "\n",
       "    .dataframe thead th {\n",
       "        text-align: right;\n",
       "    }\n",
       "</style>\n",
       "<table border=\"1\" class=\"dataframe\">\n",
       "  <thead>\n",
       "    <tr style=\"text-align: right;\">\n",
       "      <th></th>\n",
       "      <th>uid</th>\n",
       "      <th>nces_school_id</th>\n",
       "      <th>school_name</th>\n",
       "      <th>nces_district_id</th>\n",
       "      <th>district_name</th>\n",
       "      <th>date</th>\n",
       "      <th>school_year</th>\n",
       "      <th>year</th>\n",
       "      <th>time</th>\n",
       "      <th>day_of_week</th>\n",
       "      <th>...</th>\n",
       "      <th>long</th>\n",
       "      <th>staffing</th>\n",
       "      <th>low_grade</th>\n",
       "      <th>high_grade</th>\n",
       "      <th>lunch</th>\n",
       "      <th>county</th>\n",
       "      <th>state_fips</th>\n",
       "      <th>county_fips</th>\n",
       "      <th>ulocale</th>\n",
       "      <th>DateTime</th>\n",
       "    </tr>\n",
       "  </thead>\n",
       "  <tbody>\n",
       "    <tr>\n",
       "      <th>7</th>\n",
       "      <td>8</td>\n",
       "      <td>120153001590</td>\n",
       "      <td>Ridgewood High School</td>\n",
       "      <td>1201530.0</td>\n",
       "      <td>Pasco</td>\n",
       "      <td>1/19/2000</td>\n",
       "      <td>1999-2000</td>\n",
       "      <td>2000</td>\n",
       "      <td>3:00 PM</td>\n",
       "      <td>Wednesday</td>\n",
       "      <td>...</td>\n",
       "      <td>-82.687231</td>\n",
       "      <td>85.0</td>\n",
       "      <td>9</td>\n",
       "      <td>12</td>\n",
       "      <td>654</td>\n",
       "      <td>Pasco County</td>\n",
       "      <td>12</td>\n",
       "      <td>12101</td>\n",
       "      <td>21.0</td>\n",
       "      <td>2000-01-19</td>\n",
       "    </tr>\n",
       "    <tr>\n",
       "      <th>8</th>\n",
       "      <td>9</td>\n",
       "      <td>062460009581</td>\n",
       "      <td>Alicia Reyes Elementary School</td>\n",
       "      <td>624600.0</td>\n",
       "      <td>Merced City Elementary</td>\n",
       "      <td>1/26/2000</td>\n",
       "      <td>1999-2000</td>\n",
       "      <td>2000</td>\n",
       "      <td>8:34 AM</td>\n",
       "      <td>Wednesday</td>\n",
       "      <td>...</td>\n",
       "      <td>-120.494808</td>\n",
       "      <td>36.0</td>\n",
       "      <td>KG</td>\n",
       "      <td>5</td>\n",
       "      <td>643</td>\n",
       "      <td>Merced County</td>\n",
       "      <td>6</td>\n",
       "      <td>6047</td>\n",
       "      <td>13.0</td>\n",
       "      <td>2000-01-26</td>\n",
       "    </tr>\n",
       "    <tr>\n",
       "      <th>9</th>\n",
       "      <td>10</td>\n",
       "      <td>170993000748</td>\n",
       "      <td>Duke Ellington Elementary School</td>\n",
       "      <td>1709930.0</td>\n",
       "      <td>City of Chicago School District 299</td>\n",
       "      <td>2/14/2000</td>\n",
       "      <td>1999-2000</td>\n",
       "      <td>2000</td>\n",
       "      <td>NaN</td>\n",
       "      <td>Monday</td>\n",
       "      <td>...</td>\n",
       "      <td>-87.766042</td>\n",
       "      <td>37.0</td>\n",
       "      <td>PK</td>\n",
       "      <td>6</td>\n",
       "      <td>NaN</td>\n",
       "      <td>Cook County</td>\n",
       "      <td>17</td>\n",
       "      <td>17031</td>\n",
       "      <td>11.0</td>\n",
       "      <td>2000-02-14</td>\n",
       "    </tr>\n",
       "    <tr>\n",
       "      <th>10</th>\n",
       "      <td>11</td>\n",
       "      <td>280132000190</td>\n",
       "      <td>Horn Lake High School</td>\n",
       "      <td>2801320.0</td>\n",
       "      <td>Desoto County School District</td>\n",
       "      <td>2/22/2000</td>\n",
       "      <td>1999-2000</td>\n",
       "      <td>2000</td>\n",
       "      <td>NaN</td>\n",
       "      <td>Tuesday</td>\n",
       "      <td>...</td>\n",
       "      <td>-90.035423</td>\n",
       "      <td>65.0</td>\n",
       "      <td>9</td>\n",
       "      <td>12</td>\n",
       "      <td>324</td>\n",
       "      <td>DeSoto County</td>\n",
       "      <td>28</td>\n",
       "      <td>28033</td>\n",
       "      <td>21.0</td>\n",
       "      <td>2000-02-22</td>\n",
       "    </tr>\n",
       "    <tr>\n",
       "      <th>11</th>\n",
       "      <td>12</td>\n",
       "      <td>402961001555</td>\n",
       "      <td>Tecumseh High School</td>\n",
       "      <td>4029610.0</td>\n",
       "      <td>Tecumseh</td>\n",
       "      <td>2/24/2000</td>\n",
       "      <td>1999-2000</td>\n",
       "      <td>2000</td>\n",
       "      <td>9:00 AM</td>\n",
       "      <td>Thursday</td>\n",
       "      <td>...</td>\n",
       "      <td>-96.943184</td>\n",
       "      <td>45.5</td>\n",
       "      <td>9</td>\n",
       "      <td>12</td>\n",
       "      <td>184</td>\n",
       "      <td>Pottawatomie County</td>\n",
       "      <td>40</td>\n",
       "      <td>40125</td>\n",
       "      <td>32.0</td>\n",
       "      <td>2000-02-24</td>\n",
       "    </tr>\n",
       "  </tbody>\n",
       "</table>\n",
       "<p>5 rows × 51 columns</p>\n",
       "</div>"
      ],
      "text/plain": [
       "    uid nces_school_id                       school_name  nces_district_id  \\\n",
       "7     8   120153001590             Ridgewood High School         1201530.0   \n",
       "8     9   062460009581    Alicia Reyes Elementary School          624600.0   \n",
       "9    10   170993000748  Duke Ellington Elementary School         1709930.0   \n",
       "10   11   280132000190             Horn Lake High School         2801320.0   \n",
       "11   12   402961001555              Tecumseh High School         4029610.0   \n",
       "\n",
       "                          district_name       date school_year  year     time  \\\n",
       "7                                 Pasco  1/19/2000   1999-2000  2000  3:00 PM   \n",
       "8                Merced City Elementary  1/26/2000   1999-2000  2000  8:34 AM   \n",
       "9   City of Chicago School District 299  2/14/2000   1999-2000  2000      NaN   \n",
       "10        Desoto County School District  2/22/2000   1999-2000  2000      NaN   \n",
       "11                             Tecumseh  2/24/2000   1999-2000  2000  9:00 AM   \n",
       "\n",
       "   day_of_week  ...        long staffing low_grade  high_grade  lunch  \\\n",
       "7    Wednesday  ...  -82.687231     85.0         9          12    654   \n",
       "8    Wednesday  ... -120.494808     36.0        KG           5    643   \n",
       "9       Monday  ...  -87.766042     37.0        PK           6    NaN   \n",
       "10     Tuesday  ...  -90.035423     65.0         9          12    324   \n",
       "11    Thursday  ...  -96.943184     45.5         9          12    184   \n",
       "\n",
       "                 county  state_fips county_fips  ulocale   DateTime  \n",
       "7          Pasco County          12       12101     21.0 2000-01-19  \n",
       "8         Merced County           6        6047     13.0 2000-01-26  \n",
       "9           Cook County          17       17031     11.0 2000-02-14  \n",
       "10        DeSoto County          28       28033     21.0 2000-02-22  \n",
       "11  Pottawatomie County          40       40125     32.0 2000-02-24  \n",
       "\n",
       "[5 rows x 51 columns]"
      ]
     },
     "execution_count": 38,
     "metadata": {},
     "output_type": "execute_result"
    }
   ],
   "source": [
    "print(school_shooting.shape)\n",
    "school_shooting.head()"
   ]
  },
  {
   "cell_type": "code",
   "execution_count": 39,
   "metadata": {},
   "outputs": [
    {
     "name": "stdout",
     "output_type": "stream",
     "text": [
      "one school shooting per days:\n"
     ]
    },
    {
     "data": {
      "text/plain": [
       "23.758522727272727"
      ]
     },
     "execution_count": 39,
     "metadata": {},
     "output_type": "execute_result"
    }
   ],
   "source": [
    "print(\"one school shooting per days:\")\n",
    "(school_shooting['DateTime'].max() - school_shooting['DateTime'].min()).days / len(school_shooting)\n"
   ]
  },
  {
   "cell_type": "code",
   "execution_count": 78,
   "metadata": {},
   "outputs": [
    {
     "data": {
      "text/plain": [
       "<BarContainer object of 23 artists>"
      ]
     },
     "execution_count": 78,
     "metadata": {},
     "output_type": "execute_result"
    },
    {
     "data": {
      "image/png": "[encoded data removed]",
      "text/plain": [
       "<Figure size 640x480 with 1 Axes>"
      ]
     },
     "metadata": {},
     "output_type": "display_data"
    }
   ],
   "source": [
    "school_shooting['Year'] = school_shooting['DateTime'].dt.year\n",
    "\n",
    "school_shooting_by_year = school_shooting.loc[:, ['Year']].value_counts().reset_index()\n",
    "\n",
    "plt.rcParams['figure.facecolor'] = \"#ddbc9b\"\n",
    "plt.rcParams['axes.facecolor'] = \"#ddbc9b\"\n",
    "\n",
    "plt.title(\"Total school shooting occurences per year in the USA\")\n",
    "plt.xlabel(\"Year\")\n",
    "plt.ylabel(\"School shooting occurences\")\n",
    "plt.bar(school_shooting_by_year['Year'], school_shooting_by_year[0], color='#3d3d3d')"
   ]
  }
 ],
 "metadata": {
  "kernelspec": {
   "display_name": "base",
   "language": "python",
   "name": "python3"
  },
  "language_info": {
   "codemirror_mode": {
    "name": "ipython",
    "version": 3
   },
   "file_extension": ".py",
   "mimetype": "text/x-python",
   "name": "python",
   "nbconvert_exporter": "python",
   "pygments_lexer": "ipython3",
   "version": "3.10.8"
  },
  "orig_nbformat": 4
 },
 "nbformat": 4,
 "nbformat_minor": 2
}
